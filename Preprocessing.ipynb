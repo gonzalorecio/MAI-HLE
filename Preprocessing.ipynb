{
 "cells": [
  {
   "cell_type": "markdown",
   "metadata": {
    "id": "jSCGMxajRC9R"
   },
   "source": [
    "## **ACL-BioNLP'19 - MEDIQA 2019 Shared Task**\n",
    "Authors: Gonzalo Recio and Jana Reventós \n",
    "\n",
    "## Pre - processing steps "
   ]
  },
  {
   "cell_type": "markdown",
   "metadata": {
    "id": "cuaOUX1l3Vsf"
   },
   "source": [
    "Connect with MyDrive"
   ]
  },
  {
   "cell_type": "code",
   "execution_count": null,
   "metadata": {
    "colab": {
     "base_uri": "https://localhost:8080/"
    },
    "id": "M2JJ1uKBRBnw",
    "outputId": "a4debbbd-fb40-44ee-825e-c514bd629059"
   },
   "outputs": [
    {
     "name": "stdout",
     "output_type": "stream",
     "text": [
      "ls: cannot access 'My Drive/HLE Final Project': No such file or directory\n",
      "[Errno 2] No such file or directory: 'My Drive/HLE Final Project/data'\n",
      "/gdrive\n"
     ]
    }
   ],
   "source": [
    "! ls \"My Drive/HLE Final Project\"\n",
    "%cd \"My Drive/HLE Final Project/data\""
   ]
  },
  {
   "cell_type": "code",
   "execution_count": null,
   "metadata": {
    "colab": {
     "base_uri": "https://localhost:8080/"
    },
    "id": "AjNf-ELN4GVi",
    "outputId": "03b53629-8a92-4840-d3d0-059100e5f378"
   },
   "outputs": [
    {
     "name": "stdout",
     "output_type": "stream",
     "text": [
      "biobert\n",
      "MEDIQA2019-Task3-QA-TestSet-wLabels.xml\n",
      "MEDIQA2019-Task3-QA-TrainingSet1-LiveQAMed.xml\n",
      "MEDIQA2019-Task3-QA-TrainingSet2-Alexa.xml\n",
      "MEDIQA2019-Task3-QA-ValidationSet.xml\n",
      "MEDIQA_Task3_QA_TestSet.xml\n",
      "QA_Task3_README.txt\n"
     ]
    }
   ],
   "source": [
    "! ls\n"
   ]
  },
  {
   "cell_type": "code",
   "execution_count": 2,
   "metadata": {
    "pycharm": {
     "is_executing": false
    }
   },
   "outputs": [],
   "source": [
    "PATH = 'MEDIQA2019_datasets/MEDIQA_Task3_QA'\n",
    "PATH_EXTRA = 'MedQuAD/'"
   ]
  },
  {
   "cell_type": "code",
   "execution_count": 3,
   "metadata": {
    "id": "rDyHrqdYSC8h",
    "pycharm": {
     "is_executing": false
    }
   },
   "outputs": [],
   "source": [
    "from xml.dom.minidom import parse, parseString\n",
    "from nltk import tokenize as tk\n",
    "import os\n",
    "import numpy as np"
   ]
  },
  {
   "cell_type": "markdown",
   "metadata": {
    "id": "0qLMZaDzZCER"
   },
   "source": [
    "## Read data\n",
    "Read the data files from the MEDIQA task 3. \n"
   ]
  },
  {
   "cell_type": "code",
   "execution_count": 4,
   "metadata": {
    "id": "GCcPv2AZZIFN",
    "pycharm": {
     "is_executing": false
    }
   },
   "outputs": [],
   "source": [
    "import unicodedata\n",
    "import re\n",
    "\n",
    "def preprocess_text(text):\n",
    "    '''\n",
    "    Return the normal form for the Unicode string unistring. \n",
    "    :param text: string \n",
    "    :return: unicoded string\n",
    "    '''\n",
    "    s = unicodedata.normalize(\"NFKD\", text.lower())\n",
    "    return re.sub(r'\\[\\d\\]', '', s)\n",
    "\n",
    "def get_answers(answers):\n",
    "    '''\n",
    "    Return the QA answer with their corresponding true rank, ChiQA rank and reference score. \n",
    "    a) SystemRank: corresponds to CHiQA's rank. \n",
    "    b) ReferenceRank: corresponds to the correct rank. \n",
    "    c) ReferenceScore: is an additional score that we provide only in the training and validation sets, and that corresponds to the manual judgment/rating of the answer [4: Excellent, 3: Correct but Incomplete, 2: Related, 1: Incorrect].  \n",
    "\n",
    "    :param answers: \n",
    "    :return: list of answers, reference rank, system rank and reference score \n",
    "    '''\n",
    "    # return np.array((map(lambda ans: preprocess_text(ans.getElementsByTagName('AnswerText')[0].firstChild.nodeValue), answers)))\n",
    "    answs, rank, chiqa, y = [], [], [], []\n",
    "    for answer in answers:\n",
    "        ans = preprocess_text(answer.getElementsByTagName('AnswerText')[0].firstChild.nodeValue)\n",
    "        reference = int(answer.getAttribute('ReferenceRank'))\n",
    "        system = int(answer.getAttribute('SystemRank'))\n",
    "        label = answer.getAttribute('ReferenceScore')\n",
    "        answs.append(ans); rank.append(reference); chiqa.append(system); y.append(int(label in ['3','4']))\n",
    "    return answs, rank, chiqa, y\n",
    "                                "
   ]
  },
  {
   "cell_type": "code",
   "execution_count": 33,
   "metadata": {},
   "outputs": [
    {
     "name": "stdout",
     "output_type": "stream",
     "text": [
      "7_SeniorHealth_QA\n",
      "MedQuAD/7_SeniorHealth_QA/0000001.xml\n",
      "9_CDC_QA\n",
      "MedQuAD/9_CDC_QA/0000001.xml\n",
      "25\n",
      "74\n"
     ]
    },
    {
     "data": {
      "text/plain": [
       "[['what is (are) age-related macular degeneration ?',\n",
       "  ['Age-related macular degeneration, also known as AMD, is an eye disease that affects the macula, a part of the retina. The retina sends light from the eye to the brain, and the macula allows you to see fine detail. AMD Blurs Central Vision AMD blurs the sharp central vision you need for straight-ahead activities such as reading, sewing, and driving. AMD causes no pain. How AMD Progresses In some cases, AMD advances so slowly that people notice little change in their vision. In others, the disease progresses faster and may lead to a loss of vision in both eyes. AMD is a common eye condition among people age 50 and older. It is a leading cause of vision loss in older adults. Two Forms of AMD There are two forms of age-related macular degeneration -- dry and wet.',\n",
       "   'Age-related macular degeneration, or AMD, is a disease that blurs the sharp, central vision you need for straight-ahead activities such as reading, sewing, and driving. AMD affects the macula, the part of the eye that allows you to see fine detail. AMD causes no pain.',\n",
       "   'Wet AMD occurs when abnormal blood vessels behind the retina start to grow under the macula. With wet AMD, loss of central vision can occur quickly. Wet AMD is considered to be advanced AMD and is more severe than the dry form.',\n",
       "   'Dry AMD occurs when the light-sensitive cells in the macula slowly break down, gradually blurring central vision in the affected eye. As dry AMD gets worse, you may see a blurred spot in the center of your vision. Over time, as less of the macula functions, central vision in the affected eye can be lost. If you have vision loss from dry AMD in one eye only, you may not notice any changes in your overall vision. With the other eye seeing clearly, you can still drive, read, and see fine details. You may notice changes in your vision only if AMD affects both eyes. If you experience blurry vision, see an eye care professional for a comprehensive dilated eye exam.',\n",
       "   'Dry AMD has three stages -- early AMD, intermediate AMD, and advanced dry AMD. All of these may occur in one or both eyes. People with early dry AMD have either several small drusen or a few medium-sized drusen. Drusen are yellow deposits under the retina which often are found in people over age 50. People with early AMD have no symptoms and no vision loss. People with intermediate dry AMD have either many medium-sized drusen or one or more large drusen. Some people see a blurred spot in the center of their vision. More light may be needed for reading and other tasks. In addition to drusen, people with advanced dry AMD have a breakdown of light-sensitive cells and supporting tissue in the macula. This breakdown can cause a blurred spot in the center of your vision. Over time, the blurred spot may get bigger and darker, taking more of your central vision. You may have difficulty reading or recognizing faces until they are very close to you.',\n",
       "   'Drusen are yellow deposits under the retina. They often are found in people over age 50. Your eye care professional can detect drusen during a comprehensive dilated eye exam.',\n",
       "   \"The AREDS formulation is a combination of antioxidants and zinc that is named for a study conducted by The National Eye Institute called the Age-Related Eye Disease Study, or AREDS. This study found that taking a specific high-dose formulation of antioxidants and zinc significantly reduced the risk of advanced AMD and its associated vision loss. Slowing AMD's progression from the intermediate stage to the advanced stage will save many people's vision.\",\n",
       "   'The daily amounts used by the study researchers were 500 milligrams of vitamin C, 400 International Units of vitamin E, 15 milligrams of beta-carotene, 80 milligrams of zinc as zinc oxide, and 2 milligrams of copper as cupric oxide. Copper was added to the AREDS formulation containing zinc to prevent copper deficiency anemia, a condition associated with high levels of zinc intake.',\n",
       "   'National Eye Institute  National Institutes of Health  2020 Vision Place  Bethesda, MD 20892-3655  301-496-5248  E-mail: 2020@nei.nih.gov  www.nei.nih.gov Association for Macular Diseases  210 East 64th Street, 8th Floor  New York, NY 10021-7471  212-605-3719 Foundation Fighting Blindness  Executive Plaza 1, Suite 800  11435 Cronhill Drive  Owings Mill, MD 21117-2220  1-888-394-3937  410-785-1414 Macular Degeneration Partnership  6222 Wilshire Boulevard, Suite 260  Los Angeles, CA 90048  1-888-430-9898  310-623-4466  www.amd.org'],\n",
       "  [1, 1, 1, 1, 1, 1, 1, 1, 1],\n",
       "  [1, 1, 1, 1, 1, 1, 1, 1, 1]],\n",
       " ['what is (are) age-related macular degeneration ?',\n",
       "  ['Risk Increases With Age AMD is most common in older people, but it can occur during middle age. The risk increases with age. Other Risk Factors Other risk factors include - Smoking  - Obesity  - Race. Whites are much more likely to lose vision from AMD than African-Americans.  - Family history. People with a family history of AMD are at higher risk of getting the disease.  - Gender. Women appear to be at greater risk than men. Smoking Obesity Race. Whites are much more likely to lose vision from AMD than African-Americans. Family history. People with a family history of AMD are at higher risk of getting the disease. Gender. Women appear to be at greater risk than men.',\n",
       "   'AMD is most common in older people, but it can occur during middle age. The risk increases with age. Other risk factors include smoking, obesity, white race, family history of AMD, and female gender.'],\n",
       "  [10, 10],\n",
       "  [0, 0]],\n",
       " ['what is (are) age-related macular degeneration ?',\n",
       "  ['AMD is detected during a comprehensive eye exam that includes a visual acuity test, a dilated eye exam, and tonometry. Tests for AMD - The visual acuity test is an eye chart test that measures how well you see at various distances.  - In the dilated eye exam, drops are placed in your eyes to widen, or dilate, the pupils. Then, your eye care professional uses a special magnifying lens to examine your retina and optic nerve for signs of AMD and other eye problems. After the exam, your close-up vision may remain blurred for several hours.  - With tonometry, an instrument measures the pressure inside the eye. Numbing drops may be applied to your eye for this test. The visual acuity test is an eye chart test that measures how well you see at various distances. In the dilated eye exam, drops are placed in your eyes to widen, or dilate, the pupils. Then, your eye care professional uses a special magnifying lens to examine your retina and optic nerve for signs of AMD and other eye problems. After the exam, your close-up vision may remain blurred for several hours. With tonometry, an instrument measures the pressure inside the eye. Numbing drops may be applied to your eye for this test. Your eye care professional also may do other tests to learn more about the structure and health of your eye. The Amsler Grid During an eye exam, you may be asked to look at an Amsler grid, shown here. You will cover one eye and stare at a black dot in the center of the grid. While staring at the dot, you may notice that the straight lines in the pattern appear wavy. You may notice that some of the lines are missing. These may be signs of AMD. Because dry AMD can turn into wet AMD at any time, you should get an Amsler grid from your eye care professional. You could then use the grid every day to evaluate your vision for signs of wet AMD. The Fluorescein Angiogram Test If your eye care professional believes you need treatment for wet AMD, he or she may suggest a fluorescein angiogram. In this test, a special dye is injected into your arm. Pictures are taken as the dye passes through the blood vessels in your eye. The test allows your eye care professional to identify any leaking blood vessels and recommend treatment.',\n",
       "   'An early symptom of wet AMD is that straight lines appear wavy. If you notice this condition or other changes to your vision, contact your eye care professional at once. You need a comprehensive dilated eye exam.',\n",
       "   'The most common symptom of dry AMD is slightly blurred vision. You may have difficulty recognizing faces. You may need more light for reading and other tasks. Dry AMD generally affects both eyes, but vision can be lost in one eye while the other eye seems unaffected. One of the most common early signs of dry AMD is drusen. Drusen are yellow deposits under the retina. They often are found in people over age 50. Your eye care professional can detect drusen during a comprehensive dilated eye exam.'],\n",
       "  [10, 10, 10],\n",
       "  [0, 0, 0]],\n",
       " ['what is (are) age-related macular degeneration ?',\n",
       "  [\"If You Have Advanced AMD Once dry AMD reaches the advanced stage, no form of treatment can prevent vision loss. However, treatment can delay and possibly prevent intermediate AMD from progressing to the advanced stage. The National Eye Institute's Age-Related Eye Disease Study found that taking certain vitamins and minerals may reduce the risk of developing advanced AMD. Wet AMD can be treated with laser surgery, photodynamic therapy, and injections into the eye. None of these treatments is a cure for wet AMD. The disease and loss of vision may progress despite treatment. Laser Surgery Laser surgery uses a laser to destroy the fragile, leaky blood vessels. Only a small percentage of people with wet AMD can be treated with laser surgery. Laser surgery is performed in a doctor's office or eye clinic. The risk of new blood vessels developing after laser treatment is high. Repeated treatments may be necessary. In some cases, vision loss may progress despite repeated treatments. Photodynamic Therapy With photodynamic therapy, a drug called verteporfin is injected into your arm. It travels throughout the body, including the new blood vessels in your eye. The drug tends to stick to the surface of new blood vessels. Next, the doctor shines a light into your eye for about 90 seconds. The light activates the drug. The activated drug destroys the new blood vessels and leads to a slower rate of vision decline. Unlike laser surgery, verteporfin does not destroy surrounding healthy tissue. Because the drug is activated by light, you must avoid exposing your skin or eyes to direct sunlight or bright indoor light for five days after treatment. Photodynamic therapy is relatively painless. It takes about 20 minutes and can be performed in a doctor's office. Photodynamic therapy slows the rate of vision loss. It does not stop vision loss or restore vision in eyes already damaged by advanced AMD. Treatment results often are temporary. You may need to be treated again. Drug Treatment for Wet AMD Wet AMD can now be treated with new drugs that are injected into the eye (anti-VEGF therapy). Abnormally high levels of a specific growth factor occur in eyes with wet AMD and promote the growth of abnormal new blood vessels. This drug treatment blocks the effects of the growth factor. You will need multiple injections that may be given as often as monthly. The eye is numbed before each injection. After the injection, you will remain in the doctor's office for a while and your eye will be monitored. This drug treatment can help slow down vision loss from AMD and in some cases improve sight.  If You Have Low Vision    If you have lost some sight from AMD, ask your eye care professional about low vision services and devices that may help you make the most of your remaining vision. Many community organizations and agencies offer information about low vision counseling and training and other special services for people with visual impairments. Research on AMD The National Eye Institute is conducting and supporting a number of studies to learn more about AMD. For example, scientists are - studying the possibility of transplanting healthy cells into a diseased retina  - evaluating families with a history of AMD to understand genetic and hereditary factors that may cause the disease  - looking at certain anti-inflammatory treatments for the wet form of AMD studying the possibility of transplanting healthy cells into a diseased retina evaluating families with a history of AMD to understand genetic and hereditary factors that may cause the disease looking at certain anti-inflammatory treatments for the wet form of AMD This research should provide better ways to detect, treat, and prevent vision loss in people with AMD.\",\n",
       "   'Once dry AMD reaches the advanced stage, no form of treatment can prevent vision loss. However, treatment can delay and possibly prevent intermediate AMD from progressing to the advanced stage, in which vision loss occurs.',\n",
       "   'Wet AMD can be treated with laser surgery, photodynamic therapy, and drugs that are injected into the eye. None of these treatments is a cure for wet AMD. The disease and loss of vision may progress despite treatment.'],\n",
       "  [10, 10, 10],\n",
       "  [0, 0, 0]],\n",
       " ['what is (are) age-related macular degeneration ?',\n",
       "  [\"Drusen alone do not usually cause vision loss. In fact, scientists are unclear about the connection between drusen and AMD. They do know that an increase in the size or number of drusen raises a person's risk of developing either advanced dry AMD or wet AMD. These changes can cause serious vision loss.\"],\n",
       "  [10],\n",
       "  [0]],\n",
       " ['what is (are) age-related macular degeneration ?',\n",
       "  ['There is no reason for those diagnosed with early stage AMD to take the AREDS formulation. The study did not find that the formulation helped those with early stage AMD. If you have early stage AMD, a comprehensive dilated eye exam every year can help determine if the disease is progressing. If early stage AMD progresses to the intermediate stage, discuss taking the formulation with your doctor.'],\n",
       "  [10],\n",
       "  [0]],\n",
       " ['what is (are) age-related macular degeneration ?',\n",
       "  ['The National Eye Institute scientists are - studying the possibility of transplanting healthy cells into a diseased retina   - evaluating families with a history of AMD to understand genetic and hereditary factors that may cause the disease  - looking at certain anti-inflammatory treatments for the wet form of AMD. studying the possibility of transplanting healthy cells into a diseased retina evaluating families with a history of AMD to understand genetic and hereditary factors that may cause the disease looking at certain anti-inflammatory treatments for the wet form of AMD. This research should provide better ways to detect, treat, and prevent vision loss in people with AMD.'],\n",
       "  [10],\n",
       "  [0]],\n",
       " ['who is at risk for age-related macular degeneration? ?',\n",
       "  ['Risk Increases With Age AMD is most common in older people, but it can occur during middle age. The risk increases with age. Other Risk Factors Other risk factors include - Smoking  - Obesity  - Race. Whites are much more likely to lose vision from AMD than African-Americans.  - Family history. People with a family history of AMD are at higher risk of getting the disease.  - Gender. Women appear to be at greater risk than men. Smoking Obesity Race. Whites are much more likely to lose vision from AMD than African-Americans. Family history. People with a family history of AMD are at higher risk of getting the disease. Gender. Women appear to be at greater risk than men.',\n",
       "   'AMD is most common in older people, but it can occur during middle age. The risk increases with age. Other risk factors include smoking, obesity, white race, family history of AMD, and female gender.'],\n",
       "  [1, 1],\n",
       "  [1, 1]],\n",
       " ['who is at risk for age-related macular degeneration? ?',\n",
       "  ['Age-related macular degeneration, also known as AMD, is an eye disease that affects the macula, a part of the retina. The retina sends light from the eye to the brain, and the macula allows you to see fine detail. AMD Blurs Central Vision AMD blurs the sharp central vision you need for straight-ahead activities such as reading, sewing, and driving. AMD causes no pain. How AMD Progresses In some cases, AMD advances so slowly that people notice little change in their vision. In others, the disease progresses faster and may lead to a loss of vision in both eyes. AMD is a common eye condition among people age 50 and older. It is a leading cause of vision loss in older adults. Two Forms of AMD There are two forms of age-related macular degeneration -- dry and wet.',\n",
       "   'Age-related macular degeneration, or AMD, is a disease that blurs the sharp, central vision you need for straight-ahead activities such as reading, sewing, and driving. AMD affects the macula, the part of the eye that allows you to see fine detail. AMD causes no pain.',\n",
       "   'Wet AMD occurs when abnormal blood vessels behind the retina start to grow under the macula. With wet AMD, loss of central vision can occur quickly. Wet AMD is considered to be advanced AMD and is more severe than the dry form.',\n",
       "   'Dry AMD occurs when the light-sensitive cells in the macula slowly break down, gradually blurring central vision in the affected eye. As dry AMD gets worse, you may see a blurred spot in the center of your vision. Over time, as less of the macula functions, central vision in the affected eye can be lost. If you have vision loss from dry AMD in one eye only, you may not notice any changes in your overall vision. With the other eye seeing clearly, you can still drive, read, and see fine details. You may notice changes in your vision only if AMD affects both eyes. If you experience blurry vision, see an eye care professional for a comprehensive dilated eye exam.',\n",
       "   'Dry AMD has three stages -- early AMD, intermediate AMD, and advanced dry AMD. All of these may occur in one or both eyes. People with early dry AMD have either several small drusen or a few medium-sized drusen. Drusen are yellow deposits under the retina which often are found in people over age 50. People with early AMD have no symptoms and no vision loss. People with intermediate dry AMD have either many medium-sized drusen or one or more large drusen. Some people see a blurred spot in the center of their vision. More light may be needed for reading and other tasks. In addition to drusen, people with advanced dry AMD have a breakdown of light-sensitive cells and supporting tissue in the macula. This breakdown can cause a blurred spot in the center of your vision. Over time, the blurred spot may get bigger and darker, taking more of your central vision. You may have difficulty reading or recognizing faces until they are very close to you.',\n",
       "   'Drusen are yellow deposits under the retina. They often are found in people over age 50. Your eye care professional can detect drusen during a comprehensive dilated eye exam.',\n",
       "   \"The AREDS formulation is a combination of antioxidants and zinc that is named for a study conducted by The National Eye Institute called the Age-Related Eye Disease Study, or AREDS. This study found that taking a specific high-dose formulation of antioxidants and zinc significantly reduced the risk of advanced AMD and its associated vision loss. Slowing AMD's progression from the intermediate stage to the advanced stage will save many people's vision.\",\n",
       "   'The daily amounts used by the study researchers were 500 milligrams of vitamin C, 400 International Units of vitamin E, 15 milligrams of beta-carotene, 80 milligrams of zinc as zinc oxide, and 2 milligrams of copper as cupric oxide. Copper was added to the AREDS formulation containing zinc to prevent copper deficiency anemia, a condition associated with high levels of zinc intake.',\n",
       "   'National Eye Institute  National Institutes of Health  2020 Vision Place  Bethesda, MD 20892-3655  301-496-5248  E-mail: 2020@nei.nih.gov  www.nei.nih.gov Association for Macular Diseases  210 East 64th Street, 8th Floor  New York, NY 10021-7471  212-605-3719 Foundation Fighting Blindness  Executive Plaza 1, Suite 800  11435 Cronhill Drive  Owings Mill, MD 21117-2220  1-888-394-3937  410-785-1414 Macular Degeneration Partnership  6222 Wilshire Boulevard, Suite 260  Los Angeles, CA 90048  1-888-430-9898  310-623-4466  www.amd.org'],\n",
       "  [3, 3, 3, 3, 3, 3, 3, 3, 3],\n",
       "  [0, 0, 0, 0, 0, 0, 0, 0, 0]],\n",
       " ['who is at risk for age-related macular degeneration? ?',\n",
       "  ['AMD is detected during a comprehensive eye exam that includes a visual acuity test, a dilated eye exam, and tonometry. Tests for AMD - The visual acuity test is an eye chart test that measures how well you see at various distances.  - In the dilated eye exam, drops are placed in your eyes to widen, or dilate, the pupils. Then, your eye care professional uses a special magnifying lens to examine your retina and optic nerve for signs of AMD and other eye problems. After the exam, your close-up vision may remain blurred for several hours.  - With tonometry, an instrument measures the pressure inside the eye. Numbing drops may be applied to your eye for this test. The visual acuity test is an eye chart test that measures how well you see at various distances. In the dilated eye exam, drops are placed in your eyes to widen, or dilate, the pupils. Then, your eye care professional uses a special magnifying lens to examine your retina and optic nerve for signs of AMD and other eye problems. After the exam, your close-up vision may remain blurred for several hours. With tonometry, an instrument measures the pressure inside the eye. Numbing drops may be applied to your eye for this test. Your eye care professional also may do other tests to learn more about the structure and health of your eye. The Amsler Grid During an eye exam, you may be asked to look at an Amsler grid, shown here. You will cover one eye and stare at a black dot in the center of the grid. While staring at the dot, you may notice that the straight lines in the pattern appear wavy. You may notice that some of the lines are missing. These may be signs of AMD. Because dry AMD can turn into wet AMD at any time, you should get an Amsler grid from your eye care professional. You could then use the grid every day to evaluate your vision for signs of wet AMD. The Fluorescein Angiogram Test If your eye care professional believes you need treatment for wet AMD, he or she may suggest a fluorescein angiogram. In this test, a special dye is injected into your arm. Pictures are taken as the dye passes through the blood vessels in your eye. The test allows your eye care professional to identify any leaking blood vessels and recommend treatment.',\n",
       "   'An early symptom of wet AMD is that straight lines appear wavy. If you notice this condition or other changes to your vision, contact your eye care professional at once. You need a comprehensive dilated eye exam.',\n",
       "   'The most common symptom of dry AMD is slightly blurred vision. You may have difficulty recognizing faces. You may need more light for reading and other tasks. Dry AMD generally affects both eyes, but vision can be lost in one eye while the other eye seems unaffected. One of the most common early signs of dry AMD is drusen. Drusen are yellow deposits under the retina. They often are found in people over age 50. Your eye care professional can detect drusen during a comprehensive dilated eye exam.'],\n",
       "  [3, 3, 3],\n",
       "  [0, 0, 0]],\n",
       " ['who is at risk for age-related macular degeneration? ?',\n",
       "  [\"If You Have Advanced AMD Once dry AMD reaches the advanced stage, no form of treatment can prevent vision loss. However, treatment can delay and possibly prevent intermediate AMD from progressing to the advanced stage. The National Eye Institute's Age-Related Eye Disease Study found that taking certain vitamins and minerals may reduce the risk of developing advanced AMD. Wet AMD can be treated with laser surgery, photodynamic therapy, and injections into the eye. None of these treatments is a cure for wet AMD. The disease and loss of vision may progress despite treatment. Laser Surgery Laser surgery uses a laser to destroy the fragile, leaky blood vessels. Only a small percentage of people with wet AMD can be treated with laser surgery. Laser surgery is performed in a doctor's office or eye clinic. The risk of new blood vessels developing after laser treatment is high. Repeated treatments may be necessary. In some cases, vision loss may progress despite repeated treatments. Photodynamic Therapy With photodynamic therapy, a drug called verteporfin is injected into your arm. It travels throughout the body, including the new blood vessels in your eye. The drug tends to stick to the surface of new blood vessels. Next, the doctor shines a light into your eye for about 90 seconds. The light activates the drug. The activated drug destroys the new blood vessels and leads to a slower rate of vision decline. Unlike laser surgery, verteporfin does not destroy surrounding healthy tissue. Because the drug is activated by light, you must avoid exposing your skin or eyes to direct sunlight or bright indoor light for five days after treatment. Photodynamic therapy is relatively painless. It takes about 20 minutes and can be performed in a doctor's office. Photodynamic therapy slows the rate of vision loss. It does not stop vision loss or restore vision in eyes already damaged by advanced AMD. Treatment results often are temporary. You may need to be treated again. Drug Treatment for Wet AMD Wet AMD can now be treated with new drugs that are injected into the eye (anti-VEGF therapy). Abnormally high levels of a specific growth factor occur in eyes with wet AMD and promote the growth of abnormal new blood vessels. This drug treatment blocks the effects of the growth factor. You will need multiple injections that may be given as often as monthly. The eye is numbed before each injection. After the injection, you will remain in the doctor's office for a while and your eye will be monitored. This drug treatment can help slow down vision loss from AMD and in some cases improve sight.  If You Have Low Vision    If you have lost some sight from AMD, ask your eye care professional about low vision services and devices that may help you make the most of your remaining vision. Many community organizations and agencies offer information about low vision counseling and training and other special services for people with visual impairments. Research on AMD The National Eye Institute is conducting and supporting a number of studies to learn more about AMD. For example, scientists are - studying the possibility of transplanting healthy cells into a diseased retina  - evaluating families with a history of AMD to understand genetic and hereditary factors that may cause the disease  - looking at certain anti-inflammatory treatments for the wet form of AMD studying the possibility of transplanting healthy cells into a diseased retina evaluating families with a history of AMD to understand genetic and hereditary factors that may cause the disease looking at certain anti-inflammatory treatments for the wet form of AMD This research should provide better ways to detect, treat, and prevent vision loss in people with AMD.\",\n",
       "   'Once dry AMD reaches the advanced stage, no form of treatment can prevent vision loss. However, treatment can delay and possibly prevent intermediate AMD from progressing to the advanced stage, in which vision loss occurs.',\n",
       "   'Wet AMD can be treated with laser surgery, photodynamic therapy, and drugs that are injected into the eye. None of these treatments is a cure for wet AMD. The disease and loss of vision may progress despite treatment.'],\n",
       "  [3, 3, 3],\n",
       "  [0, 0, 0]],\n",
       " ['who is at risk for age-related macular degeneration? ?',\n",
       "  [\"Drusen alone do not usually cause vision loss. In fact, scientists are unclear about the connection between drusen and AMD. They do know that an increase in the size or number of drusen raises a person's risk of developing either advanced dry AMD or wet AMD. These changes can cause serious vision loss.\"],\n",
       "  [3],\n",
       "  [0]],\n",
       " ['who is at risk for age-related macular degeneration? ?',\n",
       "  ['There is no reason for those diagnosed with early stage AMD to take the AREDS formulation. The study did not find that the formulation helped those with early stage AMD. If you have early stage AMD, a comprehensive dilated eye exam every year can help determine if the disease is progressing. If early stage AMD progresses to the intermediate stage, discuss taking the formulation with your doctor.'],\n",
       "  [3],\n",
       "  [0]],\n",
       " ['who is at risk for age-related macular degeneration? ?',\n",
       "  ['The National Eye Institute scientists are - studying the possibility of transplanting healthy cells into a diseased retina   - evaluating families with a history of AMD to understand genetic and hereditary factors that may cause the disease  - looking at certain anti-inflammatory treatments for the wet form of AMD. studying the possibility of transplanting healthy cells into a diseased retina evaluating families with a history of AMD to understand genetic and hereditary factors that may cause the disease looking at certain anti-inflammatory treatments for the wet form of AMD. This research should provide better ways to detect, treat, and prevent vision loss in people with AMD.'],\n",
       "  [3],\n",
       "  [0]],\n",
       " ['what are the symptoms of age-related macular degeneration ?',\n",
       "  ['AMD is detected during a comprehensive eye exam that includes a visual acuity test, a dilated eye exam, and tonometry. Tests for AMD - The visual acuity test is an eye chart test that measures how well you see at various distances.  - In the dilated eye exam, drops are placed in your eyes to widen, or dilate, the pupils. Then, your eye care professional uses a special magnifying lens to examine your retina and optic nerve for signs of AMD and other eye problems. After the exam, your close-up vision may remain blurred for several hours.  - With tonometry, an instrument measures the pressure inside the eye. Numbing drops may be applied to your eye for this test. The visual acuity test is an eye chart test that measures how well you see at various distances. In the dilated eye exam, drops are placed in your eyes to widen, or dilate, the pupils. Then, your eye care professional uses a special magnifying lens to examine your retina and optic nerve for signs of AMD and other eye problems. After the exam, your close-up vision may remain blurred for several hours. With tonometry, an instrument measures the pressure inside the eye. Numbing drops may be applied to your eye for this test. Your eye care professional also may do other tests to learn more about the structure and health of your eye. The Amsler Grid During an eye exam, you may be asked to look at an Amsler grid, shown here. You will cover one eye and stare at a black dot in the center of the grid. While staring at the dot, you may notice that the straight lines in the pattern appear wavy. You may notice that some of the lines are missing. These may be signs of AMD. Because dry AMD can turn into wet AMD at any time, you should get an Amsler grid from your eye care professional. You could then use the grid every day to evaluate your vision for signs of wet AMD. The Fluorescein Angiogram Test If your eye care professional believes you need treatment for wet AMD, he or she may suggest a fluorescein angiogram. In this test, a special dye is injected into your arm. Pictures are taken as the dye passes through the blood vessels in your eye. The test allows your eye care professional to identify any leaking blood vessels and recommend treatment.',\n",
       "   'An early symptom of wet AMD is that straight lines appear wavy. If you notice this condition or other changes to your vision, contact your eye care professional at once. You need a comprehensive dilated eye exam.',\n",
       "   'The most common symptom of dry AMD is slightly blurred vision. You may have difficulty recognizing faces. You may need more light for reading and other tasks. Dry AMD generally affects both eyes, but vision can be lost in one eye while the other eye seems unaffected. One of the most common early signs of dry AMD is drusen. Drusen are yellow deposits under the retina. They often are found in people over age 50. Your eye care professional can detect drusen during a comprehensive dilated eye exam.'],\n",
       "  [1, 1, 1],\n",
       "  [1, 1, 1]],\n",
       " ['what are the symptoms of age-related macular degeneration ?',\n",
       "  ['Age-related macular degeneration, also known as AMD, is an eye disease that affects the macula, a part of the retina. The retina sends light from the eye to the brain, and the macula allows you to see fine detail. AMD Blurs Central Vision AMD blurs the sharp central vision you need for straight-ahead activities such as reading, sewing, and driving. AMD causes no pain. How AMD Progresses In some cases, AMD advances so slowly that people notice little change in their vision. In others, the disease progresses faster and may lead to a loss of vision in both eyes. AMD is a common eye condition among people age 50 and older. It is a leading cause of vision loss in older adults. Two Forms of AMD There are two forms of age-related macular degeneration -- dry and wet.',\n",
       "   'Age-related macular degeneration, or AMD, is a disease that blurs the sharp, central vision you need for straight-ahead activities such as reading, sewing, and driving. AMD affects the macula, the part of the eye that allows you to see fine detail. AMD causes no pain.',\n",
       "   'Wet AMD occurs when abnormal blood vessels behind the retina start to grow under the macula. With wet AMD, loss of central vision can occur quickly. Wet AMD is considered to be advanced AMD and is more severe than the dry form.',\n",
       "   'Dry AMD occurs when the light-sensitive cells in the macula slowly break down, gradually blurring central vision in the affected eye. As dry AMD gets worse, you may see a blurred spot in the center of your vision. Over time, as less of the macula functions, central vision in the affected eye can be lost. If you have vision loss from dry AMD in one eye only, you may not notice any changes in your overall vision. With the other eye seeing clearly, you can still drive, read, and see fine details. You may notice changes in your vision only if AMD affects both eyes. If you experience blurry vision, see an eye care professional for a comprehensive dilated eye exam.',\n",
       "   'Dry AMD has three stages -- early AMD, intermediate AMD, and advanced dry AMD. All of these may occur in one or both eyes. People with early dry AMD have either several small drusen or a few medium-sized drusen. Drusen are yellow deposits under the retina which often are found in people over age 50. People with early AMD have no symptoms and no vision loss. People with intermediate dry AMD have either many medium-sized drusen or one or more large drusen. Some people see a blurred spot in the center of their vision. More light may be needed for reading and other tasks. In addition to drusen, people with advanced dry AMD have a breakdown of light-sensitive cells and supporting tissue in the macula. This breakdown can cause a blurred spot in the center of your vision. Over time, the blurred spot may get bigger and darker, taking more of your central vision. You may have difficulty reading or recognizing faces until they are very close to you.',\n",
       "   'Drusen are yellow deposits under the retina. They often are found in people over age 50. Your eye care professional can detect drusen during a comprehensive dilated eye exam.',\n",
       "   \"The AREDS formulation is a combination of antioxidants and zinc that is named for a study conducted by The National Eye Institute called the Age-Related Eye Disease Study, or AREDS. This study found that taking a specific high-dose formulation of antioxidants and zinc significantly reduced the risk of advanced AMD and its associated vision loss. Slowing AMD's progression from the intermediate stage to the advanced stage will save many people's vision.\",\n",
       "   'The daily amounts used by the study researchers were 500 milligrams of vitamin C, 400 International Units of vitamin E, 15 milligrams of beta-carotene, 80 milligrams of zinc as zinc oxide, and 2 milligrams of copper as cupric oxide. Copper was added to the AREDS formulation containing zinc to prevent copper deficiency anemia, a condition associated with high levels of zinc intake.',\n",
       "   'National Eye Institute  National Institutes of Health  2020 Vision Place  Bethesda, MD 20892-3655  301-496-5248  E-mail: 2020@nei.nih.gov  www.nei.nih.gov Association for Macular Diseases  210 East 64th Street, 8th Floor  New York, NY 10021-7471  212-605-3719 Foundation Fighting Blindness  Executive Plaza 1, Suite 800  11435 Cronhill Drive  Owings Mill, MD 21117-2220  1-888-394-3937  410-785-1414 Macular Degeneration Partnership  6222 Wilshire Boulevard, Suite 260  Los Angeles, CA 90048  1-888-430-9898  310-623-4466  www.amd.org'],\n",
       "  [4, 4, 4, 4, 4, 4, 4, 4, 4],\n",
       "  [0, 0, 0, 0, 0, 0, 0, 0, 0]],\n",
       " ['what are the symptoms of age-related macular degeneration ?',\n",
       "  ['Risk Increases With Age AMD is most common in older people, but it can occur during middle age. The risk increases with age. Other Risk Factors Other risk factors include - Smoking  - Obesity  - Race. Whites are much more likely to lose vision from AMD than African-Americans.  - Family history. People with a family history of AMD are at higher risk of getting the disease.  - Gender. Women appear to be at greater risk than men. Smoking Obesity Race. Whites are much more likely to lose vision from AMD than African-Americans. Family history. People with a family history of AMD are at higher risk of getting the disease. Gender. Women appear to be at greater risk than men.',\n",
       "   'AMD is most common in older people, but it can occur during middle age. The risk increases with age. Other risk factors include smoking, obesity, white race, family history of AMD, and female gender.'],\n",
       "  [4, 4],\n",
       "  [0, 0]],\n",
       " ['what are the symptoms of age-related macular degeneration ?',\n",
       "  [\"If You Have Advanced AMD Once dry AMD reaches the advanced stage, no form of treatment can prevent vision loss. However, treatment can delay and possibly prevent intermediate AMD from progressing to the advanced stage. The National Eye Institute's Age-Related Eye Disease Study found that taking certain vitamins and minerals may reduce the risk of developing advanced AMD. Wet AMD can be treated with laser surgery, photodynamic therapy, and injections into the eye. None of these treatments is a cure for wet AMD. The disease and loss of vision may progress despite treatment. Laser Surgery Laser surgery uses a laser to destroy the fragile, leaky blood vessels. Only a small percentage of people with wet AMD can be treated with laser surgery. Laser surgery is performed in a doctor's office or eye clinic. The risk of new blood vessels developing after laser treatment is high. Repeated treatments may be necessary. In some cases, vision loss may progress despite repeated treatments. Photodynamic Therapy With photodynamic therapy, a drug called verteporfin is injected into your arm. It travels throughout the body, including the new blood vessels in your eye. The drug tends to stick to the surface of new blood vessels. Next, the doctor shines a light into your eye for about 90 seconds. The light activates the drug. The activated drug destroys the new blood vessels and leads to a slower rate of vision decline. Unlike laser surgery, verteporfin does not destroy surrounding healthy tissue. Because the drug is activated by light, you must avoid exposing your skin or eyes to direct sunlight or bright indoor light for five days after treatment. Photodynamic therapy is relatively painless. It takes about 20 minutes and can be performed in a doctor's office. Photodynamic therapy slows the rate of vision loss. It does not stop vision loss or restore vision in eyes already damaged by advanced AMD. Treatment results often are temporary. You may need to be treated again. Drug Treatment for Wet AMD Wet AMD can now be treated with new drugs that are injected into the eye (anti-VEGF therapy). Abnormally high levels of a specific growth factor occur in eyes with wet AMD and promote the growth of abnormal new blood vessels. This drug treatment blocks the effects of the growth factor. You will need multiple injections that may be given as often as monthly. The eye is numbed before each injection. After the injection, you will remain in the doctor's office for a while and your eye will be monitored. This drug treatment can help slow down vision loss from AMD and in some cases improve sight.  If You Have Low Vision    If you have lost some sight from AMD, ask your eye care professional about low vision services and devices that may help you make the most of your remaining vision. Many community organizations and agencies offer information about low vision counseling and training and other special services for people with visual impairments. Research on AMD The National Eye Institute is conducting and supporting a number of studies to learn more about AMD. For example, scientists are - studying the possibility of transplanting healthy cells into a diseased retina  - evaluating families with a history of AMD to understand genetic and hereditary factors that may cause the disease  - looking at certain anti-inflammatory treatments for the wet form of AMD studying the possibility of transplanting healthy cells into a diseased retina evaluating families with a history of AMD to understand genetic and hereditary factors that may cause the disease looking at certain anti-inflammatory treatments for the wet form of AMD This research should provide better ways to detect, treat, and prevent vision loss in people with AMD.\",\n",
       "   'Once dry AMD reaches the advanced stage, no form of treatment can prevent vision loss. However, treatment can delay and possibly prevent intermediate AMD from progressing to the advanced stage, in which vision loss occurs.',\n",
       "   'Wet AMD can be treated with laser surgery, photodynamic therapy, and drugs that are injected into the eye. None of these treatments is a cure for wet AMD. The disease and loss of vision may progress despite treatment.'],\n",
       "  [4, 4, 4],\n",
       "  [0, 0, 0]],\n",
       " ['what are the symptoms of age-related macular degeneration ?',\n",
       "  [\"Drusen alone do not usually cause vision loss. In fact, scientists are unclear about the connection between drusen and AMD. They do know that an increase in the size or number of drusen raises a person's risk of developing either advanced dry AMD or wet AMD. These changes can cause serious vision loss.\"],\n",
       "  [4],\n",
       "  [0]],\n",
       " ['what are the symptoms of age-related macular degeneration ?',\n",
       "  ['There is no reason for those diagnosed with early stage AMD to take the AREDS formulation. The study did not find that the formulation helped those with early stage AMD. If you have early stage AMD, a comprehensive dilated eye exam every year can help determine if the disease is progressing. If early stage AMD progresses to the intermediate stage, discuss taking the formulation with your doctor.'],\n",
       "  [4],\n",
       "  [0]],\n",
       " ['what are the symptoms of age-related macular degeneration ?',\n",
       "  ['The National Eye Institute scientists are - studying the possibility of transplanting healthy cells into a diseased retina   - evaluating families with a history of AMD to understand genetic and hereditary factors that may cause the disease  - looking at certain anti-inflammatory treatments for the wet form of AMD. studying the possibility of transplanting healthy cells into a diseased retina evaluating families with a history of AMD to understand genetic and hereditary factors that may cause the disease looking at certain anti-inflammatory treatments for the wet form of AMD. This research should provide better ways to detect, treat, and prevent vision loss in people with AMD.'],\n",
       "  [4],\n",
       "  [0]],\n",
       " ['what are the treatments for age-related macular degeneration ?',\n",
       "  [\"If You Have Advanced AMD Once dry AMD reaches the advanced stage, no form of treatment can prevent vision loss. However, treatment can delay and possibly prevent intermediate AMD from progressing to the advanced stage. The National Eye Institute's Age-Related Eye Disease Study found that taking certain vitamins and minerals may reduce the risk of developing advanced AMD. Wet AMD can be treated with laser surgery, photodynamic therapy, and injections into the eye. None of these treatments is a cure for wet AMD. The disease and loss of vision may progress despite treatment. Laser Surgery Laser surgery uses a laser to destroy the fragile, leaky blood vessels. Only a small percentage of people with wet AMD can be treated with laser surgery. Laser surgery is performed in a doctor's office or eye clinic. The risk of new blood vessels developing after laser treatment is high. Repeated treatments may be necessary. In some cases, vision loss may progress despite repeated treatments. Photodynamic Therapy With photodynamic therapy, a drug called verteporfin is injected into your arm. It travels throughout the body, including the new blood vessels in your eye. The drug tends to stick to the surface of new blood vessels. Next, the doctor shines a light into your eye for about 90 seconds. The light activates the drug. The activated drug destroys the new blood vessels and leads to a slower rate of vision decline. Unlike laser surgery, verteporfin does not destroy surrounding healthy tissue. Because the drug is activated by light, you must avoid exposing your skin or eyes to direct sunlight or bright indoor light for five days after treatment. Photodynamic therapy is relatively painless. It takes about 20 minutes and can be performed in a doctor's office. Photodynamic therapy slows the rate of vision loss. It does not stop vision loss or restore vision in eyes already damaged by advanced AMD. Treatment results often are temporary. You may need to be treated again. Drug Treatment for Wet AMD Wet AMD can now be treated with new drugs that are injected into the eye (anti-VEGF therapy). Abnormally high levels of a specific growth factor occur in eyes with wet AMD and promote the growth of abnormal new blood vessels. This drug treatment blocks the effects of the growth factor. You will need multiple injections that may be given as often as monthly. The eye is numbed before each injection. After the injection, you will remain in the doctor's office for a while and your eye will be monitored. This drug treatment can help slow down vision loss from AMD and in some cases improve sight.  If You Have Low Vision    If you have lost some sight from AMD, ask your eye care professional about low vision services and devices that may help you make the most of your remaining vision. Many community organizations and agencies offer information about low vision counseling and training and other special services for people with visual impairments. Research on AMD The National Eye Institute is conducting and supporting a number of studies to learn more about AMD. For example, scientists are - studying the possibility of transplanting healthy cells into a diseased retina  - evaluating families with a history of AMD to understand genetic and hereditary factors that may cause the disease  - looking at certain anti-inflammatory treatments for the wet form of AMD studying the possibility of transplanting healthy cells into a diseased retina evaluating families with a history of AMD to understand genetic and hereditary factors that may cause the disease looking at certain anti-inflammatory treatments for the wet form of AMD This research should provide better ways to detect, treat, and prevent vision loss in people with AMD.\",\n",
       "   'Once dry AMD reaches the advanced stage, no form of treatment can prevent vision loss. However, treatment can delay and possibly prevent intermediate AMD from progressing to the advanced stage, in which vision loss occurs.',\n",
       "   'Wet AMD can be treated with laser surgery, photodynamic therapy, and drugs that are injected into the eye. None of these treatments is a cure for wet AMD. The disease and loss of vision may progress despite treatment.'],\n",
       "  [1, 1, 1],\n",
       "  [1, 1, 1]],\n",
       " ['what are the treatments for age-related macular degeneration ?',\n",
       "  ['Age-related macular degeneration, also known as AMD, is an eye disease that affects the macula, a part of the retina. The retina sends light from the eye to the brain, and the macula allows you to see fine detail. AMD Blurs Central Vision AMD blurs the sharp central vision you need for straight-ahead activities such as reading, sewing, and driving. AMD causes no pain. How AMD Progresses In some cases, AMD advances so slowly that people notice little change in their vision. In others, the disease progresses faster and may lead to a loss of vision in both eyes. AMD is a common eye condition among people age 50 and older. It is a leading cause of vision loss in older adults. Two Forms of AMD There are two forms of age-related macular degeneration -- dry and wet.',\n",
       "   'Age-related macular degeneration, or AMD, is a disease that blurs the sharp, central vision you need for straight-ahead activities such as reading, sewing, and driving. AMD affects the macula, the part of the eye that allows you to see fine detail. AMD causes no pain.',\n",
       "   'Wet AMD occurs when abnormal blood vessels behind the retina start to grow under the macula. With wet AMD, loss of central vision can occur quickly. Wet AMD is considered to be advanced AMD and is more severe than the dry form.',\n",
       "   'Dry AMD occurs when the light-sensitive cells in the macula slowly break down, gradually blurring central vision in the affected eye. As dry AMD gets worse, you may see a blurred spot in the center of your vision. Over time, as less of the macula functions, central vision in the affected eye can be lost. If you have vision loss from dry AMD in one eye only, you may not notice any changes in your overall vision. With the other eye seeing clearly, you can still drive, read, and see fine details. You may notice changes in your vision only if AMD affects both eyes. If you experience blurry vision, see an eye care professional for a comprehensive dilated eye exam.',\n",
       "   'Dry AMD has three stages -- early AMD, intermediate AMD, and advanced dry AMD. All of these may occur in one or both eyes. People with early dry AMD have either several small drusen or a few medium-sized drusen. Drusen are yellow deposits under the retina which often are found in people over age 50. People with early AMD have no symptoms and no vision loss. People with intermediate dry AMD have either many medium-sized drusen or one or more large drusen. Some people see a blurred spot in the center of their vision. More light may be needed for reading and other tasks. In addition to drusen, people with advanced dry AMD have a breakdown of light-sensitive cells and supporting tissue in the macula. This breakdown can cause a blurred spot in the center of your vision. Over time, the blurred spot may get bigger and darker, taking more of your central vision. You may have difficulty reading or recognizing faces until they are very close to you.',\n",
       "   'Drusen are yellow deposits under the retina. They often are found in people over age 50. Your eye care professional can detect drusen during a comprehensive dilated eye exam.',\n",
       "   \"The AREDS formulation is a combination of antioxidants and zinc that is named for a study conducted by The National Eye Institute called the Age-Related Eye Disease Study, or AREDS. This study found that taking a specific high-dose formulation of antioxidants and zinc significantly reduced the risk of advanced AMD and its associated vision loss. Slowing AMD's progression from the intermediate stage to the advanced stage will save many people's vision.\",\n",
       "   'The daily amounts used by the study researchers were 500 milligrams of vitamin C, 400 International Units of vitamin E, 15 milligrams of beta-carotene, 80 milligrams of zinc as zinc oxide, and 2 milligrams of copper as cupric oxide. Copper was added to the AREDS formulation containing zinc to prevent copper deficiency anemia, a condition associated with high levels of zinc intake.',\n",
       "   'National Eye Institute  National Institutes of Health  2020 Vision Place  Bethesda, MD 20892-3655  301-496-5248  E-mail: 2020@nei.nih.gov  www.nei.nih.gov Association for Macular Diseases  210 East 64th Street, 8th Floor  New York, NY 10021-7471  212-605-3719 Foundation Fighting Blindness  Executive Plaza 1, Suite 800  11435 Cronhill Drive  Owings Mill, MD 21117-2220  1-888-394-3937  410-785-1414 Macular Degeneration Partnership  6222 Wilshire Boulevard, Suite 260  Los Angeles, CA 90048  1-888-430-9898  310-623-4466  www.amd.org'],\n",
       "  [4, 4, 4, 4, 4, 4, 4, 4, 4],\n",
       "  [0, 0, 0, 0, 0, 0, 0, 0, 0]],\n",
       " ['what are the treatments for age-related macular degeneration ?',\n",
       "  ['Risk Increases With Age AMD is most common in older people, but it can occur during middle age. The risk increases with age. Other Risk Factors Other risk factors include - Smoking  - Obesity  - Race. Whites are much more likely to lose vision from AMD than African-Americans.  - Family history. People with a family history of AMD are at higher risk of getting the disease.  - Gender. Women appear to be at greater risk than men. Smoking Obesity Race. Whites are much more likely to lose vision from AMD than African-Americans. Family history. People with a family history of AMD are at higher risk of getting the disease. Gender. Women appear to be at greater risk than men.',\n",
       "   'AMD is most common in older people, but it can occur during middle age. The risk increases with age. Other risk factors include smoking, obesity, white race, family history of AMD, and female gender.'],\n",
       "  [4, 4],\n",
       "  [0, 0]],\n",
       " ['what are the treatments for age-related macular degeneration ?',\n",
       "  ['AMD is detected during a comprehensive eye exam that includes a visual acuity test, a dilated eye exam, and tonometry. Tests for AMD - The visual acuity test is an eye chart test that measures how well you see at various distances.  - In the dilated eye exam, drops are placed in your eyes to widen, or dilate, the pupils. Then, your eye care professional uses a special magnifying lens to examine your retina and optic nerve for signs of AMD and other eye problems. After the exam, your close-up vision may remain blurred for several hours.  - With tonometry, an instrument measures the pressure inside the eye. Numbing drops may be applied to your eye for this test. The visual acuity test is an eye chart test that measures how well you see at various distances. In the dilated eye exam, drops are placed in your eyes to widen, or dilate, the pupils. Then, your eye care professional uses a special magnifying lens to examine your retina and optic nerve for signs of AMD and other eye problems. After the exam, your close-up vision may remain blurred for several hours. With tonometry, an instrument measures the pressure inside the eye. Numbing drops may be applied to your eye for this test. Your eye care professional also may do other tests to learn more about the structure and health of your eye. The Amsler Grid During an eye exam, you may be asked to look at an Amsler grid, shown here. You will cover one eye and stare at a black dot in the center of the grid. While staring at the dot, you may notice that the straight lines in the pattern appear wavy. You may notice that some of the lines are missing. These may be signs of AMD. Because dry AMD can turn into wet AMD at any time, you should get an Amsler grid from your eye care professional. You could then use the grid every day to evaluate your vision for signs of wet AMD. The Fluorescein Angiogram Test If your eye care professional believes you need treatment for wet AMD, he or she may suggest a fluorescein angiogram. In this test, a special dye is injected into your arm. Pictures are taken as the dye passes through the blood vessels in your eye. The test allows your eye care professional to identify any leaking blood vessels and recommend treatment.',\n",
       "   'An early symptom of wet AMD is that straight lines appear wavy. If you notice this condition or other changes to your vision, contact your eye care professional at once. You need a comprehensive dilated eye exam.',\n",
       "   'The most common symptom of dry AMD is slightly blurred vision. You may have difficulty recognizing faces. You may need more light for reading and other tasks. Dry AMD generally affects both eyes, but vision can be lost in one eye while the other eye seems unaffected. One of the most common early signs of dry AMD is drusen. Drusen are yellow deposits under the retina. They often are found in people over age 50. Your eye care professional can detect drusen during a comprehensive dilated eye exam.'],\n",
       "  [4, 4, 4],\n",
       "  [0, 0, 0]],\n",
       " ['what are the treatments for age-related macular degeneration ?',\n",
       "  [\"Drusen alone do not usually cause vision loss. In fact, scientists are unclear about the connection between drusen and AMD. They do know that an increase in the size or number of drusen raises a person's risk of developing either advanced dry AMD or wet AMD. These changes can cause serious vision loss.\"],\n",
       "  [4],\n",
       "  [0]],\n",
       " ['what are the treatments for age-related macular degeneration ?',\n",
       "  ['There is no reason for those diagnosed with early stage AMD to take the AREDS formulation. The study did not find that the formulation helped those with early stage AMD. If you have early stage AMD, a comprehensive dilated eye exam every year can help determine if the disease is progressing. If early stage AMD progresses to the intermediate stage, discuss taking the formulation with your doctor.'],\n",
       "  [4],\n",
       "  [0]],\n",
       " ['what are the treatments for age-related macular degeneration ?',\n",
       "  ['The National Eye Institute scientists are - studying the possibility of transplanting healthy cells into a diseased retina   - evaluating families with a history of AMD to understand genetic and hereditary factors that may cause the disease  - looking at certain anti-inflammatory treatments for the wet form of AMD. studying the possibility of transplanting healthy cells into a diseased retina evaluating families with a history of AMD to understand genetic and hereditary factors that may cause the disease looking at certain anti-inflammatory treatments for the wet form of AMD. This research should provide better ways to detect, treat, and prevent vision loss in people with AMD.'],\n",
       "  [4],\n",
       "  [0]],\n",
       " ['what causes age-related macular degeneration ?',\n",
       "  [\"Drusen alone do not usually cause vision loss. In fact, scientists are unclear about the connection between drusen and AMD. They do know that an increase in the size or number of drusen raises a person's risk of developing either advanced dry AMD or wet AMD. These changes can cause serious vision loss.\"],\n",
       "  [1],\n",
       "  [1]],\n",
       " ['what causes age-related macular degeneration ?',\n",
       "  ['Age-related macular degeneration, also known as AMD, is an eye disease that affects the macula, a part of the retina. The retina sends light from the eye to the brain, and the macula allows you to see fine detail. AMD Blurs Central Vision AMD blurs the sharp central vision you need for straight-ahead activities such as reading, sewing, and driving. AMD causes no pain. How AMD Progresses In some cases, AMD advances so slowly that people notice little change in their vision. In others, the disease progresses faster and may lead to a loss of vision in both eyes. AMD is a common eye condition among people age 50 and older. It is a leading cause of vision loss in older adults. Two Forms of AMD There are two forms of age-related macular degeneration -- dry and wet.',\n",
       "   'Age-related macular degeneration, or AMD, is a disease that blurs the sharp, central vision you need for straight-ahead activities such as reading, sewing, and driving. AMD affects the macula, the part of the eye that allows you to see fine detail. AMD causes no pain.',\n",
       "   'Wet AMD occurs when abnormal blood vessels behind the retina start to grow under the macula. With wet AMD, loss of central vision can occur quickly. Wet AMD is considered to be advanced AMD and is more severe than the dry form.',\n",
       "   'Dry AMD occurs when the light-sensitive cells in the macula slowly break down, gradually blurring central vision in the affected eye. As dry AMD gets worse, you may see a blurred spot in the center of your vision. Over time, as less of the macula functions, central vision in the affected eye can be lost. If you have vision loss from dry AMD in one eye only, you may not notice any changes in your overall vision. With the other eye seeing clearly, you can still drive, read, and see fine details. You may notice changes in your vision only if AMD affects both eyes. If you experience blurry vision, see an eye care professional for a comprehensive dilated eye exam.',\n",
       "   'Dry AMD has three stages -- early AMD, intermediate AMD, and advanced dry AMD. All of these may occur in one or both eyes. People with early dry AMD have either several small drusen or a few medium-sized drusen. Drusen are yellow deposits under the retina which often are found in people over age 50. People with early AMD have no symptoms and no vision loss. People with intermediate dry AMD have either many medium-sized drusen or one or more large drusen. Some people see a blurred spot in the center of their vision. More light may be needed for reading and other tasks. In addition to drusen, people with advanced dry AMD have a breakdown of light-sensitive cells and supporting tissue in the macula. This breakdown can cause a blurred spot in the center of your vision. Over time, the blurred spot may get bigger and darker, taking more of your central vision. You may have difficulty reading or recognizing faces until they are very close to you.',\n",
       "   'Drusen are yellow deposits under the retina. They often are found in people over age 50. Your eye care professional can detect drusen during a comprehensive dilated eye exam.',\n",
       "   \"The AREDS formulation is a combination of antioxidants and zinc that is named for a study conducted by The National Eye Institute called the Age-Related Eye Disease Study, or AREDS. This study found that taking a specific high-dose formulation of antioxidants and zinc significantly reduced the risk of advanced AMD and its associated vision loss. Slowing AMD's progression from the intermediate stage to the advanced stage will save many people's vision.\",\n",
       "   'The daily amounts used by the study researchers were 500 milligrams of vitamin C, 400 International Units of vitamin E, 15 milligrams of beta-carotene, 80 milligrams of zinc as zinc oxide, and 2 milligrams of copper as cupric oxide. Copper was added to the AREDS formulation containing zinc to prevent copper deficiency anemia, a condition associated with high levels of zinc intake.',\n",
       "   'National Eye Institute  National Institutes of Health  2020 Vision Place  Bethesda, MD 20892-3655  301-496-5248  E-mail: 2020@nei.nih.gov  www.nei.nih.gov Association for Macular Diseases  210 East 64th Street, 8th Floor  New York, NY 10021-7471  212-605-3719 Foundation Fighting Blindness  Executive Plaza 1, Suite 800  11435 Cronhill Drive  Owings Mill, MD 21117-2220  1-888-394-3937  410-785-1414 Macular Degeneration Partnership  6222 Wilshire Boulevard, Suite 260  Los Angeles, CA 90048  1-888-430-9898  310-623-4466  www.amd.org'],\n",
       "  [2, 2, 2, 2, 2, 2, 2, 2, 2],\n",
       "  [0, 0, 0, 0, 0, 0, 0, 0, 0]],\n",
       " ['what causes age-related macular degeneration ?',\n",
       "  ['Risk Increases With Age AMD is most common in older people, but it can occur during middle age. The risk increases with age. Other Risk Factors Other risk factors include - Smoking  - Obesity  - Race. Whites are much more likely to lose vision from AMD than African-Americans.  - Family history. People with a family history of AMD are at higher risk of getting the disease.  - Gender. Women appear to be at greater risk than men. Smoking Obesity Race. Whites are much more likely to lose vision from AMD than African-Americans. Family history. People with a family history of AMD are at higher risk of getting the disease. Gender. Women appear to be at greater risk than men.',\n",
       "   'AMD is most common in older people, but it can occur during middle age. The risk increases with age. Other risk factors include smoking, obesity, white race, family history of AMD, and female gender.'],\n",
       "  [2, 2],\n",
       "  [0, 0]],\n",
       " ['what causes age-related macular degeneration ?',\n",
       "  ['AMD is detected during a comprehensive eye exam that includes a visual acuity test, a dilated eye exam, and tonometry. Tests for AMD - The visual acuity test is an eye chart test that measures how well you see at various distances.  - In the dilated eye exam, drops are placed in your eyes to widen, or dilate, the pupils. Then, your eye care professional uses a special magnifying lens to examine your retina and optic nerve for signs of AMD and other eye problems. After the exam, your close-up vision may remain blurred for several hours.  - With tonometry, an instrument measures the pressure inside the eye. Numbing drops may be applied to your eye for this test. The visual acuity test is an eye chart test that measures how well you see at various distances. In the dilated eye exam, drops are placed in your eyes to widen, or dilate, the pupils. Then, your eye care professional uses a special magnifying lens to examine your retina and optic nerve for signs of AMD and other eye problems. After the exam, your close-up vision may remain blurred for several hours. With tonometry, an instrument measures the pressure inside the eye. Numbing drops may be applied to your eye for this test. Your eye care professional also may do other tests to learn more about the structure and health of your eye. The Amsler Grid During an eye exam, you may be asked to look at an Amsler grid, shown here. You will cover one eye and stare at a black dot in the center of the grid. While staring at the dot, you may notice that the straight lines in the pattern appear wavy. You may notice that some of the lines are missing. These may be signs of AMD. Because dry AMD can turn into wet AMD at any time, you should get an Amsler grid from your eye care professional. You could then use the grid every day to evaluate your vision for signs of wet AMD. The Fluorescein Angiogram Test If your eye care professional believes you need treatment for wet AMD, he or she may suggest a fluorescein angiogram. In this test, a special dye is injected into your arm. Pictures are taken as the dye passes through the blood vessels in your eye. The test allows your eye care professional to identify any leaking blood vessels and recommend treatment.',\n",
       "   'An early symptom of wet AMD is that straight lines appear wavy. If you notice this condition or other changes to your vision, contact your eye care professional at once. You need a comprehensive dilated eye exam.',\n",
       "   'The most common symptom of dry AMD is slightly blurred vision. You may have difficulty recognizing faces. You may need more light for reading and other tasks. Dry AMD generally affects both eyes, but vision can be lost in one eye while the other eye seems unaffected. One of the most common early signs of dry AMD is drusen. Drusen are yellow deposits under the retina. They often are found in people over age 50. Your eye care professional can detect drusen during a comprehensive dilated eye exam.'],\n",
       "  [2, 2, 2],\n",
       "  [0, 0, 0]],\n",
       " ['what causes age-related macular degeneration ?',\n",
       "  [\"If You Have Advanced AMD Once dry AMD reaches the advanced stage, no form of treatment can prevent vision loss. However, treatment can delay and possibly prevent intermediate AMD from progressing to the advanced stage. The National Eye Institute's Age-Related Eye Disease Study found that taking certain vitamins and minerals may reduce the risk of developing advanced AMD. Wet AMD can be treated with laser surgery, photodynamic therapy, and injections into the eye. None of these treatments is a cure for wet AMD. The disease and loss of vision may progress despite treatment. Laser Surgery Laser surgery uses a laser to destroy the fragile, leaky blood vessels. Only a small percentage of people with wet AMD can be treated with laser surgery. Laser surgery is performed in a doctor's office or eye clinic. The risk of new blood vessels developing after laser treatment is high. Repeated treatments may be necessary. In some cases, vision loss may progress despite repeated treatments. Photodynamic Therapy With photodynamic therapy, a drug called verteporfin is injected into your arm. It travels throughout the body, including the new blood vessels in your eye. The drug tends to stick to the surface of new blood vessels. Next, the doctor shines a light into your eye for about 90 seconds. The light activates the drug. The activated drug destroys the new blood vessels and leads to a slower rate of vision decline. Unlike laser surgery, verteporfin does not destroy surrounding healthy tissue. Because the drug is activated by light, you must avoid exposing your skin or eyes to direct sunlight or bright indoor light for five days after treatment. Photodynamic therapy is relatively painless. It takes about 20 minutes and can be performed in a doctor's office. Photodynamic therapy slows the rate of vision loss. It does not stop vision loss or restore vision in eyes already damaged by advanced AMD. Treatment results often are temporary. You may need to be treated again. Drug Treatment for Wet AMD Wet AMD can now be treated with new drugs that are injected into the eye (anti-VEGF therapy). Abnormally high levels of a specific growth factor occur in eyes with wet AMD and promote the growth of abnormal new blood vessels. This drug treatment blocks the effects of the growth factor. You will need multiple injections that may be given as often as monthly. The eye is numbed before each injection. After the injection, you will remain in the doctor's office for a while and your eye will be monitored. This drug treatment can help slow down vision loss from AMD and in some cases improve sight.  If You Have Low Vision    If you have lost some sight from AMD, ask your eye care professional about low vision services and devices that may help you make the most of your remaining vision. Many community organizations and agencies offer information about low vision counseling and training and other special services for people with visual impairments. Research on AMD The National Eye Institute is conducting and supporting a number of studies to learn more about AMD. For example, scientists are - studying the possibility of transplanting healthy cells into a diseased retina  - evaluating families with a history of AMD to understand genetic and hereditary factors that may cause the disease  - looking at certain anti-inflammatory treatments for the wet form of AMD studying the possibility of transplanting healthy cells into a diseased retina evaluating families with a history of AMD to understand genetic and hereditary factors that may cause the disease looking at certain anti-inflammatory treatments for the wet form of AMD This research should provide better ways to detect, treat, and prevent vision loss in people with AMD.\",\n",
       "   'Once dry AMD reaches the advanced stage, no form of treatment can prevent vision loss. However, treatment can delay and possibly prevent intermediate AMD from progressing to the advanced stage, in which vision loss occurs.',\n",
       "   'Wet AMD can be treated with laser surgery, photodynamic therapy, and drugs that are injected into the eye. None of these treatments is a cure for wet AMD. The disease and loss of vision may progress despite treatment.'],\n",
       "  [2, 2, 2],\n",
       "  [0, 0, 0]],\n",
       " ['what causes age-related macular degeneration ?',\n",
       "  ['There is no reason for those diagnosed with early stage AMD to take the AREDS formulation. The study did not find that the formulation helped those with early stage AMD. If you have early stage AMD, a comprehensive dilated eye exam every year can help determine if the disease is progressing. If early stage AMD progresses to the intermediate stage, discuss taking the formulation with your doctor.'],\n",
       "  [2],\n",
       "  [0]],\n",
       " ['what causes age-related macular degeneration ?',\n",
       "  ['The National Eye Institute scientists are - studying the possibility of transplanting healthy cells into a diseased retina   - evaluating families with a history of AMD to understand genetic and hereditary factors that may cause the disease  - looking at certain anti-inflammatory treatments for the wet form of AMD. studying the possibility of transplanting healthy cells into a diseased retina evaluating families with a history of AMD to understand genetic and hereditary factors that may cause the disease looking at certain anti-inflammatory treatments for the wet form of AMD. This research should provide better ways to detect, treat, and prevent vision loss in people with AMD.'],\n",
       "  [2],\n",
       "  [0]],\n",
       " ['how to prevent age-related macular degeneration ?',\n",
       "  ['There is no reason for those diagnosed with early stage AMD to take the AREDS formulation. The study did not find that the formulation helped those with early stage AMD. If you have early stage AMD, a comprehensive dilated eye exam every year can help determine if the disease is progressing. If early stage AMD progresses to the intermediate stage, discuss taking the formulation with your doctor.'],\n",
       "  [1],\n",
       "  [1]],\n",
       " ['how to prevent age-related macular degeneration ?',\n",
       "  ['Age-related macular degeneration, also known as AMD, is an eye disease that affects the macula, a part of the retina. The retina sends light from the eye to the brain, and the macula allows you to see fine detail. AMD Blurs Central Vision AMD blurs the sharp central vision you need for straight-ahead activities such as reading, sewing, and driving. AMD causes no pain. How AMD Progresses In some cases, AMD advances so slowly that people notice little change in their vision. In others, the disease progresses faster and may lead to a loss of vision in both eyes. AMD is a common eye condition among people age 50 and older. It is a leading cause of vision loss in older adults. Two Forms of AMD There are two forms of age-related macular degeneration -- dry and wet.',\n",
       "   'Age-related macular degeneration, or AMD, is a disease that blurs the sharp, central vision you need for straight-ahead activities such as reading, sewing, and driving. AMD affects the macula, the part of the eye that allows you to see fine detail. AMD causes no pain.',\n",
       "   'Wet AMD occurs when abnormal blood vessels behind the retina start to grow under the macula. With wet AMD, loss of central vision can occur quickly. Wet AMD is considered to be advanced AMD and is more severe than the dry form.',\n",
       "   'Dry AMD occurs when the light-sensitive cells in the macula slowly break down, gradually blurring central vision in the affected eye. As dry AMD gets worse, you may see a blurred spot in the center of your vision. Over time, as less of the macula functions, central vision in the affected eye can be lost. If you have vision loss from dry AMD in one eye only, you may not notice any changes in your overall vision. With the other eye seeing clearly, you can still drive, read, and see fine details. You may notice changes in your vision only if AMD affects both eyes. If you experience blurry vision, see an eye care professional for a comprehensive dilated eye exam.',\n",
       "   'Dry AMD has three stages -- early AMD, intermediate AMD, and advanced dry AMD. All of these may occur in one or both eyes. People with early dry AMD have either several small drusen or a few medium-sized drusen. Drusen are yellow deposits under the retina which often are found in people over age 50. People with early AMD have no symptoms and no vision loss. People with intermediate dry AMD have either many medium-sized drusen or one or more large drusen. Some people see a blurred spot in the center of their vision. More light may be needed for reading and other tasks. In addition to drusen, people with advanced dry AMD have a breakdown of light-sensitive cells and supporting tissue in the macula. This breakdown can cause a blurred spot in the center of your vision. Over time, the blurred spot may get bigger and darker, taking more of your central vision. You may have difficulty reading or recognizing faces until they are very close to you.',\n",
       "   'Drusen are yellow deposits under the retina. They often are found in people over age 50. Your eye care professional can detect drusen during a comprehensive dilated eye exam.',\n",
       "   \"The AREDS formulation is a combination of antioxidants and zinc that is named for a study conducted by The National Eye Institute called the Age-Related Eye Disease Study, or AREDS. This study found that taking a specific high-dose formulation of antioxidants and zinc significantly reduced the risk of advanced AMD and its associated vision loss. Slowing AMD's progression from the intermediate stage to the advanced stage will save many people's vision.\",\n",
       "   'The daily amounts used by the study researchers were 500 milligrams of vitamin C, 400 International Units of vitamin E, 15 milligrams of beta-carotene, 80 milligrams of zinc as zinc oxide, and 2 milligrams of copper as cupric oxide. Copper was added to the AREDS formulation containing zinc to prevent copper deficiency anemia, a condition associated with high levels of zinc intake.',\n",
       "   'National Eye Institute  National Institutes of Health  2020 Vision Place  Bethesda, MD 20892-3655  301-496-5248  E-mail: 2020@nei.nih.gov  www.nei.nih.gov Association for Macular Diseases  210 East 64th Street, 8th Floor  New York, NY 10021-7471  212-605-3719 Foundation Fighting Blindness  Executive Plaza 1, Suite 800  11435 Cronhill Drive  Owings Mill, MD 21117-2220  1-888-394-3937  410-785-1414 Macular Degeneration Partnership  6222 Wilshire Boulevard, Suite 260  Los Angeles, CA 90048  1-888-430-9898  310-623-4466  www.amd.org'],\n",
       "  [2, 2, 2, 2, 2, 2, 2, 2, 2],\n",
       "  [0, 0, 0, 0, 0, 0, 0, 0, 0]],\n",
       " ['how to prevent age-related macular degeneration ?',\n",
       "  ['Risk Increases With Age AMD is most common in older people, but it can occur during middle age. The risk increases with age. Other Risk Factors Other risk factors include - Smoking  - Obesity  - Race. Whites are much more likely to lose vision from AMD than African-Americans.  - Family history. People with a family history of AMD are at higher risk of getting the disease.  - Gender. Women appear to be at greater risk than men. Smoking Obesity Race. Whites are much more likely to lose vision from AMD than African-Americans. Family history. People with a family history of AMD are at higher risk of getting the disease. Gender. Women appear to be at greater risk than men.',\n",
       "   'AMD is most common in older people, but it can occur during middle age. The risk increases with age. Other risk factors include smoking, obesity, white race, family history of AMD, and female gender.'],\n",
       "  [2, 2],\n",
       "  [0, 0]],\n",
       " ['how to prevent age-related macular degeneration ?',\n",
       "  ['AMD is detected during a comprehensive eye exam that includes a visual acuity test, a dilated eye exam, and tonometry. Tests for AMD - The visual acuity test is an eye chart test that measures how well you see at various distances.  - In the dilated eye exam, drops are placed in your eyes to widen, or dilate, the pupils. Then, your eye care professional uses a special magnifying lens to examine your retina and optic nerve for signs of AMD and other eye problems. After the exam, your close-up vision may remain blurred for several hours.  - With tonometry, an instrument measures the pressure inside the eye. Numbing drops may be applied to your eye for this test. The visual acuity test is an eye chart test that measures how well you see at various distances. In the dilated eye exam, drops are placed in your eyes to widen, or dilate, the pupils. Then, your eye care professional uses a special magnifying lens to examine your retina and optic nerve for signs of AMD and other eye problems. After the exam, your close-up vision may remain blurred for several hours. With tonometry, an instrument measures the pressure inside the eye. Numbing drops may be applied to your eye for this test. Your eye care professional also may do other tests to learn more about the structure and health of your eye. The Amsler Grid During an eye exam, you may be asked to look at an Amsler grid, shown here. You will cover one eye and stare at a black dot in the center of the grid. While staring at the dot, you may notice that the straight lines in the pattern appear wavy. You may notice that some of the lines are missing. These may be signs of AMD. Because dry AMD can turn into wet AMD at any time, you should get an Amsler grid from your eye care professional. You could then use the grid every day to evaluate your vision for signs of wet AMD. The Fluorescein Angiogram Test If your eye care professional believes you need treatment for wet AMD, he or she may suggest a fluorescein angiogram. In this test, a special dye is injected into your arm. Pictures are taken as the dye passes through the blood vessels in your eye. The test allows your eye care professional to identify any leaking blood vessels and recommend treatment.',\n",
       "   'An early symptom of wet AMD is that straight lines appear wavy. If you notice this condition or other changes to your vision, contact your eye care professional at once. You need a comprehensive dilated eye exam.',\n",
       "   'The most common symptom of dry AMD is slightly blurred vision. You may have difficulty recognizing faces. You may need more light for reading and other tasks. Dry AMD generally affects both eyes, but vision can be lost in one eye while the other eye seems unaffected. One of the most common early signs of dry AMD is drusen. Drusen are yellow deposits under the retina. They often are found in people over age 50. Your eye care professional can detect drusen during a comprehensive dilated eye exam.'],\n",
       "  [2, 2, 2],\n",
       "  [0, 0, 0]],\n",
       " ['how to prevent age-related macular degeneration ?',\n",
       "  [\"If You Have Advanced AMD Once dry AMD reaches the advanced stage, no form of treatment can prevent vision loss. However, treatment can delay and possibly prevent intermediate AMD from progressing to the advanced stage. The National Eye Institute's Age-Related Eye Disease Study found that taking certain vitamins and minerals may reduce the risk of developing advanced AMD. Wet AMD can be treated with laser surgery, photodynamic therapy, and injections into the eye. None of these treatments is a cure for wet AMD. The disease and loss of vision may progress despite treatment. Laser Surgery Laser surgery uses a laser to destroy the fragile, leaky blood vessels. Only a small percentage of people with wet AMD can be treated with laser surgery. Laser surgery is performed in a doctor's office or eye clinic. The risk of new blood vessels developing after laser treatment is high. Repeated treatments may be necessary. In some cases, vision loss may progress despite repeated treatments. Photodynamic Therapy With photodynamic therapy, a drug called verteporfin is injected into your arm. It travels throughout the body, including the new blood vessels in your eye. The drug tends to stick to the surface of new blood vessels. Next, the doctor shines a light into your eye for about 90 seconds. The light activates the drug. The activated drug destroys the new blood vessels and leads to a slower rate of vision decline. Unlike laser surgery, verteporfin does not destroy surrounding healthy tissue. Because the drug is activated by light, you must avoid exposing your skin or eyes to direct sunlight or bright indoor light for five days after treatment. Photodynamic therapy is relatively painless. It takes about 20 minutes and can be performed in a doctor's office. Photodynamic therapy slows the rate of vision loss. It does not stop vision loss or restore vision in eyes already damaged by advanced AMD. Treatment results often are temporary. You may need to be treated again. Drug Treatment for Wet AMD Wet AMD can now be treated with new drugs that are injected into the eye (anti-VEGF therapy). Abnormally high levels of a specific growth factor occur in eyes with wet AMD and promote the growth of abnormal new blood vessels. This drug treatment blocks the effects of the growth factor. You will need multiple injections that may be given as often as monthly. The eye is numbed before each injection. After the injection, you will remain in the doctor's office for a while and your eye will be monitored. This drug treatment can help slow down vision loss from AMD and in some cases improve sight.  If You Have Low Vision    If you have lost some sight from AMD, ask your eye care professional about low vision services and devices that may help you make the most of your remaining vision. Many community organizations and agencies offer information about low vision counseling and training and other special services for people with visual impairments. Research on AMD The National Eye Institute is conducting and supporting a number of studies to learn more about AMD. For example, scientists are - studying the possibility of transplanting healthy cells into a diseased retina  - evaluating families with a history of AMD to understand genetic and hereditary factors that may cause the disease  - looking at certain anti-inflammatory treatments for the wet form of AMD studying the possibility of transplanting healthy cells into a diseased retina evaluating families with a history of AMD to understand genetic and hereditary factors that may cause the disease looking at certain anti-inflammatory treatments for the wet form of AMD This research should provide better ways to detect, treat, and prevent vision loss in people with AMD.\",\n",
       "   'Once dry AMD reaches the advanced stage, no form of treatment can prevent vision loss. However, treatment can delay and possibly prevent intermediate AMD from progressing to the advanced stage, in which vision loss occurs.',\n",
       "   'Wet AMD can be treated with laser surgery, photodynamic therapy, and drugs that are injected into the eye. None of these treatments is a cure for wet AMD. The disease and loss of vision may progress despite treatment.'],\n",
       "  [2, 2, 2],\n",
       "  [0, 0, 0]],\n",
       " ['how to prevent age-related macular degeneration ?',\n",
       "  [\"Drusen alone do not usually cause vision loss. In fact, scientists are unclear about the connection between drusen and AMD. They do know that an increase in the size or number of drusen raises a person's risk of developing either advanced dry AMD or wet AMD. These changes can cause serious vision loss.\"],\n",
       "  [2],\n",
       "  [0]],\n",
       " ['how to prevent age-related macular degeneration ?',\n",
       "  ['The National Eye Institute scientists are - studying the possibility of transplanting healthy cells into a diseased retina   - evaluating families with a history of AMD to understand genetic and hereditary factors that may cause the disease  - looking at certain anti-inflammatory treatments for the wet form of AMD. studying the possibility of transplanting healthy cells into a diseased retina evaluating families with a history of AMD to understand genetic and hereditary factors that may cause the disease looking at certain anti-inflammatory treatments for the wet form of AMD. This research should provide better ways to detect, treat, and prevent vision loss in people with AMD.'],\n",
       "  [2],\n",
       "  [0]],\n",
       " ['what research (or clinical trials) is being done for age-related macular degeneration ?',\n",
       "  ['The National Eye Institute scientists are - studying the possibility of transplanting healthy cells into a diseased retina   - evaluating families with a history of AMD to understand genetic and hereditary factors that may cause the disease  - looking at certain anti-inflammatory treatments for the wet form of AMD. studying the possibility of transplanting healthy cells into a diseased retina evaluating families with a history of AMD to understand genetic and hereditary factors that may cause the disease looking at certain anti-inflammatory treatments for the wet form of AMD. This research should provide better ways to detect, treat, and prevent vision loss in people with AMD.'],\n",
       "  [1],\n",
       "  [1]],\n",
       " ['what research (or clinical trials) is being done for age-related macular degeneration ?',\n",
       "  ['Age-related macular degeneration, also known as AMD, is an eye disease that affects the macula, a part of the retina. The retina sends light from the eye to the brain, and the macula allows you to see fine detail. AMD Blurs Central Vision AMD blurs the sharp central vision you need for straight-ahead activities such as reading, sewing, and driving. AMD causes no pain. How AMD Progresses In some cases, AMD advances so slowly that people notice little change in their vision. In others, the disease progresses faster and may lead to a loss of vision in both eyes. AMD is a common eye condition among people age 50 and older. It is a leading cause of vision loss in older adults. Two Forms of AMD There are two forms of age-related macular degeneration -- dry and wet.',\n",
       "   'Age-related macular degeneration, or AMD, is a disease that blurs the sharp, central vision you need for straight-ahead activities such as reading, sewing, and driving. AMD affects the macula, the part of the eye that allows you to see fine detail. AMD causes no pain.',\n",
       "   'Wet AMD occurs when abnormal blood vessels behind the retina start to grow under the macula. With wet AMD, loss of central vision can occur quickly. Wet AMD is considered to be advanced AMD and is more severe than the dry form.',\n",
       "   'Dry AMD occurs when the light-sensitive cells in the macula slowly break down, gradually blurring central vision in the affected eye. As dry AMD gets worse, you may see a blurred spot in the center of your vision. Over time, as less of the macula functions, central vision in the affected eye can be lost. If you have vision loss from dry AMD in one eye only, you may not notice any changes in your overall vision. With the other eye seeing clearly, you can still drive, read, and see fine details. You may notice changes in your vision only if AMD affects both eyes. If you experience blurry vision, see an eye care professional for a comprehensive dilated eye exam.',\n",
       "   'Dry AMD has three stages -- early AMD, intermediate AMD, and advanced dry AMD. All of these may occur in one or both eyes. People with early dry AMD have either several small drusen or a few medium-sized drusen. Drusen are yellow deposits under the retina which often are found in people over age 50. People with early AMD have no symptoms and no vision loss. People with intermediate dry AMD have either many medium-sized drusen or one or more large drusen. Some people see a blurred spot in the center of their vision. More light may be needed for reading and other tasks. In addition to drusen, people with advanced dry AMD have a breakdown of light-sensitive cells and supporting tissue in the macula. This breakdown can cause a blurred spot in the center of your vision. Over time, the blurred spot may get bigger and darker, taking more of your central vision. You may have difficulty reading or recognizing faces until they are very close to you.',\n",
       "   'Drusen are yellow deposits under the retina. They often are found in people over age 50. Your eye care professional can detect drusen during a comprehensive dilated eye exam.',\n",
       "   \"The AREDS formulation is a combination of antioxidants and zinc that is named for a study conducted by The National Eye Institute called the Age-Related Eye Disease Study, or AREDS. This study found that taking a specific high-dose formulation of antioxidants and zinc significantly reduced the risk of advanced AMD and its associated vision loss. Slowing AMD's progression from the intermediate stage to the advanced stage will save many people's vision.\",\n",
       "   'The daily amounts used by the study researchers were 500 milligrams of vitamin C, 400 International Units of vitamin E, 15 milligrams of beta-carotene, 80 milligrams of zinc as zinc oxide, and 2 milligrams of copper as cupric oxide. Copper was added to the AREDS formulation containing zinc to prevent copper deficiency anemia, a condition associated with high levels of zinc intake.',\n",
       "   'National Eye Institute  National Institutes of Health  2020 Vision Place  Bethesda, MD 20892-3655  301-496-5248  E-mail: 2020@nei.nih.gov  www.nei.nih.gov Association for Macular Diseases  210 East 64th Street, 8th Floor  New York, NY 10021-7471  212-605-3719 Foundation Fighting Blindness  Executive Plaza 1, Suite 800  11435 Cronhill Drive  Owings Mill, MD 21117-2220  1-888-394-3937  410-785-1414 Macular Degeneration Partnership  6222 Wilshire Boulevard, Suite 260  Los Angeles, CA 90048  1-888-430-9898  310-623-4466  www.amd.org'],\n",
       "  [2, 2, 2, 2, 2, 2, 2, 2, 2],\n",
       "  [0, 0, 0, 0, 0, 0, 0, 0, 0]],\n",
       " ['what research (or clinical trials) is being done for age-related macular degeneration ?',\n",
       "  ['Risk Increases With Age AMD is most common in older people, but it can occur during middle age. The risk increases with age. Other Risk Factors Other risk factors include - Smoking  - Obesity  - Race. Whites are much more likely to lose vision from AMD than African-Americans.  - Family history. People with a family history of AMD are at higher risk of getting the disease.  - Gender. Women appear to be at greater risk than men. Smoking Obesity Race. Whites are much more likely to lose vision from AMD than African-Americans. Family history. People with a family history of AMD are at higher risk of getting the disease. Gender. Women appear to be at greater risk than men.',\n",
       "   'AMD is most common in older people, but it can occur during middle age. The risk increases with age. Other risk factors include smoking, obesity, white race, family history of AMD, and female gender.'],\n",
       "  [2, 2],\n",
       "  [0, 0]],\n",
       " ['what research (or clinical trials) is being done for age-related macular degeneration ?',\n",
       "  ['AMD is detected during a comprehensive eye exam that includes a visual acuity test, a dilated eye exam, and tonometry. Tests for AMD - The visual acuity test is an eye chart test that measures how well you see at various distances.  - In the dilated eye exam, drops are placed in your eyes to widen, or dilate, the pupils. Then, your eye care professional uses a special magnifying lens to examine your retina and optic nerve for signs of AMD and other eye problems. After the exam, your close-up vision may remain blurred for several hours.  - With tonometry, an instrument measures the pressure inside the eye. Numbing drops may be applied to your eye for this test. The visual acuity test is an eye chart test that measures how well you see at various distances. In the dilated eye exam, drops are placed in your eyes to widen, or dilate, the pupils. Then, your eye care professional uses a special magnifying lens to examine your retina and optic nerve for signs of AMD and other eye problems. After the exam, your close-up vision may remain blurred for several hours. With tonometry, an instrument measures the pressure inside the eye. Numbing drops may be applied to your eye for this test. Your eye care professional also may do other tests to learn more about the structure and health of your eye. The Amsler Grid During an eye exam, you may be asked to look at an Amsler grid, shown here. You will cover one eye and stare at a black dot in the center of the grid. While staring at the dot, you may notice that the straight lines in the pattern appear wavy. You may notice that some of the lines are missing. These may be signs of AMD. Because dry AMD can turn into wet AMD at any time, you should get an Amsler grid from your eye care professional. You could then use the grid every day to evaluate your vision for signs of wet AMD. The Fluorescein Angiogram Test If your eye care professional believes you need treatment for wet AMD, he or she may suggest a fluorescein angiogram. In this test, a special dye is injected into your arm. Pictures are taken as the dye passes through the blood vessels in your eye. The test allows your eye care professional to identify any leaking blood vessels and recommend treatment.',\n",
       "   'An early symptom of wet AMD is that straight lines appear wavy. If you notice this condition or other changes to your vision, contact your eye care professional at once. You need a comprehensive dilated eye exam.',\n",
       "   'The most common symptom of dry AMD is slightly blurred vision. You may have difficulty recognizing faces. You may need more light for reading and other tasks. Dry AMD generally affects both eyes, but vision can be lost in one eye while the other eye seems unaffected. One of the most common early signs of dry AMD is drusen. Drusen are yellow deposits under the retina. They often are found in people over age 50. Your eye care professional can detect drusen during a comprehensive dilated eye exam.'],\n",
       "  [2, 2, 2],\n",
       "  [0, 0, 0]],\n",
       " ['what research (or clinical trials) is being done for age-related macular degeneration ?',\n",
       "  [\"If You Have Advanced AMD Once dry AMD reaches the advanced stage, no form of treatment can prevent vision loss. However, treatment can delay and possibly prevent intermediate AMD from progressing to the advanced stage. The National Eye Institute's Age-Related Eye Disease Study found that taking certain vitamins and minerals may reduce the risk of developing advanced AMD. Wet AMD can be treated with laser surgery, photodynamic therapy, and injections into the eye. None of these treatments is a cure for wet AMD. The disease and loss of vision may progress despite treatment. Laser Surgery Laser surgery uses a laser to destroy the fragile, leaky blood vessels. Only a small percentage of people with wet AMD can be treated with laser surgery. Laser surgery is performed in a doctor's office or eye clinic. The risk of new blood vessels developing after laser treatment is high. Repeated treatments may be necessary. In some cases, vision loss may progress despite repeated treatments. Photodynamic Therapy With photodynamic therapy, a drug called verteporfin is injected into your arm. It travels throughout the body, including the new blood vessels in your eye. The drug tends to stick to the surface of new blood vessels. Next, the doctor shines a light into your eye for about 90 seconds. The light activates the drug. The activated drug destroys the new blood vessels and leads to a slower rate of vision decline. Unlike laser surgery, verteporfin does not destroy surrounding healthy tissue. Because the drug is activated by light, you must avoid exposing your skin or eyes to direct sunlight or bright indoor light for five days after treatment. Photodynamic therapy is relatively painless. It takes about 20 minutes and can be performed in a doctor's office. Photodynamic therapy slows the rate of vision loss. It does not stop vision loss or restore vision in eyes already damaged by advanced AMD. Treatment results often are temporary. You may need to be treated again. Drug Treatment for Wet AMD Wet AMD can now be treated with new drugs that are injected into the eye (anti-VEGF therapy). Abnormally high levels of a specific growth factor occur in eyes with wet AMD and promote the growth of abnormal new blood vessels. This drug treatment blocks the effects of the growth factor. You will need multiple injections that may be given as often as monthly. The eye is numbed before each injection. After the injection, you will remain in the doctor's office for a while and your eye will be monitored. This drug treatment can help slow down vision loss from AMD and in some cases improve sight.  If You Have Low Vision    If you have lost some sight from AMD, ask your eye care professional about low vision services and devices that may help you make the most of your remaining vision. Many community organizations and agencies offer information about low vision counseling and training and other special services for people with visual impairments. Research on AMD The National Eye Institute is conducting and supporting a number of studies to learn more about AMD. For example, scientists are - studying the possibility of transplanting healthy cells into a diseased retina  - evaluating families with a history of AMD to understand genetic and hereditary factors that may cause the disease  - looking at certain anti-inflammatory treatments for the wet form of AMD studying the possibility of transplanting healthy cells into a diseased retina evaluating families with a history of AMD to understand genetic and hereditary factors that may cause the disease looking at certain anti-inflammatory treatments for the wet form of AMD This research should provide better ways to detect, treat, and prevent vision loss in people with AMD.\",\n",
       "   'Once dry AMD reaches the advanced stage, no form of treatment can prevent vision loss. However, treatment can delay and possibly prevent intermediate AMD from progressing to the advanced stage, in which vision loss occurs.',\n",
       "   'Wet AMD can be treated with laser surgery, photodynamic therapy, and drugs that are injected into the eye. None of these treatments is a cure for wet AMD. The disease and loss of vision may progress despite treatment.'],\n",
       "  [2, 2, 2],\n",
       "  [0, 0, 0]],\n",
       " ['what research (or clinical trials) is being done for age-related macular degeneration ?',\n",
       "  [\"Drusen alone do not usually cause vision loss. In fact, scientists are unclear about the connection between drusen and AMD. They do know that an increase in the size or number of drusen raises a person's risk of developing either advanced dry AMD or wet AMD. These changes can cause serious vision loss.\"],\n",
       "  [2],\n",
       "  [0]],\n",
       " ['what research (or clinical trials) is being done for age-related macular degeneration ?',\n",
       "  ['There is no reason for those diagnosed with early stage AMD to take the AREDS formulation. The study did not find that the formulation helped those with early stage AMD. If you have early stage AMD, a comprehensive dilated eye exam every year can help determine if the disease is progressing. If early stage AMD progresses to the intermediate stage, discuss taking the formulation with your doctor.'],\n",
       "  [2],\n",
       "  [0]],\n",
       " ['what is (are) acanthamoeba - granulomatous amebic encephalitis (gae); keratitis ?',\n",
       "  ['Acanthamoeba is a microscopic, free-living ameba (single-celled living organism) commonly found in the environment that can cause rare, but severe, illness. Acanthamoeba causes three main types of illness involving the eye (Acanthamoeba keratitis), the brain and spinal cord (Granulomatous Encephalitis), and infections that can spread throughout the entire body (disseminated infection).'],\n",
       "  [1],\n",
       "  [1]],\n",
       " ['what is (are) acanthamoeba - granulomatous amebic encephalitis (gae); keratitis ?',\n",
       "  ['Acanthamoeba keratitis\\n  \\n   \\nAcanthamoeba keratitis is a rare disease that can affect anyone, but is most common in individuals who wear contact lenses. In the United States, an estimated 85% of cases occur in contact lens users. The incidence of the disease in developed countries is approximately one to 33 cases per million contact lens wearers.\\n   \\nFor people who wear contact lenses, certain practices can increase the risk of getting Acanthamoeba keratitis:\\n   \\n    - Storing and handling lenses improperly\\n    - Disinfecting lenses improperly (such as using tap water or topping off solutions when cleaning the lenses or lens case)\\n    - Swimming, using a hot tub, or showering while wearing lenses\\n    - Coming into contact with contaminated water\\n    - Having a history of trauma to the cornea\\n   \\n   \\nContact lens wearers who practice proper lens care and non-contact lens wearers can still develop the infection. For additional information on contact lens care and prevention of Acanthamoeba keratitis visit CDC’s web page on Prevention and Control.\\n   \\nThere have been no reports of Acanthamoeba keratitis being spread from one person to another.\\n   Granulomatous Amebic Encephalitis (GAE)\\n   \\nGranulomatous Amebic Encephalitis (GAE) and disseminated infection are very rare forms of Acanthamoeba infection and primarily affect people with compromised immune systems. While unusual, disseminated infection can also affect healthy children and adults. Conditions that may increase a patient’s risk for GAE and disseminated infection include:\\n   \\n    - AIDS\\n    - Organ/Tissue transplant\\n    - Steroids or excessive use of antibiotics\\n    - Diabetes Mellitus\\n    - Cancer\\n    - Disorders in which white blood cells in the lymphatic tissue are over-produced or abnormal\\n    - Disorders in which blood cells or blood clotting mechanisms do not function properly or are abnormal\\n    - Liver cirrhosis\\n    - Lupus'],\n",
       "  [2],\n",
       "  [0]],\n",
       " ['what is (are) acanthamoeba - granulomatous amebic encephalitis (gae); keratitis ?',\n",
       "  ['Early diagnosis is essential for effective treatment of Acanthamoeba keratitis. The infection is usually diagnosed by an eye specialist based on symptoms, growth of the ameba from a scraping of the eye, and/or seeing the ameba by a process called confocal microscopy.\\n    \\nGranulomatous Amebic Encephalitis (GAE) and disseminated infection are more difficult to diagnose and are often at advanced stages when they are diagnosed. Tests useful in the diagnosis of GAE include brain scans, biopsies, or spinal taps. In disseminated disease, biopsy of the involved sites (e.g. , skin, sinuses) can be useful in diagnosis.'],\n",
       "  [2],\n",
       "  [0]],\n",
       " ['what is (are) acanthamoeba - granulomatous amebic encephalitis (gae); keratitis ?',\n",
       "  ['Early diagnosis is essential for effective treatment of Acanthamoeba keratitis. Several prescription eye medications are available for treatment. However, the infection can be difficult to treat. The best treatment regimen for each patient should be determined by an eye doctor. If you suspect your eye may be infected with Acanthamoeba, see an eye doctor immediately.\\n    \\nSkin infections that are caused by Acanthamoeba but have not spread to the central nervous system can be successfully treated. Because this is a serious infection and the people affected typically have weakened immune systems, early diagnosis offers the best chance at cure.\\n    \\nMost cases of brain and spinal cord infection with Acanthamoeba (Granulomatous Amebic Encephalitis) are fatal.'],\n",
       "  [2],\n",
       "  [0]],\n",
       " ['what is (are) acanthamoeba - granulomatous amebic encephalitis (gae); keratitis ?',\n",
       "  ['Topics'],\n",
       "  [2],\n",
       "  [0]],\n",
       " ['who is at risk for acanthamoeba - granulomatous amebic encephalitis (gae); keratitis? ?',\n",
       "  ['Acanthamoeba keratitis\\n  \\n   \\nAcanthamoeba keratitis is a rare disease that can affect anyone, but is most common in individuals who wear contact lenses. In the United States, an estimated 85% of cases occur in contact lens users. The incidence of the disease in developed countries is approximately one to 33 cases per million contact lens wearers.\\n   \\nFor people who wear contact lenses, certain practices can increase the risk of getting Acanthamoeba keratitis:\\n   \\n    - Storing and handling lenses improperly\\n    - Disinfecting lenses improperly (such as using tap water or topping off solutions when cleaning the lenses or lens case)\\n    - Swimming, using a hot tub, or showering while wearing lenses\\n    - Coming into contact with contaminated water\\n    - Having a history of trauma to the cornea\\n   \\n   \\nContact lens wearers who practice proper lens care and non-contact lens wearers can still develop the infection. For additional information on contact lens care and prevention of Acanthamoeba keratitis visit CDC’s web page on Prevention and Control.\\n   \\nThere have been no reports of Acanthamoeba keratitis being spread from one person to another.\\n   Granulomatous Amebic Encephalitis (GAE)\\n   \\nGranulomatous Amebic Encephalitis (GAE) and disseminated infection are very rare forms of Acanthamoeba infection and primarily affect people with compromised immune systems. While unusual, disseminated infection can also affect healthy children and adults. Conditions that may increase a patient’s risk for GAE and disseminated infection include:\\n   \\n    - AIDS\\n    - Organ/Tissue transplant\\n    - Steroids or excessive use of antibiotics\\n    - Diabetes Mellitus\\n    - Cancer\\n    - Disorders in which white blood cells in the lymphatic tissue are over-produced or abnormal\\n    - Disorders in which blood cells or blood clotting mechanisms do not function properly or are abnormal\\n    - Liver cirrhosis\\n    - Lupus'],\n",
       "  [1],\n",
       "  [1]],\n",
       " ['who is at risk for acanthamoeba - granulomatous amebic encephalitis (gae); keratitis? ?',\n",
       "  ['Acanthamoeba is a microscopic, free-living ameba (single-celled living organism) commonly found in the environment that can cause rare, but severe, illness. Acanthamoeba causes three main types of illness involving the eye (Acanthamoeba keratitis), the brain and spinal cord (Granulomatous Encephalitis), and infections that can spread throughout the entire body (disseminated infection).'],\n",
       "  [2],\n",
       "  [0]],\n",
       " ['who is at risk for acanthamoeba - granulomatous amebic encephalitis (gae); keratitis? ?',\n",
       "  ['Early diagnosis is essential for effective treatment of Acanthamoeba keratitis. The infection is usually diagnosed by an eye specialist based on symptoms, growth of the ameba from a scraping of the eye, and/or seeing the ameba by a process called confocal microscopy.\\n    \\nGranulomatous Amebic Encephalitis (GAE) and disseminated infection are more difficult to diagnose and are often at advanced stages when they are diagnosed. Tests useful in the diagnosis of GAE include brain scans, biopsies, or spinal taps. In disseminated disease, biopsy of the involved sites (e.g. , skin, sinuses) can be useful in diagnosis.'],\n",
       "  [2],\n",
       "  [0]],\n",
       " ['who is at risk for acanthamoeba - granulomatous amebic encephalitis (gae); keratitis? ?',\n",
       "  ['Early diagnosis is essential for effective treatment of Acanthamoeba keratitis. Several prescription eye medications are available for treatment. However, the infection can be difficult to treat. The best treatment regimen for each patient should be determined by an eye doctor. If you suspect your eye may be infected with Acanthamoeba, see an eye doctor immediately.\\n    \\nSkin infections that are caused by Acanthamoeba but have not spread to the central nervous system can be successfully treated. Because this is a serious infection and the people affected typically have weakened immune systems, early diagnosis offers the best chance at cure.\\n    \\nMost cases of brain and spinal cord infection with Acanthamoeba (Granulomatous Amebic Encephalitis) are fatal.'],\n",
       "  [2],\n",
       "  [0]],\n",
       " ['who is at risk for acanthamoeba - granulomatous amebic encephalitis (gae); keratitis? ?',\n",
       "  ['Topics'],\n",
       "  [2],\n",
       "  [0]],\n",
       " ['how to diagnose acanthamoeba - granulomatous amebic encephalitis (gae); keratitis ?',\n",
       "  ['Early diagnosis is essential for effective treatment of Acanthamoeba keratitis. The infection is usually diagnosed by an eye specialist based on symptoms, growth of the ameba from a scraping of the eye, and/or seeing the ameba by a process called confocal microscopy.\\n    \\nGranulomatous Amebic Encephalitis (GAE) and disseminated infection are more difficult to diagnose and are often at advanced stages when they are diagnosed. Tests useful in the diagnosis of GAE include brain scans, biopsies, or spinal taps. In disseminated disease, biopsy of the involved sites (e.g. , skin, sinuses) can be useful in diagnosis.'],\n",
       "  [1],\n",
       "  [1]],\n",
       " ['how to diagnose acanthamoeba - granulomatous amebic encephalitis (gae); keratitis ?',\n",
       "  ['Acanthamoeba is a microscopic, free-living ameba (single-celled living organism) commonly found in the environment that can cause rare, but severe, illness. Acanthamoeba causes three main types of illness involving the eye (Acanthamoeba keratitis), the brain and spinal cord (Granulomatous Encephalitis), and infections that can spread throughout the entire body (disseminated infection).'],\n",
       "  [2],\n",
       "  [0]],\n",
       " ['how to diagnose acanthamoeba - granulomatous amebic encephalitis (gae); keratitis ?',\n",
       "  ['Acanthamoeba keratitis\\n  \\n   \\nAcanthamoeba keratitis is a rare disease that can affect anyone, but is most common in individuals who wear contact lenses. In the United States, an estimated 85% of cases occur in contact lens users. The incidence of the disease in developed countries is approximately one to 33 cases per million contact lens wearers.\\n   \\nFor people who wear contact lenses, certain practices can increase the risk of getting Acanthamoeba keratitis:\\n   \\n    - Storing and handling lenses improperly\\n    - Disinfecting lenses improperly (such as using tap water or topping off solutions when cleaning the lenses or lens case)\\n    - Swimming, using a hot tub, or showering while wearing lenses\\n    - Coming into contact with contaminated water\\n    - Having a history of trauma to the cornea\\n   \\n   \\nContact lens wearers who practice proper lens care and non-contact lens wearers can still develop the infection. For additional information on contact lens care and prevention of Acanthamoeba keratitis visit CDC’s web page on Prevention and Control.\\n   \\nThere have been no reports of Acanthamoeba keratitis being spread from one person to another.\\n   Granulomatous Amebic Encephalitis (GAE)\\n   \\nGranulomatous Amebic Encephalitis (GAE) and disseminated infection are very rare forms of Acanthamoeba infection and primarily affect people with compromised immune systems. While unusual, disseminated infection can also affect healthy children and adults. Conditions that may increase a patient’s risk for GAE and disseminated infection include:\\n   \\n    - AIDS\\n    - Organ/Tissue transplant\\n    - Steroids or excessive use of antibiotics\\n    - Diabetes Mellitus\\n    - Cancer\\n    - Disorders in which white blood cells in the lymphatic tissue are over-produced or abnormal\\n    - Disorders in which blood cells or blood clotting mechanisms do not function properly or are abnormal\\n    - Liver cirrhosis\\n    - Lupus'],\n",
       "  [2],\n",
       "  [0]],\n",
       " ['how to diagnose acanthamoeba - granulomatous amebic encephalitis (gae); keratitis ?',\n",
       "  ['Early diagnosis is essential for effective treatment of Acanthamoeba keratitis. Several prescription eye medications are available for treatment. However, the infection can be difficult to treat. The best treatment regimen for each patient should be determined by an eye doctor. If you suspect your eye may be infected with Acanthamoeba, see an eye doctor immediately.\\n    \\nSkin infections that are caused by Acanthamoeba but have not spread to the central nervous system can be successfully treated. Because this is a serious infection and the people affected typically have weakened immune systems, early diagnosis offers the best chance at cure.\\n    \\nMost cases of brain and spinal cord infection with Acanthamoeba (Granulomatous Amebic Encephalitis) are fatal.'],\n",
       "  [2],\n",
       "  [0]],\n",
       " ['how to diagnose acanthamoeba - granulomatous amebic encephalitis (gae); keratitis ?',\n",
       "  ['Topics'],\n",
       "  [2],\n",
       "  [0]],\n",
       " ['what are the treatments for acanthamoeba - granulomatous amebic encephalitis (gae); keratitis ?',\n",
       "  ['Early diagnosis is essential for effective treatment of Acanthamoeba keratitis. Several prescription eye medications are available for treatment. However, the infection can be difficult to treat. The best treatment regimen for each patient should be determined by an eye doctor. If you suspect your eye may be infected with Acanthamoeba, see an eye doctor immediately.\\n    \\nSkin infections that are caused by Acanthamoeba but have not spread to the central nervous system can be successfully treated. Because this is a serious infection and the people affected typically have weakened immune systems, early diagnosis offers the best chance at cure.\\n    \\nMost cases of brain and spinal cord infection with Acanthamoeba (Granulomatous Amebic Encephalitis) are fatal.'],\n",
       "  [1],\n",
       "  [1]],\n",
       " ['what are the treatments for acanthamoeba - granulomatous amebic encephalitis (gae); keratitis ?',\n",
       "  ['Acanthamoeba is a microscopic, free-living ameba (single-celled living organism) commonly found in the environment that can cause rare, but severe, illness. Acanthamoeba causes three main types of illness involving the eye (Acanthamoeba keratitis), the brain and spinal cord (Granulomatous Encephalitis), and infections that can spread throughout the entire body (disseminated infection).'],\n",
       "  [2],\n",
       "  [0]],\n",
       " ['what are the treatments for acanthamoeba - granulomatous amebic encephalitis (gae); keratitis ?',\n",
       "  ['Acanthamoeba keratitis\\n  \\n   \\nAcanthamoeba keratitis is a rare disease that can affect anyone, but is most common in individuals who wear contact lenses. In the United States, an estimated 85% of cases occur in contact lens users. The incidence of the disease in developed countries is approximately one to 33 cases per million contact lens wearers.\\n   \\nFor people who wear contact lenses, certain practices can increase the risk of getting Acanthamoeba keratitis:\\n   \\n    - Storing and handling lenses improperly\\n    - Disinfecting lenses improperly (such as using tap water or topping off solutions when cleaning the lenses or lens case)\\n    - Swimming, using a hot tub, or showering while wearing lenses\\n    - Coming into contact with contaminated water\\n    - Having a history of trauma to the cornea\\n   \\n   \\nContact lens wearers who practice proper lens care and non-contact lens wearers can still develop the infection. For additional information on contact lens care and prevention of Acanthamoeba keratitis visit CDC’s web page on Prevention and Control.\\n   \\nThere have been no reports of Acanthamoeba keratitis being spread from one person to another.\\n   Granulomatous Amebic Encephalitis (GAE)\\n   \\nGranulomatous Amebic Encephalitis (GAE) and disseminated infection are very rare forms of Acanthamoeba infection and primarily affect people with compromised immune systems. While unusual, disseminated infection can also affect healthy children and adults. Conditions that may increase a patient’s risk for GAE and disseminated infection include:\\n   \\n    - AIDS\\n    - Organ/Tissue transplant\\n    - Steroids or excessive use of antibiotics\\n    - Diabetes Mellitus\\n    - Cancer\\n    - Disorders in which white blood cells in the lymphatic tissue are over-produced or abnormal\\n    - Disorders in which blood cells or blood clotting mechanisms do not function properly or are abnormal\\n    - Liver cirrhosis\\n    - Lupus'],\n",
       "  [2],\n",
       "  [0]],\n",
       " ['what are the treatments for acanthamoeba - granulomatous amebic encephalitis (gae); keratitis ?',\n",
       "  ['Early diagnosis is essential for effective treatment of Acanthamoeba keratitis. The infection is usually diagnosed by an eye specialist based on symptoms, growth of the ameba from a scraping of the eye, and/or seeing the ameba by a process called confocal microscopy.\\n    \\nGranulomatous Amebic Encephalitis (GAE) and disseminated infection are more difficult to diagnose and are often at advanced stages when they are diagnosed. Tests useful in the diagnosis of GAE include brain scans, biopsies, or spinal taps. In disseminated disease, biopsy of the involved sites (e.g. , skin, sinuses) can be useful in diagnosis.'],\n",
       "  [2],\n",
       "  [0]],\n",
       " ['what are the treatments for acanthamoeba - granulomatous amebic encephalitis (gae); keratitis ?',\n",
       "  ['Topics'],\n",
       "  [2],\n",
       "  [0]],\n",
       " ['how to prevent acanthamoeba - granulomatous amebic encephalitis (gae); keratitis ?',\n",
       "  ['Topics'],\n",
       "  [1],\n",
       "  [1]],\n",
       " ['how to prevent acanthamoeba - granulomatous amebic encephalitis (gae); keratitis ?',\n",
       "  ['Acanthamoeba is a microscopic, free-living ameba (single-celled living organism) commonly found in the environment that can cause rare, but severe, illness. Acanthamoeba causes three main types of illness involving the eye (Acanthamoeba keratitis), the brain and spinal cord (Granulomatous Encephalitis), and infections that can spread throughout the entire body (disseminated infection).'],\n",
       "  [2],\n",
       "  [0]],\n",
       " ['how to prevent acanthamoeba - granulomatous amebic encephalitis (gae); keratitis ?',\n",
       "  ['Acanthamoeba keratitis\\n  \\n   \\nAcanthamoeba keratitis is a rare disease that can affect anyone, but is most common in individuals who wear contact lenses. In the United States, an estimated 85% of cases occur in contact lens users. The incidence of the disease in developed countries is approximately one to 33 cases per million contact lens wearers.\\n   \\nFor people who wear contact lenses, certain practices can increase the risk of getting Acanthamoeba keratitis:\\n   \\n    - Storing and handling lenses improperly\\n    - Disinfecting lenses improperly (such as using tap water or topping off solutions when cleaning the lenses or lens case)\\n    - Swimming, using a hot tub, or showering while wearing lenses\\n    - Coming into contact with contaminated water\\n    - Having a history of trauma to the cornea\\n   \\n   \\nContact lens wearers who practice proper lens care and non-contact lens wearers can still develop the infection. For additional information on contact lens care and prevention of Acanthamoeba keratitis visit CDC’s web page on Prevention and Control.\\n   \\nThere have been no reports of Acanthamoeba keratitis being spread from one person to another.\\n   Granulomatous Amebic Encephalitis (GAE)\\n   \\nGranulomatous Amebic Encephalitis (GAE) and disseminated infection are very rare forms of Acanthamoeba infection and primarily affect people with compromised immune systems. While unusual, disseminated infection can also affect healthy children and adults. Conditions that may increase a patient’s risk for GAE and disseminated infection include:\\n   \\n    - AIDS\\n    - Organ/Tissue transplant\\n    - Steroids or excessive use of antibiotics\\n    - Diabetes Mellitus\\n    - Cancer\\n    - Disorders in which white blood cells in the lymphatic tissue are over-produced or abnormal\\n    - Disorders in which blood cells or blood clotting mechanisms do not function properly or are abnormal\\n    - Liver cirrhosis\\n    - Lupus'],\n",
       "  [2],\n",
       "  [0]],\n",
       " ['how to prevent acanthamoeba - granulomatous amebic encephalitis (gae); keratitis ?',\n",
       "  ['Early diagnosis is essential for effective treatment of Acanthamoeba keratitis. The infection is usually diagnosed by an eye specialist based on symptoms, growth of the ameba from a scraping of the eye, and/or seeing the ameba by a process called confocal microscopy.\\n    \\nGranulomatous Amebic Encephalitis (GAE) and disseminated infection are more difficult to diagnose and are often at advanced stages when they are diagnosed. Tests useful in the diagnosis of GAE include brain scans, biopsies, or spinal taps. In disseminated disease, biopsy of the involved sites (e.g. , skin, sinuses) can be useful in diagnosis.'],\n",
       "  [2],\n",
       "  [0]],\n",
       " ['how to prevent acanthamoeba - granulomatous amebic encephalitis (gae); keratitis ?',\n",
       "  ['Early diagnosis is essential for effective treatment of Acanthamoeba keratitis. Several prescription eye medications are available for treatment. However, the infection can be difficult to treat. The best treatment regimen for each patient should be determined by an eye doctor. If you suspect your eye may be infected with Acanthamoeba, see an eye doctor immediately.\\n    \\nSkin infections that are caused by Acanthamoeba but have not spread to the central nervous system can be successfully treated. Because this is a serious infection and the people affected typically have weakened immune systems, early diagnosis offers the best chance at cure.\\n    \\nMost cases of brain and spinal cord infection with Acanthamoeba (Granulomatous Amebic Encephalitis) are fatal.'],\n",
       "  [2],\n",
       "  [0]]]"
      ]
     },
     "execution_count": 33,
     "metadata": {},
     "output_type": "execute_result"
    }
   ],
   "source": [
    "i = 0\n",
    "indx2id = []\n",
    "QA, QA2 = [], []  # QA2 has also system ranks from ChiQA\n",
    "for filename in os.listdir(PATH_EXTRA + '/'):\n",
    "    # i += 1\n",
    "    if any(s in filename for s in ('CDC', 'SeniorHealth',)):\n",
    "        print(filename)\n",
    "        dirname = PATH_EXTRA + '/' + filename\n",
    "        for file in os.listdir(dirname):\n",
    "            fullname = dirname + '/' + file\n",
    "            print(fullname)\n",
    "            tree = parse(fullname)\n",
    "            questions = tree.getElementsByTagName('QAPair')\n",
    "            Q, QT, T, A = [], [], [], []\n",
    "            QTypes = {}\n",
    "            for question in questions:\n",
    "                qelem = question.getElementsByTagName('Question')\n",
    "                q, qid = preprocess_text(qelem[0].firstChild.nodeValue), question.getAttribute('qid')\n",
    "                qtype = qelem[0].getAttribute('qtype')\n",
    "                \n",
    "                a = question.getElementsByTagName('Answer')[0].firstChild.nodeValue\n",
    "                # print(q, qtype, a) # --> questions\n",
    "                if qtype not in QTypes:\n",
    "                    QTypes[qtype] = {'q': q, 'a': [a]}\n",
    "                else:\n",
    "                    QTypes[qtype]['a'].append(a)\n",
    "                Q.append(q); QT.append(q + qtype)\n",
    "\n",
    "            assert len(set(Q)) == len(set(QT)), 'Error'\n",
    "            for qtype in QTypes:\n",
    "                q = QTypes[qtype]['q']\n",
    "                # positive examples\n",
    "                ans = QTypes[qtype]['a']\n",
    "                QA.append([q,ans, [1]*len(ans), [1]*len(ans)])\n",
    "                # negative examples\n",
    "                for qtype_other in QTypes:\n",
    "                    if qtype_other != qtype:\n",
    "                        ans_wrong = QTypes[qtype_other]['a']\n",
    "                        QA.append([q,ans_wrong, \n",
    "                                   [int(len(ans))+1]*len(ans_wrong), \n",
    "                                   [0]*len(ans_wrong)])\n",
    "            break\n",
    "print(i)\n",
    "print(len(QA))\n",
    "QA"
   ]
  },
  {
   "cell_type": "code",
   "execution_count": 4,
   "metadata": {
    "colab": {
     "base_uri": "https://localhost:8080/"
    },
    "id": "JCn1BpQpTOBw",
    "outputId": "4175c239-9b35-4ca0-c7ed-5038f899a019",
    "pycharm": {
     "is_executing": false
    }
   },
   "outputs": [
    {
     "name": "stdout",
     "text": [
      "MEDIQA2019-Task3-QA-TestSet-wLabels.xml\nTask3_README.txt\nMEDIQA2019-Task3-QA-ValidationSet.xml\n.Rapp.history\nMEDIQA2019-Task3-QA-TestSet.xml\nMEDIQA2019-Task3-QA-TrainingSet2-Alexa.xml\nMEDIQA2019-Task3-QA-TrainingSet1-LiveQAMed.xml\n",
      "208\n208\n"
     ],
     "output_type": "stream"
    }
   ],
   "source": [
    "# Make an array of tuples that for each question contains the retrieved answers ranking and labels. \n",
    "i = 0\n",
    "indx2id = []\n",
    "QA, QA2 = [], []  # QA2 has also system ranks from ChiQA\n",
    "for filename in os.listdir(PATH + '/'):\n",
    "    #i += 1\n",
    "    print(filename)\n",
    "    if not filename.endswith('.xml') or 'Training' not in filename: continue\n",
    "    fullname = os.path.join('data/Train', filename)\n",
    "    tree = parse(PATH + '/' + filename)\n",
    "    questions = tree.getElementsByTagName('Question')\n",
    "    for question in questions:\n",
    "        qelem = question.getElementsByTagName('QuestionText')\n",
    "        q, qid = preprocess_text(qelem[0].firstChild.nodeValue), question.getAttribute('QID')\n",
    "        # print(q) # --> questions\n",
    "        answers = question.getElementsByTagName('Answer')\n",
    "        answers_list, rank, system, labels = get_answers(answers)\n",
    "        QA.append([q,answers_list, rank, labels])\n",
    "        QA2.append([q,answers_list, rank, system, labels])\n",
    "        indx2id.append(qid); i+=1;\n",
    "        # break\n",
    "print(i)\n",
    "print(len(QA))"
   ]
  },
  {
   "cell_type": "markdown",
   "metadata": {
    "id": "ahRCulfbzw_r"
   },
   "source": [
    "QA is an array of tuples <Question, [Answers], [Ranking], [Labels] >. In the next section we will display an example: "
   ]
  },
  {
   "cell_type": "code",
   "execution_count": 6,
   "outputs": [
    {
     "data": {
      "text/plain": "['ischemic syncope stroke diagonses. define?',\n ['syncope: syncope is a medical term used to describe a temporary loss of consciousness due to the sudden decline of blood flow to the brain. syncope is commonly called fainting or “passing out.” if an individual is about to faint, he or she will feel dizzy, lightheaded, or nauseous and their field of vision may “white out” or “black out.”  the skin may be cold and clammy.  the person drops to the floor as he or she loses consciousness.  after fainting, an individual may be unconscious for a minute or two, but will revive and slowly return to normal.  syncope can occur in otherwise healthy people and affects all age groups, but occurs more often in the elderly.  there are several types of syncope.  vasovagal syncope usually has an easily identified triggering event such as emotional stress, trauma, pain, the sight of blood, or prolonged standing.  carotid sinus syncope happens because of constriction of the carotid artery in the neck and can occur after turning the head, while shaving, or when wearing a tight collar.  situational syncope happens during urination, defecation, coughing, or as a result of gastrointestinal stimulation.  syncope can also be a symptom of heart disease or abnormalities that create an uneven heart rate or rhythm that temporarily affect blood volume and its distribution in the body.  syncope isn’t normally a primary sign of a neurological disorder, but it may indicate an increased risk for neurologic disorders such as parkinson’s disease, postural orthostatic tachycardia syndrome (pots), diabetic neuropathy, and other types of neuropathy.  certain classes of drugs are associated with an increased risk of syncope, including diuretics, calcium antagonists, ace inhibitors, nitrates, antipsychotics, antihistamines, levodopa, narcotics, and alcohol. the immediate treatment for an individual who has fainted involves checking first to see if their airway is open and they are breathing.  the person should remain lying down for at least 10-15 minutes, preferably in a cool and quiet space.  if this isn’t possible, have the individual sit forward and lower their head below their shoulders and between their knees.  ice or cold water in a cup is refreshing.  for individuals who have problems with chronic fainting spells, therapy should focus on recognizing the triggers and learning techniques to keep from fainting.   at the appearance of warning signs such as lightheadedness, nausea, or cold and clammy skin, counter-pressure maneuvers that involve gripping fingers into a fist, tensing the arms, and crossing the legs or squeezing the thighs together can be used to ward off a fainting spell.  if fainting spells occur often without a triggering event, syncope may be a sign of an underlying heart disease. syncope is a dramatic event and can be life-threatening if not treated properly. generally, however, people recover completely within minutes to hours.  if syncope is symptomatic of an underlying condition, then the prognosis will reflect the course of the disorder.',\n  'what is ischemic stroke?: a stroke is a medical emergency. there are two types - ischemic and hemorrhagic. ischemic stroke is the most common type. it is usually caused by a blood clot that blocks or plugs a blood vessel in the brain. this keeps blood from flowing to the brain. within minutes, brain cells begin to die. another cause is stenosis, or narrowing of the artery. this can happen because of atherosclerosis, a disease in which plaque builds up inside your arteries. transient ischemic attacks (tias) occur when the blood supply to the brain is interrupted briefly. having a tia can mean you are at risk for having a more serious stroke. symptoms of stroke are - sudden numbness or weakness of the face, arm or leg (especially on one side of the body) - sudden confusion, trouble speaking or understanding speech - sudden trouble seeing in one or both eyes - sudden trouble walking, dizziness, loss of balance or coordination - sudden severe headache with no known cause it is important to treat strokes as quickly as possible. blood thinners may be used to stop a stroke while it is happening by quickly dissolving the blood clot. post-stroke rehabilitation can help people overcome disabilities caused by stroke damage. nih: national institute of neurological disorders and stroke',\n  \"vasovagal syncope: vasovagal syncope (vay-zoh-vay-gul sing-kuh-pee) occurs when you faint because your body overreacts to certain triggers, such as the sight of blood or extreme emotional distress. it may also be called neurocardiogenic syncope. the vasovagal syncope trigger causes your heart rate and blood pressure to drop suddenly. that leads to reduced blood flow to your brain, causing you to briefly lose consciousness. vasovagal syncope is usually harmless and requires no treatment. but it's possible you may injure yourself during a vasovagal syncope episode. your doctor may recommend tests to rule out more serious causes of fainting, such as heart disorders. before you faint due to vasovagal syncope, you may experience some of the following: - pale skin - lightheadedness - tunnel vision - your field of vision narrows so that you see only what's in front of you - nausea - feeling warm - a cold, clammy sweat - yawning - blurred vision during a vasovagal syncope episode, bystanders may notice: - jerky, abnormal movements - a slow, weak pulse - dilated pupils recovery after a vasovagal episode generally begins in less than a minute. however, if you stand up too soon after fainting - within about 15 to 30 minutes - you're at risk of fainting again. when to see a doctor fainting can be a sign of a more serious condition, such as a heart or brain disorder. you may want to consult your doctor after a fainting spell, especially if you never had one before. vasovagal syncope occurs when the part of your nervous system that regulates heart rate and blood pressure malfunctions in response to a trigger, such as the sight of blood. your heart rate slows, and the blood vessels in your legs widen (dilate.) this allows blood to pool in your legs, which lowers your blood pressure. combined, the drop in blood pressure and slowed heart rate quickly reduce blood flow to your brain, and you faint. sometimes there is no classical vasovagal syncope trigger, but common triggers include: - standing for long periods of time - heat exposure - seeing blood - having blood drawn - fear of bodily injury - straining, such as to have a bowel movement diagnosing vasovagal syncope often involves ruling out other possible causes of your fainting - particularly heart-related problems. these tests may include: - electrocardiogram. this test records the electrical signals your heart produces. it can detect irregular heart rhythms and other cardiac problems. you may need to wear a portable monitor for at least a day or as long as a month. - echocardiogram. this test uses ultrasound imaging to view the heart and look for conditions, such as valve problems, that can cause fainting. - exercise stress test. this test studies heart rhythms during exercise. it's usually conducted while you walk or jog on a treadmill. - blood tests. your doctor may look for conditions, such as anemia, that can cause or contribute to fainting spells. tilt table test if no heart problems appear to cause your fainting, your doctor may suggest you undergo a tilt table test. for a tilt table test: - you lie flat on your back on a table. - the table changes position, tilting you upward at various angles. - a technician monitors your heart rhythms and blood pressure to see if the postural changes affect them. in most cases of vasovagal syncope, treatment is unnecessary. your doctor may help you identify your fainting triggers and discuss ways you might avoid them. however, if you experience vasovagal syncope often enough to interfere with your quality of life, your doctor may suggest trying one or more of the following remedies. medications a drug called fludrocortisone acetate that's normally used to treat low blood pressure may be helpful in preventing vasovagal syncope. selective serotonin inhibitors may also be used. therapies your doctor may recommend ways to decrease the pooling of blood in your legs. these may include foot exercises, wearing compression stockings or tensing your leg muscles when standing. you may need to increase salt in your diet if you don't usually have high blood pressure. avoid prolonged standing - especially in hot, crowded places - and drink plenty of fluids. surgery very rarely, inserting an electrical pacemaker to regulate the heartbeat may help some people with vasovagal syncope who haven't been helped by other treatments.\",\n  \"stroke (what is a stroke?): a stroke happens when something changes how blood flows through the brain. blood brings oxygen and nutrients to brain cells. if blood can't flow to a part of the brain, cells that do not receive enough oxygen suffer and eventually die. if brain cells are without oxygen for only a short time, they can sometimes get better. but brain cells that have died can't be brought back to life. so, someone who has had a stroke may have trouble speaking, thinking, or walking.there are two major types of stroke. the most common kind, ischemic, is caused by a blood clot or the narrowing of a blood vessel (an artery) leading to the brain. this keeps blood from flowing into other parts of the brain and keeps needed oxygen and nutrients from reaching brain cells. blockages that cause ischemic strokes stem from three conditions:- formation of a clot within a blood vessel of the brain or neck, called thrombosis - movement of a clot from another part of the body, such as from the heart to the neck or brain, called an embolism - severe narrowing of an artery (stenosis) in or leading to the brain, due to fatty deposits lining the blood vessel wallsin the second major kind of stroke, hemorrhagic, a broken blood vessel causes bleeding in the brain. this break in the vessel also stops oxygen and nutrients from reaching brain cells.sometimes the symptoms of a stroke last only a few minutes and then go away. that could be a transient ischemic attack (tia), also called a mini-stroke. a tia is a medical emergency. you should get medical help right away. if a tia is not treated quickly, it could be followed within hours or days by a major disabling stroke.\",\n  'stroke: a stroke occurs if the flow of oxygen-rich blood to a portion of the brain is blocked. without oxygen, brain cells start to die after a few minutes. sudden bleeding in the brain also can cause a stroke if it damages brain cells. if brain cells die or are damaged because of a stroke, symptoms occur in the parts of the body that these brain cells control. examples of stroke symptoms include sudden weakness; paralysis or numbness of the face, arms, or legs (paralysis is an inability to move); trouble speaking or understanding speech; and trouble seeing. a stroke is a serious medical condition that requires emergency care. a stroke can cause lasting brain damage, long-term disability, or even death. if you think you or someone else is having a stroke, call 9–1–1 right away. do not drive to the hospital or let someone else drive you. call an ambulance so that medical personnel can begin life-saving treatment on the way to the emergency room. during a stroke, every minute counts. overview the two main types of stroke are ischemic (is-ke-mik) and hemorrhagic (hem-ah-raj-ik). ischemic is the more common type of stroke. an ischemic stroke occurs if an artery that supplies oxygen-rich blood to the brain becomes blocked. blood clots often cause the blockages that lead to ischemic strokes. a hemorrhagic stroke occurs if an artery in the brain leaks blood or ruptures (breaks open). the pressure from the leaked blood damages brain cells. high blood pressure and aneurysms (an-u-risms) are examples of conditions that can cause hemorrhagic strokes. (aneurysms are balloon-like bulges in an artery that can stretch and burst.) another condition that’s similar to a stroke is a transient ischemic attack, also called a tia or “mini-stroke.” a tia occurs if blood flow to a portion of the brain is blocked only for a short time. thus, damage to the brain cells isn’t permanent (lasting). like ischemic strokes, tias often are caused by blood clots. although tias are not full-blown strokes, they greatly increase the risk of having a stroke. if you have a tia, it’s important for your doctor to find the cause so you can take steps to prevent a stroke. both strokes and tias require emergency care. outlook stroke is a leading cause of death in the united states. many factors can raise your risk of having a stroke. talk with your doctor about how you can control these risk factors and help prevent a stroke. if you have a stroke, prompt treatment can reduce damage to your brain and help you avoid lasting disabilities. prompt treatment also may help prevent another stroke. researchers continue to study the causes and risk factors for stroke. they’re also finding new and better treatments and new ways to help the brain repair itself after a stroke. ischemic stroke an ischemic stroke occurs if an artery that supplies oxygen-rich blood to the brain becomes blocked. blood clots often cause the blockages that lead to ischemic strokes. the two types of ischemic stroke are thrombotic (throm-bot-ik) and embolic (em-bol-ik). in a thrombotic stroke, a blood clot (thrombus) forms in an artery that supplies blood to the brain. in an embolic stroke, a blood clot or other substance (such as plaque, a fatty material) travels through the bloodstream to an artery in the brain. (a blood clot or piece of plaque that travels through the bloodstream is called an embolus.) with both types of ischemic stroke, the blood clot or plaque blocks the flow of oxygen-rich blood to a portion of the brain. ischemic stroke hemorrhagic stroke a hemorrhagic stroke occurs if an artery in the brain leaks blood or ruptures (breaks open). the pressure from the leaked blood damages brain cells. the two types of hemorrhagic stroke are intracerebral (in-trah-ser-e-bral) and subarachnoid (sub-ah-rak-noyd). in an intracerebral hemorrhage, a blood vessel inside the brain leaks blood or ruptures. in a subarachnoid hemorrhage, a blood vessel on the surface of the brain leaks blood or ruptures. when this happens, bleeding occurs between the inner and middle layers of the membranes that cover the brain. in both types of hemorrhagic stroke, the leaked blood causes swelling of the brain and increased pressure in the skull. the swelling and pressure damage cells and tissues in the brain. hemorrhagic stroke brain attack cerebrovascular accident (cva) hemorrhagic stroke (includes intracerebral hemorrhage and subarachnoid hemorrhage) ischemic stroke (includes thrombotic stroke and embolic stroke) a transient ischemic attack sometimes is called a tia or mini-stroke. a tia has the same symptoms as a stroke, and it increases your risk of having a stroke. ischemic stroke and transient ischemic attack an ischemic stroke or transient ischemic attack (tia) occurs if an artery that supplies oxygen-rich blood to the brain becomes blocked. many medical conditions can increase the risk of ischemic stroke or tia. for example, atherosclerosis (ath-er-o-skler-o-sis) is a disease in which a fatty substance called plaque builds up on the inner walls of the arteries. plaque hardens and narrows the arteries, which limits the flow of blood to tissues and organs (such as the heart and brain). plaque in an artery can crack or rupture (break open). blood platelets (plate-lets), which are disc-shaped cell fragments, stick to the site of the plaque injury and clump together to form blood clots. these clots can partly or fully block an artery. plaque can build up in any artery in the body, including arteries in the heart, brain, and neck. the two main arteries on each side of the neck are called the carotid (ka-rot-id) arteries. these arteries supply oxygen-rich blood to the brain, face, scalp, and neck. when plaque builds up in the carotid arteries, the condition is called carotid artery disease. carotid artery disease causes many of the ischemic strokes and tias that occur in the united states. an embolic stroke (a type of ischemic stroke) or tia also can occur if a blood clot or piece of plaque breaks away from the wall of an artery. the clot or plaque can travel through the bloodstream and get stuck in one of the brain’s arteries. this stops blood flow through the artery and damages brain cells. heart conditions and blood disorders also can cause blood clots that can lead to a stroke or tia. for example, atrial fibrillation (a-tre-al fi-bri-la-shun), or af, is a common cause of embolic stroke. in af, the upper chambers of the heart contract in a very fast and irregular way. as a result, some blood pools in the heart. the pooling increases the risk of blood clots forming in the heart chambers. an ischemic stroke or tia also can occur because of lesions caused by atherosclerosis. these lesions may form in the small arteries of the brain, and they can block blood flow to the brain. hemorrhagic stroke sudden bleeding in the brain can cause a hemorrhagic stroke. the bleeding causes swelling of the brain and increased pressure in the skull. the swelling and pressure damage brain cells and tissues. examples of conditions that can cause a hemorrhagic stroke include high blood pressure, aneurysms, and arteriovenous (ar-teer-e-o-ve-nus) malformations (avms). \"blood pressure\" is the force of blood pushing against the walls of the arteries as the heart pumps blood. if blood pressure rises and stays high over time, it can damage the body in many ways. aneurysms are balloon-like bulges in an artery that can stretch and burst. avms are tangles of faulty arteries and veins that can rupture within the brain. high blood pressure can increase the risk of hemorrhagic stroke in people who have aneurysms or avms. certain traits, conditions, and habits can raise your risk of having a stroke or transient ischemic attack (tia). these traits, conditions, and habits are known as risk factors. the more risk factors you have, the more likely you are to have a stroke. you can treat or control some risk factors, such as high blood pressure and smoking. other risk factors, such as age and gender, you can’t control. the major risk factors for stroke include: high blood pressure. high blood pressure is the main risk factor for stroke. blood pressure is considered high if it stays at or above 140/90 millimeters of mercury (mmhg) over time. if you have diabetes or chronic kidney disease, high blood pressure is defined as 130/80 mmhg or higher. diabetes. diabetes is a disease in which the blood sugar level is high because the body doesn’t make enough insulin or doesn’t use its insulin properly. insulin is a hormone that helps move blood sugar into cells where it’s used for energy. heart diseases. coronary heart disease, cardiomyopathy, heart failure, and atrial fibrillation can cause blood clots that can lead to a stroke. smoking. smoking can damage blood vessels and raise blood pressure. smoking also may reduce the amount of oxygen that reaches your body’s tissues. exposure to secondhand smoke also can damage the blood vessels. age and gender. your risk of stroke increases as you get older. at younger ages, men are more likely than women to have strokes. however, women are more likely to die from strokes. women who take birth control pills also are at slightly higher risk of stroke. race and ethnicity. strokes occur more often in african american, alaska native, and american indian adults than in white, hispanic, or asian american adults. personal or family history of stroke or tia. if you’ve had a stroke, you’re at higher risk for another one. your risk of having a repeat stroke is the highest right after a stroke. a tia also increases your risk of having a stroke, as does having a family history of stroke. brain aneurysms or arteriovenous malformations (avms). aneurysms are balloon-like bulges in an artery that can stretch and burst. avms are tangles of faulty arteries and veins that can rupture (break open) within the brain. avms may be present at birth, but often aren’t diagnosed until they rupture. other risk factors for stroke, many of which of you can control, include: alcohol and illegal drug use, including cocaine, amphetamines, and other drugs certain medical conditions, such as sickle cell disease, vasculitis (inflammation of the blood vessels), and bleeding disorders lack of physical activity overweight and obesity stress and depression unhealthy cholesterol levels unhealthy diet use of nonsteroidal anti-inflammatory drugs (nsaids), but not aspirin, may increase the risk of heart attack or stroke, particularly in patients who have had a heart attack or cardiac bypass surgery. the risk may increase the longer nsaids are used. common nsaids include ibuprofen and naproxen. following a heart-healthy lifestyle can lower the risk of stroke. some people also may need to take medicines to lower their risk. sometimes strokes can occur in people who don’t have any known risk factors. the signs and symptoms of a stroke often develop quickly. however, they can develop over hours or even days. the type of symptoms depends on the type of stroke and the area of the brain that’s affected. how long symptoms last and how severe they are vary among different people. signs and symptoms of a stroke may include: sudden weakness paralysis (an inability to move) or numbness of the face, arms, or legs, especially on one side of the body confusion trouble speaking or understanding speech trouble seeing in one or both eyes problems breathing dizziness, trouble walking, loss of balance or coordination, and unexplained falls loss of consciousness sudden and severe headache a transient ischemic attack (tia) has the same signs and symptoms as a stroke. however, tia symptoms usually last less than 1–2 hours (although they may last up to 24 hours). a tia may occur only once in a person’s lifetime or more often. at first, it may not be possible to tell whether someone is having a tia or stroke. all stroke-like symptoms require medical care. if you think you or someone else is having a tia or stroke, call 9–1–1 right away. do not drive to the hospital or let someone else drive you. call an ambulance so that medical personnel can begin life-saving treatment on the way to the emergency room. during a stroke, every minute counts. stroke complications after you’ve had a stroke, you may develop other complications, such as: blood clots and muscle weakness. being immobile (unable to move around) for a long time can raise your risk of developing blood clots in the deep veins of the legs. being immobile also can lead to muscle weakness and decreased muscle flexibility. problems swallowing and pneumonia. if a stroke affects the muscles used for swallowing, you may have a hard time eating or drinking. you also may be at risk of inhaling food or drink into your lungs. if this happens, you may develop pneumonia. loss of bladder control. some strokes affect the muscles used to urinate. you may need a urinary catheter (a tube placed into the bladder) until you can urinate on your own. use of these catheters can lead to urinary tract infections. loss of bowel control or constipation also may occur after a stroke. your doctor will diagnose a stroke based on your signs and symptoms, your medical history, a physical exam, and test results. your doctor will want to find out the type of stroke you’ve had, its cause, the part of the brain that\\'s affected, and whether you have bleeding in the brain. if your doctor thinks you’ve had a transient ischemic attack (tia), he or she will look for its cause to help prevent a future stroke. medical history and physical exam your doctor will ask you or a family member about your risk factors for stroke. examples of risk factors include high blood pressure, smoking, heart disease, and a personal or family history of stroke. your doctor also will ask about your signs and symptoms and when they began. during the physical exam, your doctor will check your mental alertness and your coordination and balance. he or she will check for numbness or weakness in your face, arms, and legs; confusion; and trouble speaking and seeing clearly. your doctor will look for signs of carotid artery disease, a common cause of ischemic stroke. he or she will listen to your carotid arteries with a stethoscope. a whooshing sound called a bruit (broo-e) may suggest changed or reduced blood flow due to plaque buildup in the carotid arteries. diagnostic tests and procedures your doctor may recommend one or more of the following tests to diagnose a stroke or tia. brain computed tomography a brain computed tomography (to-mog-rah-fee) scan, or brain ct scan, is a painless test that uses x rays to take clear, detailed pictures of your brain. this test often is done right after a stroke is suspected. a brain ct scan can show bleeding in the brain or damage to the brain cells from a stroke. the test also can show other brain conditions that may be causing your symptoms. magnetic resonance imaging magnetic resonance imaging (mri) uses magnets and radio waves to create pictures of the organs and structures in your body. this test can detect changes in brain tissue and damage to brain cells from a stroke. an mri may be used instead of, or in addition to, a ct scan to diagnose a stroke. computed tomography arteriogram and magnetic resonance arteriogram a ct arteriogram (cta) and magnetic resonance arteriogram (mra) can show the large blood vessels in the brain. these tests may give your doctor more information about the site of a blood clot and the flow of blood through your brain. carotid ultrasound carotid ultrasound is a painless and harmless test that uses sound waves to create pictures of the insides of your carotid arteries. these arteries supply oxygen-rich blood to your brain. carotid ultrasound shows whether plaque has narrowed or blocked your carotid arteries. your carotid ultrasound test may include a doppler ultrasound. doppler ultrasound is a special test that shows the speed and direction of blood moving through your blood vessels. carotid angiography carotid angiography (an-jee-og-ra-fee) is a test that uses dye and special x rays to show the insides of your carotid arteries. for this test, a small tube called a catheter is put into an artery, usually in the groin (upper thigh). the tube is then moved up into one of your carotid arteries. your doctor will inject a substance (called contrast dye) into the carotid artery. the dye helps make the artery visible on x-ray pictures. heart tests ekg (electrocardiogram) an ekg is a simple, painless test that records the heart\\'s electrical activity. the test shows how fast the heart is beating and its rhythm (steady or irregular). an ekg also records the strength and timing of electrical signals as they pass through each part of the heart. an ekg can help detect heart problems that may have led to a stroke. for example, the test can help diagnose atrial fibrillation or a previous heart attack. echocardiography echocardiography (ek-o-kar-de-og-ra-fee), or echo, is a painless test that uses sound waves to create pictures of your heart. the test gives information about the size and shape of your heart and how well your heart\\'s chambers and valves are working. echo can detect possible blood clots inside the heart and problems with the aorta. the aorta is the main artery that carries oxygen-rich blood from your heart to all parts of your body. blood tests your doctor also may use blood tests to help diagnose a stroke. a blood glucose test measures the amount of glucose (sugar) in your blood. low blood glucose levels may cause symptoms similar to those of a stroke. a platelet count measures the number of platelets in your blood. blood platelets are cell fragments that help your blood clot. abnormal platelet levels may be a sign of a bleeding disorder (not enough clotting) or a thrombotic disorder (too much clotting). your doctor also may recommend blood tests to measure how long it takes for your blood to clot. two tests that may be used are called pt and ptt tests. these tests show whether your blood is clotting normally. treatment for a stroke depends on whether it is ischemic or hemorrhagic. treatment for a transient ischemic attack (tia) depends on its cause, how much time has passed since symptoms began, and whether you have other medical conditions. strokes and tias are medical emergencies. if you have stroke symptoms, call 9–1–1 right away. do not drive to the hospital or let someone else drive you. call an ambulance so that medical personnel can begin lifesaving treatment on the way to the emergency room. during a stroke, every minute counts. once you receive immediate treatment, your doctor will try to treat your stroke risk factors and prevent complications by recommending heart-healthy lifestyle changes. treating an ischemic stroke or transient ischemic attack an ischemic stroke or tia occurs if an artery that supplies oxygen-rich blood to the brain becomes blocked. often, blood clots cause the blockages that lead to ischemic strokes and tias. treatment for an ischemic stroke or tia may include medicines and medical procedures. medicines if you have a stroke caused by a blood clot, you may be given a clot-dissolving, or clot-busting, medication called tissue plasminogen activator (tpa). a doctor will inject tpa into a vein in your arm. this type of medication must be given within 4 hours of symptom onset. ideally, it should be given as soon as possible. the sooner treatment begins, the better your chances of recovery. thus, it’s important to know the signs and symptoms of a stroke and to call 9–1–1 right away for emergency care. if you can’t have tpa for medical reasons, your doctor may give you antiplatelet medicine that helps stop platelets from clumping together to form blood clots or anticoagulant medicine (blood thinner) that keeps existing blood clots from getting larger. two common medicines are aspirin and clopidogrel. medical procedures if you have carotid artery disease, your doctor may recommend a carotid endarterectomy or carotid artery angioplasty. both procedures open blocked carotid arteries. researchers are testing other treatments for ischemic stroke, such as intra-arterial thrombolysis and mechanical clot removal in cerebral ischemia (merci). in intra-arterial thrombolysis, a long flexible tube called a catheter is put into your groin (upper thigh) and threaded to the tiny arteries of the brain. your doctor can deliver medicine through this catheter to break up a blood clot in the brain. merci is a device that can remove blood clots from an artery. during the procedure, a catheter is threaded through a carotid artery to the affected artery in the brain. the device is then used to pull the blood clot out through the catheter. treating a hemorrhagic stroke a hemorrhagic stroke occurs if an artery in the brain leaks blood or ruptures. the first steps in treating a hemorrhagic stroke are to find the cause of bleeding in the brain and then control it. unlike ischemic strokes, hemorrhagic strokes aren’t treated with antiplatelet medicines and blood thinners because these medicines can make bleeding worse. if you’re taking antiplatelet medicines or blood thinners and have a hemorrhagic stroke, you’ll be taken off the medicine. if high blood pressure is the cause of bleeding in the brain, your doctor may prescribe medicines to lower your blood pressure. this can help prevent further bleeding. surgery also may be needed to treat a hemorrhagic stroke. the types of surgery used include aneurysm clipping, coil embolization, and arteriovenous malformation (avm) repair. aneurysm clipping and coil embolization if an aneurysm (a balloon-like bulge in an artery) is the cause of a stroke, your doctor may recommend aneurysm clipping or coil embolization. aneurysm clipping is done to block off the aneurysm from the blood vessels in the brain. this surgery helps prevent further leaking of blood from the aneurysm. it also can help prevent the aneurysm from bursting again. during the procedure, a surgeon will make an incision (cut) in the brain and place a tiny clamp at the base of the aneurysm. you’ll be given medicine to make you sleep during the surgery. after the surgery, you’ll need to stay in the hospital’s intensive care unit for a few days. coil embolization is a less complex procedure for treating an aneurysm. the surgeon will insert a tube called a catheter into an artery in the groin. he or she will thread the tube to the site of the aneurysm. then, a tiny coil will be pushed through the tube and into the aneurysm. the coil will cause a blood clot to form, which will block blood flow through the aneurysm and prevent it from bursting again. coil embolization is done in a hospital. you’ll be given medicine to make you sleep during the surgery. arteriovenous malformation repair if an avm is the cause of a stroke, your doctor may recommend an avm repair. (an avm is a tangle of faulty arteries and veins that can rupture within the brain.) avm repair helps prevent further bleeding in the brain. doctors use several methods to repair avms. these methods include: injecting a substance into the blood vessels of the avm to block blood flow surgery to remove the avm using radiation to shrink the blood vessels of the avm treating stroke risk factors after initial treatment for a stroke or tia, your doctor will treat your risk factors. he or she may recommend heart-healthy lifestyle changes to help control your risk factors. heart-healthy lifestyle changes may include: heart-healthy eating aiming for a healthy weight managing stress physical activity quitting smoking if heart-healthy lifestyle changes aren’t enough, you may need medicine to control your risk factors.   taking action to control your risk factors can help prevent or delay a stroke. if you’ve already had a stroke. talk to your doctor about whether you may benefit from aspirin primary prevention, or using aspirin to help prevent your first stroke. the following heart-healthy lifestyle changes can help prevent your first stroke and help prevent you from having another one. be physically active. physical activity can improve your fitness level and health. talk with your doctor about what types and amounts of activity are safe for you. don’t smoke, or if you smoke or use tobacco, quit. smoking can damage and tighten blood vessels and raise your risk of stroke. talk with your doctor about programs and products that can help you quit. also, secondhand smoke can damage the blood vessels. aim for a healthy weight. if you’re overweight or obese, work with your doctor to create a reasonable weight loss plan. controlling your weight helps you control risk factors for stroke. make heart-healthy eating choices. heart-healthy eating can help lower your risk or prevent a stroke. manage stress. use techniques to lower your stress levels. if you or someone in your family has had a stroke, be sure to tell your doctor. by knowing your family history of stroke, you may be able to lower your risk factors and prevent or delay a stroke. if you’ve had a transient ischemic attack (tia), don’t ignore it. tias are warnings, and it’s important for your doctor to find the cause of the tia so you can take steps to prevent a stroke.   the time it takes to recover from a stroke varies—it can take weeks, months, or even years. some people recover fully, while others have long-term or lifelong disabilities. ongoing care, rehabilitation, and emotional support can help you recover and may even help prevent another stroke. if you’ve had a stroke, you’re at risk of having another one. know the warning signs and what to do if a stroke or transient ischemic attack (tia) occurs. call 9–1–1 as soon as symptoms start. do not drive to the hospital or let someone else drive you. by calling an ambulance, medical personnel can begin lifesaving treatment on the way to the emergency room. during a stroke, every minute counts. ongoing care heart-healthy lifestyle changes heart-healthy lifestyle changes can help you recover from a stroke and may help prevent another one. examples of these changes include heart-healthy eating, aiming for a healthy weight, managing stress, physical activity, and quitting smoking. medicines your doctor also may prescribe medicines to help you recover from a stroke or control your stroke risk factors. take all of your medicines as your doctor prescribes. don’t cut back on the dosage unless your doctor tells you to do so. if you have side effects or other problems related to your medicines, talk with your doctor. medicines called anticoagulants or blood thinners, which prevent blood clots or keep existing blood clots from getting larger, are the main treatment for people who have known carotid artery disease, which can lead to a stroke. two common medicines are aspirin and clopidogrel. you’ll likely need routine blood tests to check how well these medicines are working. the most common side effect of blood thinners is bleeding. this happens if the medicine thins your blood too much. this side effect can be life-threatening. bleeding can occur inside your body cavities (internal bleeding) or from the surface of your skin (external bleeding). know the warning signs of bleeding so you can get help right away. they include: blood in your urine, bright red blood in your stools, or black tarry stools bright red vomit or vomit that looks like coffee grounds increased menstrual flow pain in your abdomen or severe pain in your head unexplained bleeding from the gums and nose unexplained bruising or tiny red or purple dots on the skin a lot of bleeding after a fall or injury or easy bruising or bleeding also may mean that your blood is too thin. call your doctor right away if you have any of these signs. if you have severe bleeding, call 9–1–1. your doctor also may discuss beginning statin treatment. doctors recommend statin medications for many people because they help lower or control blood cholesterol levels and decrease the chance for heart attack and stroke. doctors usually prescribe statins for people who have: diabetes heart disease or have had a stroke high ldl cholesterol levels you should still follow a heart-healthy lifestyle, even if you take medicines to control your risk factors for stroke. take all medicines regularly, as your doctor prescribes. don’t change the amount of your medicine or skip a dose unless your doctor tells you to. talk with your doctor about how often you should schedule follow-up visits or tests. these visits and tests can help your doctor monitor your stroke risk factors and adjust your treatment as needed. rehabilitation after a stroke, you may need rehabilitation (rehab) to help you recover. rehab may include working with speech, physical, and occupational therapists. language, speech, and memory you may have trouble communicating after a stroke. you may not be able to find the right words, put complete sentences together, or put words together in a way that makes sense. you also may have problems with your memory and thinking clearly. these problems can be very frustrating. speech and language therapists can help you learn ways to communicate again and improve your memory. muscle and nerve problems a stroke may affect only one side of the body or part of one side. it can cause paralysis (an inability to move) or muscle weakness, which can put you at risk for falling. physical and occupational therapists can help you strengthen and stretch your muscles. they also can help you relearn how to do daily activities, such as dressing, eating, and bathing. bladder and bowel problems a stroke can affect the muscles and nerves that control the bladder and bowels. you may feel like you have to urinate often, even if your bladder isn’t full. you may not be able to get to the bathroom in time. medicines and a bladder or bowel specialist can help with these problems. swallowing and eating problems you may have trouble swallowing after a stroke. signs of this problem are coughing or choking during eating or coughing up food after eating. a speech therapist can help you with these issues. he or she may suggest changes to your diet, such as eating puréed (finely chopped) foods or drinking thick liquids. mental health care and support after a stroke, you may have changes in your behavior or judgment. for example, your mood may change quickly. because of these and other changes, you may feel scared, anxious, and depressed. recovering from a stroke can be slow and frustrating. talk about how you feel with your health care team. talking to a professional counselor also can help. if you’re very depressed, your doctor may recommend medicines or other treatments that can improve your quality of life. joining a patient support group may help you adjust to life after a stroke. you can see how other people have coped with having strokes. talk with your doctor about local support groups, or check with an area medical center. support from family and friends also can help relieve fear and anxiety. let your loved ones know how you feel and what they can do to help you.',\n  'stroke: a stroke occurs when the blood supply to part of your brain is interrupted or reduced, depriving brain tissue of oxygen and nutrients. within minutes, brain cells begin to die. a stroke is a medical emergency. prompt treatment is crucial. early action can minimize brain damage and potential complications. the good news is that strokes can be treated and prevented, and many fewer americans die of stroke now than in the past. watch for these signs and symptoms if you think you or someone else may be having a stroke. pay attention to when the signs and symptoms begin. the length of time they have been present can affect your treatment options: - trouble with speaking and understanding. you may experience confusion. you may slur your words or have difficulty understanding speech. - paralysis or numbness of the face, arm or leg. you may develop sudden numbness, weakness or paralysis in your face, arm or leg. this often happens just on one side of your body. try to raise both your arms over your head at the same time. if one arm begins to fall, you may be having a stroke. also, one side of your mouth may droop when you try to smile. - trouble with seeing in one or both eyes. you may suddenly have blurred or blackened vision in one or both eyes, or you may see double. - headache. a sudden, severe headache, which may be accompanied by vomiting, dizziness or altered consciousness, may indicate you\\'re having a stroke. - trouble with walking. you may stumble or experience sudden dizziness, loss of balance or loss of coordination. when to see a doctor seek immediate medical attention if you notice any signs or symptoms of a stroke, even if they seem to fluctuate or disappear. think \"fast\" and do the following: - face. ask the person to smile. does one side of the face droop? - arms. ask the person to raise both arms. does one arm drift downward? or is one arm unable to rise up? - speech. ask the person to repeat a simple phrase. is his or her speech slurred or strange? - time. if you observe any of these signs, call 911 immediately. call 911 or your local emergency number right away. don\\'t wait to see if symptoms stop. every minute counts. the longer a stroke goes untreated, the greater the potential for brain damage and disability. if you\\'re with someone you suspect is having a stroke, watch the person carefully while waiting for emergency assistance. a stroke may be caused by a blocked artery (ischemic stroke) or the leaking or bursting of a blood vessel (hemorrhagic stroke). some people may experience only a temporary disruption of blood flow to the brain (transient ischemic attack, or tia) that doesn\\'t cause permanent damage. ischemic stroke about 80 percent of strokes are ischemic strokes. ischemic strokes occur when the arteries to your brain become narrowed or blocked, causing severely reduced blood flow (ischemia). the most common ischemic strokes include: - thrombotic stroke. a thrombotic stroke occurs when a blood clot (thrombus) forms in one of the arteries that supply blood to your brain. a clot may be caused by fatty deposits (plaque) that build up in arteries and cause reduced blood flow (atherosclerosis) or other artery conditions. - embolic stroke. an embolic stroke occurs when a blood clot or other debris forms away from your brain - commonly in your heart - and is swept through your bloodstream to lodge in narrower brain arteries. this type of blood clot is called an embolus. hemorrhagic stroke hemorrhagic stroke occurs when a blood vessel in your brain leaks or ruptures. brain hemorrhages can result from many conditions that affect your blood vessels. these include: - uncontrolled high blood pressure (hypertension) - overtreatment with anticoagulants (blood thinners) - weak spots in your blood vessel walls (aneurysms) a less common cause of hemorrhage is the rupture of an abnormal tangle of thin-walled blood vessels (arteriovenous malformation). types of hemorrhagic stroke include: - intracerebral hemorrhage. in an intracerebral hemorrhage, a blood vessel in the brain bursts and spills into the surrounding brain tissue, damaging brain cells. brain cells beyond the leak are deprived of blood and are also damaged. high blood pressure, trauma, vascular malformations, use of blood-thinning medications and other conditions may cause an intracerebral hemorrhage. - subarachnoid hemorrhage. in a subarachnoid hemorrhage, an artery on or near the surface of your brain bursts and spills into the space between the surface of your brain and your skull. this bleeding is often signaled by a sudden, severe headache. a subarachnoid hemorrhage is commonly caused by the bursting of a small sack-shaped or berry-shaped aneurysm. after the hemorrhage, the blood vessels in your brain may widen and narrow erratically (vasospasm), causing brain cell damage by further limiting blood flow. transient ischemic attack (tia) a transient ischemic attack (tia) - sometimes known as a ministroke - is a temporary period of symptoms similar to those you\\'d have in a stroke. a temporary decrease in blood supply to part of your brain causes tias, which may last as little as five minutes. like an ischemic stroke, a tia occurs when a clot or debris blocks blood flow to part of your nervous system - but there is no permanent tissue damage and no lasting symptoms. seek emergency care even if your symptoms seem to clear up. having a tia puts you at greater risk of having a full-blown stroke, causing permanent damage later. if you\\'ve had a tia, it means there\\'s likely a partially blocked or narrowed artery leading to your brain or a clot source in the heart. it\\'s not possible to tell if you\\'re having a stroke or a tia based only on your symptoms. even when symptoms last for under an hour, there is still a risk of permanent tissue damage. many factors can increase your stroke risk. some factors can also increase your chances of having a heart attack. potentially treatable stroke risk factors include: lifestyle risk factors - being overweight or obese - physical inactivity - heavy or binge drinking - use of illicit drugs such as cocaine and methamphetamines medical risk factors - blood pressure readings higher than 120/80 millimeters of mercury (mm hg) - cigarette smoking or exposure to secondhand smoke - high cholesterol - diabetes - obstructive sleep apnea - cardiovascular disease, including heart failure, heart defects, heart infection or abnormal heart rhythm - personal or family history of stroke, heart attack or transient ischemic attack. other factors associated with a higher risk of stroke include: - age -people age 55 or older have a higher risk of stroke than do younger people. - race - african-americans have a higher risk of stroke than do people of other races. - sex - men have a higher risk of stroke than women. women are usually older when they have strokes, and they\\'re more likely to die of strokes than are men. - hormones - use of birth control pills or hormone therapies that include estrogen, as well as increased estrogen levels from pregnancy and childbirth. a stroke can sometimes cause temporary or permanent disabilities, depending on how long the brain lacks blood flow and which part was affected. complications may include: - paralysis or loss of muscle movement. you may become paralyzed on one side of your body, or lose control of certain muscles, such as those on one side of your face or one arm. physical therapy may help you return to activities affected by paralysis, such as walking, eating and dressing. - difficulty talking or swallowing. a stroke might affect control of the muscles in your mouth and throat, making it difficult for you to talk clearly (dysarthria), swallow (dysphagia) or eat. you also may have difficulty with language (aphasia), including speaking or understanding speech, reading, or writing. therapy with a speech-language pathologist might help. - memory loss or thinking difficulties. many people who have had strokes experience some memory loss. others may have difficulty thinking, making judgments, reasoning and understanding concepts. - emotional problems. people who have had strokes may have more difficulty controlling their emotions, or they may develop depression. - pain. pain, numbness or other strange sensations may occur in the parts of the body affected by stroke. for example, if a stroke causes you to lose feeling in your left arm, you may develop an uncomfortable tingling sensation in that arm. people also may be sensitive to temperature changes, especially extreme cold, after a stroke. this complication is known as central stroke pain or central pain syndrome. this condition generally develops several weeks after a stroke, and it may improve over time. but because the pain is caused by a problem in your brain, rather than a physical injury, there are few treatments. - changes in behavior and self-care ability. people who have had strokes may become more withdrawn and less social or more impulsive. they may need help with grooming and daily chores. as with any brain injury, the success of treating these complications varies from person to person. to determine the most appropriate treatment for your stroke, your emergency team needs to evaluate the type of stroke you\\'re having and the areas of your brain affected by the stroke. they also need to rule out other possible causes of your symptoms, such as a brain tumor or a drug reaction. your doctor may use several tests to determine your risk of stroke, including: - physical examination. your doctor will ask you or a family member what symptoms you\\'ve been having, when they started and what you were doing when they began. your doctor then will evaluate whether these symptoms are still present. your doctor will want to know what medications you take and whether you have experienced any head injuries. you\\'ll be asked about your personal and family history of heart disease, transient ischemic attack and stroke. your doctor will check your blood pressure and use a stethoscope to listen to your heart and to listen for a whooshing sound (bruit) over your neck (carotid) arteries, which may indicate atherosclerosis. your doctor may also use an ophthalmoscope to check for signs of tiny cholesterol crystals or clots in the blood vessels at the back of your eyes. - blood tests. you may have several blood tests, which tell your care team how fast your blood clots, whether your blood sugar is abnormally high or low, whether critical blood chemicals are out of balance, or whether you may have an infection. managing your blood\\'s clotting time and levels of sugar and other key chemicals will be part of your stroke care. - computerized tomography (ct) scan. a ct scan uses a series of x-rays to create a detailed image of your brain. a ct scan can show a hemorrhage, tumor, stroke and other conditions. doctors may inject a dye into your bloodstream to view your blood vessels in your neck and brain in greater detail (computerized tomography angiography). there are different types of ct scans that your doctor may use depending on your situation. - magnetic resonance imaging (mri). an mri uses powerful radio waves and magnets to create a detailed view of your brain. an mri can detect brain tissue damaged by an ischemic stroke and brain hemorrhages. your doctor may inject a dye into a blood vessel to view the arteries and veins and highlight blood flow (magnetic resonance angiography, or magnetic resonance venography). - carotid ultrasound. in this test, sound waves create detailed images of the inside of the carotid arteries in your neck. this test shows buildup of fatty deposits (plaques) and blood flow in your carotid arteries. - cerebral angiogram. in this test, your doctor inserts a thin, flexible tube (catheter) through a small incision, usually in your groin, and guides it through your major arteries and into your carotid or vertebral artery. then your doctor injects a dye into your blood vessels to make them visible under x-ray imaging. this procedure gives a detailed view of arteries in your brain and neck. - echocardiogram. an echocardiogram uses sound waves to create detailed images of your heart. an echocardiogram can find a source of clots in your heart that may have traveled from your heart to your brain and caused your stroke. you may have a transesophageal echocardiogram. in this test, your doctor inserts a flexible tube with a small device (transducer) attached into your throat and down into the tube that connects the back of your mouth to your stomach (esophagus). because your esophagus is directly behind your heart, a transesophageal echocardiogram can create clear, detailed ultrasound images of your heart and any blood clots. emergency treatment for stroke depends on whether you\\'re having an ischemic stroke blocking an artery - the most common kind - or a hemorrhagic stroke that involves bleeding into the brain. ischemic stroke to treat an ischemic stroke, doctors must quickly restore blood flow to your brain. emergency treatment with medications. therapy with clot-busting drugs must start within 4.5 hours if they are given into the vein - and the sooner, the better. quick treatment not only improves your chances of survival but also may reduce complications. you may be given: - intravenous injection of tissue plasminogen activator (tpa). this injection of recombinant tissue plasminogen activator (tpa), also called alteplase, is considered the gold standard treatment for ischemic stroke. an injection of tpa is usually given through a vein in the arm. this potent clot-busting drug ideally is given within three hours. in some instances, tpa can be given up to 4.5 hours after stroke symptoms begin. this drug restores blood flow by dissolving the blood clot causing your stroke, and it may help people who have had strokes recover more fully. your doctor will consider certain risks, such as potential bleeding in the brain, to determine if tpa is appropriate for you. emergency endovascular procedures. doctors sometimes treat ischemic strokes with procedures performed directly inside the blocked blood vessel. these procedures must be performed as soon as possible, depending on features of the blood clot: - medications delivered directly to the brain. doctors may insert a long, thin tube (catheter) through an artery in your groin and thread it to your brain to deliver tpa directly into the area where the stroke is occurring. this is called intra-arterial thrombolysis. the time window for this treatment is somewhat longer than for intravenous tpa, but is still limited. - removing the clot with a stent retriever. doctors may use a catheter to maneuver a device into the blocked blood vessel in your brain and trap and remove the clot. this procedure is particularly beneficial for people with large clots that can\\'t be completely dissolved with tpa, though this procedure is often performed in combination with intravenous tpa. several large and recent studies suggest that, depending on the location of the clot and other factors, endovascular therapy might be the most effective treatment. endovascular therapy has been shown to significantly improve outcomes and reduce long-term disability after ischemic stroke. other procedures. to decrease your risk of having another stroke or transient ischemic attack, your doctor may recommend a procedure to open up an artery that\\'s narrowed by plaque. doctors sometimes recommend the following procedures to prevent a stroke. options will vary depending on your situation: - carotid endarterectomy. in a carotid endarterectomy, a surgeon removes plaques from arteries that run along each side of your neck to your brain (carotid arteries). in this procedure, your surgeon makes an incision along the front of your neck, opens your carotid artery and removes plaque that blocks the carotid artery. your surgeon then repairs the artery with stitches or a patch made from a vein or artificial material (graft). the procedure may reduce your risk of ischemic stroke. however, a carotid endarterectomy also involves risks, especially for people with heart disease or other medical conditions. - angioplasty and stents. in an angioplasty, a surgeon usually accesses your carotid arteries through an artery in your groin. here, your surgeon can gently and safely navigate to the carotid arteries in your neck. a balloon is then inflated to expand the narrowed artery. then a stent can be inserted to support the opened artery. hemorrhagic stroke emergency treatment of hemorrhagic stroke focuses on controlling your bleeding and reducing pressure in your brain. you might also need surgery to help reduce future risk. emergency measures. if you take warfarin (coumadin, jantoven) or anti-platelet drugs such as clopidogrel (plavix) to prevent blood clots, you may be given drugs or transfusions of blood products to counteract the blood thinners\\' effects. you may also be given drugs to lower pressure in your brain (intracranial pressure), lower your blood pressure, prevent vasospasm or prevent seizures. once the bleeding in your brain stops, treatment usually involves supportive medical care while your body absorbs the blood. healing is similar to what happens while a bad bruise goes away. if the area of bleeding is large, your doctor may perform surgery to remove the blood and relieve pressure on your brain. surgical blood vessel repair. surgery may be used to repair blood vessel abnormalities associated with hemorrhagic strokes. your doctor may recommend one of these procedures after a stroke or if an aneurysm or arteriovenous malformation (avm) or other type of vascular malformation caused your hemorrhagic stroke: - surgical clipping. a surgeon places a tiny clamp at the base of the aneurysm, to stop blood flow to it. this clamp can keep the aneurysm from bursting, or it can prevent re-bleeding of an aneurysm that has recently hemorrhaged. - coiling (endovascular embolization). a surgeon inserts a catheter into an artery in your groin and guides it to your brain using x-ray imaging. tiny detachable coils are guided into the aneurysm (aneurysm coiling). the coils fill the aneurysm, which blocks blood flow into the aneurysm and causes the blood to clot. - surgical avm removal. surgeons may remove a smaller avm if it\\'s located in an accessible area of your brain, to eliminate the risk of rupture and lower the risk of hemorrhagic stroke. however, it\\'s not always possible to remove an avm if its removal would cause too large a reduction in brain function, or if it\\'s large or located deep within your brain. - stereotactic radiosurgery. using multiple beams of highly focused radiation, stereotactic radiosurgery is an advanced minimally invasive treatment used to repair vascular malformations. stroke recovery and rehabilitation after emergency treatment, stroke care focuses on helping you recover as much function as possible and return to independent living. the impact of your stroke depends on the area of the brain involved and the amount of tissue damaged. if your stroke affected the right side of your brain, your movement and sensation on the left side of your body may be affected. if your stroke damaged the brain tissue on the left side of your brain, your movement and sensation on the right side of your body may be affected. brain damage to the left side of your brain may cause speech and language disorders. in addition, if you\\'ve had a stroke, you may have problems with breathing, swallowing, balancing and vision. most stroke survivors receive treatment in a rehabilitation program. your doctor will recommend the most rigorous therapy program you can handle based on your age, overall health and degree of disability from your stroke. your doctor will take into consideration your lifestyle, interests and priorities, and the availability of family members or other caregivers. your rehabilitation program may begin before you leave the hospital. after discharge, you might continue your program in a rehabilitation unit of the same hospital, another rehabilitation unit or skilled nursing facility, an outpatient unit, or your home. every person\\'s stroke recovery is different. depending on your condition, your treatment team may include: - doctor trained in brain conditions (neurologist) - rehabilitation doctor (physiatrist) - nurse - dietitian - physical therapist - occupational therapist - recreational therapist - speech pathologist - social worker - case manager - psychologist or psychiatrist - chaplain one way to evaluate the care of patients diagnosed with stroke is to look at the percentage of patients receiving the timely and effective care measures that are appropriate. the goal is 100 percent. the graph below displays the percentage of eligible mayo clinic patients diagnosed with stroke receiving all of the appropriate care measures. timely and effective care carotid endarterectomy mortality rate see related graph. carotid stenting mortality rate see related graph. comprehensive stroke measure see related graph. comprehensive stroke - post thrombolysis revascularization rate see related graph. comprehensive stroke - timeliness of iv t-pa therapy see related graph. for additional information and data visit medicare hospital compare. for additional information about quality at mayo clinic visit quality measures.',\n  'stroke: stroke is a leading cause of disability and death in the united states. strokes leave many people with long-term physical and cognitive difficulties; rehabilitation after stroke is an important goal. the nichd is one of many federal agencies and nih institutes working to understand stroke and how to improve methods of post-stroke rehabilitation. what is stroke? a stroke occurs when a blocked vessel or artery prevents blood from getting to part of the brain, or when a vessel or artery bursts and spills blood into the brain. the blood supplies the brain with the oxygen and nutrients it needs to work properly. when part of the brain cannot get the blood it needs, it becomes damaged or dies. the sudden flooding of blood into the brain also can cause damage or death to the brain cells (neurons). there are two types of stroke: - ischemic stroke ischemic (pronounced ih-skee-mik) stroke happens when an artery carrying blood to the brain becomes blocked and cannot supply enough blood to the brain. usually a blood clot causes the blockage. sometimes the blockage occurs when an artery becomes too narrow for enough blood to pass through it. this narrowing is called stenosis (sti-noh-sis). stenosis is caused by a buildup of plaque (plak)—a mixture of fatty substances, including cholesterol—that forms on the inner walls of the artery. - hemorrhagic stroke hemorrhagic (prounounced hem-uh-raj-ik) stroke occurs when an artery bursts and spills blood into part of the brain. in a healthy brain, the blood remains in the arteries and does not come into contact with neurons. when blood bursts into the brain during a hemorrhagic stroke, the normal flow of blood to the brain is upset, and the blood interferes with the normal chemical balance that neurons need to function. transient ischemic attack sometimes called a mini-stroke, a transient ischemic attack (tia) starts with the same symptoms of a full stroke but does not progress and cause the damage of a full stroke. a tia is a warning that a person is at risk for a more serious stroke in the future. what are common symptoms? » stroke symptoms come on suddenly and include: - numbness or weakness of the face, arm, or leg, especially on one side of the body - confusion, trouble talking, or trouble understanding what others are saying - dizziness, trouble walking, or loss of balance or coordination - trouble seeing in one or both eyes - sudden severe headache with no known cause if you believe you or someone you know is having any of these symptoms, do not wait. call 911 immediately. a person suffering a stroke must receive medications as soon as possible at a hospital to prevent or minimize brain damage. the symptoms of a transient ischemic attack (tia) are similar to those of a more serious stroke, but unlike a serious stroke, a tia usually lasts only a few minutes and goes away within an hour. however, it is impossible to tell the difference between the symptoms of a tia and a more serious stroke. you should not wait to see if the symptoms go away. assume that all stroke symptoms signal an emergency. the national institute of neurological disorders and stroke (ninds) provides detailed information about stroke and stroke symptoms at http://www.ninds.nih.gov/disorders/stroke/stroke.htm. « condition information how many people are affected/at risk? » each year, about 795,000 people in the united states have strokes, and of these incidents, 137,000 of the people die. about 610,000 of these cases are first strokes, and 185,000 people who survive a stroke will have another stroke within 5 years. ischemic strokes make up about 87% of all strokes. hemorrhagic strokes make up the remaining 13%. stroke is a leading cause of death and disability in the united states. people of all ages and backgrounds can have a stroke. however, some demographic factors put certain people at higher risk of stroke or death from stroke. these include: - race/ethnicity. african americans have almost two times the risk of white people of having a first stroke. hispanic americans and american indian/alaska natives are at greater risk than whites are for having a stroke but are at less risk than african americans. african americans and hispanics are more likely than whites to die after having a stroke. - age. stroke risk increases with age. three-quarters of strokes occur in people ages 65 and older. - geography. the highest u.s. death rates from stroke occur in the southeastern united states. - gender. men are more likely than women to have a stroke. certain lifestyle factors and conditions also increase the risk for stroke. the most important of these include: - high blood pressure - diabetes - heart disease (such as atrial fibrillation) - previous stroke or transient ischemic attack - cigarette smoking additional risk factors include: - physical inactivity - overweight or obesity - high cholesterol - sickle cell disease - drinking too much alcohol - family history of stroke - drug abuse - genetic conditions, such as blood-clotting or vascular disorders (for example, factor v leiden or cadasil) - certain medications (such as hormonal birth control pills) - being pregnant - menopause lesser risk factors include: - head and neck injuries - recent viral or bacterial infections amplification of risk occurs when a person has more than one of the risk factors listed above. this means that the combined risk of two or more risk factors is greater than simply adding their effects. « what are common symptoms? what causes it? » ischemic stroke ischemic stroke is caused by a blockage in an artery carrying blood to the brain. the blocked artery cuts off the blood supply to part of the brain. usually a blood clot causes the blockage. sometimes the blockage occurs when an artery becomes too narrow for enough blood to pass through it. this narrowing is called stenosis (pronounced sti-noh-sis). stenosis is caused by a buildup of blood clots and plaque—a mixture of fatty substances, including cholesterol—on the inner walls of the artery. problems with blood clotting become more frequent as people age. certain medications, such as hormonal birth control pills, also can increase the risk of blood clots. stenosis is caused most commonly by a blood vessel disease called atherosclerosis (pronounced ath-uh-roh-skluh-roh-sis). in atherosclerosis, plaque builds up on the inner walls of arteries. this causes the artery walls to become thick, hard, and less flexible, and decreases blood flow. the presence of plaque also leads to the formation of blood clots. eating foods high in saturated fat and cholesterol can make the amount of cholesterol in the body too high. having high cholesterol can lead to its buildup in plaque in the artery walls. high blood pressure also contributes to atherosclerosis. hemorrhagic stroke hemorrhagic stroke is caused by a burst artery that spills blood into part of the brain. in a healthy brain, the blood remains in the arteries and does not come into contact with neurons. when blood bursts into the brain during a hemorrhagic stroke, the normal flow of blood to the brain is upset, and the blood interferes with the normal chemical balance that neurons need to function. high blood pressure can weaken artery walls and make them more likely to break or burst. poor blood clotting also can increase the risk of bleeding in a hemorrhagic stroke. poor blood clotting may be caused by blood disorders or medications that decrease clotting. another cause of hemorrhagic stroke is abnormalities in the structure of blood vessels that form during brain development. « how many people are affected/at risk? what are the outcomes and treatments? » recovery from a stroke may take months or years. many people who have had a stroke never fully recover. a person who has had a stroke may have the following temporary or permanent symptoms: - inability to move on one side of the body - weakness on one side of the body - problems with thinking, awareness, attention, learning, judgment, and memory - problems understanding or forming speech - problems with controlling or expressing emotions - numbness or strange sensations - pain in the hands and feet that worsens with movement and temperature changes - depression types of treatment for stroke stroke treatment includes: - emergency treatment - preventing another stroke - rehabilitation emergency treatment when a person is able to get to the hospital within a few hours of having a stroke, health care providers will treat a stroke with medications, surgery, or both, depending on the type of stroke. medication for ischemic stroke - thrombolytic (pronounced throm-buh-lit-ik) agents these medications are used to treat an ongoing ischemic stroke caused by a blocked artery. they stop the stroke by dissolving the blood clot that has blocked blood flow to the brain. - blood-thinning medications these drugs include antiplatelet (pronounced anti-pleyt-lit) drugs and anticoagulants (pronounced anti-koh-ag-yuh-luhnts) and work to prevent blood clotting that causes ischemic stroke. surgery in the case of ischemic stroke, a surgeon can clear out the clogged artery to allow blood to resume flowing to the affected part of the brain. surgery can also repair structural abnormalities in arteries in the case of hemorrhagic stroke. [top] preventing another stroke a patient who has had a stroke may continue taking blood-thinning medications, referred to as blood thinners, to prevent another stroke. surgery performed to treat a stroke may also help to prevent another stroke. health care providers will also advise stroke survivors to make lifestyle changes, such as eating a healthy diet, exercising, and treating related medical conditions. for more information on preventing stroke, see the other faqs within the stroke topic. [top] rehabilitation stroke is the leading cause of serious adult disability in the united states. several types of therapies can help a stroke survivor regain some or all of the functions damaged by the stroke. these therapies include: - physical therapy a physical therapist uses training and exercises to help a patient relearn physical activities such as walking, sitting, standing, and lying down. a special type of physical therapy called constraint-induced movement therapy (cimt) can improve the use of a weakened or paralyzed arm. cimt involves training and exercise for the affected arm while the unaffected arm is restrained by a special mitt. - occupational therapy occupational therapy involves exercise and training to help a patient relearn daily activities such as eating, drinking, dressing, bathing, cooking, reading, writing, and using a toilet. - speech therapy speech therapy helps patients relearn language and speaking, including swallowing. - psychological therapy stroke survivors may suffer from depression, anxiety, frustration, and anger. talk therapy, medications, or both can treat these symptoms. [top] « what causes it? other faqs » can stroke be prevented? making healthy choices and managing medical conditions can diminish your risk of stroke. these include: - eating a healthy diet, which includes plenty of fruits and vegetables and foods low in saturated fat, cholesterol, and sodium - maintaining a healthy weight - staying physically active - not smoking - limiting alcohol use - checking your cholesterol - monitoring your blood pressure - managing diabetes - taking medication to treat high cholesterol, high blood pressure, or diabetes - talking to your health care provider regularly about preventing or treating the medical conditions that lead to heart disease or increase your risk of stroke « what are the outcomes and treatments?'],\n [3, 1, 7, 2, 6, 5, 4],\n [1, 1, 0, 1, 1, 1, 1]]"
     },
     "metadata": {},
     "output_type": "execute_result",
     "execution_count": 6
    }
   ],
   "source": [
    "question_num = 200\n",
    "QA[question_num]"
   ],
   "metadata": {
    "collapsed": false,
    "pycharm": {
     "name": "#%%\n",
     "is_executing": false
    }
   }
  },
  {
   "cell_type": "code",
   "execution_count": 7,
   "metadata": {
    "colab": {
     "base_uri": "https://localhost:8080/"
    },
    "collapsed": true,
    "id": "dgcg2QEzYNAv",
    "jupyter": {
     "outputs_hidden": true
    },
    "outputId": "1475672f-33be-4f5a-bd76-f69fbdcfd0d5",
    "pycharm": {
     "is_executing": false
    }
   },
   "outputs": [
    {
     "name": "stdout",
     "text": [
      "Question: ischemic syncope stroke diagonses. define?\n1 - what is ischemic stroke?: a stroke is a medical emergency. there are two types - ischemic and hemorrhagic. ischemic stroke is the most common type. it is usually caused by a blood clot that blocks or plugs a blood vessel in the brain. this keeps blood from flowing to the brain. within minutes, brain cells begin to die. another cause is stenosis, or narrowing of the artery. this can happen because of atherosclerosis, a disease in which plaque builds up inside your arteries. transient ischemic attacks (tias) occur when the blood supply to the brain is interrupted briefly. having a tia can mean you are at risk for having a more serious stroke. symptoms of stroke are - sudden numbness or weakness of the face, arm or leg (especially on one side of the body) - sudden confusion, trouble speaking or understanding speech - sudden trouble seeing in one or both eyes - sudden trouble walking, dizziness, loss of balance or coordination - sudden severe headache with no known cause it is important to treat strokes as quickly as possible. blood thinners may be used to stop a stroke while it is happening by quickly dissolving the blood clot. post-stroke rehabilitation can help people overcome disabilities caused by stroke damage. nih: national institute of neurological disorders and stroke\n2 - stroke (what is a stroke?): a stroke happens when something changes how blood flows through the brain. blood brings oxygen and nutrients to brain cells. if blood can't flow to a part of the brain, cells that do not receive enough oxygen suffer and eventually die. if brain cells are without oxygen for only a short time, they can sometimes get better. but brain cells that have died can't be brought back to life. so, someone who has had a stroke may have trouble speaking, thinking, or walking.there are two major types of stroke. the most common kind, ischemic, is caused by a blood clot or the narrowing of a blood vessel (an artery) leading to the brain. this keeps blood from flowing into other parts of the brain and keeps needed oxygen and nutrients from reaching brain cells. blockages that cause ischemic strokes stem from three conditions:- formation of a clot within a blood vessel of the brain or neck, called thrombosis - movement of a clot from another part of the body, such as from the heart to the neck or brain, called an embolism - severe narrowing of an artery (stenosis) in or leading to the brain, due to fatty deposits lining the blood vessel wallsin the second major kind of stroke, hemorrhagic, a broken blood vessel causes bleeding in the brain. this break in the vessel also stops oxygen and nutrients from reaching brain cells.sometimes the symptoms of a stroke last only a few minutes and then go away. that could be a transient ischemic attack (tia), also called a mini-stroke. a tia is a medical emergency. you should get medical help right away. if a tia is not treated quickly, it could be followed within hours or days by a major disabling stroke.\n3 - syncope: syncope is a medical term used to describe a temporary loss of consciousness due to the sudden decline of blood flow to the brain. syncope is commonly called fainting or “passing out.” if an individual is about to faint, he or she will feel dizzy, lightheaded, or nauseous and their field of vision may “white out” or “black out.”  the skin may be cold and clammy.  the person drops to the floor as he or she loses consciousness.  after fainting, an individual may be unconscious for a minute or two, but will revive and slowly return to normal.  syncope can occur in otherwise healthy people and affects all age groups, but occurs more often in the elderly.  there are several types of syncope.  vasovagal syncope usually has an easily identified triggering event such as emotional stress, trauma, pain, the sight of blood, or prolonged standing.  carotid sinus syncope happens because of constriction of the carotid artery in the neck and can occur after turning the head, while shaving, or when wearing a tight collar.  situational syncope happens during urination, defecation, coughing, or as a result of gastrointestinal stimulation.  syncope can also be a symptom of heart disease or abnormalities that create an uneven heart rate or rhythm that temporarily affect blood volume and its distribution in the body.  syncope isn’t normally a primary sign of a neurological disorder, but it may indicate an increased risk for neurologic disorders such as parkinson’s disease, postural orthostatic tachycardia syndrome (pots), diabetic neuropathy, and other types of neuropathy.  certain classes of drugs are associated with an increased risk of syncope, including diuretics, calcium antagonists, ace inhibitors, nitrates, antipsychotics, antihistamines, levodopa, narcotics, and alcohol. the immediate treatment for an individual who has fainted involves checking first to see if their airway is open and they are breathing.  the person should remain lying down for at least 10-15 minutes, preferably in a cool and quiet space.  if this isn’t possible, have the individual sit forward and lower their head below their shoulders and between their knees.  ice or cold water in a cup is refreshing.  for individuals who have problems with chronic fainting spells, therapy should focus on recognizing the triggers and learning techniques to keep from fainting.   at the appearance of warning signs such as lightheadedness, nausea, or cold and clammy skin, counter-pressure maneuvers that involve gripping fingers into a fist, tensing the arms, and crossing the legs or squeezing the thighs together can be used to ward off a fainting spell.  if fainting spells occur often without a triggering event, syncope may be a sign of an underlying heart disease. syncope is a dramatic event and can be life-threatening if not treated properly. generally, however, people recover completely within minutes to hours.  if syncope is symptomatic of an underlying condition, then the prognosis will reflect the course of the disorder.\n4 - stroke: stroke is a leading cause of disability and death in the united states. strokes leave many people with long-term physical and cognitive difficulties; rehabilitation after stroke is an important goal. the nichd is one of many federal agencies and nih institutes working to understand stroke and how to improve methods of post-stroke rehabilitation. what is stroke? a stroke occurs when a blocked vessel or artery prevents blood from getting to part of the brain, or when a vessel or artery bursts and spills blood into the brain. the blood supplies the brain with the oxygen and nutrients it needs to work properly. when part of the brain cannot get the blood it needs, it becomes damaged or dies. the sudden flooding of blood into the brain also can cause damage or death to the brain cells (neurons). there are two types of stroke: - ischemic stroke ischemic (pronounced ih-skee-mik) stroke happens when an artery carrying blood to the brain becomes blocked and cannot supply enough blood to the brain. usually a blood clot causes the blockage. sometimes the blockage occurs when an artery becomes too narrow for enough blood to pass through it. this narrowing is called stenosis (sti-noh-sis). stenosis is caused by a buildup of plaque (plak)—a mixture of fatty substances, including cholesterol—that forms on the inner walls of the artery. - hemorrhagic stroke hemorrhagic (prounounced hem-uh-raj-ik) stroke occurs when an artery bursts and spills blood into part of the brain. in a healthy brain, the blood remains in the arteries and does not come into contact with neurons. when blood bursts into the brain during a hemorrhagic stroke, the normal flow of blood to the brain is upset, and the blood interferes with the normal chemical balance that neurons need to function. transient ischemic attack sometimes called a mini-stroke, a transient ischemic attack (tia) starts with the same symptoms of a full stroke but does not progress and cause the damage of a full stroke. a tia is a warning that a person is at risk for a more serious stroke in the future. what are common symptoms? » stroke symptoms come on suddenly and include: - numbness or weakness of the face, arm, or leg, especially on one side of the body - confusion, trouble talking, or trouble understanding what others are saying - dizziness, trouble walking, or loss of balance or coordination - trouble seeing in one or both eyes - sudden severe headache with no known cause if you believe you or someone you know is having any of these symptoms, do not wait. call 911 immediately. a person suffering a stroke must receive medications as soon as possible at a hospital to prevent or minimize brain damage. the symptoms of a transient ischemic attack (tia) are similar to those of a more serious stroke, but unlike a serious stroke, a tia usually lasts only a few minutes and goes away within an hour. however, it is impossible to tell the difference between the symptoms of a tia and a more serious stroke. you should not wait to see if the symptoms go away. assume that all stroke symptoms signal an emergency. the national institute of neurological disorders and stroke (ninds) provides detailed information about stroke and stroke symptoms at http://www.ninds.nih.gov/disorders/stroke/stroke.htm. « condition information how many people are affected/at risk? » each year, about 795,000 people in the united states have strokes, and of these incidents, 137,000 of the people die. about 610,000 of these cases are first strokes, and 185,000 people who survive a stroke will have another stroke within 5 years. ischemic strokes make up about 87% of all strokes. hemorrhagic strokes make up the remaining 13%. stroke is a leading cause of death and disability in the united states. people of all ages and backgrounds can have a stroke. however, some demographic factors put certain people at higher risk of stroke or death from stroke. these include: - race/ethnicity. african americans have almost two times the risk of white people of having a first stroke. hispanic americans and american indian/alaska natives are at greater risk than whites are for having a stroke but are at less risk than african americans. african americans and hispanics are more likely than whites to die after having a stroke. - age. stroke risk increases with age. three-quarters of strokes occur in people ages 65 and older. - geography. the highest u.s. death rates from stroke occur in the southeastern united states. - gender. men are more likely than women to have a stroke. certain lifestyle factors and conditions also increase the risk for stroke. the most important of these include: - high blood pressure - diabetes - heart disease (such as atrial fibrillation) - previous stroke or transient ischemic attack - cigarette smoking additional risk factors include: - physical inactivity - overweight or obesity - high cholesterol - sickle cell disease - drinking too much alcohol - family history of stroke - drug abuse - genetic conditions, such as blood-clotting or vascular disorders (for example, factor v leiden or cadasil) - certain medications (such as hormonal birth control pills) - being pregnant - menopause lesser risk factors include: - head and neck injuries - recent viral or bacterial infections amplification of risk occurs when a person has more than one of the risk factors listed above. this means that the combined risk of two or more risk factors is greater than simply adding their effects. « what are common symptoms? what causes it? » ischemic stroke ischemic stroke is caused by a blockage in an artery carrying blood to the brain. the blocked artery cuts off the blood supply to part of the brain. usually a blood clot causes the blockage. sometimes the blockage occurs when an artery becomes too narrow for enough blood to pass through it. this narrowing is called stenosis (pronounced sti-noh-sis). stenosis is caused by a buildup of blood clots and plaque—a mixture of fatty substances, including cholesterol—on the inner walls of the artery. problems with blood clotting become more frequent as people age. certain medications, such as hormonal birth control pills, also can increase the risk of blood clots. stenosis is caused most commonly by a blood vessel disease called atherosclerosis (pronounced ath-uh-roh-skluh-roh-sis). in atherosclerosis, plaque builds up on the inner walls of arteries. this causes the artery walls to become thick, hard, and less flexible, and decreases blood flow. the presence of plaque also leads to the formation of blood clots. eating foods high in saturated fat and cholesterol can make the amount of cholesterol in the body too high. having high cholesterol can lead to its buildup in plaque in the artery walls. high blood pressure also contributes to atherosclerosis. hemorrhagic stroke hemorrhagic stroke is caused by a burst artery that spills blood into part of the brain. in a healthy brain, the blood remains in the arteries and does not come into contact with neurons. when blood bursts into the brain during a hemorrhagic stroke, the normal flow of blood to the brain is upset, and the blood interferes with the normal chemical balance that neurons need to function. high blood pressure can weaken artery walls and make them more likely to break or burst. poor blood clotting also can increase the risk of bleeding in a hemorrhagic stroke. poor blood clotting may be caused by blood disorders or medications that decrease clotting. another cause of hemorrhagic stroke is abnormalities in the structure of blood vessels that form during brain development. « how many people are affected/at risk? what are the outcomes and treatments? » recovery from a stroke may take months or years. many people who have had a stroke never fully recover. a person who has had a stroke may have the following temporary or permanent symptoms: - inability to move on one side of the body - weakness on one side of the body - problems with thinking, awareness, attention, learning, judgment, and memory - problems understanding or forming speech - problems with controlling or expressing emotions - numbness or strange sensations - pain in the hands and feet that worsens with movement and temperature changes - depression types of treatment for stroke stroke treatment includes: - emergency treatment - preventing another stroke - rehabilitation emergency treatment when a person is able to get to the hospital within a few hours of having a stroke, health care providers will treat a stroke with medications, surgery, or both, depending on the type of stroke. medication for ischemic stroke - thrombolytic (pronounced throm-buh-lit-ik) agents these medications are used to treat an ongoing ischemic stroke caused by a blocked artery. they stop the stroke by dissolving the blood clot that has blocked blood flow to the brain. - blood-thinning medications these drugs include antiplatelet (pronounced anti-pleyt-lit) drugs and anticoagulants (pronounced anti-koh-ag-yuh-luhnts) and work to prevent blood clotting that causes ischemic stroke. surgery in the case of ischemic stroke, a surgeon can clear out the clogged artery to allow blood to resume flowing to the affected part of the brain. surgery can also repair structural abnormalities in arteries in the case of hemorrhagic stroke. [top] preventing another stroke a patient who has had a stroke may continue taking blood-thinning medications, referred to as blood thinners, to prevent another stroke. surgery performed to treat a stroke may also help to prevent another stroke. health care providers will also advise stroke survivors to make lifestyle changes, such as eating a healthy diet, exercising, and treating related medical conditions. for more information on preventing stroke, see the other faqs within the stroke topic. [top] rehabilitation stroke is the leading cause of serious adult disability in the united states. several types of therapies can help a stroke survivor regain some or all of the functions damaged by the stroke. these therapies include: - physical therapy a physical therapist uses training and exercises to help a patient relearn physical activities such as walking, sitting, standing, and lying down. a special type of physical therapy called constraint-induced movement therapy (cimt) can improve the use of a weakened or paralyzed arm. cimt involves training and exercise for the affected arm while the unaffected arm is restrained by a special mitt. - occupational therapy occupational therapy involves exercise and training to help a patient relearn daily activities such as eating, drinking, dressing, bathing, cooking, reading, writing, and using a toilet. - speech therapy speech therapy helps patients relearn language and speaking, including swallowing. - psychological therapy stroke survivors may suffer from depression, anxiety, frustration, and anger. talk therapy, medications, or both can treat these symptoms. [top] « what causes it? other faqs » can stroke be prevented? making healthy choices and managing medical conditions can diminish your risk of stroke. these include: - eating a healthy diet, which includes plenty of fruits and vegetables and foods low in saturated fat, cholesterol, and sodium - maintaining a healthy weight - staying physically active - not smoking - limiting alcohol use - checking your cholesterol - monitoring your blood pressure - managing diabetes - taking medication to treat high cholesterol, high blood pressure, or diabetes - talking to your health care provider regularly about preventing or treating the medical conditions that lead to heart disease or increase your risk of stroke « what are the outcomes and treatments?\n5 - stroke: a stroke occurs when the blood supply to part of your brain is interrupted or reduced, depriving brain tissue of oxygen and nutrients. within minutes, brain cells begin to die. a stroke is a medical emergency. prompt treatment is crucial. early action can minimize brain damage and potential complications. the good news is that strokes can be treated and prevented, and many fewer americans die of stroke now than in the past. watch for these signs and symptoms if you think you or someone else may be having a stroke. pay attention to when the signs and symptoms begin. the length of time they have been present can affect your treatment options: - trouble with speaking and understanding. you may experience confusion. you may slur your words or have difficulty understanding speech. - paralysis or numbness of the face, arm or leg. you may develop sudden numbness, weakness or paralysis in your face, arm or leg. this often happens just on one side of your body. try to raise both your arms over your head at the same time. if one arm begins to fall, you may be having a stroke. also, one side of your mouth may droop when you try to smile. - trouble with seeing in one or both eyes. you may suddenly have blurred or blackened vision in one or both eyes, or you may see double. - headache. a sudden, severe headache, which may be accompanied by vomiting, dizziness or altered consciousness, may indicate you're having a stroke. - trouble with walking. you may stumble or experience sudden dizziness, loss of balance or loss of coordination. when to see a doctor seek immediate medical attention if you notice any signs or symptoms of a stroke, even if they seem to fluctuate or disappear. think \"fast\" and do the following: - face. ask the person to smile. does one side of the face droop? - arms. ask the person to raise both arms. does one arm drift downward? or is one arm unable to rise up? - speech. ask the person to repeat a simple phrase. is his or her speech slurred or strange? - time. if you observe any of these signs, call 911 immediately. call 911 or your local emergency number right away. don't wait to see if symptoms stop. every minute counts. the longer a stroke goes untreated, the greater the potential for brain damage and disability. if you're with someone you suspect is having a stroke, watch the person carefully while waiting for emergency assistance. a stroke may be caused by a blocked artery (ischemic stroke) or the leaking or bursting of a blood vessel (hemorrhagic stroke). some people may experience only a temporary disruption of blood flow to the brain (transient ischemic attack, or tia) that doesn't cause permanent damage. ischemic stroke about 80 percent of strokes are ischemic strokes. ischemic strokes occur when the arteries to your brain become narrowed or blocked, causing severely reduced blood flow (ischemia). the most common ischemic strokes include: - thrombotic stroke. a thrombotic stroke occurs when a blood clot (thrombus) forms in one of the arteries that supply blood to your brain. a clot may be caused by fatty deposits (plaque) that build up in arteries and cause reduced blood flow (atherosclerosis) or other artery conditions. - embolic stroke. an embolic stroke occurs when a blood clot or other debris forms away from your brain - commonly in your heart - and is swept through your bloodstream to lodge in narrower brain arteries. this type of blood clot is called an embolus. hemorrhagic stroke hemorrhagic stroke occurs when a blood vessel in your brain leaks or ruptures. brain hemorrhages can result from many conditions that affect your blood vessels. these include: - uncontrolled high blood pressure (hypertension) - overtreatment with anticoagulants (blood thinners) - weak spots in your blood vessel walls (aneurysms) a less common cause of hemorrhage is the rupture of an abnormal tangle of thin-walled blood vessels (arteriovenous malformation). types of hemorrhagic stroke include: - intracerebral hemorrhage. in an intracerebral hemorrhage, a blood vessel in the brain bursts and spills into the surrounding brain tissue, damaging brain cells. brain cells beyond the leak are deprived of blood and are also damaged. high blood pressure, trauma, vascular malformations, use of blood-thinning medications and other conditions may cause an intracerebral hemorrhage. - subarachnoid hemorrhage. in a subarachnoid hemorrhage, an artery on or near the surface of your brain bursts and spills into the space between the surface of your brain and your skull. this bleeding is often signaled by a sudden, severe headache. a subarachnoid hemorrhage is commonly caused by the bursting of a small sack-shaped or berry-shaped aneurysm. after the hemorrhage, the blood vessels in your brain may widen and narrow erratically (vasospasm), causing brain cell damage by further limiting blood flow. transient ischemic attack (tia) a transient ischemic attack (tia) - sometimes known as a ministroke - is a temporary period of symptoms similar to those you'd have in a stroke. a temporary decrease in blood supply to part of your brain causes tias, which may last as little as five minutes. like an ischemic stroke, a tia occurs when a clot or debris blocks blood flow to part of your nervous system - but there is no permanent tissue damage and no lasting symptoms. seek emergency care even if your symptoms seem to clear up. having a tia puts you at greater risk of having a full-blown stroke, causing permanent damage later. if you've had a tia, it means there's likely a partially blocked or narrowed artery leading to your brain or a clot source in the heart. it's not possible to tell if you're having a stroke or a tia based only on your symptoms. even when symptoms last for under an hour, there is still a risk of permanent tissue damage. many factors can increase your stroke risk. some factors can also increase your chances of having a heart attack. potentially treatable stroke risk factors include: lifestyle risk factors - being overweight or obese - physical inactivity - heavy or binge drinking - use of illicit drugs such as cocaine and methamphetamines medical risk factors - blood pressure readings higher than 120/80 millimeters of mercury (mm hg) - cigarette smoking or exposure to secondhand smoke - high cholesterol - diabetes - obstructive sleep apnea - cardiovascular disease, including heart failure, heart defects, heart infection or abnormal heart rhythm - personal or family history of stroke, heart attack or transient ischemic attack. other factors associated with a higher risk of stroke include: - age -people age 55 or older have a higher risk of stroke than do younger people. - race - african-americans have a higher risk of stroke than do people of other races. - sex - men have a higher risk of stroke than women. women are usually older when they have strokes, and they're more likely to die of strokes than are men. - hormones - use of birth control pills or hormone therapies that include estrogen, as well as increased estrogen levels from pregnancy and childbirth. a stroke can sometimes cause temporary or permanent disabilities, depending on how long the brain lacks blood flow and which part was affected. complications may include: - paralysis or loss of muscle movement. you may become paralyzed on one side of your body, or lose control of certain muscles, such as those on one side of your face or one arm. physical therapy may help you return to activities affected by paralysis, such as walking, eating and dressing. - difficulty talking or swallowing. a stroke might affect control of the muscles in your mouth and throat, making it difficult for you to talk clearly (dysarthria), swallow (dysphagia) or eat. you also may have difficulty with language (aphasia), including speaking or understanding speech, reading, or writing. therapy with a speech-language pathologist might help. - memory loss or thinking difficulties. many people who have had strokes experience some memory loss. others may have difficulty thinking, making judgments, reasoning and understanding concepts. - emotional problems. people who have had strokes may have more difficulty controlling their emotions, or they may develop depression. - pain. pain, numbness or other strange sensations may occur in the parts of the body affected by stroke. for example, if a stroke causes you to lose feeling in your left arm, you may develop an uncomfortable tingling sensation in that arm. people also may be sensitive to temperature changes, especially extreme cold, after a stroke. this complication is known as central stroke pain or central pain syndrome. this condition generally develops several weeks after a stroke, and it may improve over time. but because the pain is caused by a problem in your brain, rather than a physical injury, there are few treatments. - changes in behavior and self-care ability. people who have had strokes may become more withdrawn and less social or more impulsive. they may need help with grooming and daily chores. as with any brain injury, the success of treating these complications varies from person to person. to determine the most appropriate treatment for your stroke, your emergency team needs to evaluate the type of stroke you're having and the areas of your brain affected by the stroke. they also need to rule out other possible causes of your symptoms, such as a brain tumor or a drug reaction. your doctor may use several tests to determine your risk of stroke, including: - physical examination. your doctor will ask you or a family member what symptoms you've been having, when they started and what you were doing when they began. your doctor then will evaluate whether these symptoms are still present. your doctor will want to know what medications you take and whether you have experienced any head injuries. you'll be asked about your personal and family history of heart disease, transient ischemic attack and stroke. your doctor will check your blood pressure and use a stethoscope to listen to your heart and to listen for a whooshing sound (bruit) over your neck (carotid) arteries, which may indicate atherosclerosis. your doctor may also use an ophthalmoscope to check for signs of tiny cholesterol crystals or clots in the blood vessels at the back of your eyes. - blood tests. you may have several blood tests, which tell your care team how fast your blood clots, whether your blood sugar is abnormally high or low, whether critical blood chemicals are out of balance, or whether you may have an infection. managing your blood's clotting time and levels of sugar and other key chemicals will be part of your stroke care. - computerized tomography (ct) scan. a ct scan uses a series of x-rays to create a detailed image of your brain. a ct scan can show a hemorrhage, tumor, stroke and other conditions. doctors may inject a dye into your bloodstream to view your blood vessels in your neck and brain in greater detail (computerized tomography angiography). there are different types of ct scans that your doctor may use depending on your situation. - magnetic resonance imaging (mri). an mri uses powerful radio waves and magnets to create a detailed view of your brain. an mri can detect brain tissue damaged by an ischemic stroke and brain hemorrhages. your doctor may inject a dye into a blood vessel to view the arteries and veins and highlight blood flow (magnetic resonance angiography, or magnetic resonance venography). - carotid ultrasound. in this test, sound waves create detailed images of the inside of the carotid arteries in your neck. this test shows buildup of fatty deposits (plaques) and blood flow in your carotid arteries. - cerebral angiogram. in this test, your doctor inserts a thin, flexible tube (catheter) through a small incision, usually in your groin, and guides it through your major arteries and into your carotid or vertebral artery. then your doctor injects a dye into your blood vessels to make them visible under x-ray imaging. this procedure gives a detailed view of arteries in your brain and neck. - echocardiogram. an echocardiogram uses sound waves to create detailed images of your heart. an echocardiogram can find a source of clots in your heart that may have traveled from your heart to your brain and caused your stroke. you may have a transesophageal echocardiogram. in this test, your doctor inserts a flexible tube with a small device (transducer) attached into your throat and down into the tube that connects the back of your mouth to your stomach (esophagus). because your esophagus is directly behind your heart, a transesophageal echocardiogram can create clear, detailed ultrasound images of your heart and any blood clots. emergency treatment for stroke depends on whether you're having an ischemic stroke blocking an artery - the most common kind - or a hemorrhagic stroke that involves bleeding into the brain. ischemic stroke to treat an ischemic stroke, doctors must quickly restore blood flow to your brain. emergency treatment with medications. therapy with clot-busting drugs must start within 4.5 hours if they are given into the vein - and the sooner, the better. quick treatment not only improves your chances of survival but also may reduce complications. you may be given: - intravenous injection of tissue plasminogen activator (tpa). this injection of recombinant tissue plasminogen activator (tpa), also called alteplase, is considered the gold standard treatment for ischemic stroke. an injection of tpa is usually given through a vein in the arm. this potent clot-busting drug ideally is given within three hours. in some instances, tpa can be given up to 4.5 hours after stroke symptoms begin. this drug restores blood flow by dissolving the blood clot causing your stroke, and it may help people who have had strokes recover more fully. your doctor will consider certain risks, such as potential bleeding in the brain, to determine if tpa is appropriate for you. emergency endovascular procedures. doctors sometimes treat ischemic strokes with procedures performed directly inside the blocked blood vessel. these procedures must be performed as soon as possible, depending on features of the blood clot: - medications delivered directly to the brain. doctors may insert a long, thin tube (catheter) through an artery in your groin and thread it to your brain to deliver tpa directly into the area where the stroke is occurring. this is called intra-arterial thrombolysis. the time window for this treatment is somewhat longer than for intravenous tpa, but is still limited. - removing the clot with a stent retriever. doctors may use a catheter to maneuver a device into the blocked blood vessel in your brain and trap and remove the clot. this procedure is particularly beneficial for people with large clots that can't be completely dissolved with tpa, though this procedure is often performed in combination with intravenous tpa. several large and recent studies suggest that, depending on the location of the clot and other factors, endovascular therapy might be the most effective treatment. endovascular therapy has been shown to significantly improve outcomes and reduce long-term disability after ischemic stroke. other procedures. to decrease your risk of having another stroke or transient ischemic attack, your doctor may recommend a procedure to open up an artery that's narrowed by plaque. doctors sometimes recommend the following procedures to prevent a stroke. options will vary depending on your situation: - carotid endarterectomy. in a carotid endarterectomy, a surgeon removes plaques from arteries that run along each side of your neck to your brain (carotid arteries). in this procedure, your surgeon makes an incision along the front of your neck, opens your carotid artery and removes plaque that blocks the carotid artery. your surgeon then repairs the artery with stitches or a patch made from a vein or artificial material (graft). the procedure may reduce your risk of ischemic stroke. however, a carotid endarterectomy also involves risks, especially for people with heart disease or other medical conditions. - angioplasty and stents. in an angioplasty, a surgeon usually accesses your carotid arteries through an artery in your groin. here, your surgeon can gently and safely navigate to the carotid arteries in your neck. a balloon is then inflated to expand the narrowed artery. then a stent can be inserted to support the opened artery. hemorrhagic stroke emergency treatment of hemorrhagic stroke focuses on controlling your bleeding and reducing pressure in your brain. you might also need surgery to help reduce future risk. emergency measures. if you take warfarin (coumadin, jantoven) or anti-platelet drugs such as clopidogrel (plavix) to prevent blood clots, you may be given drugs or transfusions of blood products to counteract the blood thinners' effects. you may also be given drugs to lower pressure in your brain (intracranial pressure), lower your blood pressure, prevent vasospasm or prevent seizures. once the bleeding in your brain stops, treatment usually involves supportive medical care while your body absorbs the blood. healing is similar to what happens while a bad bruise goes away. if the area of bleeding is large, your doctor may perform surgery to remove the blood and relieve pressure on your brain. surgical blood vessel repair. surgery may be used to repair blood vessel abnormalities associated with hemorrhagic strokes. your doctor may recommend one of these procedures after a stroke or if an aneurysm or arteriovenous malformation (avm) or other type of vascular malformation caused your hemorrhagic stroke: - surgical clipping. a surgeon places a tiny clamp at the base of the aneurysm, to stop blood flow to it. this clamp can keep the aneurysm from bursting, or it can prevent re-bleeding of an aneurysm that has recently hemorrhaged. - coiling (endovascular embolization). a surgeon inserts a catheter into an artery in your groin and guides it to your brain using x-ray imaging. tiny detachable coils are guided into the aneurysm (aneurysm coiling). the coils fill the aneurysm, which blocks blood flow into the aneurysm and causes the blood to clot. - surgical avm removal. surgeons may remove a smaller avm if it's located in an accessible area of your brain, to eliminate the risk of rupture and lower the risk of hemorrhagic stroke. however, it's not always possible to remove an avm if its removal would cause too large a reduction in brain function, or if it's large or located deep within your brain. - stereotactic radiosurgery. using multiple beams of highly focused radiation, stereotactic radiosurgery is an advanced minimally invasive treatment used to repair vascular malformations. stroke recovery and rehabilitation after emergency treatment, stroke care focuses on helping you recover as much function as possible and return to independent living. the impact of your stroke depends on the area of the brain involved and the amount of tissue damaged. if your stroke affected the right side of your brain, your movement and sensation on the left side of your body may be affected. if your stroke damaged the brain tissue on the left side of your brain, your movement and sensation on the right side of your body may be affected. brain damage to the left side of your brain may cause speech and language disorders. in addition, if you've had a stroke, you may have problems with breathing, swallowing, balancing and vision. most stroke survivors receive treatment in a rehabilitation program. your doctor will recommend the most rigorous therapy program you can handle based on your age, overall health and degree of disability from your stroke. your doctor will take into consideration your lifestyle, interests and priorities, and the availability of family members or other caregivers. your rehabilitation program may begin before you leave the hospital. after discharge, you might continue your program in a rehabilitation unit of the same hospital, another rehabilitation unit or skilled nursing facility, an outpatient unit, or your home. every person's stroke recovery is different. depending on your condition, your treatment team may include: - doctor trained in brain conditions (neurologist) - rehabilitation doctor (physiatrist) - nurse - dietitian - physical therapist - occupational therapist - recreational therapist - speech pathologist - social worker - case manager - psychologist or psychiatrist - chaplain one way to evaluate the care of patients diagnosed with stroke is to look at the percentage of patients receiving the timely and effective care measures that are appropriate. the goal is 100 percent. the graph below displays the percentage of eligible mayo clinic patients diagnosed with stroke receiving all of the appropriate care measures. timely and effective care carotid endarterectomy mortality rate see related graph. carotid stenting mortality rate see related graph. comprehensive stroke measure see related graph. comprehensive stroke - post thrombolysis revascularization rate see related graph. comprehensive stroke - timeliness of iv t-pa therapy see related graph. for additional information and data visit medicare hospital compare. for additional information about quality at mayo clinic visit quality measures.\n6 - stroke: a stroke occurs if the flow of oxygen-rich blood to a portion of the brain is blocked. without oxygen, brain cells start to die after a few minutes. sudden bleeding in the brain also can cause a stroke if it damages brain cells. if brain cells die or are damaged because of a stroke, symptoms occur in the parts of the body that these brain cells control. examples of stroke symptoms include sudden weakness; paralysis or numbness of the face, arms, or legs (paralysis is an inability to move); trouble speaking or understanding speech; and trouble seeing. a stroke is a serious medical condition that requires emergency care. a stroke can cause lasting brain damage, long-term disability, or even death. if you think you or someone else is having a stroke, call 9–1–1 right away. do not drive to the hospital or let someone else drive you. call an ambulance so that medical personnel can begin life-saving treatment on the way to the emergency room. during a stroke, every minute counts. overview the two main types of stroke are ischemic (is-ke-mik) and hemorrhagic (hem-ah-raj-ik). ischemic is the more common type of stroke. an ischemic stroke occurs if an artery that supplies oxygen-rich blood to the brain becomes blocked. blood clots often cause the blockages that lead to ischemic strokes. a hemorrhagic stroke occurs if an artery in the brain leaks blood or ruptures (breaks open). the pressure from the leaked blood damages brain cells. high blood pressure and aneurysms (an-u-risms) are examples of conditions that can cause hemorrhagic strokes. (aneurysms are balloon-like bulges in an artery that can stretch and burst.) another condition that’s similar to a stroke is a transient ischemic attack, also called a tia or “mini-stroke.” a tia occurs if blood flow to a portion of the brain is blocked only for a short time. thus, damage to the brain cells isn’t permanent (lasting). like ischemic strokes, tias often are caused by blood clots. although tias are not full-blown strokes, they greatly increase the risk of having a stroke. if you have a tia, it’s important for your doctor to find the cause so you can take steps to prevent a stroke. both strokes and tias require emergency care. outlook stroke is a leading cause of death in the united states. many factors can raise your risk of having a stroke. talk with your doctor about how you can control these risk factors and help prevent a stroke. if you have a stroke, prompt treatment can reduce damage to your brain and help you avoid lasting disabilities. prompt treatment also may help prevent another stroke. researchers continue to study the causes and risk factors for stroke. they’re also finding new and better treatments and new ways to help the brain repair itself after a stroke. ischemic stroke an ischemic stroke occurs if an artery that supplies oxygen-rich blood to the brain becomes blocked. blood clots often cause the blockages that lead to ischemic strokes. the two types of ischemic stroke are thrombotic (throm-bot-ik) and embolic (em-bol-ik). in a thrombotic stroke, a blood clot (thrombus) forms in an artery that supplies blood to the brain. in an embolic stroke, a blood clot or other substance (such as plaque, a fatty material) travels through the bloodstream to an artery in the brain. (a blood clot or piece of plaque that travels through the bloodstream is called an embolus.) with both types of ischemic stroke, the blood clot or plaque blocks the flow of oxygen-rich blood to a portion of the brain. ischemic stroke hemorrhagic stroke a hemorrhagic stroke occurs if an artery in the brain leaks blood or ruptures (breaks open). the pressure from the leaked blood damages brain cells. the two types of hemorrhagic stroke are intracerebral (in-trah-ser-e-bral) and subarachnoid (sub-ah-rak-noyd). in an intracerebral hemorrhage, a blood vessel inside the brain leaks blood or ruptures. in a subarachnoid hemorrhage, a blood vessel on the surface of the brain leaks blood or ruptures. when this happens, bleeding occurs between the inner and middle layers of the membranes that cover the brain. in both types of hemorrhagic stroke, the leaked blood causes swelling of the brain and increased pressure in the skull. the swelling and pressure damage cells and tissues in the brain. hemorrhagic stroke brain attack cerebrovascular accident (cva) hemorrhagic stroke (includes intracerebral hemorrhage and subarachnoid hemorrhage) ischemic stroke (includes thrombotic stroke and embolic stroke) a transient ischemic attack sometimes is called a tia or mini-stroke. a tia has the same symptoms as a stroke, and it increases your risk of having a stroke. ischemic stroke and transient ischemic attack an ischemic stroke or transient ischemic attack (tia) occurs if an artery that supplies oxygen-rich blood to the brain becomes blocked. many medical conditions can increase the risk of ischemic stroke or tia. for example, atherosclerosis (ath-er-o-skler-o-sis) is a disease in which a fatty substance called plaque builds up on the inner walls of the arteries. plaque hardens and narrows the arteries, which limits the flow of blood to tissues and organs (such as the heart and brain). plaque in an artery can crack or rupture (break open). blood platelets (plate-lets), which are disc-shaped cell fragments, stick to the site of the plaque injury and clump together to form blood clots. these clots can partly or fully block an artery. plaque can build up in any artery in the body, including arteries in the heart, brain, and neck. the two main arteries on each side of the neck are called the carotid (ka-rot-id) arteries. these arteries supply oxygen-rich blood to the brain, face, scalp, and neck. when plaque builds up in the carotid arteries, the condition is called carotid artery disease. carotid artery disease causes many of the ischemic strokes and tias that occur in the united states. an embolic stroke (a type of ischemic stroke) or tia also can occur if a blood clot or piece of plaque breaks away from the wall of an artery. the clot or plaque can travel through the bloodstream and get stuck in one of the brain’s arteries. this stops blood flow through the artery and damages brain cells. heart conditions and blood disorders also can cause blood clots that can lead to a stroke or tia. for example, atrial fibrillation (a-tre-al fi-bri-la-shun), or af, is a common cause of embolic stroke. in af, the upper chambers of the heart contract in a very fast and irregular way. as a result, some blood pools in the heart. the pooling increases the risk of blood clots forming in the heart chambers. an ischemic stroke or tia also can occur because of lesions caused by atherosclerosis. these lesions may form in the small arteries of the brain, and they can block blood flow to the brain. hemorrhagic stroke sudden bleeding in the brain can cause a hemorrhagic stroke. the bleeding causes swelling of the brain and increased pressure in the skull. the swelling and pressure damage brain cells and tissues. examples of conditions that can cause a hemorrhagic stroke include high blood pressure, aneurysms, and arteriovenous (ar-teer-e-o-ve-nus) malformations (avms). \"blood pressure\" is the force of blood pushing against the walls of the arteries as the heart pumps blood. if blood pressure rises and stays high over time, it can damage the body in many ways. aneurysms are balloon-like bulges in an artery that can stretch and burst. avms are tangles of faulty arteries and veins that can rupture within the brain. high blood pressure can increase the risk of hemorrhagic stroke in people who have aneurysms or avms. certain traits, conditions, and habits can raise your risk of having a stroke or transient ischemic attack (tia). these traits, conditions, and habits are known as risk factors. the more risk factors you have, the more likely you are to have a stroke. you can treat or control some risk factors, such as high blood pressure and smoking. other risk factors, such as age and gender, you can’t control. the major risk factors for stroke include: high blood pressure. high blood pressure is the main risk factor for stroke. blood pressure is considered high if it stays at or above 140/90 millimeters of mercury (mmhg) over time. if you have diabetes or chronic kidney disease, high blood pressure is defined as 130/80 mmhg or higher. diabetes. diabetes is a disease in which the blood sugar level is high because the body doesn’t make enough insulin or doesn’t use its insulin properly. insulin is a hormone that helps move blood sugar into cells where it’s used for energy. heart diseases. coronary heart disease, cardiomyopathy, heart failure, and atrial fibrillation can cause blood clots that can lead to a stroke. smoking. smoking can damage blood vessels and raise blood pressure. smoking also may reduce the amount of oxygen that reaches your body’s tissues. exposure to secondhand smoke also can damage the blood vessels. age and gender. your risk of stroke increases as you get older. at younger ages, men are more likely than women to have strokes. however, women are more likely to die from strokes. women who take birth control pills also are at slightly higher risk of stroke. race and ethnicity. strokes occur more often in african american, alaska native, and american indian adults than in white, hispanic, or asian american adults. personal or family history of stroke or tia. if you’ve had a stroke, you’re at higher risk for another one. your risk of having a repeat stroke is the highest right after a stroke. a tia also increases your risk of having a stroke, as does having a family history of stroke. brain aneurysms or arteriovenous malformations (avms). aneurysms are balloon-like bulges in an artery that can stretch and burst. avms are tangles of faulty arteries and veins that can rupture (break open) within the brain. avms may be present at birth, but often aren’t diagnosed until they rupture. other risk factors for stroke, many of which of you can control, include: alcohol and illegal drug use, including cocaine, amphetamines, and other drugs certain medical conditions, such as sickle cell disease, vasculitis (inflammation of the blood vessels), and bleeding disorders lack of physical activity overweight and obesity stress and depression unhealthy cholesterol levels unhealthy diet use of nonsteroidal anti-inflammatory drugs (nsaids), but not aspirin, may increase the risk of heart attack or stroke, particularly in patients who have had a heart attack or cardiac bypass surgery. the risk may increase the longer nsaids are used. common nsaids include ibuprofen and naproxen. following a heart-healthy lifestyle can lower the risk of stroke. some people also may need to take medicines to lower their risk. sometimes strokes can occur in people who don’t have any known risk factors. the signs and symptoms of a stroke often develop quickly. however, they can develop over hours or even days. the type of symptoms depends on the type of stroke and the area of the brain that’s affected. how long symptoms last and how severe they are vary among different people. signs and symptoms of a stroke may include: sudden weakness paralysis (an inability to move) or numbness of the face, arms, or legs, especially on one side of the body confusion trouble speaking or understanding speech trouble seeing in one or both eyes problems breathing dizziness, trouble walking, loss of balance or coordination, and unexplained falls loss of consciousness sudden and severe headache a transient ischemic attack (tia) has the same signs and symptoms as a stroke. however, tia symptoms usually last less than 1–2 hours (although they may last up to 24 hours). a tia may occur only once in a person’s lifetime or more often. at first, it may not be possible to tell whether someone is having a tia or stroke. all stroke-like symptoms require medical care. if you think you or someone else is having a tia or stroke, call 9–1–1 right away. do not drive to the hospital or let someone else drive you. call an ambulance so that medical personnel can begin life-saving treatment on the way to the emergency room. during a stroke, every minute counts. stroke complications after you’ve had a stroke, you may develop other complications, such as: blood clots and muscle weakness. being immobile (unable to move around) for a long time can raise your risk of developing blood clots in the deep veins of the legs. being immobile also can lead to muscle weakness and decreased muscle flexibility. problems swallowing and pneumonia. if a stroke affects the muscles used for swallowing, you may have a hard time eating or drinking. you also may be at risk of inhaling food or drink into your lungs. if this happens, you may develop pneumonia. loss of bladder control. some strokes affect the muscles used to urinate. you may need a urinary catheter (a tube placed into the bladder) until you can urinate on your own. use of these catheters can lead to urinary tract infections. loss of bowel control or constipation also may occur after a stroke. your doctor will diagnose a stroke based on your signs and symptoms, your medical history, a physical exam, and test results. your doctor will want to find out the type of stroke you’ve had, its cause, the part of the brain that's affected, and whether you have bleeding in the brain. if your doctor thinks you’ve had a transient ischemic attack (tia), he or she will look for its cause to help prevent a future stroke. medical history and physical exam your doctor will ask you or a family member about your risk factors for stroke. examples of risk factors include high blood pressure, smoking, heart disease, and a personal or family history of stroke. your doctor also will ask about your signs and symptoms and when they began. during the physical exam, your doctor will check your mental alertness and your coordination and balance. he or she will check for numbness or weakness in your face, arms, and legs; confusion; and trouble speaking and seeing clearly. your doctor will look for signs of carotid artery disease, a common cause of ischemic stroke. he or she will listen to your carotid arteries with a stethoscope. a whooshing sound called a bruit (broo-e) may suggest changed or reduced blood flow due to plaque buildup in the carotid arteries. diagnostic tests and procedures your doctor may recommend one or more of the following tests to diagnose a stroke or tia. brain computed tomography a brain computed tomography (to-mog-rah-fee) scan, or brain ct scan, is a painless test that uses x rays to take clear, detailed pictures of your brain. this test often is done right after a stroke is suspected. a brain ct scan can show bleeding in the brain or damage to the brain cells from a stroke. the test also can show other brain conditions that may be causing your symptoms. magnetic resonance imaging magnetic resonance imaging (mri) uses magnets and radio waves to create pictures of the organs and structures in your body. this test can detect changes in brain tissue and damage to brain cells from a stroke. an mri may be used instead of, or in addition to, a ct scan to diagnose a stroke. computed tomography arteriogram and magnetic resonance arteriogram a ct arteriogram (cta) and magnetic resonance arteriogram (mra) can show the large blood vessels in the brain. these tests may give your doctor more information about the site of a blood clot and the flow of blood through your brain. carotid ultrasound carotid ultrasound is a painless and harmless test that uses sound waves to create pictures of the insides of your carotid arteries. these arteries supply oxygen-rich blood to your brain. carotid ultrasound shows whether plaque has narrowed or blocked your carotid arteries. your carotid ultrasound test may include a doppler ultrasound. doppler ultrasound is a special test that shows the speed and direction of blood moving through your blood vessels. carotid angiography carotid angiography (an-jee-og-ra-fee) is a test that uses dye and special x rays to show the insides of your carotid arteries. for this test, a small tube called a catheter is put into an artery, usually in the groin (upper thigh). the tube is then moved up into one of your carotid arteries. your doctor will inject a substance (called contrast dye) into the carotid artery. the dye helps make the artery visible on x-ray pictures. heart tests ekg (electrocardiogram) an ekg is a simple, painless test that records the heart's electrical activity. the test shows how fast the heart is beating and its rhythm (steady or irregular). an ekg also records the strength and timing of electrical signals as they pass through each part of the heart. an ekg can help detect heart problems that may have led to a stroke. for example, the test can help diagnose atrial fibrillation or a previous heart attack. echocardiography echocardiography (ek-o-kar-de-og-ra-fee), or echo, is a painless test that uses sound waves to create pictures of your heart. the test gives information about the size and shape of your heart and how well your heart's chambers and valves are working. echo can detect possible blood clots inside the heart and problems with the aorta. the aorta is the main artery that carries oxygen-rich blood from your heart to all parts of your body. blood tests your doctor also may use blood tests to help diagnose a stroke. a blood glucose test measures the amount of glucose (sugar) in your blood. low blood glucose levels may cause symptoms similar to those of a stroke. a platelet count measures the number of platelets in your blood. blood platelets are cell fragments that help your blood clot. abnormal platelet levels may be a sign of a bleeding disorder (not enough clotting) or a thrombotic disorder (too much clotting). your doctor also may recommend blood tests to measure how long it takes for your blood to clot. two tests that may be used are called pt and ptt tests. these tests show whether your blood is clotting normally. treatment for a stroke depends on whether it is ischemic or hemorrhagic. treatment for a transient ischemic attack (tia) depends on its cause, how much time has passed since symptoms began, and whether you have other medical conditions. strokes and tias are medical emergencies. if you have stroke symptoms, call 9–1–1 right away. do not drive to the hospital or let someone else drive you. call an ambulance so that medical personnel can begin lifesaving treatment on the way to the emergency room. during a stroke, every minute counts. once you receive immediate treatment, your doctor will try to treat your stroke risk factors and prevent complications by recommending heart-healthy lifestyle changes. treating an ischemic stroke or transient ischemic attack an ischemic stroke or tia occurs if an artery that supplies oxygen-rich blood to the brain becomes blocked. often, blood clots cause the blockages that lead to ischemic strokes and tias. treatment for an ischemic stroke or tia may include medicines and medical procedures. medicines if you have a stroke caused by a blood clot, you may be given a clot-dissolving, or clot-busting, medication called tissue plasminogen activator (tpa). a doctor will inject tpa into a vein in your arm. this type of medication must be given within 4 hours of symptom onset. ideally, it should be given as soon as possible. the sooner treatment begins, the better your chances of recovery. thus, it’s important to know the signs and symptoms of a stroke and to call 9–1–1 right away for emergency care. if you can’t have tpa for medical reasons, your doctor may give you antiplatelet medicine that helps stop platelets from clumping together to form blood clots or anticoagulant medicine (blood thinner) that keeps existing blood clots from getting larger. two common medicines are aspirin and clopidogrel. medical procedures if you have carotid artery disease, your doctor may recommend a carotid endarterectomy or carotid artery angioplasty. both procedures open blocked carotid arteries. researchers are testing other treatments for ischemic stroke, such as intra-arterial thrombolysis and mechanical clot removal in cerebral ischemia (merci). in intra-arterial thrombolysis, a long flexible tube called a catheter is put into your groin (upper thigh) and threaded to the tiny arteries of the brain. your doctor can deliver medicine through this catheter to break up a blood clot in the brain. merci is a device that can remove blood clots from an artery. during the procedure, a catheter is threaded through a carotid artery to the affected artery in the brain. the device is then used to pull the blood clot out through the catheter. treating a hemorrhagic stroke a hemorrhagic stroke occurs if an artery in the brain leaks blood or ruptures. the first steps in treating a hemorrhagic stroke are to find the cause of bleeding in the brain and then control it. unlike ischemic strokes, hemorrhagic strokes aren’t treated with antiplatelet medicines and blood thinners because these medicines can make bleeding worse. if you’re taking antiplatelet medicines or blood thinners and have a hemorrhagic stroke, you’ll be taken off the medicine. if high blood pressure is the cause of bleeding in the brain, your doctor may prescribe medicines to lower your blood pressure. this can help prevent further bleeding. surgery also may be needed to treat a hemorrhagic stroke. the types of surgery used include aneurysm clipping, coil embolization, and arteriovenous malformation (avm) repair. aneurysm clipping and coil embolization if an aneurysm (a balloon-like bulge in an artery) is the cause of a stroke, your doctor may recommend aneurysm clipping or coil embolization. aneurysm clipping is done to block off the aneurysm from the blood vessels in the brain. this surgery helps prevent further leaking of blood from the aneurysm. it also can help prevent the aneurysm from bursting again. during the procedure, a surgeon will make an incision (cut) in the brain and place a tiny clamp at the base of the aneurysm. you’ll be given medicine to make you sleep during the surgery. after the surgery, you’ll need to stay in the hospital’s intensive care unit for a few days. coil embolization is a less complex procedure for treating an aneurysm. the surgeon will insert a tube called a catheter into an artery in the groin. he or she will thread the tube to the site of the aneurysm. then, a tiny coil will be pushed through the tube and into the aneurysm. the coil will cause a blood clot to form, which will block blood flow through the aneurysm and prevent it from bursting again. coil embolization is done in a hospital. you’ll be given medicine to make you sleep during the surgery. arteriovenous malformation repair if an avm is the cause of a stroke, your doctor may recommend an avm repair. (an avm is a tangle of faulty arteries and veins that can rupture within the brain.) avm repair helps prevent further bleeding in the brain. doctors use several methods to repair avms. these methods include: injecting a substance into the blood vessels of the avm to block blood flow surgery to remove the avm using radiation to shrink the blood vessels of the avm treating stroke risk factors after initial treatment for a stroke or tia, your doctor will treat your risk factors. he or she may recommend heart-healthy lifestyle changes to help control your risk factors. heart-healthy lifestyle changes may include: heart-healthy eating aiming for a healthy weight managing stress physical activity quitting smoking if heart-healthy lifestyle changes aren’t enough, you may need medicine to control your risk factors.   taking action to control your risk factors can help prevent or delay a stroke. if you’ve already had a stroke. talk to your doctor about whether you may benefit from aspirin primary prevention, or using aspirin to help prevent your first stroke. the following heart-healthy lifestyle changes can help prevent your first stroke and help prevent you from having another one. be physically active. physical activity can improve your fitness level and health. talk with your doctor about what types and amounts of activity are safe for you. don’t smoke, or if you smoke or use tobacco, quit. smoking can damage and tighten blood vessels and raise your risk of stroke. talk with your doctor about programs and products that can help you quit. also, secondhand smoke can damage the blood vessels. aim for a healthy weight. if you’re overweight or obese, work with your doctor to create a reasonable weight loss plan. controlling your weight helps you control risk factors for stroke. make heart-healthy eating choices. heart-healthy eating can help lower your risk or prevent a stroke. manage stress. use techniques to lower your stress levels. if you or someone in your family has had a stroke, be sure to tell your doctor. by knowing your family history of stroke, you may be able to lower your risk factors and prevent or delay a stroke. if you’ve had a transient ischemic attack (tia), don’t ignore it. tias are warnings, and it’s important for your doctor to find the cause of the tia so you can take steps to prevent a stroke.   the time it takes to recover from a stroke varies—it can take weeks, months, or even years. some people recover fully, while others have long-term or lifelong disabilities. ongoing care, rehabilitation, and emotional support can help you recover and may even help prevent another stroke. if you’ve had a stroke, you’re at risk of having another one. know the warning signs and what to do if a stroke or transient ischemic attack (tia) occurs. call 9–1–1 as soon as symptoms start. do not drive to the hospital or let someone else drive you. by calling an ambulance, medical personnel can begin lifesaving treatment on the way to the emergency room. during a stroke, every minute counts. ongoing care heart-healthy lifestyle changes heart-healthy lifestyle changes can help you recover from a stroke and may help prevent another one. examples of these changes include heart-healthy eating, aiming for a healthy weight, managing stress, physical activity, and quitting smoking. medicines your doctor also may prescribe medicines to help you recover from a stroke or control your stroke risk factors. take all of your medicines as your doctor prescribes. don’t cut back on the dosage unless your doctor tells you to do so. if you have side effects or other problems related to your medicines, talk with your doctor. medicines called anticoagulants or blood thinners, which prevent blood clots or keep existing blood clots from getting larger, are the main treatment for people who have known carotid artery disease, which can lead to a stroke. two common medicines are aspirin and clopidogrel. you’ll likely need routine blood tests to check how well these medicines are working. the most common side effect of blood thinners is bleeding. this happens if the medicine thins your blood too much. this side effect can be life-threatening. bleeding can occur inside your body cavities (internal bleeding) or from the surface of your skin (external bleeding). know the warning signs of bleeding so you can get help right away. they include: blood in your urine, bright red blood in your stools, or black tarry stools bright red vomit or vomit that looks like coffee grounds increased menstrual flow pain in your abdomen or severe pain in your head unexplained bleeding from the gums and nose unexplained bruising or tiny red or purple dots on the skin a lot of bleeding after a fall or injury or easy bruising or bleeding also may mean that your blood is too thin. call your doctor right away if you have any of these signs. if you have severe bleeding, call 9–1–1. your doctor also may discuss beginning statin treatment. doctors recommend statin medications for many people because they help lower or control blood cholesterol levels and decrease the chance for heart attack and stroke. doctors usually prescribe statins for people who have: diabetes heart disease or have had a stroke high ldl cholesterol levels you should still follow a heart-healthy lifestyle, even if you take medicines to control your risk factors for stroke. take all medicines regularly, as your doctor prescribes. don’t change the amount of your medicine or skip a dose unless your doctor tells you to. talk with your doctor about how often you should schedule follow-up visits or tests. these visits and tests can help your doctor monitor your stroke risk factors and adjust your treatment as needed. rehabilitation after a stroke, you may need rehabilitation (rehab) to help you recover. rehab may include working with speech, physical, and occupational therapists. language, speech, and memory you may have trouble communicating after a stroke. you may not be able to find the right words, put complete sentences together, or put words together in a way that makes sense. you also may have problems with your memory and thinking clearly. these problems can be very frustrating. speech and language therapists can help you learn ways to communicate again and improve your memory. muscle and nerve problems a stroke may affect only one side of the body or part of one side. it can cause paralysis (an inability to move) or muscle weakness, which can put you at risk for falling. physical and occupational therapists can help you strengthen and stretch your muscles. they also can help you relearn how to do daily activities, such as dressing, eating, and bathing. bladder and bowel problems a stroke can affect the muscles and nerves that control the bladder and bowels. you may feel like you have to urinate often, even if your bladder isn’t full. you may not be able to get to the bathroom in time. medicines and a bladder or bowel specialist can help with these problems. swallowing and eating problems you may have trouble swallowing after a stroke. signs of this problem are coughing or choking during eating or coughing up food after eating. a speech therapist can help you with these issues. he or she may suggest changes to your diet, such as eating puréed (finely chopped) foods or drinking thick liquids. mental health care and support after a stroke, you may have changes in your behavior or judgment. for example, your mood may change quickly. because of these and other changes, you may feel scared, anxious, and depressed. recovering from a stroke can be slow and frustrating. talk about how you feel with your health care team. talking to a professional counselor also can help. if you’re very depressed, your doctor may recommend medicines or other treatments that can improve your quality of life. joining a patient support group may help you adjust to life after a stroke. you can see how other people have coped with having strokes. talk with your doctor about local support groups, or check with an area medical center. support from family and friends also can help relieve fear and anxiety. let your loved ones know how you feel and what they can do to help you.\n7 - vasovagal syncope: vasovagal syncope (vay-zoh-vay-gul sing-kuh-pee) occurs when you faint because your body overreacts to certain triggers, such as the sight of blood or extreme emotional distress. it may also be called neurocardiogenic syncope. the vasovagal syncope trigger causes your heart rate and blood pressure to drop suddenly. that leads to reduced blood flow to your brain, causing you to briefly lose consciousness. vasovagal syncope is usually harmless and requires no treatment. but it's possible you may injure yourself during a vasovagal syncope episode. your doctor may recommend tests to rule out more serious causes of fainting, such as heart disorders. before you faint due to vasovagal syncope, you may experience some of the following: - pale skin - lightheadedness - tunnel vision - your field of vision narrows so that you see only what's in front of you - nausea - feeling warm - a cold, clammy sweat - yawning - blurred vision during a vasovagal syncope episode, bystanders may notice: - jerky, abnormal movements - a slow, weak pulse - dilated pupils recovery after a vasovagal episode generally begins in less than a minute. however, if you stand up too soon after fainting - within about 15 to 30 minutes - you're at risk of fainting again. when to see a doctor fainting can be a sign of a more serious condition, such as a heart or brain disorder. you may want to consult your doctor after a fainting spell, especially if you never had one before. vasovagal syncope occurs when the part of your nervous system that regulates heart rate and blood pressure malfunctions in response to a trigger, such as the sight of blood. your heart rate slows, and the blood vessels in your legs widen (dilate.) this allows blood to pool in your legs, which lowers your blood pressure. combined, the drop in blood pressure and slowed heart rate quickly reduce blood flow to your brain, and you faint. sometimes there is no classical vasovagal syncope trigger, but common triggers include: - standing for long periods of time - heat exposure - seeing blood - having blood drawn - fear of bodily injury - straining, such as to have a bowel movement diagnosing vasovagal syncope often involves ruling out other possible causes of your fainting - particularly heart-related problems. these tests may include: - electrocardiogram. this test records the electrical signals your heart produces. it can detect irregular heart rhythms and other cardiac problems. you may need to wear a portable monitor for at least a day or as long as a month. - echocardiogram. this test uses ultrasound imaging to view the heart and look for conditions, such as valve problems, that can cause fainting. - exercise stress test. this test studies heart rhythms during exercise. it's usually conducted while you walk or jog on a treadmill. - blood tests. your doctor may look for conditions, such as anemia, that can cause or contribute to fainting spells. tilt table test if no heart problems appear to cause your fainting, your doctor may suggest you undergo a tilt table test. for a tilt table test: - you lie flat on your back on a table. - the table changes position, tilting you upward at various angles. - a technician monitors your heart rhythms and blood pressure to see if the postural changes affect them. in most cases of vasovagal syncope, treatment is unnecessary. your doctor may help you identify your fainting triggers and discuss ways you might avoid them. however, if you experience vasovagal syncope often enough to interfere with your quality of life, your doctor may suggest trying one or more of the following remedies. medications a drug called fludrocortisone acetate that's normally used to treat low blood pressure may be helpful in preventing vasovagal syncope. selective serotonin inhibitors may also be used. therapies your doctor may recommend ways to decrease the pooling of blood in your legs. these may include foot exercises, wearing compression stockings or tensing your leg muscles when standing. you may need to increase salt in your diet if you don't usually have high blood pressure. avoid prolonged standing - especially in hot, crowded places - and drink plenty of fluids. surgery very rarely, inserting an electrical pacemaker to regulate the heartbeat may help some people with vasovagal syncope who haven't been helped by other treatments.\n"
     ],
     "output_type": "stream"
    }
   ],
   "source": [
    "import unicodedata\n",
    "import re\n",
    "\n",
    "#s=QA[201][1][0]\n",
    "ranked_answ = []\n",
    "print('Question:',QA[question_num][0])\n",
    "for i in range(len(QA[question_num][1])):\n",
    "    answ = QA[question_num][1]\n",
    "    rank = QA[question_num][2]\n",
    "    ranked_answ.append((int(rank[i]),answ[i]))\n",
    "\n",
    "ranked_answ = sorted(ranked_answ, key=lambda x: x[0])\n",
    "for i in range(len(ranked_answ)):\n",
    "    print(ranked_answ[i][0],'-',unicodedata.normalize(\"NFKD\", ranked_answ[i][1]))\n",
    "\n",
    "#s=unicodedata.normalize(\"NFKD\", s)\n",
    "#re.sub(r'\\[\\d\\]', '', s)"
   ]
  },
  {
   "cell_type": "markdown",
   "source": [
    "## Play with BERT based models\n",
    "\n",
    "### BERT: "
   ],
   "metadata": {
    "collapsed": false,
    "pycharm": {
     "name": "#%% md\n"
    }
   }
  },
  {
   "cell_type": "code",
   "execution_count": 8,
   "metadata": {
    "colab": {
     "base_uri": "https://localhost:8080/",
     "height": 66,
     "referenced_widgets": [
      "147abfcfb0ac497a9736336ecf1a5c7a",
      "ff0c4714c57f4cc697301ef2bf58eb28",
      "2441cd058509472ea3fef74f72b3ba0f",
      "ab9fea5b4c2f4426827ecfbd711097a9",
      "5493bc3fc0704e3e8ea055de72f52367",
      "71fb84f8487542429fa488d0c6fef2a6",
      "1398398f8aef4f27b93bc85edacdd770",
      "e9b952cefb264ce28c1988a5d0652459"
     ]
    },
    "id": "_8OBtYhoELGw",
    "outputId": "dcfb4d41-073b-41c9-fe0b-78f321b95e71",
    "pycharm": {
     "is_executing": false
    }
   },
   "outputs": [],
   "source": [
    "import torch\n",
    "from transformers import BertTokenizer, BertModel\n",
    "\n",
    "# OPTIONAL: if you want to have more information on what's happening, activate the logger as follows\n",
    "import logging\n",
    "#logging.basicConfig(level=logging.INFO)\n",
    "\n",
    "import matplotlib.pyplot as plt\n",
    "# % matplotlib inline\n",
    "\n",
    "# Load pre-trained model tokenizer (vocabulary)\n",
    "tokenizer = BertTokenizer.from_pretrained('bert-base-uncased')\n",
    "tokenizer = BertTokenizer.from_pretrained(\"dmis-lab/biobert-large-cased-v1.1\")"
   ]
  },
  {
   "cell_type": "code",
   "execution_count": 9,
   "metadata": {
    "id": "yrbouUBaSoqL",
    "pycharm": {
     "is_executing": false
    }
   },
   "outputs": [],
   "source": [
    "\n",
    "# Choose a question that we want embeddings for:\n",
    "text = QA[13][0] \n",
    "# Introduce special tokens for BERT\n",
    "marked_text = \"[CLS] \" + text #+ \" [SEP]\"\n",
    "\n",
    "# Tokenize our sentence with the BERT tokenizer.\n",
    "tokenized_text = tokenizer.tokenize(marked_text)"
   ]
  },
  {
   "cell_type": "code",
   "execution_count": 10,
   "metadata": {
    "colab": {
     "base_uri": "https://localhost:8080/"
    },
    "collapsed": true,
    "id": "U37tJBtGS4UH",
    "jupyter": {
     "outputs_hidden": true
    },
    "outputId": "3ea03b59-d771-44da-cfee-8d07f79ad58e",
    "pycharm": {
     "is_executing": false
    }
   },
   "outputs": [
    {
     "data": {
      "text/plain": "['[CLS]', 'what', 'are', 'the', 'treatments', 'of', 'stroke', '?']"
     },
     "metadata": {},
     "output_type": "execute_result",
     "execution_count": 10
    }
   ],
   "source": [
    "# Print tokenized text\n",
    "tokenized_text"
   ]
  },
  {
   "cell_type": "code",
   "execution_count": 11,
   "metadata": {
    "colab": {
     "base_uri": "https://localhost:8080/",
     "height": 1000,
     "referenced_widgets": [
      "b4961a103212423296653018838aaa87",
      "10eb159905cb4da881e506bea7ef3bf7",
      "1a0d610808c54752a01d8fafe188c6a5",
      "98128371afc04f1495643f1524b95c7a",
      "ff2c3058101f4d7b8ec7e6b479ab5924",
      "3a3968f8f4114cbcbd04edb27c82717e",
      "4080dd44dc56497eb9585b20104cf45a",
      "e40dd44721f5472baae808befb672eb9",
      "d8865f8d7f684edcb9c323c7b30ac7a6",
      "1f8d2fe393ea4898a5d9384974cc7e6f",
      "b97b0de7f6684d60a0744f03f63c3510",
      "e7e5210cbf89470d914f0dec74f58fc0",
      "07b7a135531e43fb8174e780bf4a54e9",
      "9c8345c9dea24483a59817527326f1ef",
      "dad2627650c6436fa21d6cf6bb1b2143",
      "85f6584af22b4a1e931aad09f7fe66b2"
     ]
    },
    "collapsed": true,
    "id": "N_VPdqqZS6KX",
    "jupyter": {
     "outputs_hidden": true
    },
    "outputId": "92264023-b3d7-4d85-97c7-389960aae062",
    "pycharm": {
     "is_executing": false
    }
   },
   "outputs": [
    {
     "data": {
      "text/plain": "BertModel(\n  (embeddings): BertEmbeddings(\n    (word_embeddings): Embedding(58996, 1024, padding_idx=0)\n    (position_embeddings): Embedding(512, 1024)\n    (token_type_embeddings): Embedding(2, 1024)\n    (LayerNorm): LayerNorm((1024,), eps=1e-12, elementwise_affine=True)\n    (dropout): Dropout(p=0.1, inplace=False)\n  )\n  (encoder): BertEncoder(\n    (layer): ModuleList(\n      (0): BertLayer(\n        (attention): BertAttention(\n          (self): BertSelfAttention(\n            (query): Linear(in_features=1024, out_features=1024, bias=True)\n            (key): Linear(in_features=1024, out_features=1024, bias=True)\n            (value): Linear(in_features=1024, out_features=1024, bias=True)\n            (dropout): Dropout(p=0.1, inplace=False)\n          )\n          (output): BertSelfOutput(\n            (dense): Linear(in_features=1024, out_features=1024, bias=True)\n            (LayerNorm): LayerNorm((1024,), eps=1e-12, elementwise_affine=True)\n            (dropout): Dropout(p=0.1, inplace=False)\n          )\n        )\n        (intermediate): BertIntermediate(\n          (dense): Linear(in_features=1024, out_features=4096, bias=True)\n        )\n        (output): BertOutput(\n          (dense): Linear(in_features=4096, out_features=1024, bias=True)\n          (LayerNorm): LayerNorm((1024,), eps=1e-12, elementwise_affine=True)\n          (dropout): Dropout(p=0.1, inplace=False)\n        )\n      )\n      (1): BertLayer(\n        (attention): BertAttention(\n          (self): BertSelfAttention(\n            (query): Linear(in_features=1024, out_features=1024, bias=True)\n            (key): Linear(in_features=1024, out_features=1024, bias=True)\n            (value): Linear(in_features=1024, out_features=1024, bias=True)\n            (dropout): Dropout(p=0.1, inplace=False)\n          )\n          (output): BertSelfOutput(\n            (dense): Linear(in_features=1024, out_features=1024, bias=True)\n            (LayerNorm): LayerNorm((1024,), eps=1e-12, elementwise_affine=True)\n            (dropout): Dropout(p=0.1, inplace=False)\n          )\n        )\n        (intermediate): BertIntermediate(\n          (dense): Linear(in_features=1024, out_features=4096, bias=True)\n        )\n        (output): BertOutput(\n          (dense): Linear(in_features=4096, out_features=1024, bias=True)\n          (LayerNorm): LayerNorm((1024,), eps=1e-12, elementwise_affine=True)\n          (dropout): Dropout(p=0.1, inplace=False)\n        )\n      )\n      (2): BertLayer(\n        (attention): BertAttention(\n          (self): BertSelfAttention(\n            (query): Linear(in_features=1024, out_features=1024, bias=True)\n            (key): Linear(in_features=1024, out_features=1024, bias=True)\n            (value): Linear(in_features=1024, out_features=1024, bias=True)\n            (dropout): Dropout(p=0.1, inplace=False)\n          )\n          (output): BertSelfOutput(\n            (dense): Linear(in_features=1024, out_features=1024, bias=True)\n            (LayerNorm): LayerNorm((1024,), eps=1e-12, elementwise_affine=True)\n            (dropout): Dropout(p=0.1, inplace=False)\n          )\n        )\n        (intermediate): BertIntermediate(\n          (dense): Linear(in_features=1024, out_features=4096, bias=True)\n        )\n        (output): BertOutput(\n          (dense): Linear(in_features=4096, out_features=1024, bias=True)\n          (LayerNorm): LayerNorm((1024,), eps=1e-12, elementwise_affine=True)\n          (dropout): Dropout(p=0.1, inplace=False)\n        )\n      )\n      (3): BertLayer(\n        (attention): BertAttention(\n          (self): BertSelfAttention(\n            (query): Linear(in_features=1024, out_features=1024, bias=True)\n            (key): Linear(in_features=1024, out_features=1024, bias=True)\n            (value): Linear(in_features=1024, out_features=1024, bias=True)\n            (dropout): Dropout(p=0.1, inplace=False)\n          )\n          (output): BertSelfOutput(\n            (dense): Linear(in_features=1024, out_features=1024, bias=True)\n            (LayerNorm): LayerNorm((1024,), eps=1e-12, elementwise_affine=True)\n            (dropout): Dropout(p=0.1, inplace=False)\n          )\n        )\n        (intermediate): BertIntermediate(\n          (dense): Linear(in_features=1024, out_features=4096, bias=True)\n        )\n        (output): BertOutput(\n          (dense): Linear(in_features=4096, out_features=1024, bias=True)\n          (LayerNorm): LayerNorm((1024,), eps=1e-12, elementwise_affine=True)\n          (dropout): Dropout(p=0.1, inplace=False)\n        )\n      )\n      (4): BertLayer(\n        (attention): BertAttention(\n          (self): BertSelfAttention(\n            (query): Linear(in_features=1024, out_features=1024, bias=True)\n            (key): Linear(in_features=1024, out_features=1024, bias=True)\n            (value): Linear(in_features=1024, out_features=1024, bias=True)\n            (dropout): Dropout(p=0.1, inplace=False)\n          )\n          (output): BertSelfOutput(\n            (dense): Linear(in_features=1024, out_features=1024, bias=True)\n            (LayerNorm): LayerNorm((1024,), eps=1e-12, elementwise_affine=True)\n            (dropout): Dropout(p=0.1, inplace=False)\n          )\n        )\n        (intermediate): BertIntermediate(\n          (dense): Linear(in_features=1024, out_features=4096, bias=True)\n        )\n        (output): BertOutput(\n          (dense): Linear(in_features=4096, out_features=1024, bias=True)\n          (LayerNorm): LayerNorm((1024,), eps=1e-12, elementwise_affine=True)\n          (dropout): Dropout(p=0.1, inplace=False)\n        )\n      )\n      (5): BertLayer(\n        (attention): BertAttention(\n          (self): BertSelfAttention(\n            (query): Linear(in_features=1024, out_features=1024, bias=True)\n            (key): Linear(in_features=1024, out_features=1024, bias=True)\n            (value): Linear(in_features=1024, out_features=1024, bias=True)\n            (dropout): Dropout(p=0.1, inplace=False)\n          )\n          (output): BertSelfOutput(\n            (dense): Linear(in_features=1024, out_features=1024, bias=True)\n            (LayerNorm): LayerNorm((1024,), eps=1e-12, elementwise_affine=True)\n            (dropout): Dropout(p=0.1, inplace=False)\n          )\n        )\n        (intermediate): BertIntermediate(\n          (dense): Linear(in_features=1024, out_features=4096, bias=True)\n        )\n        (output): BertOutput(\n          (dense): Linear(in_features=4096, out_features=1024, bias=True)\n          (LayerNorm): LayerNorm((1024,), eps=1e-12, elementwise_affine=True)\n          (dropout): Dropout(p=0.1, inplace=False)\n        )\n      )\n      (6): BertLayer(\n        (attention): BertAttention(\n          (self): BertSelfAttention(\n            (query): Linear(in_features=1024, out_features=1024, bias=True)\n            (key): Linear(in_features=1024, out_features=1024, bias=True)\n            (value): Linear(in_features=1024, out_features=1024, bias=True)\n            (dropout): Dropout(p=0.1, inplace=False)\n          )\n          (output): BertSelfOutput(\n            (dense): Linear(in_features=1024, out_features=1024, bias=True)\n            (LayerNorm): LayerNorm((1024,), eps=1e-12, elementwise_affine=True)\n            (dropout): Dropout(p=0.1, inplace=False)\n          )\n        )\n        (intermediate): BertIntermediate(\n          (dense): Linear(in_features=1024, out_features=4096, bias=True)\n        )\n        (output): BertOutput(\n          (dense): Linear(in_features=4096, out_features=1024, bias=True)\n          (LayerNorm): LayerNorm((1024,), eps=1e-12, elementwise_affine=True)\n          (dropout): Dropout(p=0.1, inplace=False)\n        )\n      )\n      (7): BertLayer(\n        (attention): BertAttention(\n          (self): BertSelfAttention(\n            (query): Linear(in_features=1024, out_features=1024, bias=True)\n            (key): Linear(in_features=1024, out_features=1024, bias=True)\n            (value): Linear(in_features=1024, out_features=1024, bias=True)\n            (dropout): Dropout(p=0.1, inplace=False)\n          )\n          (output): BertSelfOutput(\n            (dense): Linear(in_features=1024, out_features=1024, bias=True)\n            (LayerNorm): LayerNorm((1024,), eps=1e-12, elementwise_affine=True)\n            (dropout): Dropout(p=0.1, inplace=False)\n          )\n        )\n        (intermediate): BertIntermediate(\n          (dense): Linear(in_features=1024, out_features=4096, bias=True)\n        )\n        (output): BertOutput(\n          (dense): Linear(in_features=4096, out_features=1024, bias=True)\n          (LayerNorm): LayerNorm((1024,), eps=1e-12, elementwise_affine=True)\n          (dropout): Dropout(p=0.1, inplace=False)\n        )\n      )\n      (8): BertLayer(\n        (attention): BertAttention(\n          (self): BertSelfAttention(\n            (query): Linear(in_features=1024, out_features=1024, bias=True)\n            (key): Linear(in_features=1024, out_features=1024, bias=True)\n            (value): Linear(in_features=1024, out_features=1024, bias=True)\n            (dropout): Dropout(p=0.1, inplace=False)\n          )\n          (output): BertSelfOutput(\n            (dense): Linear(in_features=1024, out_features=1024, bias=True)\n            (LayerNorm): LayerNorm((1024,), eps=1e-12, elementwise_affine=True)\n            (dropout): Dropout(p=0.1, inplace=False)\n          )\n        )\n        (intermediate): BertIntermediate(\n          (dense): Linear(in_features=1024, out_features=4096, bias=True)\n        )\n        (output): BertOutput(\n          (dense): Linear(in_features=4096, out_features=1024, bias=True)\n          (LayerNorm): LayerNorm((1024,), eps=1e-12, elementwise_affine=True)\n          (dropout): Dropout(p=0.1, inplace=False)\n        )\n      )\n      (9): BertLayer(\n        (attention): BertAttention(\n          (self): BertSelfAttention(\n            (query): Linear(in_features=1024, out_features=1024, bias=True)\n            (key): Linear(in_features=1024, out_features=1024, bias=True)\n            (value): Linear(in_features=1024, out_features=1024, bias=True)\n            (dropout): Dropout(p=0.1, inplace=False)\n          )\n          (output): BertSelfOutput(\n            (dense): Linear(in_features=1024, out_features=1024, bias=True)\n            (LayerNorm): LayerNorm((1024,), eps=1e-12, elementwise_affine=True)\n            (dropout): Dropout(p=0.1, inplace=False)\n          )\n        )\n        (intermediate): BertIntermediate(\n          (dense): Linear(in_features=1024, out_features=4096, bias=True)\n        )\n        (output): BertOutput(\n          (dense): Linear(in_features=4096, out_features=1024, bias=True)\n          (LayerNorm): LayerNorm((1024,), eps=1e-12, elementwise_affine=True)\n          (dropout): Dropout(p=0.1, inplace=False)\n        )\n      )\n      (10): BertLayer(\n        (attention): BertAttention(\n          (self): BertSelfAttention(\n            (query): Linear(in_features=1024, out_features=1024, bias=True)\n            (key): Linear(in_features=1024, out_features=1024, bias=True)\n            (value): Linear(in_features=1024, out_features=1024, bias=True)\n            (dropout): Dropout(p=0.1, inplace=False)\n          )\n          (output): BertSelfOutput(\n            (dense): Linear(in_features=1024, out_features=1024, bias=True)\n            (LayerNorm): LayerNorm((1024,), eps=1e-12, elementwise_affine=True)\n            (dropout): Dropout(p=0.1, inplace=False)\n          )\n        )\n        (intermediate): BertIntermediate(\n          (dense): Linear(in_features=1024, out_features=4096, bias=True)\n        )\n        (output): BertOutput(\n          (dense): Linear(in_features=4096, out_features=1024, bias=True)\n          (LayerNorm): LayerNorm((1024,), eps=1e-12, elementwise_affine=True)\n          (dropout): Dropout(p=0.1, inplace=False)\n        )\n      )\n      (11): BertLayer(\n        (attention): BertAttention(\n          (self): BertSelfAttention(\n            (query): Linear(in_features=1024, out_features=1024, bias=True)\n            (key): Linear(in_features=1024, out_features=1024, bias=True)\n            (value): Linear(in_features=1024, out_features=1024, bias=True)\n            (dropout): Dropout(p=0.1, inplace=False)\n          )\n          (output): BertSelfOutput(\n            (dense): Linear(in_features=1024, out_features=1024, bias=True)\n            (LayerNorm): LayerNorm((1024,), eps=1e-12, elementwise_affine=True)\n            (dropout): Dropout(p=0.1, inplace=False)\n          )\n        )\n        (intermediate): BertIntermediate(\n          (dense): Linear(in_features=1024, out_features=4096, bias=True)\n        )\n        (output): BertOutput(\n          (dense): Linear(in_features=4096, out_features=1024, bias=True)\n          (LayerNorm): LayerNorm((1024,), eps=1e-12, elementwise_affine=True)\n          (dropout): Dropout(p=0.1, inplace=False)\n        )\n      )\n      (12): BertLayer(\n        (attention): BertAttention(\n          (self): BertSelfAttention(\n            (query): Linear(in_features=1024, out_features=1024, bias=True)\n            (key): Linear(in_features=1024, out_features=1024, bias=True)\n            (value): Linear(in_features=1024, out_features=1024, bias=True)\n            (dropout): Dropout(p=0.1, inplace=False)\n          )\n          (output): BertSelfOutput(\n            (dense): Linear(in_features=1024, out_features=1024, bias=True)\n            (LayerNorm): LayerNorm((1024,), eps=1e-12, elementwise_affine=True)\n            (dropout): Dropout(p=0.1, inplace=False)\n          )\n        )\n        (intermediate): BertIntermediate(\n          (dense): Linear(in_features=1024, out_features=4096, bias=True)\n        )\n        (output): BertOutput(\n          (dense): Linear(in_features=4096, out_features=1024, bias=True)\n          (LayerNorm): LayerNorm((1024,), eps=1e-12, elementwise_affine=True)\n          (dropout): Dropout(p=0.1, inplace=False)\n        )\n      )\n      (13): BertLayer(\n        (attention): BertAttention(\n          (self): BertSelfAttention(\n            (query): Linear(in_features=1024, out_features=1024, bias=True)\n            (key): Linear(in_features=1024, out_features=1024, bias=True)\n            (value): Linear(in_features=1024, out_features=1024, bias=True)\n            (dropout): Dropout(p=0.1, inplace=False)\n          )\n          (output): BertSelfOutput(\n            (dense): Linear(in_features=1024, out_features=1024, bias=True)\n            (LayerNorm): LayerNorm((1024,), eps=1e-12, elementwise_affine=True)\n            (dropout): Dropout(p=0.1, inplace=False)\n          )\n        )\n        (intermediate): BertIntermediate(\n          (dense): Linear(in_features=1024, out_features=4096, bias=True)\n        )\n        (output): BertOutput(\n          (dense): Linear(in_features=4096, out_features=1024, bias=True)\n          (LayerNorm): LayerNorm((1024,), eps=1e-12, elementwise_affine=True)\n          (dropout): Dropout(p=0.1, inplace=False)\n        )\n      )\n      (14): BertLayer(\n        (attention): BertAttention(\n          (self): BertSelfAttention(\n            (query): Linear(in_features=1024, out_features=1024, bias=True)\n            (key): Linear(in_features=1024, out_features=1024, bias=True)\n            (value): Linear(in_features=1024, out_features=1024, bias=True)\n            (dropout): Dropout(p=0.1, inplace=False)\n          )\n          (output): BertSelfOutput(\n            (dense): Linear(in_features=1024, out_features=1024, bias=True)\n            (LayerNorm): LayerNorm((1024,), eps=1e-12, elementwise_affine=True)\n            (dropout): Dropout(p=0.1, inplace=False)\n          )\n        )\n        (intermediate): BertIntermediate(\n          (dense): Linear(in_features=1024, out_features=4096, bias=True)\n        )\n        (output): BertOutput(\n          (dense): Linear(in_features=4096, out_features=1024, bias=True)\n          (LayerNorm): LayerNorm((1024,), eps=1e-12, elementwise_affine=True)\n          (dropout): Dropout(p=0.1, inplace=False)\n        )\n      )\n      (15): BertLayer(\n        (attention): BertAttention(\n          (self): BertSelfAttention(\n            (query): Linear(in_features=1024, out_features=1024, bias=True)\n            (key): Linear(in_features=1024, out_features=1024, bias=True)\n            (value): Linear(in_features=1024, out_features=1024, bias=True)\n            (dropout): Dropout(p=0.1, inplace=False)\n          )\n          (output): BertSelfOutput(\n            (dense): Linear(in_features=1024, out_features=1024, bias=True)\n            (LayerNorm): LayerNorm((1024,), eps=1e-12, elementwise_affine=True)\n            (dropout): Dropout(p=0.1, inplace=False)\n          )\n        )\n        (intermediate): BertIntermediate(\n          (dense): Linear(in_features=1024, out_features=4096, bias=True)\n        )\n        (output): BertOutput(\n          (dense): Linear(in_features=4096, out_features=1024, bias=True)\n          (LayerNorm): LayerNorm((1024,), eps=1e-12, elementwise_affine=True)\n          (dropout): Dropout(p=0.1, inplace=False)\n        )\n      )\n      (16): BertLayer(\n        (attention): BertAttention(\n          (self): BertSelfAttention(\n            (query): Linear(in_features=1024, out_features=1024, bias=True)\n            (key): Linear(in_features=1024, out_features=1024, bias=True)\n            (value): Linear(in_features=1024, out_features=1024, bias=True)\n            (dropout): Dropout(p=0.1, inplace=False)\n          )\n          (output): BertSelfOutput(\n            (dense): Linear(in_features=1024, out_features=1024, bias=True)\n            (LayerNorm): LayerNorm((1024,), eps=1e-12, elementwise_affine=True)\n            (dropout): Dropout(p=0.1, inplace=False)\n          )\n        )\n        (intermediate): BertIntermediate(\n          (dense): Linear(in_features=1024, out_features=4096, bias=True)\n        )\n        (output): BertOutput(\n          (dense): Linear(in_features=4096, out_features=1024, bias=True)\n          (LayerNorm): LayerNorm((1024,), eps=1e-12, elementwise_affine=True)\n          (dropout): Dropout(p=0.1, inplace=False)\n        )\n      )\n      (17): BertLayer(\n        (attention): BertAttention(\n          (self): BertSelfAttention(\n            (query): Linear(in_features=1024, out_features=1024, bias=True)\n            (key): Linear(in_features=1024, out_features=1024, bias=True)\n            (value): Linear(in_features=1024, out_features=1024, bias=True)\n            (dropout): Dropout(p=0.1, inplace=False)\n          )\n          (output): BertSelfOutput(\n            (dense): Linear(in_features=1024, out_features=1024, bias=True)\n            (LayerNorm): LayerNorm((1024,), eps=1e-12, elementwise_affine=True)\n            (dropout): Dropout(p=0.1, inplace=False)\n          )\n        )\n        (intermediate): BertIntermediate(\n          (dense): Linear(in_features=1024, out_features=4096, bias=True)\n        )\n        (output): BertOutput(\n          (dense): Linear(in_features=4096, out_features=1024, bias=True)\n          (LayerNorm): LayerNorm((1024,), eps=1e-12, elementwise_affine=True)\n          (dropout): Dropout(p=0.1, inplace=False)\n        )\n      )\n      (18): BertLayer(\n        (attention): BertAttention(\n          (self): BertSelfAttention(\n            (query): Linear(in_features=1024, out_features=1024, bias=True)\n            (key): Linear(in_features=1024, out_features=1024, bias=True)\n            (value): Linear(in_features=1024, out_features=1024, bias=True)\n            (dropout): Dropout(p=0.1, inplace=False)\n          )\n          (output): BertSelfOutput(\n            (dense): Linear(in_features=1024, out_features=1024, bias=True)\n            (LayerNorm): LayerNorm((1024,), eps=1e-12, elementwise_affine=True)\n            (dropout): Dropout(p=0.1, inplace=False)\n          )\n        )\n        (intermediate): BertIntermediate(\n          (dense): Linear(in_features=1024, out_features=4096, bias=True)\n        )\n        (output): BertOutput(\n          (dense): Linear(in_features=4096, out_features=1024, bias=True)\n          (LayerNorm): LayerNorm((1024,), eps=1e-12, elementwise_affine=True)\n          (dropout): Dropout(p=0.1, inplace=False)\n        )\n      )\n      (19): BertLayer(\n        (attention): BertAttention(\n          (self): BertSelfAttention(\n            (query): Linear(in_features=1024, out_features=1024, bias=True)\n            (key): Linear(in_features=1024, out_features=1024, bias=True)\n            (value): Linear(in_features=1024, out_features=1024, bias=True)\n            (dropout): Dropout(p=0.1, inplace=False)\n          )\n          (output): BertSelfOutput(\n            (dense): Linear(in_features=1024, out_features=1024, bias=True)\n            (LayerNorm): LayerNorm((1024,), eps=1e-12, elementwise_affine=True)\n            (dropout): Dropout(p=0.1, inplace=False)\n          )\n        )\n        (intermediate): BertIntermediate(\n          (dense): Linear(in_features=1024, out_features=4096, bias=True)\n        )\n        (output): BertOutput(\n          (dense): Linear(in_features=4096, out_features=1024, bias=True)\n          (LayerNorm): LayerNorm((1024,), eps=1e-12, elementwise_affine=True)\n          (dropout): Dropout(p=0.1, inplace=False)\n        )\n      )\n      (20): BertLayer(\n        (attention): BertAttention(\n          (self): BertSelfAttention(\n            (query): Linear(in_features=1024, out_features=1024, bias=True)\n            (key): Linear(in_features=1024, out_features=1024, bias=True)\n            (value): Linear(in_features=1024, out_features=1024, bias=True)\n            (dropout): Dropout(p=0.1, inplace=False)\n          )\n          (output): BertSelfOutput(\n            (dense): Linear(in_features=1024, out_features=1024, bias=True)\n            (LayerNorm): LayerNorm((1024,), eps=1e-12, elementwise_affine=True)\n            (dropout): Dropout(p=0.1, inplace=False)\n          )\n        )\n        (intermediate): BertIntermediate(\n          (dense): Linear(in_features=1024, out_features=4096, bias=True)\n        )\n        (output): BertOutput(\n          (dense): Linear(in_features=4096, out_features=1024, bias=True)\n          (LayerNorm): LayerNorm((1024,), eps=1e-12, elementwise_affine=True)\n          (dropout): Dropout(p=0.1, inplace=False)\n        )\n      )\n      (21): BertLayer(\n        (attention): BertAttention(\n          (self): BertSelfAttention(\n            (query): Linear(in_features=1024, out_features=1024, bias=True)\n            (key): Linear(in_features=1024, out_features=1024, bias=True)\n            (value): Linear(in_features=1024, out_features=1024, bias=True)\n            (dropout): Dropout(p=0.1, inplace=False)\n          )\n          (output): BertSelfOutput(\n            (dense): Linear(in_features=1024, out_features=1024, bias=True)\n            (LayerNorm): LayerNorm((1024,), eps=1e-12, elementwise_affine=True)\n            (dropout): Dropout(p=0.1, inplace=False)\n          )\n        )\n        (intermediate): BertIntermediate(\n          (dense): Linear(in_features=1024, out_features=4096, bias=True)\n        )\n        (output): BertOutput(\n          (dense): Linear(in_features=4096, out_features=1024, bias=True)\n          (LayerNorm): LayerNorm((1024,), eps=1e-12, elementwise_affine=True)\n          (dropout): Dropout(p=0.1, inplace=False)\n        )\n      )\n      (22): BertLayer(\n        (attention): BertAttention(\n          (self): BertSelfAttention(\n            (query): Linear(in_features=1024, out_features=1024, bias=True)\n            (key): Linear(in_features=1024, out_features=1024, bias=True)\n            (value): Linear(in_features=1024, out_features=1024, bias=True)\n            (dropout): Dropout(p=0.1, inplace=False)\n          )\n          (output): BertSelfOutput(\n            (dense): Linear(in_features=1024, out_features=1024, bias=True)\n            (LayerNorm): LayerNorm((1024,), eps=1e-12, elementwise_affine=True)\n            (dropout): Dropout(p=0.1, inplace=False)\n          )\n        )\n        (intermediate): BertIntermediate(\n          (dense): Linear(in_features=1024, out_features=4096, bias=True)\n        )\n        (output): BertOutput(\n          (dense): Linear(in_features=4096, out_features=1024, bias=True)\n          (LayerNorm): LayerNorm((1024,), eps=1e-12, elementwise_affine=True)\n          (dropout): Dropout(p=0.1, inplace=False)\n        )\n      )\n      (23): BertLayer(\n        (attention): BertAttention(\n          (self): BertSelfAttention(\n            (query): Linear(in_features=1024, out_features=1024, bias=True)\n            (key): Linear(in_features=1024, out_features=1024, bias=True)\n            (value): Linear(in_features=1024, out_features=1024, bias=True)\n            (dropout): Dropout(p=0.1, inplace=False)\n          )\n          (output): BertSelfOutput(\n            (dense): Linear(in_features=1024, out_features=1024, bias=True)\n            (LayerNorm): LayerNorm((1024,), eps=1e-12, elementwise_affine=True)\n            (dropout): Dropout(p=0.1, inplace=False)\n          )\n        )\n        (intermediate): BertIntermediate(\n          (dense): Linear(in_features=1024, out_features=4096, bias=True)\n        )\n        (output): BertOutput(\n          (dense): Linear(in_features=4096, out_features=1024, bias=True)\n          (LayerNorm): LayerNorm((1024,), eps=1e-12, elementwise_affine=True)\n          (dropout): Dropout(p=0.1, inplace=False)\n        )\n      )\n    )\n  )\n  (pooler): BertPooler(\n    (dense): Linear(in_features=1024, out_features=1024, bias=True)\n    (activation): Tanh()\n  )\n)"
     },
     "metadata": {},
     "output_type": "execute_result",
     "execution_count": 11
    }
   ],
   "source": [
    "# Load pre-trained model (weights)\n",
    "model = BertModel.from_pretrained('bert-base-uncased',\n",
    "                                  output_hidden_states = True, # Whether the model returns all hidden-states.\n",
    "                                  )\n",
    "model = BertModel.from_pretrained('dmis-lab/biobert-large-cased-v1.1',\n",
    "                                  output_hidden_states = True, # Whether the model returns all hidden-states.\n",
    "                                  )\n",
    "\n",
    "# Put the model in \"evaluation\" mode, meaning feed-forward operation.\n",
    "model.eval()"
   ]
  },
  {
   "cell_type": "code",
   "execution_count": 12,
   "metadata": {
    "colab": {
     "base_uri": "https://localhost:8080/"
    },
    "id": "OTcax3jJT_vw",
    "outputId": "d860bef6-0f48-4341-eed8-2b35b37f094f",
    "pycharm": {
     "is_executing": false
    }
   },
   "outputs": [
    {
     "name": "stdout",
     "text": [
      "Tokenized sentence:\n ['[CLS]', 'what', 'are', 'the', 'treatments', 'of', 'stroke', '?']\nIndexed tokens:\n [101, 1184, 1132, 1103, 14115, 1104, 6625, 136]\n"
     ],
     "output_type": "stream"
    }
   ],
   "source": [
    "tokenized_text = tokenizer.tokenize(marked_text)\n",
    "\n",
    "print('Tokenized sentence:\\n',tokenized_text)\n",
    "# Map the token strings to their vocabulary indeces.\n",
    "indexed_tokens = tokenizer.convert_tokens_to_ids(tokenized_text)\n",
    "print('Indexed tokens:\\n',indexed_tokens)"
   ]
  },
  {
   "cell_type": "code",
   "execution_count": 13,
   "metadata": {
    "colab": {
     "base_uri": "https://localhost:8080/"
    },
    "collapsed": true,
    "id": "aZ1pzp84UNqY",
    "jupyter": {
     "outputs_hidden": true
    },
    "outputId": "f71c0e84-661b-4fec-af03-7ca80c05a55a",
    "pycharm": {
     "is_executing": false
    }
   },
   "outputs": [
    {
     "name": "stdout",
     "text": [
      "Segments ids:\n [1, 1, 1, 1, 1, 1, 1, 1]\n"
     ],
     "output_type": "stream"
    }
   ],
   "source": [
    "# Mark each of the 22 tokens as belonging to sentence \"1\".\n",
    "segments_ids = [1] * len(tokenized_text)\n",
    "print('Segments ids:\\n', segments_ids)\n"
   ]
  },
  {
   "cell_type": "code",
   "execution_count": 16,
   "metadata": {
    "id": "oU6Ewro4Ut6g",
    "pycharm": {
     "is_executing": false
    }
   },
   "outputs": [],
   "source": [
    "# Convert inputs to PyTorch tensors\n",
    "tokens_tensor = torch.tensor([indexed_tokens])\n",
    "segments_tensors = torch.tensor([segments_ids])"
   ]
  },
  {
   "cell_type": "code",
   "execution_count": 17,
   "metadata": {
    "id": "q1hzPm4aUe9M",
    "pycharm": {
     "is_executing": false
    }
   },
   "outputs": [],
   "source": [
    "# Run the text through BERT, and collect all of the hidden states produced\n",
    "# from all 12 layers. \n",
    "with torch.no_grad():\n",
    "\n",
    "    outputs = model(tokens_tensor, segments_tensors)\n",
    "\n",
    "    # Evaluating the model will return a different number of objects based on \n",
    "    # how it's  configured in the `from_pretrained` call earlier. In this case, \n",
    "    # becase we set `output_hidden_states = True`, the third item will be the \n",
    "    # hidden states from all layers. See the documentation for more details:\n",
    "    # https://huggingface.co/transformers/model_doc/bert.html#bertmodel\n",
    "    hidden_states = outputs[2]"
   ]
  },
  {
   "cell_type": "code",
   "execution_count": 18,
   "metadata": {
    "colab": {
     "base_uri": "https://localhost:8080/"
    },
    "id": "ePo-iN_FUpNg",
    "outputId": "654b14e7-5820-40ac-dab0-7391da27e137",
    "pycharm": {
     "is_executing": false
    }
   },
   "outputs": [
    {
     "data": {
      "text/plain": "torch.Size([25, 8, 1024])"
     },
     "metadata": {},
     "output_type": "execute_result",
     "execution_count": 18
    }
   ],
   "source": [
    "token_embeddings = torch.stack(hidden_states, dim=0)\n",
    "token_embeddings = torch.squeeze(token_embeddings, dim=1)\n",
    "\n",
    "token_embeddings.size()"
   ]
  },
  {
   "cell_type": "code",
   "execution_count": 19,
   "metadata": {
    "id": "zN60nnpVVpyo",
    "pycharm": {
     "is_executing": false
    }
   },
   "outputs": [],
   "source": [
    "token_vecs = hidden_states[-2][0]\n",
    "\n",
    "# Calculate the average of all 22 token vectors.\n",
    "sentence_embedding = torch.mean(token_vecs, dim=0)"
   ]
  },
  {
   "cell_type": "code",
   "execution_count": 20,
   "metadata": {
    "id": "bhwJLwsCWQ94",
    "pycharm": {
     "is_executing": false
    }
   },
   "outputs": [],
   "source": [
    "def get_bert_sentence_embedding(sentence):\n",
    "    '''\n",
    "    Get embeddings of a specific sentence with the BERT model\n",
    "    :param sentence: string\n",
    "    :return: sentence embeddings \n",
    "    '''\n",
    "    marked_text = \"[CLS] \" + sentence + \" [SEP]\"\n",
    "    tokenized_text = tokenizer.tokenize(marked_text)\n",
    "\n",
    "    # Map the token strings to their vocabulary indeces.\n",
    "    indexed_tokens = tokenizer.convert_tokens_to_ids(tokenized_text)\n",
    "    segments_ids = [1] * len(tokenized_text)\n",
    "    tokens_tensor = torch.tensor([indexed_tokens])\n",
    "    segments_tensors = torch.tensor([segments_ids])\n",
    "    with torch.no_grad():\n",
    "        outputs = model(tokens_tensor, segments_tensors)\n",
    "\n",
    "        # Evaluating the model will return a different number of objects based on \n",
    "        # how it's  configured in the `from_pretrained` call earlier. In this case, \n",
    "        # becase we set `output_hidden_states = True`, the third item will be the \n",
    "        # hidden states from all layers. See the documentation for more details:\n",
    "        # https://huggingface.co/transformers/model_doc/bert.html#bertmodel\n",
    "        hidden_states = outputs[2]\n",
    "\n",
    "    token_embeddings = torch.stack(hidden_states, dim=0)\n",
    "    token_embeddings = torch.squeeze(token_embeddings, dim=1)\n",
    "    # print(len(hidden_states.shape))\n",
    "    token_vecs = hidden_states[-2][0]\n",
    "\n",
    "    # Calculate the average of all n token vectors.\n",
    "    sentence_embedding = torch.mean(token_vecs, dim=0)\n",
    "\n",
    "\n",
    "    return sentence_embedding"
   ]
  },
  {
   "cell_type": "code",
   "execution_count": 24,
   "metadata": {
    "id": "wQriO3btXAir",
    "pycharm": {
     "is_executing": false
    }
   },
   "outputs": [
    {
     "name": "stdout",
     "text": [
      "Question: what causes flu?\nQuestion embedding: tensor([-0.1005,  0.1654,  0.1703,  ...,  0.0799,  0.4777,  0.2435])\n\nAnswers embeddings:\n",
      "Answer: your baby and the flu (information): flu symptoms in infants and toddlers the flu is an infection of the nose, throat, and (sometimes) lungs. call your baby’s health care provider if you notice any of the following signs: - acting tired and cranky much of the time and not feeding well - cough - diarrhea and vomiting - has a fever or feels feverish (if no thermometer available) - runny nose how is the flu treated in babies? children younger than 2 years old will often need to be treated with medicine that fights off the flu virus. this is called antiviral medicine. the medicine works best if started within 48 hours after symptoms begin, if possible. oseltamivir (tamiflu) in liquid form will likely be used. although this drug is not approved for use in children younger than 1 year of age, serious side effects are quite rare. after talking about the risk of side effects against the possible complications of the flu in your baby, you and your health care provider may decide to use this medicine to treat the flu. acetaminophen (tylenol) and ibuprofen (advil, motrin) help lower fever in children. sometimes, your health care provider will tell you to use both types of medicine. always check with your health care provider before giving any cold medicines to your infant or toddler. should my baby get the flu vaccine? all infants 6 months or older should get the flu vaccine, even if they have had a flu-like illness. the flu vaccine is not approved for children under 6 months old. - your child will need a second flu vaccine around 4 weeks after receiving the vaccine for the first time. - there are two types of flu vaccine. one is given as a shot, and the other is sprayed into your child's nose. the flu shot contains killed (inactive) viruses. it is not possible to get the flu from this type of vaccine. the flu shot is approved for people age 6 months and older. a nasal spray-type flu vaccine uses a live, weakened virus instead of a dead one like the flu shot. it is approved for healthy children over 2 years. anyone who lives with or has close contact with a child younger than 6 months old should also have a flu shot. will the vaccine harm my baby? you or your baby can not get the flu from either vaccine. some children may get a low-grade fever for a day or two after the shot. if more severe symptoms develop or they last for more than 2 days, you should call your health care provider. some parents are afraid the vaccine could hurt their baby. but children under 2 years of age are more likely to get a severe case of the flu. it is hard to predict how ill your child may get from flu because children often have a mild illness at first. they may become sick very fast. a small amount of mercury (called thimerosal) is a common preservative in multidose vaccines. despite concerns, thimerosal-containing vaccines have not been shown to cause autism, adhd, or any other medical problems. however, all of the routine vaccines are also available without added thimerosal. ask your health care provider if they offer this type of vaccine. how can i prevent my baby from getting the flu? anyone who has flu symptoms should not care for a newborn or infant, including feeding. if a person with symptoms must care for the child, the caretaker should use a face mask and wash their hands well. everyone who comes in close contact with your baby should do the following: - cover your nose and mouth with a tissue when you cough or sneeze. throw the tissue away after using it. - wash your hands often with soap and water for 15 to 20 seconds, especially after you cough or sneeze. you may also use alcohol-based hand cleaners. if your baby is younger than 6 months old and has close contact with someone with the flu, inform your health care provider. if i have flu symptoms, can i breastfeed my baby? if a mother is not ill with the flu, breastfeeding is encouraged. if you are sick, you may need to express your milk for use in bottle feedings given by a healthy person. it is unlikely a newborn can catch flu from drinking your breast milk when you are sick. breast milk is considered safe if you are taking antivirals. when should i call the doctor? talk to your child's health care provider or go to the emergency room if: - your child does not act alert or more comfortable when the fever goes down. - fever and flu symptoms come back after they have gone away. - the child does not have tears when crying. - the child's diapers are not wet, or the child has not urinated for the last 8 hours.\nEmbedding: tensor([-0.2831,  0.0706,  0.1868,  ...,  0.4198,  0.3500,  0.1741])\nAnswer: what causes flu?: the flu is caused by an influenza virus. most people get the flu when they breathe in tiny airborne droplets from the coughs or sneezes of someone who has the flu. you can also catch the flu if you touch something with the virus on it, and then touch your mouth, nose, or eyes. people often confuse colds and flu. they are different, but you might have some of the same symptoms. most people get a cold several times a year. on the contrary, people get the flu only once every few years. sometimes, you can get a virus that makes you throw up or have diarrhea. some people call this the \"stomach flu.\" this is a misleading name because this virus is not the actual flu. the flu mostly affects your nose, throat, and lungs.\nEmbedding: tensor([-0.2189, -0.0429,  0.1060,  ...,  0.1654,  0.1820,  0.1893])\nAnswer: your baby and the flu: the flu is an easily spread disease. children under age 2 have a higher risk of developing complications if they get the flu. the information in this article has been put together to help you protect children under age 2 from the flu. this is not a substitute for medical advice from your health care provider. if you think your baby may have the flu, you should contact a health care provider right away. flu symptoms in infants and toddlers the flu is an infection of the nose, throat, and (sometimes) lungs. call your baby’s health care provider if you notice any of the following signs: - acting tired and cranky much of the time and not feeding well - cough - diarrhea and vomiting - has a fever or feels feverish (if no thermometer available) - runny nose how is the flu treated in babies? children younger than 2 years old will often need to be treated with medicine that fights off the flu virus. this is called antiviral medicine. the medicine works best if started within 48 hours after symptoms begin, if possible. oseltamivir (tamiflu) in liquid form will likely be used. although this drug is not approved for use in children younger than 1 year of age, serious side effects are quite rare. after talking about the risk of side effects against the possible complications of the flu in your baby, you and your health care provider may decide to use this medicine to treat the flu. acetaminophen (tylenol) and ibuprofen (advil, motrin) help lower fever in children. sometimes, your health care provider will tell you to use both types of medicine. always check with your health care provider before giving any cold medicines to your infant or toddler. should my baby get the flu vaccine? all infants 6 months or older should get the flu vaccine, even if they have had a flu-like illness. the flu vaccine is not approved for children under 6 months old. - your child will need a second flu vaccine around 4 weeks after receiving the vaccine for the first time. - there are two types of flu vaccine. one is given as a shot, and the other is sprayed into your child's nose. the flu shot contains killed (inactive) viruses. it is not possible to get the flu from this type of vaccine. the flu shot is approved for people age 6 months and older. a nasal spray-type flu vaccine uses a live, weakened virus instead of a dead one like the flu shot. it is approved for healthy children over 2 years. anyone who lives with or has close contact with a child younger than 6 months old should also have a flu shot. will the vaccine harm my baby? you or your baby can not get the flu from either vaccine. some children may get a low-grade fever for a day or two after the shot. if more severe symptoms develop or they last for more than 2 days, you should call your health care provider. some parents are afraid the vaccine could hurt their baby. but children under 2 years of age are more likely to get a severe case of the flu. it is hard to predict how ill your child may get from flu because children often have a mild illness at first. they may become sick very fast. a small amount of mercury (called thimerosal) is a common preservative in multidose vaccines. despite concerns, thimerosal-containing vaccines have not been shown to cause autism, adhd, or any other medical problems. however, all of the routine vaccines are also available without added thimerosal. ask your health care provider if they offer this type of vaccine. how can i prevent my baby from getting the flu? anyone who has flu symptoms should not care for a newborn or infant, including feeding. if a person with symptoms must care for the child, the caretaker should use a face mask and wash their hands well. everyone who comes in close contact with your baby should do the following: - cover your nose and mouth with a tissue when you cough or sneeze. throw the tissue away after using it. - wash your hands often with soap and water for 15 to 20 seconds, especially after you cough or sneeze. you may also use alcohol-based hand cleaners. if your baby is younger than 6 months old and has close contact with someone with the flu, inform your health care provider. if i have flu symptoms, can i breastfeed my baby? if a mother is not ill with the flu, breastfeeding is encouraged. if you are sick, you may need to express your milk for use in bottle feedings given by a healthy person. it is unlikely a newborn can catch flu from drinking your breast milk when you are sick. breast milk is considered safe if you are taking antivirals. when should i call the doctor? talk to your child's health care provider or go to the emergency room if: - your child does not act alert or more comfortable when the fever goes down. - fever and flu symptoms come back after they have gone away. - the child does not have tears when crying. - the child's diapers are not wet, or the child has not urinated for the last 8 hours. updated by: neil k. kaneshiro, md, mha, clinical assistant professor of pediatrics, university of washington school of medicine, seattle, wa. also reviewed by david zieve, md, mha, isla ogilvie, phd, and the a.d.a.m. editorial team.\nEmbedding: tensor([-0.3243, -0.0431,  0.1454,  ...,  0.4685,  0.1374,  0.1692])\nAnswer: h1n1 flu (swine flu) (summary): summary swine flu is an infection caused by a virus. it's named for a virus that pigs can get. people do not normally get swine flu, but human infections can and do happen. in 2009 a strain of swine flu called h1n1 infected many people around the world. the virus is contagious and can spread from human to human. symptoms of swine flu in people are similar to the symptoms of regular human flu and include fever, cough, sore throat, body aches, headache, chills and fatigue. there are antiviral medicines you can take to prevent or treat swine flu. there is a vaccine available to protect against swine flu. you can help prevent the spread of germs that cause respiratory illnesses like influenza by - covering your nose and mouth with a tissue when you cough or sneeze. throw the tissue in the trash after you use it. - washing your hands often with soap and water, especially after you cough or sneeze. you can also use alcohol-based hand cleaners. - avoiding touching your eyes, nose or mouth. germs spread this way. - trying to avoid close contact with sick people. - staying home from work or school if you are sick. centers for disease control and prevention\nEmbedding: tensor([-0.2692, -0.0388,  0.1254,  ...,  0.1556, -0.0519, -0.0666])\nAnswer: flu shot (summary): summary flu is a respiratory infection caused by a number of viruses. most people with the flu get better on their own. but it can be serious. it can cause complications and sometimes even death. getting the flu vaccine every year is the best way to lower your chance of getting the flu and spreading it to others. the flu vaccine causes antibodies to develop in your body about two weeks after you get it. these antibodies provide protection against infection with the viruses that are in the vaccine. there are different types of flu shots, including some especially for people 65 and older. ask your health care provider which one is right for you. everyone 6 months of age and older should get a flu vaccine every season. people with egg allergies should check with their doctors before getting a vaccine. other exceptions are people who have - had reactions to flu shots before - guillain-barre syndrome - a fever centers for disease control and prevention\nEmbedding: tensor([-0.1602, -0.1361,  0.1654,  ...,  0.1769,  0.0475,  0.0171])\nAnswer: swine flu (h1n1 flu) (symptoms): h1n1 flu signs and symptoms in humans are similar to those of other flu strains: - fever (but not always) - cough - sore throat - runny or stuffy nose - watery, red eyes - body aches - headache - fatigue - diarrhea - nausea and vomiting h1n1 flu symptoms develop about one to three days after you're exposed to the virus. when to see a doctor it's not necessary to see a doctor if you're generally healthy and develop flu signs and symptoms, such as fever, cough and body aches. call your doctor, however, if you have flu symptoms and you're pregnant or you have a chronic disease, such as asthma, emphysema, diabetes or a heart condition, because you have a higher risk of complications from the flu.\nEmbedding: tensor([-0.2677,  0.1029,  0.1689,  ...,  0.1242, -0.0261,  0.0755])\nAnswer: swine flu (h1n1 flu): technically, the term \"swine flu\" refers to influenza in pigs. occasionally, pigs transmit influenza viruses to people, mainly to hog farmers and veterinarians. less often, someone infected with swine flu passes the infection to others. the human respiratory infection caused by a particular influenza virus h1n1 strain - popularly known as swine flu - was first recognized in spring 2009. a few months after the first swine flu cases were reported, rates of confirmed h1n1-related illness were increasing in much of the world. as a result, the world health organization declared the infection a global pandemic. the pandemic was declared over in august 2010. currently, h1n1 is still circulating in humans as a seasonal flu virus and protection against this strain was included in the seasonal flu vaccine for 2015-16. another strain, h3n2 emerged in humans in 2011. h1n1 flu signs and symptoms in humans are similar to those of other flu strains: - fever (but not always) - cough - sore throat - runny or stuffy nose - watery, red eyes - body aches - headache - fatigue - diarrhea - nausea and vomiting h1n1 flu symptoms develop about one to three days after you're exposed to the virus. when to see a doctor it's not necessary to see a doctor if you're generally healthy and develop flu signs and symptoms, such as fever, cough and body aches. call your doctor, however, if you have flu symptoms and you're pregnant or you have a chronic disease, such as asthma, emphysema, diabetes or a heart condition, because you have a higher risk of complications from the flu. influenza viruses infect the cells lining your nose, throat and lungs. the virus enters your body when you inhale contaminated droplets or transfer live virus from a contaminated surface to your eyes, nose or mouth. you can't catch swine flu from eating pork. if you've traveled to an area where many people are affected by swine flu (h1n1 flu), you may have been exposed to the virus, particularly if you spent time in large crowds. swine farmers and veterinarians have the highest risk of true swine flu because of their exposure to pigs. influenza complications include: - worsening of chronic conditions, such as heart disease and asthma - pneumonia - neurological signs and symptoms, ranging from confusion to seizures - respiratory failure most cases of flu, including h1n1 flu, require only symptom relief. if you have a chronic respiratory disease, your doctor may prescribe additional medications to help relieve your symptoms. the antiviral drugs oseltamivir (tamiflu) and zanamivir (relenza) are sometimes prescribed within the first day or two of symptoms to reduce the severity of your symptoms, and possibly the risk of complications. but, flu viruses can develop resistance to these drugs. to make development of resistance less likely and maintain supplies of these drugs for those who need them most, antivirals are reserved for people at high risk of complications. high-risk groups are those who: - are in a hospital, nursing home or other long-term care facility - are younger than 5 years of age, particularly children younger than 2 years - are 65 years and older - are pregnant or within two weeks of delivery, including women who have had pregnancy loss - are younger than 19 years of age and are receiving long-term aspirin therapy, because of an increased risk of developing reye's syndrome, a rare but potentially fatal disease that can occur when using aspirin during a viral illness - are morbidly obese, defined as having a body mass index above 40 - have certain chronic medical conditions, including asthma, emphysema, heart disease, diabetes, neuromuscular disease, or kidney, liver or blood disease - are immunosuppressed due to certain medications or hiv - are american indians or native alaskans\nEmbedding: tensor([-0.1989, -0.0872,  0.1483,  ...,  0.0547,  0.0995, -0.0501])\nAnswer: swine flu (h1n1 flu) (risk factors): if you've traveled to an area where many people are affected by swine flu (h1n1 flu), you may have been exposed to the virus, particularly if you spent time in large crowds. swine farmers and veterinarians have the highest risk of true swine flu because of their exposure to pigs.\nEmbedding: tensor([-0.0887, -0.1375, -0.0835,  ...,  0.2310,  0.2250, -0.0566])\n"
     ],
     "output_type": "stream"
    }
   ],
   "source": [
    "# Question embeddings\n",
    "print('Question:', QA[1][0])\n",
    "q = get_bert_sentence_embedding(QA[1][0])\n",
    "print('Question embedding:', q)\n",
    "\n",
    "# Answer embeddings\n",
    "print('\\nAnswers embeddings:')\n",
    "ans = [get_bert_sentence_embedding(a[:512]) for a in QA[1][1]] # 512 is the maximum length\n",
    "for i in range(len(QA[1][1])):\n",
    "    print('Answer:',QA[1][1][i])\n",
    "    print('Embedding:',ans[i])\n"
   ]
  },
  {
   "cell_type": "code",
   "execution_count": 29,
   "metadata": {
    "colab": {
     "base_uri": "https://localhost:8080/"
    },
    "id": "WfVYsDUDXSHZ",
    "outputId": "eb1a596c-f0e6-4bd2-85c1-12b968bb34ef",
    "pycharm": {
     "is_executing": false
    }
   },
   "outputs": [
    {
     "name": "stdout",
     "text": [
      "Question: what causes flu?\n\nAnsers scores:\nLabel,Rank,Similarity\n0 7 0.9175547957420349\n1 1 0.9207508563995361\n0 8 0.9164698719978333\n1 3 0.9207927584648132\n1 2 0.922890305519104\n0 5 0.913017988204956\n0 6 0.9139269590377808\n0 4 0.9235448837280273\n"
     ],
     "output_type": "stream"
    }
   ],
   "source": [
    "from scipy.spatial.distance import cosine\n",
    "K = 1\n",
    "print('Question:',QA[K][0])\n",
    "print('\\nAnwsers scores:')\n",
    "print('Label,Rank,Similarity')\n",
    "for i,a in enumerate(ans):\n",
    "    sim = 1-cosine(q, a)\n",
    "    print(QA[K][3][i], QA[K][2][i], sim)\n",
    "\n"
   ]
  },
  {
   "cell_type": "markdown",
   "metadata": {
    "id": "nY0_lyO8KdWJ"
   },
   "source": [
    "## BIO-BERT\n",
    "\n",
    " BioBERT is a biomedical language representation model designed for biomedical text mining tasks such as biomedical named entity recognition, relation extraction, question answering, etc. \n",
    " BioBERT is a BERT based model referenced in the paper: [BioBERT: a pre-trained biomedical language representation model for biomedical text mining](https://academic.oup.com/bioinformatics/article/36/4/1234/5566506) "
   ]
  },
  {
   "cell_type": "code",
   "execution_count": 30,
   "metadata": {
    "colab": {
     "base_uri": "https://localhost:8080/"
    },
    "id": "tgmke4dJKfID",
    "outputId": "70a22e57-1244-469c-df4b-86d825a92c30",
    "pycharm": {
     "is_executing": false
    }
   },
   "outputs": [
    {
     "name": "stdout",
     "text": [
      "Cloning into 'biobert'...\r\n",
      "remote: Enumerating objects: 48, done.\u001b[K\r\nremote: Counting objects:   2% (1/48)\u001b[K\rremote: Counting objects:   4% (2/48)\u001b[K\rremote: Counting objects:   6% (3/48)\u001b[K\rremote: Counting objects:   8% (4/48)\u001b[K\rremote: Counting objects:  10% (5/48)\u001b[K\rremote: Counting objects:  12% (6/48)\u001b[K\rremote: Counting objects:  14% (7/48)\u001b[K\rremote: Counting objects:  16% (8/48)\u001b[K\rremote: Counting objects:  18% (9/48)\u001b[K\rremote: Counting objects:  20% (10/48)\u001b[K\rremote: Counting objects:  22% (11/48)\u001b[K\rremote: Counting objects:  25% (12/48)\u001b[K\rremote: Counting objects:  27% (13/48)\u001b[K\rremote: Counting objects:  29% (14/48)\u001b[K\rremote: Counting objects:  31% (15/48)\u001b[K\rremote: Counting objects:  33% (16/48)\u001b[K\rremote: Counting objects:  35% (17/48)\u001b[K\rremote: Counting objects:  37% (18/48)\u001b[K\rremote: Counting objects:  39% (19/48)\u001b[K\rremote: Counting objects:  41% (20/48)\u001b[K\rremote: Counting objects:  43% (21/48)\u001b[K\rremote: Counting objects:  45% (22/48)\u001b[K\rremote: Counting objects:  47% (23/48)\u001b[K\rremote: Counting objects:  50% (24/48)\u001b[K\rremote: Counting objects:  52% (25/48)\u001b[K\rremote: Counting objects:  54% (26/48)\u001b[K\rremote: Counting objects:  56% (27/48)\u001b[K\rremote: Counting objects:  58% (28/48)\u001b[K\rremote: Counting objects:  60% (29/48)\u001b[K\rremote: Counting objects:  62% (30/48)\u001b[K\rremote: Counting objects:  64% (31/48)\u001b[K\rremote: Counting objects:  66% (32/48)\u001b[K\rremote: Counting objects:  68% (33/48)\u001b[K\rremote: Counting objects:  70% (34/48)\u001b[K\rremote: Counting objects:  72% (35/48)\u001b[K\rremote: Counting objects:  75% (36/48)\u001b[K\rremote: Counting objects:  77% (37/48)\u001b[K\rremote: Counting objects:  79% (38/48)\u001b[K\rremote: Counting objects:  81% (39/48)\u001b[K\rremote: Counting objects:  83% (40/48)\u001b[K\rremote: Counting objects:  85% (41/48)\u001b[K\rremote: Counting objects:  87% (42/48)\u001b[K\rremote: Counting objects:  89% (43/48)\u001b[K\rremote: Counting objects:  91% (44/48)\u001b[K\rremote: Counting objects:  93% (45/48)\u001b[K\rremote: Counting objects:  95% (46/48)\u001b[K\rremote: Counting objects:  97% (47/48)\u001b[K\rremote: Counting objects: 100% (48/48)\u001b[K\rremote: Counting objects: 100% (48/48), done.\u001b[K\r\nremote: Compressing objects:   2% (1/45)\u001b[K\rremote: Compressing objects:   4% (2/45)\u001b[K\rremote: Compressing objects:   6% (3/45)\u001b[K\rremote: Compressing objects:   8% (4/45)\u001b[K\rremote: Compressing objects:  11% (5/45)\u001b[K\rremote: Compressing objects:  13% (6/45)\u001b[K\rremote: Compressing objects:  15% (7/45)\u001b[K\rremote: Compressing objects:  17% (8/45)\u001b[K\rremote: Compressing objects:  20% (9/45)\u001b[K\rremote: Compressing objects:  22% (10/45)\u001b[K\rremote: Compressing objects:  24% (11/45)\u001b[K\rremote: Compressing objects:  26% (12/45)\u001b[K\rremote: Compressing objects:  28% (13/45)\u001b[K\rremote: Compressing objects:  31% (14/45)\u001b[K\rremote: Compressing objects:  33% (15/45)\u001b[K\rremote: Compressing objects:  35% (16/45)\u001b[K\rremote: Compressing objects:  37% (17/45)\u001b[K\rremote: Compressing objects:  40% (18/45)\u001b[K\rremote: Compressing objects:  42% (19/45)\u001b[K\rremote: Compressing objects:  44% (20/45)\u001b[K\rremote: Compressing objects:  46% (21/45)\u001b[K\rremote: Compressing objects:  48% (22/45)\u001b[K\rremote: Compressing objects:  51% (23/45)\u001b[K\rremote: Compressing objects:  53% (24/45)\u001b[K\rremote: Compressing objects:  55% (25/45)\u001b[K\rremote: Compressing objects:  57% (26/45)\u001b[K\rremote: Compressing objects:  60% (27/45)\u001b[K\r",
      "remote: Compressing objects:  62% (28/45)\u001b[K\rremote: Compressing objects:  64% (29/45)\u001b[K\rremote: Compressing objects:  66% (30/45)\u001b[K\rremote: Compressing objects:  68% (31/45)\u001b[K\rremote: Compressing objects:  71% (32/45)\u001b[K\rremote: Compressing objects:  73% (33/45)\u001b[K\rremote: Compressing objects:  75% (34/45)\u001b[K\rremote: Compressing objects:  77% (35/45)\u001b[K\rremote: Compressing objects:  80% (36/45)\u001b[K\rremote: Compressing objects:  82% (37/45)\u001b[K\rremote: Compressing objects:  84% (38/45)\u001b[K\rremote: Compressing objects:  86% (39/45)\u001b[K\rremote: Compressing objects:  88% (40/45)\u001b[K\rremote: Compressing objects:  91% (41/45)\u001b[K\rremote: Compressing objects:  93% (42/45)\u001b[K\rremote: Compressing objects:  95% (43/45)\u001b[K\rremote: Compressing objects:  97% (44/45)\u001b[K\rremote: Compressing objects: 100% (45/45)\u001b[K\rremote: Compressing objects: 100% (45/45), done.\u001b[K\r\nReceiving objects:   0% (1/326)\rReceiving objects:   1% (4/326)\rReceiving objects:   2% (7/326)\rReceiving objects:   3% (10/326)\rReceiving objects:   4% (14/326)\rReceiving objects:   5% (17/326)\rReceiving objects:   6% (20/326)\rReceiving objects:   7% (23/326)\rReceiving objects:   8% (27/326)\rReceiving objects:   9% (30/326)\rReceiving objects:  10% (33/326)\rReceiving objects:  11% (36/326)\rReceiving objects:  12% (40/326)\r",
      "Receiving objects:  13% (43/326)\rReceiving objects:  14% (46/326)\rReceiving objects:  15% (49/326)\rReceiving objects:  16% (53/326)\rReceiving objects:  17% (56/326)\r",
      "Receiving objects:  18% (59/326)\rReceiving objects:  19% (62/326)\rReceiving objects:  20% (66/326)\rReceiving objects:  21% (69/326)\rReceiving objects:  22% (72/326)\rReceiving objects:  23% (75/326)\rReceiving objects:  24% (79/326)\rReceiving objects:  25% (82/326)\rReceiving objects:  26% (85/326)\rReceiving objects:  27% (89/326)\rReceiving objects:  28% (92/326)\rReceiving objects:  29% (95/326)\rReceiving objects:  30% (98/326)\rReceiving objects:  31% (102/326)\rReceiving objects:  32% (105/326)\rReceiving objects:  33% (108/326)\rReceiving objects:  34% (111/326)\r",
      "Receiving objects:  35% (115/326)\rReceiving objects:  36% (118/326)\r",
      "Receiving objects:  36% (120/326), 316.00 KiB | 292.00 KiB/s\r",
      "Receiving objects:  37% (121/326), 316.00 KiB | 292.00 KiB/s\r",
      "Receiving objects:  38% (124/326), 316.00 KiB | 292.00 KiB/s\rReceiving objects:  39% (128/326), 316.00 KiB | 292.00 KiB/s\rReceiving objects:  40% (131/326), 316.00 KiB | 292.00 KiB/s\r",
      "Receiving objects:  41% (134/326), 460.00 KiB | 290.00 KiB/s\rReceiving objects:  42% (137/326), 460.00 KiB | 290.00 KiB/s\rReceiving objects:  43% (141/326), 460.00 KiB | 290.00 KiB/s\rReceiving objects:  44% (144/326), 460.00 KiB | 290.00 KiB/s\rReceiving objects:  45% (147/326), 460.00 KiB | 290.00 KiB/s\rReceiving objects:  46% (150/326), 460.00 KiB | 290.00 KiB/s\rReceiving objects:  47% (154/326), 460.00 KiB | 290.00 KiB/s\rReceiving objects:  48% (157/326), 460.00 KiB | 290.00 KiB/s\rReceiving objects:  49% (160/326), 460.00 KiB | 290.00 KiB/s\rReceiving objects:  50% (163/326), 460.00 KiB | 290.00 KiB/s\rReceiving objects:  51% (167/326), 460.00 KiB | 290.00 KiB/s\rReceiving objects:  52% (170/326), 460.00 KiB | 290.00 KiB/s\rReceiving objects:  53% (173/326), 460.00 KiB | 290.00 KiB/s\rReceiving objects:  54% (177/326), 460.00 KiB | 290.00 KiB/s\rReceiving objects:  55% (180/326), 460.00 KiB | 290.00 KiB/s\rReceiving objects:  56% (183/326), 460.00 KiB | 290.00 KiB/s\rReceiving objects:  57% (186/326), 460.00 KiB | 290.00 KiB/s\rReceiving objects:  58% (190/326), 460.00 KiB | 290.00 KiB/s\rReceiving objects:  59% (193/326), 460.00 KiB | 290.00 KiB/s\rReceiving objects:  60% (196/326), 460.00 KiB | 290.00 KiB/s\rReceiving objects:  61% (199/326), 460.00 KiB | 290.00 KiB/s\rReceiving objects:  62% (203/326), 460.00 KiB | 290.00 KiB/s\rReceiving objects:  63% (206/326), 460.00 KiB | 290.00 KiB/s\rReceiving objects:  64% (209/326), 460.00 KiB | 290.00 KiB/s\rReceiving objects:  65% (212/326), 460.00 KiB | 290.00 KiB/s\rReceiving objects:  66% (216/326), 460.00 KiB | 290.00 KiB/s\rReceiving objects:  67% (219/326), 460.00 KiB | 290.00 KiB/s\rReceiving objects:  68% (222/326), 460.00 KiB | 290.00 KiB/s\rReceiving objects:  69% (225/326), 460.00 KiB | 290.00 KiB/s\rReceiving objects:  70% (229/326), 460.00 KiB | 290.00 KiB/s\rReceiving objects:  71% (232/326), 460.00 KiB | 290.00 KiB/s\rReceiving objects:  72% (235/326), 460.00 KiB | 290.00 KiB/s\rReceiving objects:  73% (238/326), 460.00 KiB | 290.00 KiB/s\rReceiving objects:  74% (242/326), 460.00 KiB | 290.00 KiB/s\rReceiving objects:  75% (245/326), 460.00 KiB | 290.00 KiB/s\rReceiving objects:  76% (248/326), 460.00 KiB | 290.00 KiB/s\rReceiving objects:  77% (252/326), 460.00 KiB | 290.00 KiB/s\rReceiving objects:  78% (255/326), 460.00 KiB | 290.00 KiB/s\rReceiving objects:  79% (258/326), 460.00 KiB | 290.00 KiB/s\rReceiving objects:  80% (261/326), 460.00 KiB | 290.00 KiB/s\rReceiving objects:  81% (265/326), 460.00 KiB | 290.00 KiB/s\rReceiving objects:  82% (268/326), 460.00 KiB | 290.00 KiB/s\rReceiving objects:  83% (271/326), 460.00 KiB | 290.00 KiB/s\rReceiving objects:  84% (274/326), 460.00 KiB | 290.00 KiB/s\rReceiving objects:  85% (278/326), 460.00 KiB | 290.00 KiB/s\rReceiving objects:  86% (281/326), 460.00 KiB | 290.00 KiB/s\rReceiving objects:  87% (284/326), 460.00 KiB | 290.00 KiB/s\rReceiving objects:  88% (287/326), 460.00 KiB | 290.00 KiB/s\rReceiving objects:  89% (291/326), 460.00 KiB | 290.00 KiB/s\rReceiving objects:  90% (294/326), 460.00 KiB | 290.00 KiB/s\rReceiving objects:  91% (297/326), 460.00 KiB | 290.00 KiB/s\rReceiving objects:  92% (300/326), 460.00 KiB | 290.00 KiB/s\rReceiving objects:  93% (304/326), 460.00 KiB | 290.00 KiB/s\rReceiving objects:  94% (307/326), 460.00 KiB | 290.00 KiB/s\r",
      "remote: Total 326 (delta 26), reused 7 (delta 3), pack-reused 278\u001b[K\r\nReceiving objects:  95% (310/326), 460.00 KiB | 290.00 KiB/s\rReceiving objects:  96% (313/326), 460.00 KiB | 290.00 KiB/s\rReceiving objects:  97% (317/326), 460.00 KiB | 290.00 KiB/s\rReceiving objects:  98% (320/326), 460.00 KiB | 290.00 KiB/s\rReceiving objects:  99% (323/326), 460.00 KiB | 290.00 KiB/s\rReceiving objects: 100% (326/326), 460.00 KiB | 290.00 KiB/s\rReceiving objects: 100% (326/326), 507.09 KiB | 296.00 KiB/s, done.\r\nResolving deltas:   0% (0/188)\rResolving deltas:   1% (3/188)\rResolving deltas:   2% (5/188)\rResolving deltas:   6% (12/188)\rResolving deltas:   9% (17/188)\rResolving deltas:  12% (23/188)\rResolving deltas:  13% (26/188)\rResolving deltas:  37% (70/188)\rResolving deltas:  54% (103/188)\rResolving deltas:  73% (138/188)\rResolving deltas:  74% (140/188)\rResolving deltas:  77% (145/188)\rResolving deltas:  78% (148/188)\rResolving deltas:  85% (160/188)\rResolving deltas: 100% (188/188)\rResolving deltas: 100% (188/188), done.\r\n"
     ],
     "output_type": "stream"
    }
   ],
   "source": [
    "! git clone https://github.com/dmis-lab/biobert.git"
   ]
  },
  {
   "cell_type": "code",
   "execution_count": 33,
   "metadata": {
    "id": "Vg7mA966K20W",
    "pycharm": {
     "is_executing": false
    }
   },
   "outputs": [],
   "source": [
    "! cd biobert"
   ]
  },
  {
   "cell_type": "code",
   "execution_count": 36,
   "metadata": {
    "colab": {
     "base_uri": "https://localhost:8080/"
    },
    "id": "IlK1gBbVLC2j",
    "outputId": "69bfdc04-3d72-4049-8ec5-8f28756c3927",
    "pycharm": {
     "is_executing": false
    }
   },
   "outputs": [],
   "source": [
    "! cd biobert"
   ]
  },
  {
   "cell_type": "code",
   "execution_count": null,
   "metadata": {
    "colab": {
     "base_uri": "https://localhost:8080/",
     "height": 1000
    },
    "id": "xFaGFtvlLE0V",
    "outputId": "36400523-87bf-455b-f1f7-8063e996631e"
   },
   "outputs": [
    {
     "name": "stdout",
     "output_type": "stream",
     "text": [
      "Collecting tensorflow-gpu==1.15.2\n",
      "\u001b[?25l  Downloading https://files.pythonhosted.org/packages/32/ca/58e40e5077fa2a92004f398d705a288e958434f123938f4ce75ffe25b64b/tensorflow_gpu-1.15.2-cp36-cp36m-manylinux2010_x86_64.whl (411.0MB)\n",
      "\u001b[K     |████████████████████████████████| 411.0MB 41kB/s \n",
      "\u001b[?25hRequirement already satisfied: sklearn in /usr/local/lib/python3.6/dist-packages (from -r requirements.txt (line 6)) (0.0)\n",
      "Collecting pandas==0.23\n",
      "\u001b[?25l  Downloading https://files.pythonhosted.org/packages/69/ec/8ff0800b8594691759b78a42ccd616f81e7099ee47b167eb9bbd502c02b9/pandas-0.23.0-cp36-cp36m-manylinux1_x86_64.whl (11.7MB)\n",
      "\u001b[K     |████████████████████████████████| 11.7MB 51.2MB/s \n",
      "\u001b[?25hRequirement already satisfied: wrapt>=1.11.1 in /usr/local/lib/python3.6/dist-packages (from tensorflow-gpu==1.15.2->-r requirements.txt (line 1)) (1.12.1)\n",
      "Requirement already satisfied: six>=1.10.0 in /usr/local/lib/python3.6/dist-packages (from tensorflow-gpu==1.15.2->-r requirements.txt (line 1)) (1.15.0)\n",
      "Collecting gast==0.2.2\n",
      "  Downloading https://files.pythonhosted.org/packages/4e/35/11749bf99b2d4e3cceb4d55ca22590b0d7c2c62b9de38ac4a4a7f4687421/gast-0.2.2.tar.gz\n",
      "Requirement already satisfied: absl-py>=0.7.0 in /usr/local/lib/python3.6/dist-packages (from tensorflow-gpu==1.15.2->-r requirements.txt (line 1)) (0.10.0)\n",
      "Requirement already satisfied: astor>=0.6.0 in /usr/local/lib/python3.6/dist-packages (from tensorflow-gpu==1.15.2->-r requirements.txt (line 1)) (0.8.1)\n",
      "Collecting tensorflow-estimator==1.15.1\n",
      "\u001b[?25l  Downloading https://files.pythonhosted.org/packages/de/62/2ee9cd74c9fa2fa450877847ba560b260f5d0fb70ee0595203082dafcc9d/tensorflow_estimator-1.15.1-py2.py3-none-any.whl (503kB)\n",
      "\u001b[K     |████████████████████████████████| 512kB 43.2MB/s \n",
      "\u001b[?25hRequirement already satisfied: termcolor>=1.1.0 in /usr/local/lib/python3.6/dist-packages (from tensorflow-gpu==1.15.2->-r requirements.txt (line 1)) (1.1.0)\n",
      "Collecting keras-applications>=1.0.8\n",
      "\u001b[?25l  Downloading https://files.pythonhosted.org/packages/71/e3/19762fdfc62877ae9102edf6342d71b28fbfd9dea3d2f96a882ce099b03f/Keras_Applications-1.0.8-py3-none-any.whl (50kB)\n",
      "\u001b[K     |████████████████████████████████| 51kB 8.0MB/s \n",
      "\u001b[?25hRequirement already satisfied: grpcio>=1.8.6 in /usr/local/lib/python3.6/dist-packages (from tensorflow-gpu==1.15.2->-r requirements.txt (line 1)) (1.33.2)\n",
      "Requirement already satisfied: wheel>=0.26; python_version >= \"3\" in /usr/local/lib/python3.6/dist-packages (from tensorflow-gpu==1.15.2->-r requirements.txt (line 1)) (0.35.1)\n",
      "Requirement already satisfied: google-pasta>=0.1.6 in /usr/local/lib/python3.6/dist-packages (from tensorflow-gpu==1.15.2->-r requirements.txt (line 1)) (0.2.0)\n",
      "Requirement already satisfied: opt-einsum>=2.3.2 in /usr/local/lib/python3.6/dist-packages (from tensorflow-gpu==1.15.2->-r requirements.txt (line 1)) (3.3.0)\n",
      "Requirement already satisfied: protobuf>=3.6.1 in /usr/local/lib/python3.6/dist-packages (from tensorflow-gpu==1.15.2->-r requirements.txt (line 1)) (3.12.4)\n",
      "Requirement already satisfied: keras-preprocessing>=1.0.5 in /usr/local/lib/python3.6/dist-packages (from tensorflow-gpu==1.15.2->-r requirements.txt (line 1)) (1.1.2)\n",
      "Collecting tensorboard<1.16.0,>=1.15.0\n",
      "\u001b[?25l  Downloading https://files.pythonhosted.org/packages/1e/e9/d3d747a97f7188f48aa5eda486907f3b345cd409f0a0850468ba867db246/tensorboard-1.15.0-py3-none-any.whl (3.8MB)\n",
      "\u001b[K     |████████████████████████████████| 3.8MB 49.4MB/s \n",
      "\u001b[?25hRequirement already satisfied: numpy<2.0,>=1.16.0 in /usr/local/lib/python3.6/dist-packages (from tensorflow-gpu==1.15.2->-r requirements.txt (line 1)) (1.18.5)\n",
      "Requirement already satisfied: scikit-learn in /usr/local/lib/python3.6/dist-packages (from sklearn->-r requirements.txt (line 6)) (0.22.2.post1)\n",
      "Requirement already satisfied: pytz>=2011k in /usr/local/lib/python3.6/dist-packages (from pandas==0.23->-r requirements.txt (line 7)) (2018.9)\n",
      "Requirement already satisfied: python-dateutil>=2.5.0 in /usr/local/lib/python3.6/dist-packages (from pandas==0.23->-r requirements.txt (line 7)) (2.8.1)\n",
      "Requirement already satisfied: h5py in /usr/local/lib/python3.6/dist-packages (from keras-applications>=1.0.8->tensorflow-gpu==1.15.2->-r requirements.txt (line 1)) (2.10.0)\n",
      "Requirement already satisfied: setuptools in /usr/local/lib/python3.6/dist-packages (from protobuf>=3.6.1->tensorflow-gpu==1.15.2->-r requirements.txt (line 1)) (50.3.2)\n",
      "Requirement already satisfied: markdown>=2.6.8 in /usr/local/lib/python3.6/dist-packages (from tensorboard<1.16.0,>=1.15.0->tensorflow-gpu==1.15.2->-r requirements.txt (line 1)) (3.3.3)\n",
      "Requirement already satisfied: werkzeug>=0.11.15 in /usr/local/lib/python3.6/dist-packages (from tensorboard<1.16.0,>=1.15.0->tensorflow-gpu==1.15.2->-r requirements.txt (line 1)) (1.0.1)\n",
      "Requirement already satisfied: joblib>=0.11 in /usr/local/lib/python3.6/dist-packages (from scikit-learn->sklearn->-r requirements.txt (line 6)) (0.17.0)\n",
      "Requirement already satisfied: scipy>=0.17.0 in /usr/local/lib/python3.6/dist-packages (from scikit-learn->sklearn->-r requirements.txt (line 6)) (1.4.1)\n",
      "Requirement already satisfied: importlib-metadata; python_version < \"3.8\" in /usr/local/lib/python3.6/dist-packages (from markdown>=2.6.8->tensorboard<1.16.0,>=1.15.0->tensorflow-gpu==1.15.2->-r requirements.txt (line 1)) (2.0.0)\n",
      "Requirement already satisfied: zipp>=0.5 in /usr/local/lib/python3.6/dist-packages (from importlib-metadata; python_version < \"3.8\"->markdown>=2.6.8->tensorboard<1.16.0,>=1.15.0->tensorflow-gpu==1.15.2->-r requirements.txt (line 1)) (3.4.0)\n",
      "Building wheels for collected packages: gast\n",
      "  Building wheel for gast (setup.py) ... \u001b[?25l\u001b[?25hdone\n",
      "  Created wheel for gast: filename=gast-0.2.2-cp36-none-any.whl size=7542 sha256=167dfff8558252f15730601c1767a1308d0dd8afd9d0bb118e1384e5b85db1a2\n",
      "  Stored in directory: /root/.cache/pip/wheels/5c/2e/7e/a1d4d4fcebe6c381f378ce7743a3ced3699feb89bcfbdadadd\n",
      "Successfully built gast\n",
      "\u001b[31mERROR: xarray 0.15.1 has requirement pandas>=0.25, but you'll have pandas 0.23.0 which is incompatible.\u001b[0m\n",
      "\u001b[31mERROR: tensorflow 2.3.0 has requirement gast==0.3.3, but you'll have gast 0.2.2 which is incompatible.\u001b[0m\n",
      "\u001b[31mERROR: tensorflow 2.3.0 has requirement tensorboard<3,>=2.3.0, but you'll have tensorboard 1.15.0 which is incompatible.\u001b[0m\n",
      "\u001b[31mERROR: tensorflow 2.3.0 has requirement tensorflow-estimator<2.4.0,>=2.3.0, but you'll have tensorflow-estimator 1.15.1 which is incompatible.\u001b[0m\n",
      "\u001b[31mERROR: tensorflow-probability 0.11.0 has requirement gast>=0.3.2, but you'll have gast 0.2.2 which is incompatible.\u001b[0m\n",
      "\u001b[31mERROR: plotnine 0.6.0 has requirement pandas>=0.25.0, but you'll have pandas 0.23.0 which is incompatible.\u001b[0m\n",
      "\u001b[31mERROR: mizani 0.6.0 has requirement pandas>=0.25.0, but you'll have pandas 0.23.0 which is incompatible.\u001b[0m\n",
      "\u001b[31mERROR: google-colab 1.0.0 has requirement pandas~=1.1.0; python_version >= \"3.0\", but you'll have pandas 0.23.0 which is incompatible.\u001b[0m\n",
      "\u001b[31mERROR: fbprophet 0.7.1 has requirement pandas>=1.0.4, but you'll have pandas 0.23.0 which is incompatible.\u001b[0m\n",
      "Installing collected packages: gast, tensorflow-estimator, keras-applications, tensorboard, tensorflow-gpu, pandas\n",
      "  Found existing installation: gast 0.3.3\n",
      "    Uninstalling gast-0.3.3:\n",
      "      Successfully uninstalled gast-0.3.3\n",
      "  Found existing installation: tensorflow-estimator 2.3.0\n",
      "    Uninstalling tensorflow-estimator-2.3.0:\n",
      "      Successfully uninstalled tensorflow-estimator-2.3.0\n",
      "  Found existing installation: tensorboard 2.3.0\n",
      "    Uninstalling tensorboard-2.3.0:\n",
      "      Successfully uninstalled tensorboard-2.3.0\n",
      "  Found existing installation: pandas 1.1.4\n",
      "    Uninstalling pandas-1.1.4:\n",
      "      Successfully uninstalled pandas-1.1.4\n",
      "Successfully installed gast-0.2.2 keras-applications-1.0.8 pandas-0.23.0 tensorboard-1.15.0 tensorflow-estimator-1.15.1 tensorflow-gpu-1.15.2\n"
     ]
    },
    {
     "data": {
      "application/vnd.colab-display-data+json": {
       "pip_warning": {
        "packages": [
         "pandas"
        ]
       }
      }
     },
     "metadata": {
      "tags": []
     },
     "output_type": "display_data"
    }
   ],
   "source": [
    "# Install requirements\n",
    "! pip install -r biobert/requirements.txt"
   ]
  },
  {
   "cell_type": "code",
   "execution_count": null,
   "metadata": {
    "colab": {
     "base_uri": "https://localhost:8080/"
    },
    "collapsed": true,
    "id": "9TqXEwRdPFzl",
    "jupyter": {
     "outputs_hidden": true
    },
    "outputId": "e2b66df1-64cb-470e-a4b0-c885d571687f"
   },
   "outputs": [
    {
     "name": "stdout",
     "output_type": "stream",
     "text": [
      "BIOBERT_DATA not set; downloading to default path ('data').\n",
      "--2020-11-22 16:26:15--  https://docs.google.com/uc?export=download&confirm=SwVU&id=1cGqvAm9IZ_86C4Mj7Zf-w9CFilYVDl8j\n",
      "Resolving docs.google.com (docs.google.com)... 74.125.20.113, 74.125.20.139, 74.125.20.101, ...\n",
      "Connecting to docs.google.com (docs.google.com)|74.125.20.113|:443... connected.\n",
      "HTTP request sent, awaiting response... 302 Moved Temporarily\n",
      "Location: https://doc-08-bk-docs.googleusercontent.com/docs/securesc/uga5fjll8m55msqajnbmp1tthn7a8guk/6vfb0snrjac6o3rgr889j8677odh5flt/1606062375000/13799006341648886493/08359205414467609423Z/1cGqvAm9IZ_86C4Mj7Zf-w9CFilYVDl8j?e=download [following]\n",
      "--2020-11-22 16:26:15--  https://doc-08-bk-docs.googleusercontent.com/docs/securesc/uga5fjll8m55msqajnbmp1tthn7a8guk/6vfb0snrjac6o3rgr889j8677odh5flt/1606062375000/13799006341648886493/08359205414467609423Z/1cGqvAm9IZ_86C4Mj7Zf-w9CFilYVDl8j?e=download\n",
      "Resolving doc-08-bk-docs.googleusercontent.com (doc-08-bk-docs.googleusercontent.com)... 74.125.142.132, 2607:f8b0:400e:c08::84\n",
      "Connecting to doc-08-bk-docs.googleusercontent.com (doc-08-bk-docs.googleusercontent.com)|74.125.142.132|:443... connected.\n",
      "HTTP request sent, awaiting response... 302 Found\n",
      "Location: https://docs.google.com/nonceSigner?nonce=737ovtluehqrs&continue=https://doc-08-bk-docs.googleusercontent.com/docs/securesc/uga5fjll8m55msqajnbmp1tthn7a8guk/6vfb0snrjac6o3rgr889j8677odh5flt/1606062375000/13799006341648886493/08359205414467609423Z/1cGqvAm9IZ_86C4Mj7Zf-w9CFilYVDl8j?e%3Ddownload&hash=5033fqhkj7uekb95mmi8rkojjo09s0bl [following]\n",
      "--2020-11-22 16:26:15--  https://docs.google.com/nonceSigner?nonce=737ovtluehqrs&continue=https://doc-08-bk-docs.googleusercontent.com/docs/securesc/uga5fjll8m55msqajnbmp1tthn7a8guk/6vfb0snrjac6o3rgr889j8677odh5flt/1606062375000/13799006341648886493/08359205414467609423Z/1cGqvAm9IZ_86C4Mj7Zf-w9CFilYVDl8j?e%3Ddownload&hash=5033fqhkj7uekb95mmi8rkojjo09s0bl\n",
      "Connecting to docs.google.com (docs.google.com)|74.125.20.113|:443... connected.\n",
      "HTTP request sent, awaiting response... 302 Found\n",
      "Location: https://doc-08-bk-docs.googleusercontent.com/docs/securesc/uga5fjll8m55msqajnbmp1tthn7a8guk/6vfb0snrjac6o3rgr889j8677odh5flt/1606062375000/13799006341648886493/08359205414467609423Z/1cGqvAm9IZ_86C4Mj7Zf-w9CFilYVDl8j?e=download&nonce=737ovtluehqrs&user=08359205414467609423Z&hash=5rlt2i8cdjtkbodftq2ukdlp7i2ssena [following]\n",
      "--2020-11-22 16:26:15--  https://doc-08-bk-docs.googleusercontent.com/docs/securesc/uga5fjll8m55msqajnbmp1tthn7a8guk/6vfb0snrjac6o3rgr889j8677odh5flt/1606062375000/13799006341648886493/08359205414467609423Z/1cGqvAm9IZ_86C4Mj7Zf-w9CFilYVDl8j?e=download&nonce=737ovtluehqrs&user=08359205414467609423Z&hash=5rlt2i8cdjtkbodftq2ukdlp7i2ssena\n",
      "Connecting to doc-08-bk-docs.googleusercontent.com (doc-08-bk-docs.googleusercontent.com)|74.125.142.132|:443... connected.\n",
      "HTTP request sent, awaiting response... 200 OK\n",
      "Length: unspecified [application/x-gzip]\n",
      "Saving to: ‘./data.tar.gz’\n",
      "\n",
      "./data.tar.gz           [  <=>               ]  28.24M  92.9MB/s    in 0.3s    \n",
      "\n",
      "2020-11-22 16:26:16 (92.9 MB/s) - ‘./data.tar.gz’ saved [29610233]\n",
      "\n",
      "datasets/\n",
      "datasets/RE/\n",
      "datasets/RE/GAD/\n",
      "datasets/RE/GAD/6/\n",
      "datasets/RE/GAD/6/test.tsv\n",
      "datasets/RE/GAD/6/dev.tsv\n",
      "datasets/RE/GAD/6/train.tsv\n",
      "datasets/RE/GAD/7/\n",
      "datasets/RE/GAD/7/test.tsv\n",
      "datasets/RE/GAD/7/dev.tsv\n",
      "datasets/RE/GAD/7/train.tsv\n",
      "datasets/RE/GAD/5/\n",
      "datasets/RE/GAD/5/test.tsv\n",
      "datasets/RE/GAD/5/dev.tsv\n",
      "datasets/RE/GAD/5/train.tsv\n",
      "datasets/RE/GAD/8/\n",
      "datasets/RE/GAD/8/test.tsv\n",
      "datasets/RE/GAD/8/dev.tsv\n",
      "datasets/RE/GAD/8/train.tsv\n",
      "datasets/RE/GAD/4/\n",
      "datasets/RE/GAD/4/test.tsv\n",
      "datasets/RE/GAD/4/dev.tsv\n",
      "datasets/RE/GAD/4/train.tsv\n",
      "datasets/RE/GAD/1/\n",
      "datasets/RE/GAD/1/test.tsv\n",
      "datasets/RE/GAD/1/dev.tsv\n",
      "datasets/RE/GAD/1/train.tsv\n",
      "datasets/RE/GAD/2/\n",
      "datasets/RE/GAD/2/test.tsv\n",
      "datasets/RE/GAD/2/dev.tsv\n",
      "datasets/RE/GAD/2/train.tsv\n",
      "datasets/RE/GAD/3/\n",
      "datasets/RE/GAD/3/test.tsv\n",
      "datasets/RE/GAD/3/dev.tsv\n",
      "datasets/RE/GAD/3/train.tsv\n",
      "datasets/RE/GAD/9/\n",
      "datasets/RE/GAD/9/test.tsv\n",
      "datasets/RE/GAD/9/dev.tsv\n",
      "datasets/RE/GAD/9/train.tsv\n",
      "datasets/RE/GAD/10/\n",
      "datasets/RE/GAD/10/test.tsv\n",
      "datasets/RE/GAD/10/dev.tsv\n",
      "datasets/RE/GAD/10/train.tsv\n",
      "datasets/RE/euadr/\n",
      "datasets/RE/euadr/6/\n",
      "datasets/RE/euadr/6/test.tsv\n",
      "datasets/RE/euadr/6/dev.tsv\n",
      "datasets/RE/euadr/6/train.tsv\n",
      "datasets/RE/euadr/7/\n",
      "datasets/RE/euadr/7/test.tsv\n",
      "datasets/RE/euadr/7/dev.tsv\n",
      "datasets/RE/euadr/7/train.tsv\n",
      "datasets/RE/euadr/5/\n",
      "datasets/RE/euadr/5/test.tsv\n",
      "datasets/RE/euadr/5/dev.tsv\n",
      "datasets/RE/euadr/5/train.tsv\n",
      "datasets/RE/euadr/8/\n",
      "datasets/RE/euadr/8/test.tsv\n",
      "datasets/RE/euadr/8/dev.tsv\n",
      "datasets/RE/euadr/8/train.tsv\n",
      "datasets/RE/euadr/4/\n",
      "datasets/RE/euadr/4/test.tsv\n",
      "datasets/RE/euadr/4/dev.tsv\n",
      "datasets/RE/euadr/4/train.tsv\n",
      "datasets/RE/euadr/1/\n",
      "datasets/RE/euadr/1/test.tsv\n",
      "datasets/RE/euadr/1/dev.tsv\n",
      "datasets/RE/euadr/1/train.tsv\n",
      "datasets/RE/euadr/2/\n",
      "datasets/RE/euadr/2/test.tsv\n",
      "datasets/RE/euadr/2/dev.tsv\n",
      "datasets/RE/euadr/2/train.tsv\n",
      "datasets/RE/euadr/3/\n",
      "datasets/RE/euadr/3/test.tsv\n",
      "datasets/RE/euadr/3/dev.tsv\n",
      "datasets/RE/euadr/3/train.tsv\n",
      "datasets/RE/euadr/9/\n",
      "datasets/RE/euadr/9/test.tsv\n",
      "datasets/RE/euadr/9/dev.tsv\n",
      "datasets/RE/euadr/9/train.tsv\n",
      "datasets/RE/euadr/10/\n",
      "datasets/RE/euadr/10/test.tsv\n",
      "datasets/RE/euadr/10/dev.tsv\n",
      "datasets/RE/euadr/10/train.tsv\n",
      "datasets/QA/\n",
      "datasets/QA/BioASQ/\n",
      "datasets/QA/BioASQ/6B1_golden.json\n",
      "datasets/QA/BioASQ/BioASQ-test-factoid-7b.json\n",
      "datasets/QA/BioASQ/BioASQ-test-factoid-5b-4.json\n",
      "datasets/QA/BioASQ/5B3_golden.json\n",
      "datasets/QA/BioASQ/BioASQ-test-factoid-4b-2.json\n",
      "datasets/QA/BioASQ/4B1_golden.json\n",
      "datasets/QA/BioASQ/BioASQ-train-yesno-7b.json\n",
      "datasets/QA/BioASQ/BioASQ-test-factoid-5b-5.json\n",
      "datasets/QA/BioASQ/BioASQ-test-factoid-5b-2.json\n",
      "datasets/QA/BioASQ/BioASQ-test-factoid-6b-2.json\n",
      "datasets/QA/BioASQ/4B4_golden.json\n",
      "datasets/QA/BioASQ/BioASQ-test-factoid-6b-3.json\n",
      "datasets/QA/BioASQ/6B3_golden.json\n",
      "datasets/QA/BioASQ/BioASQ-test-factoid-5b-3.json\n",
      "datasets/QA/BioASQ/BioASQ-test-factoid-6b-5.json\n",
      "datasets/QA/BioASQ/BioASQ-test-yesno-7b.json\n",
      "datasets/QA/BioASQ/BioASQ-train-factoid-4b.json\n",
      "datasets/QA/BioASQ/BioASQ-test-factoid-4b-1.json\n",
      "datasets/QA/BioASQ/6B5_golden.json\n",
      "datasets/QA/BioASQ/5B1_golden.json\n",
      "datasets/QA/BioASQ/4B5_golden.json\n",
      "datasets/QA/BioASQ/BioASQ-test-factoid-4b-3.json\n",
      "datasets/QA/BioASQ/7B_golden.json\n",
      "datasets/QA/BioASQ/5B4_golden.json\n",
      "datasets/QA/BioASQ/BioASQ-train-factoid-6b.json\n",
      "datasets/QA/BioASQ/BioASQ-train-factoid-7b.json\n",
      "datasets/QA/BioASQ/SHA1.txt\n",
      "datasets/QA/BioASQ/BioASQ-test-factoid-6b-1.json\n",
      "datasets/QA/BioASQ/BioASQ-train-factoid-5b.json\n",
      "datasets/QA/BioASQ/5B2_golden.json\n",
      "datasets/QA/BioASQ/BioASQ-test-factoid-6b-4.json\n",
      "datasets/QA/BioASQ/BioASQ-test-factoid-5b-1.json\n",
      "datasets/QA/BioASQ/4B3_golden.json\n",
      "datasets/QA/BioASQ/6B2_golden.json\n",
      "datasets/QA/BioASQ/4B2_golden.json\n",
      "datasets/QA/BioASQ/6B4_golden.json\n",
      "datasets/QA/BioASQ/BioASQ-test-factoid-4b-5.json\n",
      "datasets/QA/BioASQ/5B5_golden.json\n",
      "datasets/QA/BioASQ/BioASQ-test-factoid-4b-4.json\n",
      "datasets/NER/\n",
      "datasets/NER/linnaeus/\n",
      "datasets/NER/linnaeus/devel.tsv\n",
      "datasets/NER/linnaeus/test.tsv\n",
      "datasets/NER/linnaeus/train_dev.tsv\n",
      "datasets/NER/linnaeus/train.tsv\n",
      "datasets/NER/BC2GM/\n",
      "datasets/NER/BC2GM/devel.tsv\n",
      "datasets/NER/BC2GM/test.tsv\n",
      "datasets/NER/BC2GM/train_dev.tsv\n",
      "datasets/NER/BC2GM/train.tsv\n",
      "datasets/NER/BC5CDR-disease/\n",
      "datasets/NER/BC5CDR-disease/devel.tsv\n",
      "datasets/NER/BC5CDR-disease/test.tsv\n",
      "datasets/NER/BC5CDR-disease/train_dev.tsv\n",
      "datasets/NER/BC5CDR-disease/train.tsv\n",
      "datasets/NER/NCBI-disease/\n",
      "datasets/NER/NCBI-disease/devel.tsv\n",
      "datasets/NER/NCBI-disease/test.tsv\n",
      "datasets/NER/NCBI-disease/train_dev.tsv\n",
      "datasets/NER/NCBI-disease/train.tsv\n",
      "datasets/NER/s800/\n",
      "datasets/NER/s800/devel.tsv\n",
      "datasets/NER/s800/test.tsv\n",
      "datasets/NER/s800/train_dev.tsv\n",
      "datasets/NER/s800/train.tsv\n",
      "datasets/NER/BC5CDR-chem/\n",
      "datasets/NER/BC5CDR-chem/devel.tsv\n",
      "datasets/NER/BC5CDR-chem/test.tsv\n",
      "datasets/NER/BC5CDR-chem/train_dev.tsv\n",
      "datasets/NER/BC5CDR-chem/train.tsv\n",
      "datasets/NER/JNLPBA/\n",
      "datasets/NER/JNLPBA/devel.tsv\n",
      "datasets/NER/JNLPBA/test.tsv\n",
      "datasets/NER/JNLPBA/train_dev.tsv\n",
      "datasets/NER/JNLPBA/train.tsv\n",
      "datasets/NER/BC4CHEMD/\n",
      "datasets/NER/BC4CHEMD/devel.tsv\n",
      "datasets/NER/BC4CHEMD/test.tsv\n",
      "datasets/NER/BC4CHEMD/train_dev.tsv\n",
      "datasets/NER/BC4CHEMD/train.tsv\n",
      "BioBERT dataset download done!\n"
     ]
    }
   ],
   "source": [
    "# Download datasets\n",
    "! ./download.sh"
   ]
  },
  {
   "cell_type": "code",
   "execution_count": null,
   "metadata": {
    "colab": {
     "base_uri": "https://localhost:8080/"
    },
    "id": "gPLNLI1SLIj1",
    "outputId": "37662559-8ad1-41a3-f24d-f0f7afbb2cf9"
   },
   "outputs": [
    {
     "name": "stdout",
     "output_type": "stream",
     "text": [
      "\n"
     ]
    }
   ],
   "source": [
    "# Download biobert_v1.1_pubmed and save int into the Colab Content\n",
    "! export BIOBERT_DIR=./biobert_v1.1_pubmed\n",
    "! echo $BIOBERT_DIR\n"
   ]
  },
  {
   "cell_type": "code",
   "execution_count": null,
   "metadata": {
    "colab": {
     "base_uri": "https://localhost:8080/"
    },
    "id": "qKiPXyNRMbnK",
    "outputId": "e6c2db59-f93f-4028-9238-8831e72cb2e7"
   },
   "outputs": [
    {
     "name": "stdout",
     "output_type": "stream",
     "text": [
      "total 313\n",
      " 4 drwx------ 2 root root  4096 Nov 21 17:42 biocodes\n",
      "15 -rw------- 1 root root 15237 Nov 21 17:42 create_pretraining_data.py\n",
      " 1 -rw------- 1 root root   903 Nov 21 17:42 download.sh\n",
      "14 -rw------- 1 root root 13898 Nov 21 17:42 extract_features.py\n",
      " 4 drwx------ 2 root root  4096 Nov 21 17:42 figs\n",
      " 1 -rw------- 1 root root   562 Nov 21 17:42 __init__.py\n",
      "12 -rw------- 1 root root 12060 Nov 21 17:42 LICENSE\n",
      "38 -rw------- 1 root root 38084 Nov 21 17:42 modeling.py\n",
      " 9 -rw------- 1 root root  9191 Nov 21 17:42 modeling_test.py\n",
      " 7 -rw------- 1 root root  6258 Nov 21 17:42 optimization.py\n",
      " 2 -rw------- 1 root root  1721 Nov 21 17:42 optimization_test.py\n",
      "13 -rw------- 1 root root 13150 Nov 21 17:42 README.md\n",
      " 1 -rw------- 1 root root   294 Nov 21 17:42 requirements.txt\n",
      "34 -rw------- 1 root root 34783 Nov 21 17:42 run_classifier.py\n",
      "27 -rw------- 1 root root 26953 Nov 21 17:42 run_ner.py\n",
      "19 -rw------- 1 root root 18667 Nov 21 17:42 run_pretraining.py\n",
      "46 -rw------- 1 root root 46789 Nov 21 17:42 run_qa.py\n",
      "39 -rw------- 1 root root 39145 Nov 21 17:42 run_re.py\n",
      " 5 -rw------- 1 root root  4394 Nov 21 17:42 sample_text.txt\n",
      " 9 -rw------- 1 root root  8402 Nov 21 17:42 tf_metrics.py\n",
      "12 -rw------- 1 root root 12257 Nov 21 17:42 tokenization.py\n",
      " 5 -rw------- 1 root root  4527 Nov 21 17:42 tokenization_test.py\n"
     ]
    }
   ],
   "source": [
    "! ls -ls"
   ]
  },
  {
   "cell_type": "code",
   "execution_count": null,
   "metadata": {
    "colab": {
     "base_uri": "https://localhost:8080/"
    },
    "id": "pu5wVbn8Mqq3",
    "outputId": "b29e8878-2b8c-489e-c363-00df7d16be05"
   },
   "outputs": [
    {
     "name": "stdout",
     "output_type": "stream",
     "text": [
      "BioASQ\t\t\t    modeling.py\t\t  run_pretraining.py\n",
      "biocodes\t\t    modeling_test.py\t  run_qa.py\n",
      "create_pretraining_data.py  optimization.py\t  run_re.py\n",
      "download.sh\t\t    optimization_test.py  sample_text.txt\n",
      "extract_features.py\t    README.md\t\t  tf_metrics.py\n",
      "figs\t\t\t    requirements.txt\t  tokenization.py\n",
      "__init__.py\t\t    run_classifier.py\t  tokenization_test.py\n",
      "LICENSE\t\t\t    run_ner.py\n"
     ]
    }
   ],
   "source": [
    "! ls"
   ]
  },
  {
   "cell_type": "code",
   "execution_count": null,
   "metadata": {
    "id": "uPI7ku1BMsDa"
   },
   "outputs": [],
   "source": [
    "! export QA_DIR=./BioASQ/\n",
    "! export OUTPUT_DIR=./qa_outputs/\n"
   ]
  },
  {
   "cell_type": "code",
   "execution_count": null,
   "metadata": {
    "id": "OGfqZ4h-M0vj"
   },
   "outputs": [],
   "source": [
    "! export OUTPUT_DIR=./qa_outputs"
   ]
  },
  {
   "cell_type": "code",
   "execution_count": null,
   "metadata": {
    "colab": {
     "base_uri": "https://localhost:8080/"
    },
    "id": "asRwK7FkM6XT",
    "outputId": "3300ed96-4ef9-4ec5-ea8a-718de3abc958"
   },
   "outputs": [
    {
     "name": "stdout",
     "output_type": "stream",
     "text": [
      "mkdir: missing operand\n",
      "Try 'mkdir --help' for more information.\n"
     ]
    }
   ],
   "source": [
    "! mkdir -p $OUTPUT_DIR"
   ]
  },
  {
   "cell_type": "code",
   "execution_count": null,
   "metadata": {
    "colab": {
     "base_uri": "https://localhost:8080/"
    },
    "id": "Vg6f5hYJM92S",
    "outputId": "0c1336e2-0106-4805-a106-9b458333c374"
   },
   "outputs": [
    {
     "name": "stdout",
     "output_type": "stream",
     "text": [
      "WARNING:tensorflow:From /content/biobert/optimization.py:87: The name tf.train.Optimizer is deprecated. Please use tf.compat.v1.train.Optimizer instead.\n",
      "\n",
      "WARNING:tensorflow:From run_qa.py:1290: The name tf.app.run is deprecated. Please use tf.compat.v1.app.run instead.\n",
      "\n",
      "WARNING:tensorflow:From run_qa.py:1134: The name tf.logging.set_verbosity is deprecated. Please use tf.compat.v1.logging.set_verbosity instead.\n",
      "\n",
      "W1121 09:50:52.776824 140584916920192 module_wrapper.py:139] From run_qa.py:1134: The name tf.logging.set_verbosity is deprecated. Please use tf.compat.v1.logging.set_verbosity instead.\n",
      "\n",
      "WARNING:tensorflow:From run_qa.py:1134: The name tf.logging.INFO is deprecated. Please use tf.compat.v1.logging.INFO instead.\n",
      "\n",
      "W1121 09:50:52.777034 140584916920192 module_wrapper.py:139] From run_qa.py:1134: The name tf.logging.INFO is deprecated. Please use tf.compat.v1.logging.INFO instead.\n",
      "\n",
      "WARNING:tensorflow:From /content/biobert/modeling.py:92: The name tf.gfile.GFile is deprecated. Please use tf.io.gfile.GFile instead.\n",
      "\n",
      "W1121 09:50:52.777210 140584916920192 module_wrapper.py:139] From /content/biobert/modeling.py:92: The name tf.gfile.GFile is deprecated. Please use tf.io.gfile.GFile instead.\n",
      "\n",
      "Traceback (most recent call last):\n",
      "  File \"run_qa.py\", line 1290, in <module>\n",
      "    tf.app.run()\n",
      "  File \"/usr/local/lib/python3.6/dist-packages/tensorflow_core/python/platform/app.py\", line 40, in run\n",
      "    _run(main=main, argv=argv, flags_parser=_parse_flags_tolerate_undef)\n",
      "  File \"/usr/local/lib/python3.6/dist-packages/absl/app.py\", line 300, in run\n",
      "    _run_main(main, args)\n",
      "  File \"/usr/local/lib/python3.6/dist-packages/absl/app.py\", line 251, in _run_main\n",
      "    sys.exit(main(argv))\n",
      "  File \"run_qa.py\", line 1136, in main\n",
      "    bert_config = modeling.BertConfig.from_json_file(FLAGS.bert_config_file)\n",
      "  File \"/content/biobert/modeling.py\", line 93, in from_json_file\n",
      "    text = reader.read()\n",
      "  File \"/usr/local/lib/python3.6/dist-packages/tensorflow_core/python/lib/io/file_io.py\", line 122, in read\n",
      "    self._preread_check()\n",
      "  File \"/usr/local/lib/python3.6/dist-packages/tensorflow_core/python/lib/io/file_io.py\", line 84, in _preread_check\n",
      "    compat.as_bytes(self.__name), 1024 * 512)\n",
      "tensorflow.python.framework.errors_impl.NotFoundError: /bert_config.json; No such file or directory\n"
     ]
    }
   ],
   "source": [
    "! python run_qa.py --do_train=True --do_predict=True --vocab_file=$BIOBERT_DIR/vocab.txt --bert_config_file=$BIOBERT_DIR/bert_config.json --init_checkpoint=$BIOBERT_DIR/model.ckpt-1000000 --max_seq_length=384 --train_batch_size=12 --learning_rate=5e-6 --doc_stride=128 --num_train_epochs=5.0 --do_lower_case=False --train_file=$QA_DIR/BioASQ-train-factoid-4b.json --predict_file=$QA_DIR/BioASQ-test-factoid-4b-1.json --output_dir=$OUTPUT_DIR\n"
   ]
  },
  {
   "cell_type": "markdown",
   "metadata": {
    "id": "jC9ni1UU-Jp0"
   },
   "source": [
    "# Metrics\n",
    "The metrics for the MEDIQA 2019 challenge are..\n",
    "* Accuracy \n",
    "* Precision: Number of correct ranked answers divided by the total number of retrieved answers for an specific question.\n",
    "* Mean reciprocal rank (MRR): Evaluates any process that produces a list of possible responses to a sample of queries, ordered by probability of correctness \n",
    "* Spearman's Rank Correlation Coefficient (Spearman’s rho): Penalizes the differences (d) on predicted rank and true rank "
   ]
  },
  {
   "cell_type": "code",
   "execution_count": null,
   "metadata": {
    "id": "icNdSd-e-JAa"
   },
   "outputs": [],
   "source": [
    "def mean_reciprocal_rank(rs):\n",
    "    '''\n",
    "    Evaluates any process that produces a list of possible responses to a sample of queries, ordered by probability of correctness. \n",
    "    :param rs: sentence rank\n",
    "    :return: MRR score\n",
    "    '''\n",
    "    rs = (np.asarray(r).nonzero()[0] for r in rs)\n",
    "    return np.mean([1. / (r[0] + 1) if r.size else 0. for r in rs])"
   ]
  },
  {
   "cell_type": "code",
   "execution_count": null,
   "metadata": {
    "colab": {
     "base_uri": "https://localhost:8080/",
     "height": 215
    },
    "id": "7qQ1VttH_AfW",
    "outputId": "a9469750-2acb-428a-d38e-2f8d110a5c3d"
   },
   "outputs": [
    {
     "ename": "NameError",
     "evalue": "ignored",
     "output_type": "error",
     "traceback": [
      "\u001b[0;31m---------------------------------------------------------------------------\u001b[0m",
      "\u001b[0;31mNameError\u001b[0m                                 Traceback (most recent call last)",
      "\u001b[0;32m<ipython-input-8-809cb368f981>\u001b[0m in \u001b[0;36m<module>\u001b[0;34m()\u001b[0m\n\u001b[1;32m      1\u001b[0m \u001b[0;31m# rank, entail = QA[0][2:]\u001b[0m\u001b[0;34m\u001b[0m\u001b[0;34m\u001b[0m\u001b[0;34m\u001b[0m\u001b[0m\n\u001b[0;32m----> 2\u001b[0;31m \u001b[0mreference_ranks\u001b[0m \u001b[0;34m=\u001b[0m \u001b[0;34m[\u001b[0m\u001b[0mnp\u001b[0m\u001b[0;34m.\u001b[0m\u001b[0marray\u001b[0m\u001b[0;34m(\u001b[0m\u001b[0mq\u001b[0m\u001b[0;34m[\u001b[0m\u001b[0;36m2\u001b[0m\u001b[0;34m]\u001b[0m\u001b[0;34m)\u001b[0m \u001b[0;32mfor\u001b[0m \u001b[0mq\u001b[0m \u001b[0;32min\u001b[0m \u001b[0mQA2\u001b[0m\u001b[0;34m]\u001b[0m\u001b[0;34m\u001b[0m\u001b[0;34m\u001b[0m\u001b[0m\n\u001b[0m\u001b[1;32m      3\u001b[0m \u001b[0msystem_ranks\u001b[0m \u001b[0;34m=\u001b[0m \u001b[0;34m[\u001b[0m\u001b[0mnp\u001b[0m\u001b[0;34m.\u001b[0m\u001b[0marray\u001b[0m\u001b[0;34m(\u001b[0m\u001b[0mq\u001b[0m\u001b[0;34m[\u001b[0m\u001b[0;36m3\u001b[0m\u001b[0;34m]\u001b[0m\u001b[0;34m)\u001b[0m \u001b[0;32mfor\u001b[0m \u001b[0mq\u001b[0m \u001b[0;32min\u001b[0m \u001b[0mQA2\u001b[0m\u001b[0;34m]\u001b[0m\u001b[0;34m\u001b[0m\u001b[0;34m\u001b[0m\u001b[0m\n\u001b[1;32m      4\u001b[0m \u001b[0mprint\u001b[0m\u001b[0;34m(\u001b[0m\u001b[0mreference_ranks\u001b[0m\u001b[0;34m)\u001b[0m\u001b[0;34m\u001b[0m\u001b[0;34m\u001b[0m\u001b[0m\n",
      "\u001b[0;31mNameError\u001b[0m: name 'QA2' is not defined"
     ]
    }
   ],
   "source": [
    "# rank, entail = QA[0][2:]\n",
    "reference_ranks = [np.array(q[2]) for q in QA2]\n",
    "system_ranks = [np.array(q[3]) for q in QA2]"
   ]
  },
  {
   "cell_type": "code",
   "execution_count": null,
   "metadata": {
    "id": "Tp5BylFXOX7a"
   },
   "outputs": [],
   "source": [
    "predicted = []\n",
    "for a, b in zip(reference_ranks, system_ranks):\n",
    "    res = np.array(a)[np.argsort(b)]\n",
    "    predicted.append([int(i==min(res)) for i in res])"
   ]
  },
  {
   "cell_type": "code",
   "execution_count": null,
   "metadata": {
    "colab": {
     "base_uri": "https://localhost:8080/"
    },
    "id": "5tWYVvwfB8c5",
    "outputId": "515f1318-ce13-46f8-e8b4-f9867b78ff60"
   },
   "outputs": [
    {
     "data": {
      "text/plain": [
       "0.5924920634920635"
      ]
     },
     "execution_count": 62,
     "metadata": {
      "tags": []
     },
     "output_type": "execute_result"
    }
   ],
   "source": [
    "mean_reciprocal_rank(predicted)"
   ]
  },
  {
   "cell_type": "code",
   "execution_count": null,
   "metadata": {
    "id": "bHykldLG-6_l"
   },
   "outputs": [],
   "source": [
    "def calc_hit_rank(prediction, reference):\n",
    "    for i, p in enumerate(prediction):\n",
    "        if reference[p-1] == 1:\n",
    "            return i+1\n",
    "    print(prediction)\n",
    "    print(reference)\n",
    "    raise ValueError('No reference!')\n",
    "\n",
    "def mean_reciprocal_rank(predictions, references):\n",
    "    '''\n",
    "    Evaluates any process that produces a list of possible responses to a sample of queries, ordered by probability of correctness.\n",
    "    :param predictions:  model prediction ranks\n",
    "    :param references: sentence reference ranks\n",
    "    :return: MRR score\n",
    "    '''\n",
    "    assert len(predictions) == len(references)\n",
    "    ranks = []\n",
    "    for p, c in zip(predictions, references):\n",
    "        rank = calc_hit_rank(p, c)\n",
    "        ranks.append(1.0 / rank)\n",
    "    return sum(ranks) * 1.0 / len(ranks) "
   ]
  },
  {
   "cell_type": "code",
   "execution_count": null,
   "metadata": {
    "colab": {
     "base_uri": "https://localhost:8080/"
    },
    "id": "NukjYbbHP4kx",
    "outputId": "d78d92df-09de-4a99-cb7b-bcec0f8b1fe9"
   },
   "outputs": [
    {
     "data": {
      "text/plain": [
       "0.5924920634920635"
      ]
     },
     "execution_count": 64,
     "metadata": {
      "tags": []
     },
     "output_type": "execute_result"
    }
   ],
   "source": [
    "reference_ranks2 = [(np.array(arr) == 1).astype(np.int64) for arr in reference_ranks]\n",
    "system_ranks2 = [(np.array(arr) == 1).astype(np.int64) for arr in system_ranks]\n",
    "mean_reciprocal_rank(system_ranks, reference_ranks)"
   ]
  },
  {
   "cell_type": "code",
   "execution_count": null,
   "metadata": {
    "id": "-bCHtijXBvdt"
   },
   "outputs": [],
   "source": [
    "from scipy.stats import spearmanr\n",
    "\n",
    "def mean_spearmanr(predictions, references):\n",
    "    '''\n",
    "    Penalizes the differences (d) on predicted rank and true rank\n",
    "    :param predictions: model prediction ranks\n",
    "    :param references: sentence reference ranks\n",
    "    :return: Spearmanr score\n",
    "    '''\n",
    "    count = 0\n",
    "    for i in range(len(predictions)):\n",
    "        count += spearmanr(predictions[i], references[i])[0]\n",
    "\n",
    "    return count/len(system_ranks)"
   ]
  },
  {
   "cell_type": "code",
   "execution_count": null,
   "metadata": {
    "colab": {
     "base_uri": "https://localhost:8080/",
     "height": 232
    },
    "id": "uF0dvFdJSapo",
    "outputId": "de89796e-d3b0-4dc7-d9d6-72b12813b499"
   },
   "outputs": [
    {
     "ename": "NameError",
     "evalue": "ignored",
     "output_type": "error",
     "traceback": [
      "\u001b[0;31m---------------------------------------------------------------------------\u001b[0m",
      "\u001b[0;31mNameError\u001b[0m                                 Traceback (most recent call last)",
      "\u001b[0;32m<ipython-input-9-7fa07ee02b97>\u001b[0m in \u001b[0;36m<module>\u001b[0;34m()\u001b[0m\n\u001b[1;32m      2\u001b[0m \u001b[0mindx2id\u001b[0m \u001b[0;34m=\u001b[0m \u001b[0;34m[\u001b[0m\u001b[0;34m]\u001b[0m\u001b[0;34m\u001b[0m\u001b[0;34m\u001b[0m\u001b[0m\n\u001b[1;32m      3\u001b[0m \u001b[0mQA\u001b[0m\u001b[0;34m,\u001b[0m \u001b[0mQA2\u001b[0m \u001b[0;34m=\u001b[0m \u001b[0;34m[\u001b[0m\u001b[0;34m]\u001b[0m\u001b[0;34m,\u001b[0m \u001b[0;34m[\u001b[0m\u001b[0;34m]\u001b[0m  \u001b[0;31m# QA2 has also system ranks from ChiQA\u001b[0m\u001b[0;34m\u001b[0m\u001b[0;34m\u001b[0m\u001b[0m\n\u001b[0;32m----> 4\u001b[0;31m \u001b[0;32mfor\u001b[0m \u001b[0mfilename\u001b[0m \u001b[0;32min\u001b[0m \u001b[0mos\u001b[0m\u001b[0;34m.\u001b[0m\u001b[0mlistdir\u001b[0m\u001b[0;34m(\u001b[0m\u001b[0;34m'./'\u001b[0m\u001b[0;34m)\u001b[0m\u001b[0;34m:\u001b[0m\u001b[0;34m\u001b[0m\u001b[0;34m\u001b[0m\u001b[0m\n\u001b[0m\u001b[1;32m      5\u001b[0m     \u001b[0;31m# i += 1\u001b[0m\u001b[0;34m\u001b[0m\u001b[0;34m\u001b[0m\u001b[0;34m\u001b[0m\u001b[0m\n\u001b[1;32m      6\u001b[0m     \u001b[0mprint\u001b[0m\u001b[0;34m(\u001b[0m\u001b[0mfilename\u001b[0m\u001b[0;34m)\u001b[0m\u001b[0;34m\u001b[0m\u001b[0;34m\u001b[0m\u001b[0m\n",
      "\u001b[0;31mNameError\u001b[0m: name 'os' is not defined"
     ]
    }
   ],
   "source": [
    "i = 0\n",
    "indx2id = []\n",
    "QA, QA2 = [], []  # QA2 has also system ranks from ChiQA\n",
    "for filename in os.listdir('./'):\n",
    "    # i += 1\n",
    "    print(filename)\n",
    "    if not filename.endswith('.xml') or 'Labels' not in filename: continue\n",
    "    fullname = os.path.join('data/Test', filename)\n",
    "    tree = parse(filename)\n",
    "    questions = tree.getElementsByTagName('Question')\n",
    "    for question in questions:\n",
    "        qelem = question.getElementsByTagName('QuestionText')\n",
    "        q, qid = preprocess_text(qelem[0].firstChild.nodeValue), question.getAttribute('QID')\n",
    "        # print(q) # --> questions\n",
    "        answers = question.getElementsByTagName('Answer')\n",
    "        answers_list, rank, system, labels = get_answers(answers)\n",
    "        QA.append([q,answers_list, rank, labels])\n",
    "        QA2.append([q,answers_list, rank, system, labels])\n",
    "        indx2id.append(qid); i+=1;\n",
    "        # break\n",
    "len(QA2)"
   ]
  },
  {
   "cell_type": "code",
   "execution_count": null,
   "metadata": {
    "id": "KEZNTT2NUHOr"
   },
   "outputs": [],
   "source": [
    "reference_ranks = [np.array(q[2]) for q in QA2]\n",
    "system_ranks = [np.array(q[3]) for q in QA2]"
   ]
  },
  {
   "cell_type": "code",
   "execution_count": null,
   "metadata": {
    "colab": {
     "base_uri": "https://localhost:8080/"
    },
    "id": "H9nTkdt4W0n1",
    "outputId": "e4758a1d-d3cc-4839-dca0-8dbe37fa8352"
   },
   "outputs": [
    {
     "data": {
      "text/plain": [
       "0.3631053391053391"
      ]
     },
     "execution_count": 14,
     "metadata": {
      "tags": []
     },
     "output_type": "execute_result"
    }
   ],
   "source": [
    "mean_spearmanr(system_ranks, reference_ranks)"
   ]
  },
  {
   "cell_type": "code",
   "execution_count": null,
   "metadata": {
    "id": "mrbbI8krXBVv"
   },
   "outputs": [],
   "source": [
    "predicted = []\n",
    "for a, b in zip(reference_ranks, system_ranks):\n",
    "    res = np.array(a)[np.argsort(b)]\n",
    "    predicted.append([int(i==min(res)) for i in res])"
   ]
  },
  {
   "cell_type": "code",
   "execution_count": null,
   "metadata": {
    "colab": {
     "base_uri": "https://localhost:8080/"
    },
    "id": "aFyZJXqaXGbv",
    "outputId": "89499d2c-295e-4b53-8ed6-ed27b8812553"
   },
   "outputs": [
    {
     "data": {
      "text/plain": [
       "0.6025846560846562"
      ]
     },
     "execution_count": 16,
     "metadata": {
      "tags": []
     },
     "output_type": "execute_result"
    }
   ],
   "source": [
    "def mean_reciprocal_rank(rs):\n",
    "    rs = (np.asarray(r).nonzero()[0] for r in rs)\n",
    "    return np.mean([1. / (r[0] + 1) if r.size else 0. for r in rs])\n",
    "mean_reciprocal_rank(predicted)"
   ]
  },
  {
   "cell_type": "code",
   "execution_count": 26,
   "metadata": {
    "id": "9LHTsbizHboQ"
   },
   "outputs": [],
   "source": [
    "from scipy.stats import spearmanr\n",
    "from sklearn.metrics import accuracy_score\n",
    "import unicodedata\n",
    "import re\n",
    "\n",
    "class Question(object):\n",
    "    def __init__(self, q_id, q, a_ids, a, r, s, l):\n",
    "        self.question_id = q_id\n",
    "        self.question = q\n",
    "        self.answer_ids = a_ids\n",
    "        self.answers = a\n",
    "        self.reference_rank = r\n",
    "        self.system_rank = s\n",
    "        self.labels = l\n",
    "    \n",
    "    def __str__(self):\n",
    "        return f\"{self.question}\\n  {self.answers}\\n  {self.reference_rank}\\n  {self.system_rank}\\n  {self.labels}\"\n",
    "    \n",
    "    def __repr__(self):\n",
    "        return str(self)\n",
    "\n",
    "class QuestionsAndAnswers(list):\n",
    "    def __init__(self, dataset='Train'):\n",
    "        ''' dataset = {Train,Test,Validation} '''\n",
    "        list.__init__(self)\n",
    "        p = self.read_dataset(dataset)\n",
    "        self.extend(self.read_dataset(dataset))\n",
    "        self.references = [np.array(q.reference_rank) for q in self]\n",
    "        self.labels = [np.array(q.labels) for q in self]\n",
    "\n",
    "\n",
    "    def preprocess_text(self, text):\n",
    "        s = unicodedata.normalize(\"NFKD\", text.lower())\n",
    "        return re.sub(r'\\[\\d\\]', '', s)\n",
    "\n",
    "    def get_answers(self, answers):\n",
    "        # return np.array((map(lambda ans: preprocess_text(ans.getElementsByTagName('AnswerText')[0].firstChild.nodeValue), answers)))\n",
    "        answs, answs_ids, rank, chiqa, y = [], [], [], [], []\n",
    "        for answer in answers:\n",
    "            ans = self.preprocess_text(answer.getElementsByTagName('AnswerText')[0].firstChild.nodeValue)\n",
    "            a_id = answer.getAttribute('AID')\n",
    "            reference = int(answer.getAttribute('ReferenceRank'))\n",
    "            system = int(answer.getAttribute('SystemRank'))\n",
    "            label = answer.getAttribute('ReferenceScore')\n",
    "            answs.append(ans); answs_ids.append(a_id); rank.append(reference); chiqa.append(system); y.append(int(label in ['3','4']))\n",
    "        return answs, answs_ids, rank, chiqa, y\n",
    "\n",
    "    def read_dataset(self, dataset='Train'):\n",
    "        i = 0\n",
    "        indx2id = []\n",
    "        QA, QA2 = [], []  # QA2 has also system ranks from ChiQA\n",
    "        if dataset == 'Test': dataset = 'TestSet-wLabels'\n",
    "        for filename in os.listdir('./'):\n",
    "            if not filename.endswith('.xml') or dataset not in filename: continue\n",
    "            tree = parse(filename)\n",
    "            questions = tree.getElementsByTagName('Question')\n",
    "            for question in questions:\n",
    "                qelem = question.getElementsByTagName('QuestionText')\n",
    "                q, q_id = self.preprocess_text(qelem[0].firstChild.nodeValue), question.getAttribute('QID')\n",
    "                # print(q) # --> questions\n",
    "                answers = question.getElementsByTagName('Answer')\n",
    "                answers_list, a_ids, rank, system, labels = self.get_answers(answers)\n",
    "                QA.append([q,answers_list, rank, labels])\n",
    "                question = Question(q_id=q_id, q=q, a_ids=a_ids, a=answers_list, r=rank, s=system, l=labels)\n",
    "                # QA2.append([q,answers_list, rank, system, labels])\n",
    "                QA2.append(question)\n",
    "                indx2id.append(q_id); i+=1;\n",
    "                # break\n",
    "        return QA2\n",
    "    \n",
    "    def output_predictions(self, predictions, labels):\n",
    "        assert len(predictions) == len(self)\n",
    "        print('question_id,answer_id,label')\n",
    "        for i, p in enumerate(predictions):\n",
    "            q_id = QA[i].question_id\n",
    "            answers = QA[i].answer_ids\n",
    "            # order = np.array(a)[np.argsort(p)]\n",
    "            order = np.array(answers)[np.array(p)-1]\n",
    "            lab = labels[i]\n",
    "            for a_id, l in zip(order,lab):\n",
    "                print(f\"{q_id},{a_id},{int(l)}\")\n",
    "            \n",
    "    def normalize_sequence(self, seq):\n",
    "        seq = np.array(seq)\n",
    "        a = np.argsort(seq)\n",
    "        seq[a] = list(range(1,len(seq)+1))\n",
    "        return seq\n",
    "\n",
    "    def accuracy(self, predictions):\n",
    "        '''\n",
    "        Compute accuracy incorrect answers (label values of 0) of the model predictions  \n",
    "        '''\n",
    "    \n",
    "        # Model predictions:\n",
    "        preds = np.concatenate(predictions)\n",
    "        # preds = np.concatenate(predictions==0)\n",
    "        # idx_preds_incorr_answ = [if predictions [i] == 0for i in range(len(pred))]\n",
    "        \n",
    "        # Ground truth labels:\n",
    "        true  = np.concatenate(self.labels) \n",
    "        #labels_true_incorrect_answ = [self.labels[index] for index in idx_preds_incorr_answ]\n",
    "        #true  = np.concatenate(labels_true_incorrect_answ) \n",
    "        \n",
    "        assert len(preds) == len(true), f\"{len(preds)}, {len(true)}\"\n",
    "        return accuracy_score(true, preds)\n",
    "\n",
    "    def precision(self, predictions):\n",
    "        '''\n",
    "        Number of correct ranked answers divided by the total number of retrieved answers for an specific question.\n",
    "        '''\n",
    "        precisions = []\n",
    "        num_answers = []\n",
    "        for i in range(len(predictions)):\n",
    "            labels = self.labels[i]\n",
    "            p = self.normalize_sequence([x for j,x in enumerate(predictions[i]) if labels[j]==1])\n",
    "            r = self.normalize_sequence([x for j,x in enumerate(self.references[i]) if labels[j]==1])\n",
    "            if len(p) == 0:\n",
    "                print(predictions[i])\n",
    "            correct = sum([a == b for a,b in zip(p, r)])\n",
    "            # for a,b in zip(p, r)\n",
    "            # num_answers.append(len(p))\n",
    "            precisions.append(correct/len(p))\n",
    "        return np.mean(precisions)\n",
    "        # return np.average(np.array(precisions), weights=num_answers)\n",
    "\n",
    "    def mean_spearmanr(self, predictions):\n",
    "        '''\n",
    "        Penalizes the differences (d) on predicted rank and true rank\n",
    "        '''\n",
    "        \n",
    "        assert len(predictions) == len(self.references)\n",
    "        count, total = 0, 0\n",
    "        preds, refs = [], []\n",
    "        for i in range(len(predictions)):\n",
    "            labels = self.labels[i]\n",
    "            assert len(predictions[i]) == len(labels), f\"{predictions}, {labels}\"\n",
    "            p = [x for j,x in enumerate(predictions[i]) if labels[j]==1]\n",
    "            r = [x for j,x in enumerate(self.references[i]) if labels[j]==1]\n",
    "            preds += p; refs += r\n",
    "            if len(r) == 1:\n",
    "                total += 1\n",
    "                count += 1\n",
    "            elif len(r) == 0:\n",
    "                continue\n",
    "            else:\n",
    "                total += 1\n",
    "                count += spearmanr(p, r)[0]\n",
    "        return spearmanr(preds, refs)[0]\n",
    "        # return count/total\n",
    "\n",
    "    def mean_reciprocal_rank(self, predicted):\n",
    "        '''\n",
    "        Evaluates any process that produces a list of possible responses to a sample of queries, ordered by probability of correctness\n",
    "        '''\n",
    "        rs = []\n",
    "        for k, (a, b) in enumerate(zip(predicted, self.references)):\n",
    "            res = np.array(a)[np.argsort(b)]\n",
    "            labels = QA[k].labels\n",
    "            res = [r if labels[i]==1 else 100 for i,r in enumerate(res)]\n",
    "            rs.append([int(i==min(res)) for i in res])  # sets 1 in first ranked answer\n",
    "        rs = (np.asarray(r).nonzero()[0] for r in rs)\n",
    "        return np.mean([1. / (r[0] + 1) if r.size else 0. for r in rs])\n",
    "    \n",
    "    "
   ]
  },
  {
   "cell_type": "code",
   "execution_count": 27,
   "metadata": {
    "colab": {
     "base_uri": "https://localhost:8080/"
    },
    "id": "gqqvI5WoQA-5",
    "outputId": "dd4a2536-1e05-48ce-eb94-3097f3ca1f06"
   },
   "outputs": [
    {
     "data": {
      "text/plain": [
       "array([3, 4, 2, 1])"
      ]
     },
     "execution_count": 27,
     "metadata": {},
     "output_type": "execute_result"
    }
   ],
   "source": [
    "def normalize_sequence(seq):\n",
    "    seq = np.array(seq)\n",
    "    a = np.argsort(seq)\n",
    "    seq[a] = list(range(1,len(seq)+1))\n",
    "    return seq\n",
    "normalize_sequence([55, 55,2,1])"
   ]
  },
  {
   "cell_type": "code",
   "execution_count": 32,
   "metadata": {
    "id": "Zz4_hw-UJ4N8"
   },
   "outputs": [],
   "source": [
    "QA = QuestionsAndAnswers(dataset = 'Test') "
   ]
  },
  {
   "cell_type": "code",
   "execution_count": 33,
   "metadata": {},
   "outputs": [
    {
     "data": {
      "text/plain": [
       "0"
      ]
     },
     "execution_count": 33,
     "metadata": {},
     "output_type": "execute_result"
    }
   ],
   "source": [
    "len(QA)"
   ]
  },
  {
   "cell_type": "code",
   "execution_count": 29,
   "metadata": {
    "colab": {
     "base_uri": "https://localhost:8080/",
     "height": 35
    },
    "id": "lfed9fHGLRlk",
    "outputId": "d2186749-f21a-4685-da5f-64172e40aad6"
   },
   "outputs": [
    {
     "ename": "IndexError",
     "evalue": "list index out of range",
     "output_type": "error",
     "traceback": [
      "\u001b[1;31m---------------------------------------------------------------------------\u001b[0m",
      "\u001b[1;31mIndexError\u001b[0m                                Traceback (most recent call last)",
      "\u001b[1;32m<ipython-input-29-cdf1fb29b96e>\u001b[0m in \u001b[0;36m<module>\u001b[1;34m\u001b[0m\n\u001b[1;32m----> 1\u001b[1;33m \u001b[0mQA\u001b[0m\u001b[1;33m[\u001b[0m\u001b[1;36m0\u001b[0m\u001b[1;33m]\u001b[0m\u001b[1;33m.\u001b[0m\u001b[0mquestion_id\u001b[0m\u001b[1;33m\u001b[0m\u001b[1;33m\u001b[0m\u001b[0m\n\u001b[0m",
      "\u001b[1;31mIndexError\u001b[0m: list index out of range"
     ]
    }
   ],
   "source": [
    "QA[0].question_id"
   ]
  },
  {
   "cell_type": "code",
   "execution_count": null,
   "metadata": {
    "id": "9JIitEluGgwa"
   },
   "outputs": [],
   "source": [
    "system_ranks = [q.system_rank for q in QA]\n",
    "reference_ranks = [q.reference_rank for q in QA]\n",
    "labels = [q.labels for q in QA]"
   ]
  },
  {
   "cell_type": "code",
   "execution_count": null,
   "metadata": {
    "colab": {
     "base_uri": "https://localhost:8080/"
    },
    "id": "bIePqfZfdUj8",
    "outputId": "74b4c294-5a70-448c-8f28-314057b98eba"
   },
   "outputs": [
    {
     "data": {
      "text/plain": [
       "SpearmanrResult(correlation=1.0, pvalue=0.0)"
      ]
     },
     "execution_count": 406,
     "metadata": {
      "tags": []
     },
     "output_type": "execute_result"
    }
   ],
   "source": [
    "spearmanr(np.concatenate(system_ranks), np.concatenate(reference_ranks))\n",
    "spearmanr([7, 9, 1], [2, 3, 1])"
   ]
  },
  {
   "cell_type": "code",
   "execution_count": 30,
   "metadata": {
    "colab": {
     "base_uri": "https://localhost:8080/"
    },
    "id": "h8ZsOJp1deKg",
    "outputId": "904672f6-90e1-4507-b568-963e5451dfd2"
   },
   "outputs": [
    {
     "ename": "NameError",
     "evalue": "name 'system_ranks' is not defined",
     "output_type": "error",
     "traceback": [
      "\u001b[1;31m---------------------------------------------------------------------------\u001b[0m",
      "\u001b[1;31mNameError\u001b[0m                                 Traceback (most recent call last)",
      "\u001b[1;32m<ipython-input-30-826e16b5cb88>\u001b[0m in \u001b[0;36m<module>\u001b[1;34m\u001b[0m\n\u001b[1;32m----> 1\u001b[1;33m \u001b[0mQA\u001b[0m\u001b[1;33m.\u001b[0m\u001b[0mmean_reciprocal_rank\u001b[0m\u001b[1;33m(\u001b[0m\u001b[0msystem_ranks\u001b[0m\u001b[1;33m)\u001b[0m\u001b[1;33m\u001b[0m\u001b[1;33m\u001b[0m\u001b[0m\n\u001b[0m",
      "\u001b[1;31mNameError\u001b[0m: name 'system_ranks' is not defined"
     ]
    }
   ],
   "source": [
    "QA.mean_reciprocal_rank(system_ranks)"
   ]
  },
  {
   "cell_type": "code",
   "execution_count": null,
   "metadata": {
    "colab": {
     "base_uri": "https://localhost:8080/"
    },
    "id": "4Yw7uWfRdx3Y",
    "outputId": "98e00d94-95d5-4ef0-c260-0a004ebfd510"
   },
   "outputs": [
    {
     "data": {
      "text/plain": [
       "0.4492904692300491"
      ]
     },
     "execution_count": 408,
     "metadata": {
      "tags": []
     },
     "output_type": "execute_result"
    }
   ],
   "source": [
    "QA.mean_spearmanr(system_ranks)"
   ]
  },
  {
   "cell_type": "code",
   "execution_count": null,
   "metadata": {
    "colab": {
     "base_uri": "https://localhost:8080/"
    },
    "id": "4HCLPkI3ONfg",
    "outputId": "ca4b0f90-8e3c-403e-aeff-e6177f401ce6"
   },
   "outputs": [
    {
     "data": {
      "text/plain": [
       "0.5167118337850045"
      ]
     },
     "execution_count": 409,
     "metadata": {
      "tags": []
     },
     "output_type": "execute_result"
    }
   ],
   "source": [
    "system_labels = [np.ones(len(l)) for l in labels]\n",
    "QA.accuracy(system_labels)"
   ]
  },
  {
   "cell_type": "code",
   "execution_count": null,
   "metadata": {
    "colab": {
     "base_uri": "https://localhost:8080/"
    },
    "id": "KFo7-rcbRUzB",
    "outputId": "10be0f54-9220-46e4-a30e-9d050d5d6e18"
   },
   "outputs": [
    {
     "data": {
      "text/plain": [
       "0.4866481481481482"
      ]
     },
     "execution_count": 410,
     "metadata": {
      "tags": []
     },
     "output_type": "execute_result"
    }
   ],
   "source": [
    "QA.precision(system_ranks)"
   ]
  },
  {
   "cell_type": "code",
   "execution_count": null,
   "metadata": {
    "colab": {
     "base_uri": "https://localhost:8080/"
    },
    "collapsed": true,
    "id": "k51sU7zuS0nO",
    "jupyter": {
     "outputs_hidden": true
    },
    "outputId": "d7e003c8-c32d-472a-8154-ac5e1e39fb76"
   },
   "outputs": [
    {
     "name": "stdout",
     "output_type": "stream",
     "text": [
      "question_id,answer_id,label\n",
      "1,1_Answer6,1\n",
      "1,1_Answer8,1\n",
      "1,1_Answer7,1\n",
      "1,1_Answer2,1\n",
      "1,1_Answer4,1\n",
      "1,1_Answer3,1\n",
      "1,1_Answer1,1\n",
      "2,2_Answer1,1\n",
      "2,2_Answer2,1\n",
      "2,2_Answer4,1\n",
      "2,2_Answer3,1\n",
      "3,3_Answer5,1\n",
      "3,3_Answer2,1\n",
      "3,3_Answer3,1\n",
      "3,3_Answer6,1\n",
      "3,3_Answer4,1\n",
      "3,3_Answer7,1\n",
      "3,3_Answer8,1\n",
      "3,3_Answer10,1\n",
      "3,3_Answer11,1\n",
      "3,3_Answer9,1\n",
      "5,5_Answer6,1\n",
      "5,5_Answer4,1\n",
      "5,5_Answer5,1\n",
      "5,5_Answer7,1\n",
      "5,5_Answer1,1\n",
      "5,5_Answer2,1\n",
      "5,5_Answer9,1\n",
      "6,6_Answer8,1\n",
      "6,6_Answer9,1\n",
      "6,6_Answer2,1\n",
      "6,6_Answer5,1\n",
      "6,6_Answer6,1\n",
      "6,6_Answer4,1\n",
      "6,6_Answer3,1\n",
      "6,6_Answer7,1\n",
      "6,6_Answer1,1\n",
      "7,7_Answer2,1\n",
      "7,7_Answer1,1\n",
      "7,7_Answer4,1\n",
      "7,7_Answer3,1\n",
      "7,7_Answer6,1\n",
      "7,7_Answer5,1\n",
      "7,7_Answer7,1\n",
      "8,8_Answer1,1\n",
      "8,8_Answer2,1\n",
      "8,8_Answer3,1\n",
      "10,10_Answer2,1\n",
      "10,10_Answer8,1\n",
      "10,10_Answer1,1\n",
      "10,10_Answer7,1\n",
      "10,10_Answer6,1\n",
      "10,10_Answer4,1\n",
      "10,10_Answer5,1\n",
      "10,10_Answer3,1\n",
      "12,12_Answer5,1\n",
      "12,12_Answer1,1\n",
      "12,12_Answer2,1\n",
      "12,12_Answer3,1\n",
      "12,12_Answer4,1\n",
      "13,13_Answer1,1\n",
      "13,13_Answer2,1\n",
      "13,13_Answer4,1\n",
      "13,13_Answer3,1\n",
      "14,14_Answer2,1\n",
      "14,14_Answer1,1\n",
      "15,15_Answer3,1\n",
      "15,15_Answer9,1\n",
      "15,15_Answer4,1\n",
      "15,15_Answer1,1\n",
      "15,15_Answer6,1\n",
      "15,15_Answer7,1\n",
      "15,15_Answer5,1\n",
      "15,15_Answer8,1\n",
      "15,15_Answer2,1\n",
      "16,16_Answer1,1\n",
      "16,16_Answer5,1\n",
      "16,16_Answer3,1\n",
      "16,16_Answer4,1\n",
      "16,16_Answer2,1\n",
      "17,17_Answer3,1\n",
      "17,17_Answer4,1\n",
      "17,17_Answer1,1\n",
      "17,17_Answer5,1\n",
      "18,18_Answer1,1\n",
      "18,18_Answer5,1\n",
      "18,18_Answer2,1\n",
      "18,18_Answer3,1\n",
      "18,18_Answer4,1\n",
      "19,19_Answer7,1\n",
      "19,19_Answer6,1\n",
      "19,19_Answer3,1\n",
      "19,19_Answer1,1\n",
      "19,19_Answer2,1\n",
      "19,19_Answer4,1\n",
      "21,21_Answer2,1\n",
      "21,21_Answer3,1\n",
      "21,21_Answer9,1\n",
      "21,21_Answer4,1\n",
      "21,21_Answer5,1\n",
      "21,21_Answer6,1\n",
      "21,21_Answer8,1\n",
      "21,21_Answer1,1\n",
      "21,21_Answer7,1\n",
      "22,22_Answer1,1\n",
      "22,22_Answer4,1\n",
      "22,22_Answer2,1\n",
      "22,22_Answer3,1\n",
      "23,23_Answer1,1\n",
      "23,23_Answer4,1\n",
      "23,23_Answer2,1\n",
      "23,23_Answer5,1\n",
      "24,24_Answer1,1\n",
      "24,24_Answer3,1\n",
      "24,24_Answer2,1\n",
      "25,25_Answer1,1\n",
      "25,25_Answer3,1\n",
      "25,25_Answer2,1\n",
      "25,25_Answer4,1\n",
      "25,25_Answer5,1\n",
      "25,25_Answer6,1\n",
      "27,27_Answer1,1\n",
      "27,27_Answer3,1\n",
      "27,27_Answer5,1\n",
      "27,27_Answer2,1\n",
      "27,27_Answer4,1\n",
      "28,28_Answer2,1\n",
      "28,28_Answer1,1\n",
      "28,28_Answer5,1\n",
      "28,28_Answer3,1\n",
      "28,28_Answer4,1\n",
      "29,29_Answer1,1\n",
      "29,29_Answer7,1\n",
      "29,29_Answer2,1\n",
      "29,29_Answer5,1\n",
      "29,29_Answer6,1\n",
      "29,29_Answer3,1\n",
      "29,29_Answer4,1\n",
      "30,30_Answer2,1\n",
      "30,30_Answer8,1\n",
      "30,30_Answer1,1\n",
      "30,30_Answer9,1\n",
      "30,30_Answer6,1\n",
      "30,30_Answer3,1\n",
      "30,30_Answer4,1\n",
      "30,30_Answer5,1\n",
      "30,30_Answer7,1\n",
      "31,31_Answer1,1\n",
      "31,31_Answer2,1\n",
      "31,31_Answer4,1\n",
      "31,31_Answer3,1\n",
      "31,31_Answer6,1\n",
      "32,32_Answer2,1\n",
      "32,32_Answer6,1\n",
      "32,32_Answer1,1\n",
      "32,32_Answer5,1\n",
      "32,32_Answer4,1\n",
      "32,32_Answer7,1\n",
      "32,32_Answer8,1\n",
      "32,32_Answer3,1\n",
      "33,33_Answer2,1\n",
      "33,33_Answer10,1\n",
      "33,33_Answer5,1\n",
      "33,33_Answer6,1\n",
      "33,33_Answer1,1\n",
      "33,33_Answer7,1\n",
      "33,33_Answer8,1\n",
      "33,33_Answer9,1\n",
      "33,33_Answer3,1\n",
      "36,36_Answer3,1\n",
      "36,36_Answer2,1\n",
      "36,36_Answer1,1\n",
      "36,36_Answer10,1\n",
      "36,36_Answer4,1\n",
      "36,36_Answer11,1\n",
      "36,36_Answer7,1\n",
      "36,36_Answer9,1\n",
      "36,36_Answer5,1\n",
      "36,36_Answer6,1\n",
      "38,38_Answer7,1\n",
      "38,38_Answer10,1\n",
      "38,38_Answer8,1\n",
      "38,38_Answer1,1\n",
      "38,38_Answer6,1\n",
      "38,38_Answer2,1\n",
      "38,38_Answer9,1\n",
      "38,38_Answer4,1\n",
      "38,38_Answer3,1\n",
      "38,38_Answer5,1\n",
      "39,39_Answer1,1\n",
      "39,39_Answer3,1\n",
      "39,39_Answer2,1\n",
      "39,39_Answer4,1\n",
      "39,39_Answer5,1\n",
      "39,39_Answer6,1\n",
      "40,40_Answer1,1\n",
      "40,40_Answer2,1\n",
      "40,40_Answer6,1\n",
      "40,40_Answer9,1\n",
      "40,40_Answer7,1\n",
      "40,40_Answer3,1\n",
      "40,40_Answer8,1\n",
      "40,40_Answer4,1\n",
      "40,40_Answer5,1\n",
      "41,41_Answer3,1\n",
      "41,41_Answer9,1\n",
      "41,41_Answer1,1\n",
      "41,41_Answer10,1\n",
      "41,41_Answer2,1\n",
      "41,41_Answer5,1\n",
      "41,41_Answer6,1\n",
      "41,41_Answer7,1\n",
      "41,41_Answer4,1\n",
      "41,41_Answer8,1\n",
      "42,42_Answer3,1\n",
      "42,42_Answer5,1\n",
      "42,42_Answer1,1\n",
      "42,42_Answer2,1\n",
      "42,42_Answer4,1\n",
      "43,43_Answer2,1\n",
      "43,43_Answer5,1\n",
      "43,43_Answer11,1\n",
      "43,43_Answer4,1\n",
      "43,43_Answer3,1\n",
      "43,43_Answer6,1\n",
      "43,43_Answer1,1\n",
      "43,43_Answer7,1\n",
      "43,43_Answer10,1\n",
      "43,43_Answer8,1\n",
      "43,43_Answer9,1\n",
      "45,45_Answer2,1\n",
      "45,45_Answer1,1\n",
      "45,45_Answer3,1\n",
      "45,45_Answer4,1\n",
      "45,45_Answer5,1\n",
      "45,45_Answer6,1\n",
      "45,45_Answer7,1\n",
      "46,46_Answer1,1\n",
      "46,46_Answer8,1\n",
      "46,46_Answer4,1\n",
      "46,46_Answer9,1\n",
      "46,46_Answer5,1\n",
      "46,46_Answer6,1\n",
      "46,46_Answer2,1\n",
      "46,46_Answer3,1\n",
      "46,46_Answer10,1\n",
      "46,46_Answer7,1\n",
      "47,47_Answer3,1\n",
      "47,47_Answer5,1\n",
      "47,47_Answer2,1\n",
      "47,47_Answer1,1\n",
      "47,47_Answer4,1\n",
      "47,47_Answer6,1\n",
      "47,47_Answer8,1\n",
      "47,47_Answer7,1\n",
      "49,49_Answer1,1\n",
      "49,49_Answer5,1\n",
      "49,49_Answer2,1\n",
      "49,49_Answer3,1\n",
      "49,49_Answer4,1\n",
      "49,49_Answer6,1\n",
      "54,54_Answer2,1\n",
      "54,54_Answer8,1\n",
      "54,54_Answer5,1\n",
      "54,54_Answer6,1\n",
      "54,54_Answer3,1\n",
      "54,54_Answer4,1\n",
      "54,54_Answer7,1\n",
      "54,54_Answer1,1\n",
      "54,54_Answer9,1\n",
      "54,54_Answer10,1\n",
      "55,55_Answer6,1\n",
      "55,55_Answer3,1\n",
      "55,55_Answer1,1\n",
      "55,55_Answer2,1\n",
      "55,55_Answer4,1\n",
      "56,56_Answer1,1\n",
      "56,56_Answer3,1\n",
      "56,56_Answer5,1\n",
      "56,56_Answer4,1\n",
      "57,57_Answer2,1\n",
      "57,57_Answer3,1\n",
      "57,57_Answer1,1\n",
      "58,58_Answer2,1\n",
      "58,58_Answer1,1\n",
      "58,58_Answer5,1\n",
      "58,58_Answer4,1\n",
      "58,58_Answer6,1\n",
      "58,58_Answer7,1\n",
      "58,58_Answer3,1\n",
      "59,59_Answer2,1\n",
      "59,59_Answer5,1\n",
      "59,59_Answer1,1\n",
      "59,59_Answer6,1\n",
      "59,59_Answer4,1\n",
      "59,59_Answer7,1\n",
      "59,59_Answer3,1\n",
      "60,60_Answer1,1\n",
      "60,60_Answer8,1\n",
      "60,60_Answer3,1\n",
      "60,60_Answer5,1\n",
      "60,60_Answer6,1\n",
      "60,60_Answer4,1\n",
      "60,60_Answer2,1\n",
      "61,61_Answer1,1\n",
      "61,61_Answer5,1\n",
      "61,61_Answer4,1\n",
      "61,61_Answer3,1\n",
      "61,61_Answer2,1\n",
      "62,62_Answer2,1\n",
      "62,62_Answer1,1\n",
      "62,62_Answer3,1\n",
      "62,62_Answer4,1\n",
      "62,62_Answer5,1\n",
      "62,62_Answer6,1\n",
      "62,62_Answer7,1\n",
      "64,64_Answer1,1\n",
      "64,64_Answer2,1\n",
      "64,64_Answer4,1\n",
      "64,64_Answer3,1\n",
      "66,66_Answer1,1\n",
      "66,66_Answer2,1\n",
      "66,66_Answer4,1\n",
      "66,66_Answer5,1\n",
      "66,66_Answer6,1\n",
      "66,66_Answer7,1\n",
      "66,66_Answer8,1\n",
      "66,66_Answer3,1\n",
      "66,66_Answer9,1\n",
      "67,67_Answer1,1\n",
      "67,67_Answer5,1\n",
      "67,67_Answer6,1\n",
      "67,67_Answer2,1\n",
      "67,67_Answer3,1\n",
      "67,67_Answer7,1\n",
      "67,67_Answer4,1\n",
      "68,68_Answer3,1\n",
      "68,68_Answer7,1\n",
      "68,68_Answer1,1\n",
      "68,68_Answer6,1\n",
      "68,68_Answer8,1\n",
      "68,68_Answer5,1\n",
      "68,68_Answer2,1\n",
      "68,68_Answer4,1\n",
      "70,70_Answer1,1\n",
      "70,70_Answer2,1\n",
      "70,70_Answer5,1\n",
      "70,70_Answer6,1\n",
      "70,70_Answer7,1\n",
      "70,70_Answer4,1\n",
      "71,71_Answer1,1\n",
      "71,71_Answer2,1\n",
      "71,71_Answer5,1\n",
      "71,71_Answer4,1\n",
      "71,71_Answer3,1\n",
      "72,72_Answer1,1\n",
      "72,72_Answer3,1\n",
      "72,72_Answer2,1\n",
      "72,72_Answer6,1\n",
      "72,72_Answer4,1\n",
      "72,72_Answer8,1\n",
      "72,72_Answer5,1\n",
      "72,72_Answer7,1\n",
      "72,72_Answer9,1\n",
      "73,73_Answer1,1\n",
      "73,73_Answer4,1\n",
      "73,73_Answer2,1\n",
      "73,73_Answer3,1\n",
      "74,74_Answer11,1\n",
      "74,74_Answer10,1\n",
      "74,74_Answer2,1\n",
      "74,74_Answer9,1\n",
      "74,74_Answer5,1\n",
      "74,74_Answer1,1\n",
      "74,74_Answer8,1\n",
      "74,74_Answer3,1\n",
      "74,74_Answer6,1\n",
      "74,74_Answer4,1\n",
      "74,74_Answer7,1\n",
      "75,75_Answer2,1\n",
      "75,75_Answer1,1\n",
      "75,75_Answer4,1\n",
      "75,75_Answer3,1\n",
      "75,75_Answer7,1\n",
      "75,75_Answer6,1\n",
      "75,75_Answer5,1\n",
      "76,76_Answer2,1\n",
      "76,76_Answer4,1\n",
      "76,76_Answer3,1\n",
      "76,76_Answer5,1\n",
      "76,76_Answer1,1\n",
      "76,76_Answer6,1\n",
      "76,76_Answer10,1\n",
      "76,76_Answer8,1\n",
      "76,76_Answer9,1\n",
      "76,76_Answer7,1\n",
      "76,76_Answer11,1\n",
      "78,78_Answer8,1\n",
      "78,78_Answer9,1\n",
      "78,78_Answer4,1\n",
      "78,78_Answer7,1\n",
      "78,78_Answer3,1\n",
      "78,78_Answer5,1\n",
      "78,78_Answer6,1\n",
      "78,78_Answer2,1\n",
      "78,78_Answer1,1\n",
      "79,79_Answer4,1\n",
      "79,79_Answer3,1\n",
      "79,79_Answer2,1\n",
      "79,79_Answer6,1\n",
      "79,79_Answer1,1\n",
      "79,79_Answer5,1\n",
      "79,79_Answer7,1\n",
      "81,81_Answer1,1\n",
      "81,81_Answer3,1\n",
      "81,81_Answer2,1\n",
      "81,81_Answer4,1\n",
      "81,81_Answer5,1\n",
      "81,81_Answer7,1\n",
      "81,81_Answer6,1\n",
      "82,82_Answer1,1\n",
      "82,82_Answer4,1\n",
      "82,82_Answer3,1\n",
      "82,82_Answer2,1\n",
      "84,84_Answer1,1\n",
      "84,84_Answer3,1\n",
      "84,84_Answer2,1\n",
      "84,84_Answer4,1\n",
      "84,84_Answer9,1\n",
      "84,84_Answer5,1\n",
      "84,84_Answer6,1\n",
      "84,84_Answer8,1\n",
      "85,85_Answer1,1\n",
      "85,85_Answer2,1\n",
      "85,85_Answer3,1\n",
      "85,85_Answer6,1\n",
      "85,85_Answer4,1\n",
      "85,85_Answer7,1\n",
      "85,85_Answer8,1\n",
      "85,85_Answer5,1\n",
      "86,86_Answer9,1\n",
      "86,86_Answer1,1\n",
      "86,86_Answer4,1\n",
      "86,86_Answer3,1\n",
      "86,86_Answer7,1\n",
      "86,86_Answer6,1\n",
      "86,86_Answer2,1\n",
      "86,86_Answer5,1\n",
      "86,86_Answer8,1\n",
      "90,90_Answer1,1\n",
      "90,90_Answer2,1\n",
      "91,91_Answer2,1\n",
      "91,91_Answer1,1\n",
      "92,92_Answer2,1\n",
      "92,92_Answer1,1\n",
      "92,92_Answer3,1\n",
      "92,92_Answer6,1\n",
      "92,92_Answer4,1\n",
      "92,92_Answer8,1\n",
      "92,92_Answer7,1\n",
      "92,92_Answer5,1\n",
      "92,92_Answer9,1\n",
      "93,93_Answer1,1\n",
      "93,93_Answer4,1\n",
      "93,93_Answer3,1\n",
      "93,93_Answer8,1\n",
      "93,93_Answer5,1\n",
      "93,93_Answer7,1\n",
      "93,93_Answer6,1\n",
      "93,93_Answer9,1\n",
      "93,93_Answer10,1\n",
      "93,93_Answer11,1\n",
      "95,95_Answer5,1\n",
      "95,95_Answer4,1\n",
      "95,95_Answer3,1\n",
      "95,95_Answer9,1\n",
      "95,95_Answer2,1\n",
      "95,95_Answer8,1\n",
      "95,95_Answer7,1\n",
      "95,95_Answer6,1\n",
      "95,95_Answer1,1\n",
      "97,97_Answer1,1\n",
      "97,97_Answer8,1\n",
      "97,97_Answer3,1\n",
      "97,97_Answer7,1\n",
      "97,97_Answer4,1\n",
      "97,97_Answer5,1\n",
      "97,97_Answer2,1\n",
      "97,97_Answer6,1\n",
      "98,98_Answer1,1\n",
      "98,98_Answer4,1\n",
      "98,98_Answer2,1\n",
      "98,98_Answer3,1\n",
      "99,99_Answer1,1\n",
      "99,99_Answer2,1\n",
      "99,99_Answer3,1\n",
      "99,99_Answer6,1\n",
      "99,99_Answer5,1\n",
      "101,101_Answer5,1\n",
      "101,101_Answer6,1\n",
      "101,101_Answer2,1\n",
      "101,101_Answer1,1\n",
      "101,101_Answer3,1\n",
      "101,101_Answer4,1\n",
      "101,101_Answer7,1\n",
      "101,101_Answer8,1\n",
      "103,103_Answer1,1\n",
      "103,103_Answer2,1\n",
      "103,103_Answer6,1\n",
      "103,103_Answer3,1\n",
      "103,103_Answer4,1\n",
      "103,103_Answer5,1\n",
      "105,105_Answer1,1\n",
      "105,105_Answer6,1\n",
      "105,105_Answer7,1\n",
      "105,105_Answer2,1\n",
      "105,105_Answer4,1\n",
      "105,105_Answer3,1\n",
      "105,105_Answer5,1\n",
      "105,105_Answer8,1\n",
      "106,106_Answer2,1\n",
      "106,106_Answer1,1\n",
      "106,106_Answer7,1\n",
      "106,106_Answer4,1\n",
      "106,106_Answer8,1\n",
      "106,106_Answer6,1\n",
      "106,106_Answer3,1\n",
      "106,106_Answer5,1\n",
      "107,107_Answer8,1\n",
      "107,107_Answer4,1\n",
      "107,107_Answer6,1\n",
      "107,107_Answer1,1\n",
      "107,107_Answer2,1\n",
      "107,107_Answer3,1\n",
      "107,107_Answer7,1\n",
      "108,108_Answer4,1\n",
      "108,108_Answer5,1\n",
      "108,108_Answer2,1\n",
      "108,108_Answer1,1\n",
      "108,108_Answer6,1\n",
      "108,108_Answer3,1\n",
      "108,108_Answer8,1\n",
      "108,108_Answer7,1\n",
      "108,108_Answer9,1\n",
      "109,109_Answer2,1\n",
      "109,109_Answer1,1\n",
      "109,109_Answer6,1\n",
      "109,109_Answer7,1\n",
      "109,109_Answer8,1\n",
      "109,109_Answer9,1\n",
      "109,109_Answer4,1\n",
      "109,109_Answer3,1\n",
      "109,109_Answer5,1\n",
      "110,110_Answer5,1\n",
      "110,110_Answer4,1\n",
      "110,110_Answer2,1\n",
      "110,110_Answer1,1\n",
      "110,110_Answer3,1\n",
      "110,110_Answer6,1\n",
      "111,111_Answer5,1\n",
      "111,111_Answer1,1\n",
      "111,111_Answer3,1\n",
      "111,111_Answer4,1\n",
      "111,111_Answer7,1\n",
      "111,111_Answer6,1\n",
      "111,111_Answer2,1\n",
      "112,112_Answer1,1\n",
      "112,112_Answer8,1\n",
      "112,112_Answer2,1\n",
      "112,112_Answer4,1\n",
      "112,112_Answer3,1\n",
      "112,112_Answer5,1\n",
      "112,112_Answer6,1\n",
      "112,112_Answer7,1\n",
      "112,112_Answer9,1\n",
      "113,113_Answer3,1\n",
      "113,113_Answer7,1\n",
      "113,113_Answer4,1\n",
      "113,113_Answer6,1\n",
      "113,113_Answer2,1\n",
      "113,113_Answer8,1\n",
      "113,113_Answer9,1\n",
      "113,113_Answer1,1\n",
      "113,113_Answer5,1\n",
      "115,115_Answer1,1\n",
      "115,115_Answer4,1\n",
      "115,115_Answer3,1\n",
      "115,115_Answer9,1\n",
      "115,115_Answer7,1\n",
      "115,115_Answer10,1\n",
      "115,115_Answer2,1\n",
      "115,115_Answer6,1\n",
      "115,115_Answer8,1\n",
      "116,116_Answer2,1\n",
      "116,116_Answer4,1\n",
      "116,116_Answer8,1\n",
      "116,116_Answer7,1\n",
      "116,116_Answer6,1\n",
      "116,116_Answer3,1\n",
      "116,116_Answer5,1\n",
      "116,116_Answer1,1\n",
      "117,117_Answer1,1\n",
      "117,117_Answer2,1\n",
      "117,117_Answer3,1\n",
      "117,117_Answer5,1\n",
      "117,117_Answer6,1\n",
      "117,117_Answer4,1\n",
      "118,118_Answer2,1\n",
      "118,118_Answer1,1\n",
      "118,118_Answer5,1\n",
      "118,118_Answer4,1\n",
      "118,118_Answer6,1\n",
      "118,118_Answer3,1\n",
      "118,118_Answer7,1\n",
      "119,119_Answer1,1\n",
      "119,119_Answer8,1\n",
      "119,119_Answer9,1\n",
      "119,119_Answer7,1\n",
      "119,119_Answer2,1\n",
      "119,119_Answer3,1\n",
      "119,119_Answer4,1\n",
      "119,119_Answer5,1\n",
      "119,119_Answer6,1\n",
      "121,121_Answer1,1\n",
      "121,121_Answer9,1\n",
      "121,121_Answer3,1\n",
      "121,121_Answer10,1\n",
      "121,121_Answer2,1\n",
      "121,121_Answer11,1\n",
      "121,121_Answer4,1\n",
      "121,121_Answer5,1\n",
      "121,121_Answer8,1\n",
      "121,121_Answer6,1\n",
      "122,122_Answer1,1\n",
      "122,122_Answer4,1\n",
      "122,122_Answer3,1\n",
      "122,122_Answer7,1\n",
      "122,122_Answer6,1\n",
      "122,122_Answer5,1\n",
      "122,122_Answer2,1\n",
      "123,123_Answer5,1\n",
      "123,123_Answer6,1\n",
      "123,123_Answer7,1\n",
      "123,123_Answer2,1\n",
      "123,123_Answer1,1\n",
      "123,123_Answer4,1\n",
      "123,123_Answer3,1\n",
      "123,123_Answer8,1\n",
      "123,123_Answer9,1\n",
      "124,124_Answer3,1\n",
      "124,124_Answer5,1\n",
      "124,124_Answer2,1\n",
      "124,124_Answer4,1\n",
      "124,124_Answer1,1\n",
      "127,127_Answer7,1\n",
      "127,127_Answer4,1\n",
      "127,127_Answer8,1\n",
      "127,127_Answer3,1\n",
      "127,127_Answer2,1\n",
      "127,127_Answer5,1\n",
      "127,127_Answer1,1\n",
      "127,127_Answer9,1\n",
      "127,127_Answer6,1\n",
      "129,129_Answer1,1\n",
      "129,129_Answer9,1\n",
      "129,129_Answer3,1\n",
      "129,129_Answer10,1\n",
      "129,129_Answer2,1\n",
      "129,129_Answer11,1\n",
      "129,129_Answer4,1\n",
      "129,129_Answer5,1\n",
      "129,129_Answer6,1\n",
      "129,129_Answer8,1\n",
      "130,130_Answer4,1\n",
      "130,130_Answer6,1\n",
      "130,130_Answer7,1\n",
      "130,130_Answer2,1\n",
      "130,130_Answer3,1\n",
      "130,130_Answer1,1\n",
      "130,130_Answer8,1\n",
      "130,130_Answer9,1\n",
      "130,130_Answer5,1\n",
      "130,130_Answer10,1\n",
      "131,131_Answer2,1\n",
      "131,131_Answer4,1\n",
      "131,131_Answer5,1\n",
      "131,131_Answer7,1\n",
      "131,131_Answer1,1\n",
      "131,131_Answer8,1\n",
      "131,131_Answer3,1\n",
      "131,131_Answer6,1\n",
      "131,131_Answer9,1\n",
      "132,132_Answer2,1\n",
      "132,132_Answer1,1\n",
      "132,132_Answer9,1\n",
      "132,132_Answer7,1\n",
      "132,132_Answer4,1\n",
      "132,132_Answer8,1\n",
      "132,132_Answer3,1\n",
      "132,132_Answer5,1\n",
      "132,132_Answer6,1\n",
      "133,133_Answer4,1\n",
      "133,133_Answer1,1\n",
      "133,133_Answer2,1\n",
      "133,133_Answer6,1\n",
      "133,133_Answer5,1\n",
      "133,133_Answer7,1\n",
      "133,133_Answer10,1\n",
      "133,133_Answer8,1\n",
      "133,133_Answer3,1\n",
      "133,133_Answer9,1\n",
      "134,134_Answer1,1\n",
      "134,134_Answer3,1\n",
      "134,134_Answer7,1\n",
      "134,134_Answer6,1\n",
      "134,134_Answer4,1\n",
      "134,134_Answer2,1\n",
      "134,134_Answer5,1\n",
      "135,135_Answer2,1\n",
      "135,135_Answer9,1\n",
      "135,135_Answer6,1\n",
      "135,135_Answer8,1\n",
      "135,135_Answer5,1\n",
      "135,135_Answer7,1\n",
      "135,135_Answer3,1\n",
      "135,135_Answer4,1\n",
      "135,135_Answer1,1\n",
      "137,137_Answer7,1\n",
      "137,137_Answer6,1\n",
      "137,137_Answer2,1\n",
      "137,137_Answer3,1\n",
      "137,137_Answer1,1\n",
      "137,137_Answer5,1\n",
      "137,137_Answer4,1\n",
      "138,138_Answer2,1\n",
      "138,138_Answer3,1\n",
      "138,138_Answer1,1\n",
      "138,138_Answer6,1\n",
      "138,138_Answer5,1\n",
      "138,138_Answer4,1\n",
      "138,138_Answer7,1\n",
      "139,139_Answer1,1\n",
      "139,139_Answer4,1\n",
      "139,139_Answer2,1\n",
      "139,139_Answer3,1\n",
      "140,140_Answer1,1\n",
      "140,140_Answer6,1\n",
      "140,140_Answer5,1\n",
      "140,140_Answer9,1\n",
      "140,140_Answer10,1\n",
      "140,140_Answer2,1\n",
      "140,140_Answer4,1\n",
      "140,140_Answer3,1\n",
      "140,140_Answer8,1\n",
      "140,140_Answer7,1\n",
      "142,142_Answer3,1\n",
      "142,142_Answer4,1\n",
      "142,142_Answer2,1\n",
      "142,142_Answer1,1\n",
      "143,143_Answer1,1\n",
      "143,143_Answer2,1\n",
      "143,143_Answer4,1\n",
      "143,143_Answer3,1\n",
      "143,143_Answer7,1\n",
      "143,143_Answer6,1\n",
      "143,143_Answer9,1\n",
      "143,143_Answer8,1\n",
      "143,143_Answer5,1\n",
      "144,144_Answer3,1\n",
      "144,144_Answer2,1\n",
      "144,144_Answer5,1\n",
      "144,144_Answer6,1\n",
      "144,144_Answer1,1\n",
      "144,144_Answer4,1\n",
      "144,144_Answer7,1\n",
      "144,144_Answer8,1\n",
      "144,144_Answer9,1\n",
      "144,144_Answer10,1\n",
      "145,145_Answer2,1\n",
      "145,145_Answer3,1\n",
      "145,145_Answer4,1\n",
      "145,145_Answer9,1\n",
      "145,145_Answer10,1\n",
      "145,145_Answer11,1\n",
      "145,145_Answer1,1\n",
      "145,145_Answer8,1\n",
      "145,145_Answer5,1\n",
      "145,145_Answer6,1\n",
      "145,145_Answer7,1\n",
      "147,147_Answer1,1\n",
      "147,147_Answer3,1\n",
      "147,147_Answer4,1\n",
      "147,147_Answer2,1\n",
      "147,147_Answer5,1\n",
      "148,148_Answer1,1\n",
      "148,148_Answer4,1\n",
      "148,148_Answer2,1\n",
      "148,148_Answer7,1\n",
      "148,148_Answer5,1\n",
      "148,148_Answer8,1\n",
      "148,148_Answer9,1\n",
      "148,148_Answer3,1\n",
      "148,148_Answer6,1\n",
      "150,150_Answer2,1\n",
      "150,150_Answer1,1\n",
      "150,150_Answer6,1\n",
      "150,150_Answer3,1\n",
      "150,150_Answer5,1\n",
      "150,150_Answer4,1\n",
      "150,150_Answer7,1\n",
      "152,152_Answer1,1\n",
      "152,152_Answer5,1\n",
      "152,152_Answer3,1\n",
      "152,152_Answer4,1\n",
      "152,152_Answer2,1\n",
      "152,152_Answer6,1\n",
      "152,152_Answer7,1\n",
      "153,153_Answer3,1\n",
      "153,153_Answer4,1\n",
      "153,153_Answer2,1\n",
      "153,153_Answer6,1\n",
      "153,153_Answer1,1\n",
      "153,153_Answer8,1\n",
      "153,153_Answer10,1\n",
      "153,153_Answer5,1\n",
      "153,153_Answer7,1\n",
      "153,153_Answer9,1\n",
      "154,154_Answer2,1\n",
      "154,154_Answer8,1\n",
      "154,154_Answer1,1\n",
      "154,154_Answer5,1\n",
      "154,154_Answer6,1\n",
      "154,154_Answer9,1\n",
      "154,154_Answer4,1\n",
      "154,154_Answer10,1\n",
      "154,154_Answer3,1\n",
      "154,154_Answer11,1\n",
      "154,154_Answer7,1\n",
      "155,155_Answer3,1\n",
      "155,155_Answer1,1\n",
      "155,155_Answer2,1\n",
      "155,155_Answer7,1\n",
      "155,155_Answer4,1\n",
      "155,155_Answer5,1\n",
      "155,155_Answer9,1\n",
      "155,155_Answer10,1\n",
      "155,155_Answer6,1\n",
      "155,155_Answer8,1\n",
      "156,156_Answer1,1\n",
      "156,156_Answer3,1\n",
      "156,156_Answer2,1\n",
      "156,156_Answer4,1\n",
      "156,156_Answer5,1\n",
      "157,157_Answer3,1\n",
      "157,157_Answer2,1\n",
      "157,157_Answer5,1\n",
      "157,157_Answer6,1\n",
      "157,157_Answer4,1\n",
      "157,157_Answer1,1\n",
      "158,158_Answer6,1\n",
      "158,158_Answer3,1\n",
      "158,158_Answer1,1\n",
      "158,158_Answer5,1\n",
      "158,158_Answer10,1\n",
      "158,158_Answer7,1\n",
      "158,158_Answer8,1\n",
      "158,158_Answer2,1\n",
      "158,158_Answer9,1\n",
      "158,158_Answer4,1\n",
      "159,159_Answer3,1\n",
      "159,159_Answer8,1\n",
      "159,159_Answer9,1\n",
      "159,159_Answer1,1\n",
      "159,159_Answer5,1\n",
      "159,159_Answer7,1\n",
      "159,159_Answer6,1\n",
      "159,159_Answer2,1\n",
      "159,159_Answer4,1\n",
      "160,160_Answer2,1\n",
      "160,160_Answer4,1\n",
      "160,160_Answer1,1\n",
      "160,160_Answer6,1\n",
      "160,160_Answer7,1\n",
      "160,160_Answer5,1\n",
      "160,160_Answer3,1\n",
      "161,161_Answer1,1\n",
      "161,161_Answer4,1\n",
      "161,161_Answer5,1\n",
      "161,161_Answer2,1\n",
      "161,161_Answer6,1\n",
      "161,161_Answer3,1\n",
      "161,161_Answer7,1\n",
      "162,162_Answer2,1\n",
      "162,162_Answer1,1\n",
      "162,162_Answer7,1\n",
      "162,162_Answer3,1\n",
      "162,162_Answer4,1\n",
      "162,162_Answer5,1\n",
      "162,162_Answer6,1\n",
      "163,163_Answer2,1\n",
      "163,163_Answer7,1\n",
      "163,163_Answer3,1\n",
      "163,163_Answer5,1\n",
      "163,163_Answer6,1\n",
      "163,163_Answer4,1\n",
      "165,165_Answer4,1\n",
      "165,165_Answer3,1\n",
      "165,165_Answer5,1\n",
      "165,165_Answer6,1\n",
      "165,165_Answer2,1\n",
      "165,165_Answer1,1\n",
      "165,165_Answer8,1\n",
      "165,165_Answer10,1\n",
      "165,165_Answer7,1\n",
      "165,165_Answer9,1\n",
      "166,166_Answer2,1\n",
      "166,166_Answer8,1\n",
      "166,166_Answer9,1\n",
      "166,166_Answer7,1\n",
      "166,166_Answer4,1\n",
      "166,166_Answer6,1\n",
      "166,166_Answer5,1\n",
      "166,166_Answer1,1\n",
      "166,166_Answer3,1\n",
      "167,167_Answer1,1\n",
      "167,167_Answer2,1\n",
      "167,167_Answer3,1\n",
      "167,167_Answer4,1\n",
      "167,167_Answer5,1\n",
      "168,168_Answer7,1\n",
      "168,168_Answer6,1\n",
      "168,168_Answer3,1\n",
      "168,168_Answer1,1\n",
      "168,168_Answer2,1\n",
      "168,168_Answer5,1\n",
      "168,168_Answer4,1\n",
      "169,169_Answer3,1\n",
      "169,169_Answer4,1\n",
      "169,169_Answer2,1\n",
      "169,169_Answer5,1\n",
      "169,169_Answer1,1\n",
      "169,169_Answer8,1\n",
      "169,169_Answer10,1\n",
      "169,169_Answer6,1\n",
      "169,169_Answer7,1\n",
      "169,169_Answer9,1\n",
      "170,170_Answer1,1\n",
      "170,170_Answer2,1\n",
      "170,170_Answer5,1\n",
      "170,170_Answer4,1\n",
      "170,170_Answer6,1\n",
      "170,170_Answer7,1\n",
      "170,170_Answer8,1\n",
      "170,170_Answer3,1\n",
      "170,170_Answer9,1\n",
      "171,171_Answer3,1\n",
      "171,171_Answer6,1\n",
      "171,171_Answer4,1\n",
      "171,171_Answer5,1\n",
      "171,171_Answer7,1\n",
      "171,171_Answer2,1\n",
      "171,171_Answer1,1\n",
      "171,171_Answer8,1\n",
      "171,171_Answer9,1\n",
      "171,171_Answer10,1\n",
      "174,174_Answer5,1\n",
      "174,174_Answer1,1\n",
      "174,174_Answer3,1\n",
      "174,174_Answer2,1\n",
      "174,174_Answer7,1\n",
      "174,174_Answer8,1\n",
      "174,174_Answer9,1\n",
      "174,174_Answer6,1\n",
      "176,176_Answer1,1\n",
      "176,176_Answer4,1\n",
      "176,176_Answer2,1\n",
      "176,176_Answer3,1\n",
      "176,176_Answer5,1\n",
      "177,177_Answer1,1\n",
      "177,177_Answer4,1\n",
      "177,177_Answer2,1\n",
      "177,177_Answer5,1\n",
      "177,177_Answer9,1\n",
      "177,177_Answer6,1\n",
      "177,177_Answer3,1\n",
      "177,177_Answer7,1\n",
      "177,177_Answer8,1\n",
      "177,177_Answer11,1\n",
      "177,177_Answer10,1\n",
      "179,179_Answer1,1\n",
      "179,179_Answer2,1\n",
      "179,179_Answer10,1\n",
      "179,179_Answer4,1\n",
      "179,179_Answer3,1\n",
      "179,179_Answer5,1\n",
      "179,179_Answer6,1\n",
      "179,179_Answer7,1\n",
      "179,179_Answer8,1\n",
      "179,179_Answer9,1\n",
      "180,180_Answer1,1\n",
      "180,180_Answer3,1\n",
      "180,180_Answer4,1\n",
      "180,180_Answer2,1\n",
      "181,181_Answer4,1\n",
      "181,181_Answer1,1\n",
      "181,181_Answer2,1\n",
      "181,181_Answer7,1\n",
      "181,181_Answer3,1\n",
      "181,181_Answer8,1\n",
      "181,181_Answer5,1\n",
      "181,181_Answer6,1\n",
      "181,181_Answer9,1\n",
      "182,182_Answer8,1\n",
      "182,182_Answer1,1\n",
      "182,182_Answer5,1\n",
      "182,182_Answer3,1\n",
      "182,182_Answer2,1\n",
      "182,182_Answer4,1\n",
      "182,182_Answer6,1\n",
      "183,183_Answer2,1\n",
      "183,183_Answer1,1\n",
      "183,183_Answer3,1\n",
      "183,183_Answer4,1\n",
      "183,183_Answer5,1\n",
      "183,183_Answer7,1\n",
      "183,183_Answer6,1\n",
      "184,184_Answer1,1\n",
      "184,184_Answer3,1\n",
      "184,184_Answer2,1\n",
      "185,185_Answer2,1\n",
      "185,185_Answer3,1\n",
      "185,185_Answer9,1\n",
      "185,185_Answer4,1\n",
      "185,185_Answer5,1\n",
      "185,185_Answer6,1\n",
      "185,185_Answer1,1\n",
      "185,185_Answer7,1\n",
      "185,185_Answer8,1\n",
      "186,186_Answer1,1\n",
      "186,186_Answer4,1\n",
      "186,186_Answer2,1\n",
      "186,186_Answer5,1\n",
      "186,186_Answer7,1\n",
      "186,186_Answer3,1\n",
      "186,186_Answer9,1\n",
      "186,186_Answer8,1\n",
      "186,186_Answer6,1\n",
      "187,187_Answer4,1\n",
      "187,187_Answer3,1\n",
      "187,187_Answer7,1\n",
      "187,187_Answer9,1\n",
      "187,187_Answer1,1\n",
      "187,187_Answer5,1\n",
      "187,187_Answer8,1\n",
      "187,187_Answer2,1\n",
      "187,187_Answer6,1\n",
      "188,188_Answer2,1\n",
      "188,188_Answer1,1\n",
      "188,188_Answer5,1\n",
      "188,188_Answer3,1\n",
      "188,188_Answer6,1\n",
      "188,188_Answer7,1\n",
      "188,188_Answer4,1\n",
      "188,188_Answer8,1\n",
      "189,189_Answer1,1\n",
      "189,189_Answer4,1\n",
      "189,189_Answer5,1\n",
      "189,189_Answer6,1\n",
      "189,189_Answer7,1\n",
      "189,189_Answer8,1\n",
      "189,189_Answer2,1\n",
      "189,189_Answer3,1\n",
      "189,189_Answer9,1\n",
      "190,190_Answer1,1\n",
      "190,190_Answer4,1\n",
      "190,190_Answer5,1\n",
      "190,190_Answer2,1\n",
      "190,190_Answer6,1\n",
      "190,190_Answer7,1\n",
      "190,190_Answer3,1\n",
      "191,191_Answer3,1\n",
      "191,191_Answer9,1\n",
      "191,191_Answer2,1\n",
      "191,191_Answer4,1\n",
      "191,191_Answer5,1\n",
      "191,191_Answer6,1\n",
      "191,191_Answer7,1\n",
      "191,191_Answer8,1\n",
      "191,191_Answer1,1\n",
      "193,193_Answer2,1\n",
      "193,193_Answer3,1\n",
      "193,193_Answer8,1\n",
      "193,193_Answer7,1\n",
      "193,193_Answer1,1\n",
      "193,193_Answer5,1\n",
      "193,193_Answer6,1\n",
      "193,193_Answer4,1\n",
      "195,195_Answer4,1\n",
      "195,195_Answer3,1\n",
      "195,195_Answer1,1\n",
      "195,195_Answer2,1\n",
      "195,195_Answer9,1\n",
      "195,195_Answer6,1\n",
      "195,195_Answer5,1\n",
      "195,195_Answer7,1\n",
      "195,195_Answer8,1\n",
      "195,195_Answer10,1\n"
     ]
    }
   ],
   "source": [
    "QA.output_predictions(reference_ranks, system_labels)"
   ]
  },
  {
   "cell_type": "code",
   "execution_count": null,
   "metadata": {
    "id": "rdPcaI-8Awa0"
   },
   "outputs": [],
   "source": [
    "lengths = []\n",
    "for q in QA:\n",
    "    for a in q.answers:\n",
    "        lengths.append(len(a))\n",
    "        print(len(a))"
   ]
  },
  {
   "cell_type": "code",
   "execution_count": null,
   "metadata": {
    "id": "KcRtWLKNS8ze"
   },
   "outputs": [],
   "source": []
  },
  {
   "cell_type": "code",
   "execution_count": null,
   "metadata": {
    "id": "EXEHExavZtdE"
   },
   "outputs": [],
   "source": []
  },
  {
   "cell_type": "code",
   "execution_count": null,
   "metadata": {
    "id": "X7daxnXJZtZi"
   },
   "outputs": [],
   "source": []
  },
  {
   "cell_type": "code",
   "execution_count": 31,
   "metadata": {
    "colab": {
     "base_uri": "https://localhost:8080/"
    },
    "collapsed": true,
    "id": "rIfyXiblZtU-",
    "jupyter": {
     "outputs_hidden": true
    },
    "outputId": "bea87d86-7e0f-4a7f-cdeb-ac9cc3e5e53b"
   },
   "outputs": [
    {
     "name": "stdout",
     "output_type": "stream",
     "text": [
      "Testing Task (Round-2) : 3\n"
     ]
    },
    {
     "ename": "FileNotFoundError",
     "evalue": "[Errno 2] File data/task3/sample_submission_round_2.csv does not exist: 'data/task3/sample_submission_round_2.csv'",
     "output_type": "error",
     "traceback": [
      "\u001b[1;31m---------------------------------------------------------------------------\u001b[0m",
      "\u001b[1;31mFileNotFoundError\u001b[0m                         Traceback (most recent call last)",
      "\u001b[1;32m<ipython-input-31-59da14ca2456>\u001b[0m in \u001b[0;36m<module>\u001b[1;34m\u001b[0m\n\u001b[0;32m    222\u001b[0m     \u001b[0maicrowd_evaluator\u001b[0m \u001b[1;33m=\u001b[0m \u001b[0mMediqaEvaluator\u001b[0m\u001b[1;33m(\u001b[0m\u001b[0manswer_file_path\u001b[0m\u001b[1;33m,\u001b[0m \u001b[0mtask\u001b[0m\u001b[1;33m=\u001b[0m\u001b[0mtask\u001b[0m\u001b[1;33m,\u001b[0m \u001b[0mround\u001b[0m\u001b[1;33m=\u001b[0m\u001b[1;36m2\u001b[0m\u001b[1;33m)\u001b[0m\u001b[1;33m\u001b[0m\u001b[1;33m\u001b[0m\u001b[0m\n\u001b[0;32m    223\u001b[0m     \u001b[1;31m# Evaluate\u001b[0m\u001b[1;33m\u001b[0m\u001b[1;33m\u001b[0m\u001b[1;33m\u001b[0m\u001b[0m\n\u001b[1;32m--> 224\u001b[1;33m     \u001b[0mresult\u001b[0m \u001b[1;33m=\u001b[0m \u001b[0maicrowd_evaluator\u001b[0m\u001b[1;33m.\u001b[0m\u001b[0m_evaluate\u001b[0m\u001b[1;33m(\u001b[0m\u001b[0m_client_payload\u001b[0m\u001b[1;33m,\u001b[0m \u001b[0m_context\u001b[0m\u001b[1;33m)\u001b[0m\u001b[1;33m\u001b[0m\u001b[1;33m\u001b[0m\u001b[0m\n\u001b[0m\u001b[0;32m    225\u001b[0m     \u001b[0mprint\u001b[0m\u001b[1;33m(\u001b[0m\u001b[0mresult\u001b[0m\u001b[1;33m)\u001b[0m\u001b[1;33m\u001b[0m\u001b[1;33m\u001b[0m\u001b[0m\n",
      "\u001b[1;32m<ipython-input-31-59da14ca2456>\u001b[0m in \u001b[0;36m_evaluate\u001b[1;34m(self, client_payload, _context)\u001b[0m\n\u001b[0;32m     21\u001b[0m             \u001b[1;32mreturn\u001b[0m \u001b[0mself\u001b[0m\u001b[1;33m.\u001b[0m\u001b[0m_evaluate_task_2\u001b[0m\u001b[1;33m(\u001b[0m\u001b[0mclient_payload\u001b[0m\u001b[1;33m,\u001b[0m \u001b[0m_context\u001b[0m\u001b[1;33m)\u001b[0m\u001b[1;33m\u001b[0m\u001b[1;33m\u001b[0m\u001b[0m\n\u001b[0;32m     22\u001b[0m         \u001b[1;32melif\u001b[0m \u001b[0mself\u001b[0m\u001b[1;33m.\u001b[0m\u001b[0mtask\u001b[0m \u001b[1;33m==\u001b[0m \u001b[1;36m3\u001b[0m\u001b[1;33m:\u001b[0m\u001b[1;33m\u001b[0m\u001b[1;33m\u001b[0m\u001b[0m\n\u001b[1;32m---> 23\u001b[1;33m             \u001b[1;32mreturn\u001b[0m \u001b[0mself\u001b[0m\u001b[1;33m.\u001b[0m\u001b[0m_evaluate_task_3\u001b[0m\u001b[1;33m(\u001b[0m\u001b[0mclient_payload\u001b[0m\u001b[1;33m,\u001b[0m \u001b[0m_context\u001b[0m\u001b[1;33m)\u001b[0m\u001b[1;33m\u001b[0m\u001b[1;33m\u001b[0m\u001b[0m\n\u001b[0m\u001b[0;32m     24\u001b[0m \u001b[1;33m\u001b[0m\u001b[0m\n\u001b[0;32m     25\u001b[0m \u001b[1;33m\u001b[0m\u001b[0m\n",
      "\u001b[1;32m<ipython-input-31-59da14ca2456>\u001b[0m in \u001b[0;36m_evaluate_task_3\u001b[1;34m(self, client_payload, _context)\u001b[0m\n\u001b[0;32m    108\u001b[0m         \u001b[0mcol_names\u001b[0m \u001b[1;33m=\u001b[0m \u001b[1;33m[\u001b[0m\u001b[1;34m'question_id'\u001b[0m\u001b[1;33m,\u001b[0m\u001b[1;34m'answer_id'\u001b[0m\u001b[1;33m,\u001b[0m \u001b[1;34m'label'\u001b[0m\u001b[1;33m]\u001b[0m\u001b[1;33m\u001b[0m\u001b[1;33m\u001b[0m\u001b[0m\n\u001b[0;32m    109\u001b[0m \u001b[1;33m\u001b[0m\u001b[0m\n\u001b[1;32m--> 110\u001b[1;33m         \u001b[0msubmission\u001b[0m \u001b[1;33m=\u001b[0m \u001b[0mpd\u001b[0m\u001b[1;33m.\u001b[0m\u001b[0mread_csv\u001b[0m\u001b[1;33m(\u001b[0m\u001b[0msubmission_file_path\u001b[0m\u001b[1;33m,\u001b[0m \u001b[0mheader\u001b[0m\u001b[1;33m=\u001b[0m\u001b[1;32mNone\u001b[0m\u001b[1;33m,\u001b[0m \u001b[0mnames\u001b[0m\u001b[1;33m=\u001b[0m\u001b[0mcol_names\u001b[0m\u001b[1;33m)\u001b[0m\u001b[1;33m\u001b[0m\u001b[1;33m\u001b[0m\u001b[0m\n\u001b[0m\u001b[0;32m    111\u001b[0m         \u001b[0mgold_truth\u001b[0m \u001b[1;33m=\u001b[0m \u001b[0mpd\u001b[0m\u001b[1;33m.\u001b[0m\u001b[0mread_csv\u001b[0m\u001b[1;33m(\u001b[0m\u001b[0mself\u001b[0m\u001b[1;33m.\u001b[0m\u001b[0manswer_file_path\u001b[0m\u001b[1;33m,\u001b[0m \u001b[0mheader\u001b[0m\u001b[1;33m=\u001b[0m\u001b[1;32mNone\u001b[0m\u001b[1;33m,\u001b[0m \u001b[0mnames\u001b[0m\u001b[1;33m=\u001b[0m\u001b[0mcol_names\u001b[0m\u001b[1;33m)\u001b[0m\u001b[1;33m\u001b[0m\u001b[1;33m\u001b[0m\u001b[0m\n\u001b[0;32m    112\u001b[0m \u001b[1;33m\u001b[0m\u001b[0m\n",
      "\u001b[1;32m~\\anaconda3\\lib\\site-packages\\pandas\\io\\parsers.py\u001b[0m in \u001b[0;36mparser_f\u001b[1;34m(filepath_or_buffer, sep, delimiter, header, names, index_col, usecols, squeeze, prefix, mangle_dupe_cols, dtype, engine, converters, true_values, false_values, skipinitialspace, skiprows, skipfooter, nrows, na_values, keep_default_na, na_filter, verbose, skip_blank_lines, parse_dates, infer_datetime_format, keep_date_col, date_parser, dayfirst, cache_dates, iterator, chunksize, compression, thousands, decimal, lineterminator, quotechar, quoting, doublequote, escapechar, comment, encoding, dialect, error_bad_lines, warn_bad_lines, delim_whitespace, low_memory, memory_map, float_precision)\u001b[0m\n\u001b[0;32m    674\u001b[0m         )\n\u001b[0;32m    675\u001b[0m \u001b[1;33m\u001b[0m\u001b[0m\n\u001b[1;32m--> 676\u001b[1;33m         \u001b[1;32mreturn\u001b[0m \u001b[0m_read\u001b[0m\u001b[1;33m(\u001b[0m\u001b[0mfilepath_or_buffer\u001b[0m\u001b[1;33m,\u001b[0m \u001b[0mkwds\u001b[0m\u001b[1;33m)\u001b[0m\u001b[1;33m\u001b[0m\u001b[1;33m\u001b[0m\u001b[0m\n\u001b[0m\u001b[0;32m    677\u001b[0m \u001b[1;33m\u001b[0m\u001b[0m\n\u001b[0;32m    678\u001b[0m     \u001b[0mparser_f\u001b[0m\u001b[1;33m.\u001b[0m\u001b[0m__name__\u001b[0m \u001b[1;33m=\u001b[0m \u001b[0mname\u001b[0m\u001b[1;33m\u001b[0m\u001b[1;33m\u001b[0m\u001b[0m\n",
      "\u001b[1;32m~\\anaconda3\\lib\\site-packages\\pandas\\io\\parsers.py\u001b[0m in \u001b[0;36m_read\u001b[1;34m(filepath_or_buffer, kwds)\u001b[0m\n\u001b[0;32m    446\u001b[0m \u001b[1;33m\u001b[0m\u001b[0m\n\u001b[0;32m    447\u001b[0m     \u001b[1;31m# Create the parser.\u001b[0m\u001b[1;33m\u001b[0m\u001b[1;33m\u001b[0m\u001b[1;33m\u001b[0m\u001b[0m\n\u001b[1;32m--> 448\u001b[1;33m     \u001b[0mparser\u001b[0m \u001b[1;33m=\u001b[0m \u001b[0mTextFileReader\u001b[0m\u001b[1;33m(\u001b[0m\u001b[0mfp_or_buf\u001b[0m\u001b[1;33m,\u001b[0m \u001b[1;33m**\u001b[0m\u001b[0mkwds\u001b[0m\u001b[1;33m)\u001b[0m\u001b[1;33m\u001b[0m\u001b[1;33m\u001b[0m\u001b[0m\n\u001b[0m\u001b[0;32m    449\u001b[0m \u001b[1;33m\u001b[0m\u001b[0m\n\u001b[0;32m    450\u001b[0m     \u001b[1;32mif\u001b[0m \u001b[0mchunksize\u001b[0m \u001b[1;32mor\u001b[0m \u001b[0miterator\u001b[0m\u001b[1;33m:\u001b[0m\u001b[1;33m\u001b[0m\u001b[1;33m\u001b[0m\u001b[0m\n",
      "\u001b[1;32m~\\anaconda3\\lib\\site-packages\\pandas\\io\\parsers.py\u001b[0m in \u001b[0;36m__init__\u001b[1;34m(self, f, engine, **kwds)\u001b[0m\n\u001b[0;32m    878\u001b[0m             \u001b[0mself\u001b[0m\u001b[1;33m.\u001b[0m\u001b[0moptions\u001b[0m\u001b[1;33m[\u001b[0m\u001b[1;34m\"has_index_names\"\u001b[0m\u001b[1;33m]\u001b[0m \u001b[1;33m=\u001b[0m \u001b[0mkwds\u001b[0m\u001b[1;33m[\u001b[0m\u001b[1;34m\"has_index_names\"\u001b[0m\u001b[1;33m]\u001b[0m\u001b[1;33m\u001b[0m\u001b[1;33m\u001b[0m\u001b[0m\n\u001b[0;32m    879\u001b[0m \u001b[1;33m\u001b[0m\u001b[0m\n\u001b[1;32m--> 880\u001b[1;33m         \u001b[0mself\u001b[0m\u001b[1;33m.\u001b[0m\u001b[0m_make_engine\u001b[0m\u001b[1;33m(\u001b[0m\u001b[0mself\u001b[0m\u001b[1;33m.\u001b[0m\u001b[0mengine\u001b[0m\u001b[1;33m)\u001b[0m\u001b[1;33m\u001b[0m\u001b[1;33m\u001b[0m\u001b[0m\n\u001b[0m\u001b[0;32m    881\u001b[0m \u001b[1;33m\u001b[0m\u001b[0m\n\u001b[0;32m    882\u001b[0m     \u001b[1;32mdef\u001b[0m \u001b[0mclose\u001b[0m\u001b[1;33m(\u001b[0m\u001b[0mself\u001b[0m\u001b[1;33m)\u001b[0m\u001b[1;33m:\u001b[0m\u001b[1;33m\u001b[0m\u001b[1;33m\u001b[0m\u001b[0m\n",
      "\u001b[1;32m~\\anaconda3\\lib\\site-packages\\pandas\\io\\parsers.py\u001b[0m in \u001b[0;36m_make_engine\u001b[1;34m(self, engine)\u001b[0m\n\u001b[0;32m   1112\u001b[0m     \u001b[1;32mdef\u001b[0m \u001b[0m_make_engine\u001b[0m\u001b[1;33m(\u001b[0m\u001b[0mself\u001b[0m\u001b[1;33m,\u001b[0m \u001b[0mengine\u001b[0m\u001b[1;33m=\u001b[0m\u001b[1;34m\"c\"\u001b[0m\u001b[1;33m)\u001b[0m\u001b[1;33m:\u001b[0m\u001b[1;33m\u001b[0m\u001b[1;33m\u001b[0m\u001b[0m\n\u001b[0;32m   1113\u001b[0m         \u001b[1;32mif\u001b[0m \u001b[0mengine\u001b[0m \u001b[1;33m==\u001b[0m \u001b[1;34m\"c\"\u001b[0m\u001b[1;33m:\u001b[0m\u001b[1;33m\u001b[0m\u001b[1;33m\u001b[0m\u001b[0m\n\u001b[1;32m-> 1114\u001b[1;33m             \u001b[0mself\u001b[0m\u001b[1;33m.\u001b[0m\u001b[0m_engine\u001b[0m \u001b[1;33m=\u001b[0m \u001b[0mCParserWrapper\u001b[0m\u001b[1;33m(\u001b[0m\u001b[0mself\u001b[0m\u001b[1;33m.\u001b[0m\u001b[0mf\u001b[0m\u001b[1;33m,\u001b[0m \u001b[1;33m**\u001b[0m\u001b[0mself\u001b[0m\u001b[1;33m.\u001b[0m\u001b[0moptions\u001b[0m\u001b[1;33m)\u001b[0m\u001b[1;33m\u001b[0m\u001b[1;33m\u001b[0m\u001b[0m\n\u001b[0m\u001b[0;32m   1115\u001b[0m         \u001b[1;32melse\u001b[0m\u001b[1;33m:\u001b[0m\u001b[1;33m\u001b[0m\u001b[1;33m\u001b[0m\u001b[0m\n\u001b[0;32m   1116\u001b[0m             \u001b[1;32mif\u001b[0m \u001b[0mengine\u001b[0m \u001b[1;33m==\u001b[0m \u001b[1;34m\"python\"\u001b[0m\u001b[1;33m:\u001b[0m\u001b[1;33m\u001b[0m\u001b[1;33m\u001b[0m\u001b[0m\n",
      "\u001b[1;32m~\\anaconda3\\lib\\site-packages\\pandas\\io\\parsers.py\u001b[0m in \u001b[0;36m__init__\u001b[1;34m(self, src, **kwds)\u001b[0m\n\u001b[0;32m   1889\u001b[0m         \u001b[0mkwds\u001b[0m\u001b[1;33m[\u001b[0m\u001b[1;34m\"usecols\"\u001b[0m\u001b[1;33m]\u001b[0m \u001b[1;33m=\u001b[0m \u001b[0mself\u001b[0m\u001b[1;33m.\u001b[0m\u001b[0musecols\u001b[0m\u001b[1;33m\u001b[0m\u001b[1;33m\u001b[0m\u001b[0m\n\u001b[0;32m   1890\u001b[0m \u001b[1;33m\u001b[0m\u001b[0m\n\u001b[1;32m-> 1891\u001b[1;33m         \u001b[0mself\u001b[0m\u001b[1;33m.\u001b[0m\u001b[0m_reader\u001b[0m \u001b[1;33m=\u001b[0m \u001b[0mparsers\u001b[0m\u001b[1;33m.\u001b[0m\u001b[0mTextReader\u001b[0m\u001b[1;33m(\u001b[0m\u001b[0msrc\u001b[0m\u001b[1;33m,\u001b[0m \u001b[1;33m**\u001b[0m\u001b[0mkwds\u001b[0m\u001b[1;33m)\u001b[0m\u001b[1;33m\u001b[0m\u001b[1;33m\u001b[0m\u001b[0m\n\u001b[0m\u001b[0;32m   1892\u001b[0m         \u001b[0mself\u001b[0m\u001b[1;33m.\u001b[0m\u001b[0munnamed_cols\u001b[0m \u001b[1;33m=\u001b[0m \u001b[0mself\u001b[0m\u001b[1;33m.\u001b[0m\u001b[0m_reader\u001b[0m\u001b[1;33m.\u001b[0m\u001b[0munnamed_cols\u001b[0m\u001b[1;33m\u001b[0m\u001b[1;33m\u001b[0m\u001b[0m\n\u001b[0;32m   1893\u001b[0m \u001b[1;33m\u001b[0m\u001b[0m\n",
      "\u001b[1;32mpandas\\_libs\\parsers.pyx\u001b[0m in \u001b[0;36mpandas._libs.parsers.TextReader.__cinit__\u001b[1;34m()\u001b[0m\n",
      "\u001b[1;32mpandas\\_libs\\parsers.pyx\u001b[0m in \u001b[0;36mpandas._libs.parsers.TextReader._setup_parser_source\u001b[1;34m()\u001b[0m\n",
      "\u001b[1;31mFileNotFoundError\u001b[0m: [Errno 2] File data/task3/sample_submission_round_2.csv does not exist: 'data/task3/sample_submission_round_2.csv'"
     ]
    }
   ],
   "source": [
    "import pandas as pd\n",
    "import numpy as np\n",
    "import scipy\n",
    "import scipy.stats\n",
    "\n",
    "class MediqaEvaluator:\n",
    "    def __init__(self, answer_file_path, task=1, round=1):\n",
    "        \"\"\"\n",
    "        `round` : Holds the round for which the evaluation is being done.\n",
    "        can be 1, 2...upto the number of rounds the challenge has.\n",
    "        Different rounds will mostly have different ground truth files.\n",
    "        \"\"\"\n",
    "        self.answer_file_path = answer_file_path\n",
    "        self.round = round\n",
    "        self.task = task\n",
    "\n",
    "    def _evaluate(self, client_payload, _context={}):\n",
    "        if self.task == 1:\n",
    "            return self._evaluate_task_1(client_payload, _context)\n",
    "        elif self.task == 2:\n",
    "            return self._evaluate_task_2(client_payload, _context)\n",
    "        elif self.task == 3:\n",
    "            return self._evaluate_task_3(client_payload, _context)\n",
    "\n",
    "\n",
    "    def _evaluate_task_1(self, client_payload, _context={}):\n",
    "        \"\"\"\n",
    "        `client_payload` will be a dict with (atleast) the following keys :\n",
    "          - submission_file_path : local file path of the submitted file\n",
    "          - aicrowd_submission_id : A unique id representing the submission\n",
    "          - aicrowd_participant_id : A unique id for participant/team submitting (if enabled)\n",
    "        \"\"\"\n",
    "        submission_file_path = client_payload[\"submission_file_path\"]\n",
    "\n",
    "        # Result file format: pair_id,label (csv file)\n",
    "\n",
    "        col_names = ['pair_id', 'label']\n",
    "\n",
    "        submission = pd.read_csv(submission_file_path, header=None, names=col_names)\n",
    "        gold_truth = pd.read_csv(self.answer_file_path, header=None, names=col_names)\n",
    "\n",
    "        # Drop duplicates except for the first occurrence.\n",
    "        submission = submission.drop_duplicates(['pair_id'])\n",
    "\n",
    "        submission.label = submission.label.astype(str)\n",
    "        gold_truth.label = gold_truth.label.astype(str)\n",
    "\n",
    "        submission['entry'] = submission.apply(lambda x: '_'.join(x), axis=1)\n",
    "        gold_truth['entry'] = gold_truth.apply(lambda x: '_'.join(x), axis=1)\n",
    "\n",
    "        s1 = submission[submission['entry'].isin(gold_truth['entry'])]\n",
    "\n",
    "        accuracy = s1.size / gold_truth.size\n",
    "\n",
    "        _result_object = {\n",
    "            \"score\": accuracy,\n",
    "            \"score_secondary\" : 0.0\n",
    "        }\n",
    "        return _result_object\n",
    "\n",
    "    def _evaluate_task_2(self, client_payload, _context={}):\n",
    "        \"\"\"\n",
    "        `client_payload` will be a dict with (atleast) the following keys :\n",
    "          - submission_file_path : local file path of the submitted file\n",
    "          - aicrowd_submission_id : A unique id representing the submission\n",
    "          - aicrowd_participant_id : A unique id for participant/team submitting (if enabled)\n",
    "        \"\"\"\n",
    "        submission_file_path = client_payload[\"submission_file_path\"]\n",
    "\n",
    "        # Result file format: pair_id,label (csv file)\n",
    "\n",
    "        col_names = ['pair_id', 'label']\n",
    "\n",
    "        submission = pd.read_csv(submission_file_path, header=None, names=col_names, dtype={'pair_id': str, \"label\": str})\n",
    "        gold_truth = pd.read_csv(self.answer_file_path, header=None, names=col_names, dtype={'pair_id': str, \"label\": str})\n",
    "\n",
    "        # Drop duplicates except for the first occurrence.\n",
    "        submission = submission.drop_duplicates(['pair_id'])\n",
    "\n",
    "        submission.label = submission.label.astype(str)\n",
    "        gold_truth.label = gold_truth.label.astype(str)\n",
    "\n",
    "        submission['entry'] = submission.apply(lambda x: '_'.join(x), axis=1)\n",
    "        gold_truth['entry'] = gold_truth.apply(lambda x: '_'.join(x), axis=1)\n",
    "\n",
    "        s1 = submission[submission['entry'].isin(gold_truth['entry'])]\n",
    "\n",
    "        accuracy = s1.size / gold_truth.size\n",
    "\n",
    "        _result_object = {\n",
    "            \"score\": accuracy,\n",
    "            \"score_secondary\" : 0.0\n",
    "        }\n",
    "\n",
    "        return _result_object\n",
    "\n",
    "    def _evaluate_task_3(self, client_payload, _context={}):\n",
    "        \"\"\"\n",
    "        `client_payload` will be a dict with (atleast) the following keys :\n",
    "          - submission_file_path : local file path of the submitted file\n",
    "          - aicrowd_submission_id : A unique id representing the submission\n",
    "          - aicrowd_participant_id : A unique id for participant/team submitting (if enabled)\n",
    "        \"\"\"\n",
    "        submission_file_path = client_payload[\"submission_file_path\"]\n",
    "\n",
    "        # Result file format: q_id,a_id,label{0/1}\n",
    "\n",
    "        col_names = ['question_id','answer_id', 'label']\n",
    "\n",
    "        submission = pd.read_csv(submission_file_path, header=None, names=col_names)\n",
    "        gold_truth = pd.read_csv(self.answer_file_path, header=None, names=col_names)\n",
    "\n",
    "        # Drop duplicates except for the first occurrence.\n",
    "        submission = submission.drop_duplicates(['question_id', 'answer_id'])\n",
    "\n",
    "        submission.label = submission.label.astype(str)\n",
    "        gold_truth.label = gold_truth.label.astype(str)\n",
    "\n",
    "        submission['entry'] = submission.apply(lambda x: '_'.join(map(str,x)), axis=1)\n",
    "        gold_truth['entry'] = gold_truth.apply(lambda x: '_'.join(map(str,x)), axis=1)\n",
    "\n",
    "        s1 = submission[submission['entry'].isin(gold_truth['entry'])]\n",
    "\n",
    "        accuracy = s1.size / gold_truth.size\n",
    "\n",
    "        question_ids = []\n",
    "        correct_answers = {}\n",
    "        for index, row in gold_truth.iterrows():\n",
    "            qid = row['question_id']\n",
    "\n",
    "            if qid not in question_ids:\n",
    "                question_ids.append(qid)\n",
    "\n",
    "            if row['label'] == '1':\n",
    "                if qid not in correct_answers:\n",
    "                    correct_answers[qid] = []\n",
    "\n",
    "                correct_answers[qid].append(row['answer_id'])\n",
    "\n",
    "        Pr = 0.\n",
    "        spearman = 0.\n",
    "        pv = 0.\n",
    "        predictedPositive = 0.\n",
    "        correctPredictedPositive = 0.\n",
    "        mrr = 0.\n",
    "        sp_nan_ignoredQs = 0\n",
    "\n",
    "        for qid in question_ids:\n",
    "            submitted_correct_answers = []\n",
    "            index = 1\n",
    "            first = True\n",
    "            for _, row in submission[submission['question_id']==qid].iterrows():\n",
    "                aid = row['answer_id']\n",
    "                if row['label'] == '1':\n",
    "                    predictedPositive += 1\n",
    "                    if aid in correct_answers[qid]:\n",
    "                        correctPredictedPositive += 1\n",
    "                        submitted_correct_answers.append(aid)\n",
    "                        if first:\n",
    "                            mrr += 1. / index\n",
    "                            first=False\n",
    "\n",
    "                index += 1\n",
    "            matched_gold_subset = []\n",
    "\n",
    "            for x in correct_answers[qid]:\n",
    "                if x in submitted_correct_answers:\n",
    "                    matched_gold_subset.append(x)\n",
    "\n",
    "            rho, p_value = scipy.stats.spearmanr(submitted_correct_answers, matched_gold_subset)\n",
    "            if np.isnan(rho):\n",
    "                rho = 0.0\n",
    "                sp_nan_ignoredQs += 1\n",
    "            spearman += rho\n",
    "            pv += p_value\n",
    "\n",
    "        question_nb = len(question_ids)\n",
    "        q_nb_spearman = question_nb - sp_nan_ignoredQs\n",
    "        spearman = spearman / q_nb_spearman\n",
    "        Pr = correctPredictedPositive / predictedPositive\n",
    "        mrr = mrr / question_nb\n",
    "\n",
    "        if np.isnan(spearman):\n",
    "            spearman = 0.0\n",
    "\n",
    "        _result_object = {\n",
    "            \"score\": accuracy,\n",
    "            \"score_secondary\": spearman,\n",
    "            \"meta\" : {\n",
    "                \"MRR\": mrr,\n",
    "                \"Precision\": Pr\n",
    "            }\n",
    "        }\n",
    "        return _result_object\n",
    "\n",
    "\n",
    "# Test Tasks 1,2,3\n",
    "for task in []:\n",
    "    print(\"Testing Task (Round-1) : {}\".format(task))\n",
    "    answer_file_path = \"data/task{}/ground_truth_round_2.csv\".format(task)\n",
    "    _client_payload = {}\n",
    "    _client_payload[\"submission_file_path\"] = \"data/task{}/sample_submission_round_2.csv\".format(task)\n",
    "\n",
    "    # Instaiate a dummy context\n",
    "    _context = {}\n",
    "    # Instantiate an evaluator\n",
    "    aicrowd_evaluator = MediqaEvaluator(answer_file_path, task=task)\n",
    "    # Evaluate\n",
    "    result = aicrowd_evaluator._evaluate(_client_payload, _context)\n",
    "    print(result)\n",
    "\n",
    "# Test Tasks 1,2,3 - Round -2\n",
    "for task in [3]:\n",
    "    print(\"Testing Task (Round-2) : {}\".format(task))\n",
    "    answer_file_path = \"data/task{}/ground_truth_round_2.csv\".format(task)\n",
    "    _client_payload = {}\n",
    "    _client_payload[\"submission_file_path\"] = \"data/task{}/sample_submission_round_2.csv\".format(task)\n",
    "\n",
    "    # Instaiate a dummy context\n",
    "    _context = {}\n",
    "    # Instantiate an evaluator\n",
    "    aicrowd_evaluator = MediqaEvaluator(answer_file_path, task=task, round=2)\n",
    "    # Evaluate\n",
    "    result = aicrowd_evaluator._evaluate(_client_payload, _context)\n",
    "    print(result)"
   ]
  },
  {
   "cell_type": "code",
   "execution_count": null,
   "metadata": {
    "id": "GzyudPpuZ1B8"
   },
   "outputs": [],
   "source": []
  },
  {
   "cell_type": "markdown",
   "metadata": {
    "id": "VQ4pEiGlvhuY"
   },
   "source": [
    "### **BioELMo**"
   ]
  },
  {
   "cell_type": "code",
   "execution_count": null,
   "metadata": {
    "colab": {
     "base_uri": "https://localhost:8080/"
    },
    "id": "My_O_qOBvitB",
    "outputId": "e4802eeb-264b-4af8-d0e1-1e89ab015ee6"
   },
   "outputs": [
    {
     "name": "stdout",
     "output_type": "stream",
     "text": [
      "Collecting tensorflow-gpu==1.2\n",
      "\u001b[?25l  Downloading https://files.pythonhosted.org/packages/cb/4d/c9c4da41c6d7b9a4949cb9e53c7032d7d9b7da0410f1226f7455209dd962/tensorflow_gpu-1.2.0-cp36-cp36m-manylinux1_x86_64.whl (89.5MB)\n",
      "\u001b[K     |████████████████████████████████| 89.5MB 33kB/s \n",
      "\u001b[?25hRequirement already satisfied: h5py in /usr/local/lib/python3.6/dist-packages (2.10.0)\n",
      "Collecting markdown==2.2.0\n",
      "\u001b[?25l  Downloading https://files.pythonhosted.org/packages/ac/99/288a81a38526a42c98b5b9832c6e339ca8d5dd38b19a53abfac7c8037c7f/Markdown-2.2.0.tar.gz (236kB)\n",
      "\u001b[K     |████████████████████████████████| 245kB 41.3MB/s \n",
      "\u001b[?25hRequirement already satisfied: protobuf>=3.2.0 in /usr/local/lib/python3.6/dist-packages (from tensorflow-gpu==1.2) (3.12.4)\n",
      "Collecting html5lib==0.9999999\n",
      "\u001b[?25l  Downloading https://files.pythonhosted.org/packages/ae/ae/bcb60402c60932b32dfaf19bb53870b29eda2cd17551ba5639219fb5ebf9/html5lib-0.9999999.tar.gz (889kB)\n",
      "\u001b[K     |████████████████████████████████| 890kB 42.1MB/s \n",
      "\u001b[?25hRequirement already satisfied: werkzeug>=0.11.10 in /usr/local/lib/python3.6/dist-packages (from tensorflow-gpu==1.2) (1.0.1)\n",
      "Requirement already satisfied: six>=1.10.0 in /usr/local/lib/python3.6/dist-packages (from tensorflow-gpu==1.2) (1.15.0)\n",
      "Requirement already satisfied: numpy>=1.11.0 in /usr/local/lib/python3.6/dist-packages (from tensorflow-gpu==1.2) (1.18.5)\n",
      "Requirement already satisfied: wheel>=0.26 in /usr/local/lib/python3.6/dist-packages (from tensorflow-gpu==1.2) (0.35.1)\n",
      "Collecting backports.weakref==1.0rc1\n",
      "  Downloading https://files.pythonhosted.org/packages/6a/f7/ae34b6818b603e264f26fe7db2bd07850ce331ce2fde74b266d61f4a2d87/backports.weakref-1.0rc1-py3-none-any.whl\n",
      "Collecting bleach==1.5.0\n",
      "  Downloading https://files.pythonhosted.org/packages/33/70/86c5fec937ea4964184d4d6c4f0b9551564f821e1c3575907639036d9b90/bleach-1.5.0-py2.py3-none-any.whl\n",
      "Requirement already satisfied: setuptools in /usr/local/lib/python3.6/dist-packages (from protobuf>=3.2.0->tensorflow-gpu==1.2) (50.3.2)\n",
      "Building wheels for collected packages: markdown, html5lib\n",
      "  Building wheel for markdown (setup.py) ... \u001b[?25l\u001b[?25hdone\n",
      "  Created wheel for markdown: filename=Markdown-2.2.0-cp36-none-any.whl size=136279 sha256=c0c95af1c9f2dc84d3ffa183b0ef07f4efb77e59886ca9426d9dd1102e8936d0\n",
      "  Stored in directory: /root/.cache/pip/wheels/b6/52/17/f0af18e3e0ec6fa60b361ffed15b4c3468f6f3bcdb87fbe079\n",
      "  Building wheel for html5lib (setup.py) ... \u001b[?25l\u001b[?25hdone\n",
      "  Created wheel for html5lib: filename=html5lib-0.9999999-cp36-none-any.whl size=107220 sha256=6ee8ab4e295e152a39b2ea351e4722a7c6fb812164f57fe24987e1c3eb2776a2\n",
      "  Stored in directory: /root/.cache/pip/wheels/50/ae/f9/d2b189788efcf61d1ee0e36045476735c838898eef1cad6e29\n",
      "Successfully built markdown html5lib\n",
      "\u001b[31mERROR: tensorboard 2.3.0 has requirement markdown>=2.6.8, but you'll have markdown 2.2.0 which is incompatible.\u001b[0m\n",
      "Installing collected packages: markdown, html5lib, backports.weakref, bleach, tensorflow-gpu\n",
      "  Found existing installation: Markdown 3.3.3\n",
      "    Uninstalling Markdown-3.3.3:\n",
      "      Successfully uninstalled Markdown-3.3.3\n",
      "  Found existing installation: html5lib 1.0.1\n",
      "    Uninstalling html5lib-1.0.1:\n",
      "      Successfully uninstalled html5lib-1.0.1\n",
      "  Found existing installation: bleach 3.2.1\n",
      "    Uninstalling bleach-3.2.1:\n",
      "      Successfully uninstalled bleach-3.2.1\n",
      "Successfully installed backports.weakref-1.0rc1 bleach-1.5.0 html5lib-0.9999999 markdown-2.2.0 tensorflow-gpu-1.2.0\n"
     ]
    }
   ],
   "source": [
    "! pip install tensorflow-gpu==1.2 h5py"
   ]
  },
  {
   "cell_type": "code",
   "execution_count": null,
   "metadata": {
    "colab": {
     "base_uri": "https://localhost:8080/"
    },
    "id": "NAVbKJx1xmxi",
    "outputId": "2cf1a20f-026e-494c-8f13-75b34f74fc02"
   },
   "outputs": [
    {
     "name": "stdout",
     "output_type": "stream",
     "text": [
      "python3: can't open file 'setup.py': [Errno 2] No such file or directory\n"
     ]
    }
   ],
   "source": [
    "! python setup.py install"
   ]
  },
  {
   "cell_type": "code",
   "execution_count": null,
   "metadata": {
    "colab": {
     "base_uri": "https://localhost:8080/"
    },
    "id": "FSwGZ1XZyAnx",
    "outputId": "ff047260-60b5-4999-81b4-963946903cfe"
   },
   "outputs": [
    {
     "name": "stdout",
     "output_type": "stream",
     "text": [
      "Cloning into 'bilm-tf'...\n",
      "remote: Enumerating objects: 292, done.\u001b[K\n",
      "remote: Total 292 (delta 0), reused 0 (delta 0), pack-reused 292\u001b[K\n",
      "Receiving objects: 100% (292/292), 588.40 KiB | 782.00 KiB/s, done.\n",
      "Resolving deltas: 100% (137/137), done.\n"
     ]
    }
   ],
   "source": [
    "! git clone https://github.com/allenai/bilm-tf.git"
   ]
  },
  {
   "cell_type": "code",
   "execution_count": null,
   "metadata": {
    "id": "Kk64Bgrt1rOc"
   },
   "outputs": [],
   "source": [
    "import os\n",
    "import pandas as pd\n",
    "from collections import Counter"
   ]
  },
  {
   "cell_type": "code",
   "execution_count": null,
   "metadata": {
    "colab": {
     "base_uri": "https://localhost:8080/"
    },
    "id": "HoEtla-r5AxU",
    "outputId": "e2960e18-7c6e-432f-8b74-2d3e8c096cf9"
   },
   "outputs": [
    {
     "name": "stdout",
     "output_type": "stream",
     "text": [
      "\u001b[0m\u001b[01;34mbilm-tf\u001b[0m/  \u001b[01;34msample_data\u001b[0m/\n"
     ]
    }
   ],
   "source": []
  },
  {
   "cell_type": "code",
   "execution_count": null,
   "metadata": {
    "colab": {
     "base_uri": "https://localhost:8080/"
    },
    "id": "SwSoJh8m4xi4",
    "outputId": "cd079aff-0eca-4b15-c861-7cfc752d85c2"
   },
   "outputs": [
    {
     "name": "stdout",
     "output_type": "stream",
     "text": [
      "Shape of training data =  (1000003, 1)\n"
     ]
    },
    {
     "data": {
      "text/plain": [
       "0                       <S>\n",
       "1                      </S>\n",
       "2                     <UNK>\n",
       "3                        of\n",
       "4                       the\n",
       "                 ...       \n",
       "999998                SgcE6\n",
       "999999     cubilin-mediated\n",
       "1000000       syndrome/drug\n",
       "1000001              11,214\n",
       "1000002       artery.RESULT\n",
       "Name: 0, Length: 1000003, dtype: object"
      ]
     },
     "execution_count": 11,
     "metadata": {
      "tags": []
     },
     "output_type": "execute_result"
    }
   ],
   "source": [
    "data_train = pd.read_csv('/content/bilm-tf/vocabulary.txt', sep=\" \", header=None)\n",
    "print(\"Shape of training data = \", data_train.shape)\n",
    "data_train[0]"
   ]
  },
  {
   "cell_type": "code",
   "execution_count": null,
   "metadata": {
    "colab": {
     "base_uri": "https://localhost:8080/",
     "height": 232
    },
    "id": "H1-z9EUr5GqG",
    "outputId": "a2e7ebce-0021-46be-99e3-972d20272d5d"
   },
   "outputs": [
    {
     "ename": "TypeError",
     "evalue": "ignored",
     "output_type": "error",
     "traceback": [
      "\u001b[0;31m---------------------------------------------------------------------------\u001b[0m",
      "\u001b[0;31mTypeError\u001b[0m                                 Traceback (most recent call last)",
      "\u001b[0;32m<ipython-input-12-2c55fd6318f4>\u001b[0m in \u001b[0;36m<module>\u001b[0;34m()\u001b[0m\n\u001b[1;32m      3\u001b[0m \u001b[0;34m\u001b[0m\u001b[0m\n\u001b[1;32m      4\u001b[0m \u001b[0;32mfor\u001b[0m \u001b[0mi\u001b[0m \u001b[0;32min\u001b[0m \u001b[0mrange\u001b[0m\u001b[0;34m(\u001b[0m\u001b[0;36m0\u001b[0m\u001b[0;34m,\u001b[0m\u001b[0mdata_train\u001b[0m\u001b[0;34m.\u001b[0m\u001b[0mshape\u001b[0m\u001b[0;34m[\u001b[0m\u001b[0;36m0\u001b[0m\u001b[0;34m]\u001b[0m\u001b[0;34m,\u001b[0m\u001b[0;36m6\u001b[0m\u001b[0;34m)\u001b[0m\u001b[0;34m:\u001b[0m\u001b[0;34m\u001b[0m\u001b[0;34m\u001b[0m\u001b[0m\n\u001b[0;32m----> 5\u001b[0;31m     \u001b[0mtext\u001b[0m \u001b[0;34m=\u001b[0m \u001b[0;34m\"\\n\"\u001b[0m\u001b[0;34m.\u001b[0m\u001b[0mjoin\u001b[0m\u001b[0;34m(\u001b[0m\u001b[0mdata_train\u001b[0m\u001b[0;34m[\u001b[0m\u001b[0;36m0\u001b[0m\u001b[0;34m]\u001b[0m\u001b[0;34m[\u001b[0m\u001b[0mi\u001b[0m\u001b[0;34m:\u001b[0m\u001b[0mi\u001b[0m\u001b[0;34m+\u001b[0m\u001b[0;36m6\u001b[0m\u001b[0;34m]\u001b[0m\u001b[0;34m.\u001b[0m\u001b[0mtolist\u001b[0m\u001b[0;34m(\u001b[0m\u001b[0;34m)\u001b[0m\u001b[0;34m)\u001b[0m\u001b[0;34m\u001b[0m\u001b[0;34m\u001b[0m\u001b[0m\n\u001b[0m\u001b[1;32m      6\u001b[0m     \u001b[0mfp\u001b[0m \u001b[0;34m=\u001b[0m \u001b[0mopen\u001b[0m\u001b[0;34m(\u001b[0m\u001b[0;34m\"/content/bilm-tf/train/\"\u001b[0m\u001b[0;34m+\u001b[0m\u001b[0mstr\u001b[0m\u001b[0;34m(\u001b[0m\u001b[0mi\u001b[0m\u001b[0;34m)\u001b[0m\u001b[0;34m+\u001b[0m\u001b[0;34m\".txt\"\u001b[0m\u001b[0;34m,\u001b[0m\u001b[0;34m\"w\"\u001b[0m\u001b[0;34m)\u001b[0m\u001b[0;34m\u001b[0m\u001b[0;34m\u001b[0m\u001b[0m\n\u001b[1;32m      7\u001b[0m     \u001b[0mfp\u001b[0m\u001b[0;34m.\u001b[0m\u001b[0mwrite\u001b[0m\u001b[0;34m(\u001b[0m\u001b[0mtext\u001b[0m\u001b[0;34m)\u001b[0m\u001b[0;34m\u001b[0m\u001b[0;34m\u001b[0m\u001b[0m\n",
      "\u001b[0;31mTypeError\u001b[0m: sequence item 4: expected str instance, float found"
     ]
    }
   ],
   "source": [
    "if not os.path.exists(\"/content/bilm-tf/train\"):\n",
    "    os.makedirs(\"/content/bilm-tf/train\")\n",
    " \n",
    "for i in range(0,data_train.shape[0],6):\n",
    "    text = \"\\n\".join(data_train[0][i:i+6].tolist())\n",
    "    fp = open(\"/content/bilm-tf/train/\"+str(i)+\".txt\",\"w\")\n",
    "    fp.write(text)\n",
    "    fp.close()"
   ]
  },
  {
   "cell_type": "code",
   "execution_count": null,
   "metadata": {
    "id": "hWpBMbxl5qjy"
   },
   "outputs": [],
   "source": []
  }
 ],
 "metadata": {
  "accelerator": "GPU",
  "colab": {
   "collapsed_sections": [],
   "name": "Preprocessing",
   "provenance": [],
   "toc_visible": true
  },
  "kernelspec": {
   "display_name": "Python 3",
   "language": "python",
   "name": "python3"
  },
  "language_info": {
   "codemirror_mode": {
    "name": "ipython",
    "version": 3
   },
   "file_extension": ".py",
   "mimetype": "text/x-python",
   "name": "python",
   "nbconvert_exporter": "python",
   "pygments_lexer": "ipython3",
   "version": "3.7.9"
  },
  "widgets": {
   "application/vnd.jupyter.widget-state+json": {
    "07b7a135531e43fb8174e780bf4a54e9": {
     "model_module": "@jupyter-widgets/controls",
     "model_name": "ProgressStyleModel",
     "state": {
      "_model_module": "@jupyter-widgets/controls",
      "_model_module_version": "1.5.0",
      "_model_name": "ProgressStyleModel",
      "_view_count": null,
      "_view_module": "@jupyter-widgets/base",
      "_view_module_version": "1.2.0",
      "_view_name": "StyleView",
      "bar_color": null,
      "description_width": "initial"
     }
    },
    "10eb159905cb4da881e506bea7ef3bf7": {
     "model_module": "@jupyter-widgets/base",
     "model_name": "LayoutModel",
     "state": {
      "_model_module": "@jupyter-widgets/base",
      "_model_module_version": "1.2.0",
      "_model_name": "LayoutModel",
      "_view_count": null,
      "_view_module": "@jupyter-widgets/base",
      "_view_module_version": "1.2.0",
      "_view_name": "LayoutView",
      "align_content": null,
      "align_items": null,
      "align_self": null,
      "border": null,
      "bottom": null,
      "display": null,
      "flex": null,
      "flex_flow": null,
      "grid_area": null,
      "grid_auto_columns": null,
      "grid_auto_flow": null,
      "grid_auto_rows": null,
      "grid_column": null,
      "grid_gap": null,
      "grid_row": null,
      "grid_template_areas": null,
      "grid_template_columns": null,
      "grid_template_rows": null,
      "height": null,
      "justify_content": null,
      "justify_items": null,
      "left": null,
      "margin": null,
      "max_height": null,
      "max_width": null,
      "min_height": null,
      "min_width": null,
      "object_fit": null,
      "object_position": null,
      "order": null,
      "overflow": null,
      "overflow_x": null,
      "overflow_y": null,
      "padding": null,
      "right": null,
      "top": null,
      "visibility": null,
      "width": null
     }
    },
    "1398398f8aef4f27b93bc85edacdd770": {
     "model_module": "@jupyter-widgets/controls",
     "model_name": "DescriptionStyleModel",
     "state": {
      "_model_module": "@jupyter-widgets/controls",
      "_model_module_version": "1.5.0",
      "_model_name": "DescriptionStyleModel",
      "_view_count": null,
      "_view_module": "@jupyter-widgets/base",
      "_view_module_version": "1.2.0",
      "_view_name": "StyleView",
      "description_width": ""
     }
    },
    "147abfcfb0ac497a9736336ecf1a5c7a": {
     "model_module": "@jupyter-widgets/controls",
     "model_name": "HBoxModel",
     "state": {
      "_dom_classes": [],
      "_model_module": "@jupyter-widgets/controls",
      "_model_module_version": "1.5.0",
      "_model_name": "HBoxModel",
      "_view_count": null,
      "_view_module": "@jupyter-widgets/controls",
      "_view_module_version": "1.5.0",
      "_view_name": "HBoxView",
      "box_style": "",
      "children": [
       "IPY_MODEL_2441cd058509472ea3fef74f72b3ba0f",
       "IPY_MODEL_ab9fea5b4c2f4426827ecfbd711097a9"
      ],
      "layout": "IPY_MODEL_ff0c4714c57f4cc697301ef2bf58eb28"
     }
    },
    "1a0d610808c54752a01d8fafe188c6a5": {
     "model_module": "@jupyter-widgets/controls",
     "model_name": "FloatProgressModel",
     "state": {
      "_dom_classes": [],
      "_model_module": "@jupyter-widgets/controls",
      "_model_module_version": "1.5.0",
      "_model_name": "FloatProgressModel",
      "_view_count": null,
      "_view_module": "@jupyter-widgets/controls",
      "_view_module_version": "1.5.0",
      "_view_name": "ProgressView",
      "bar_style": "success",
      "description": "Downloading: 100%",
      "description_tooltip": null,
      "layout": "IPY_MODEL_3a3968f8f4114cbcbd04edb27c82717e",
      "max": 433,
      "min": 0,
      "orientation": "horizontal",
      "style": "IPY_MODEL_ff2c3058101f4d7b8ec7e6b479ab5924",
      "value": 433
     }
    },
    "1f8d2fe393ea4898a5d9384974cc7e6f": {
     "model_module": "@jupyter-widgets/base",
     "model_name": "LayoutModel",
     "state": {
      "_model_module": "@jupyter-widgets/base",
      "_model_module_version": "1.2.0",
      "_model_name": "LayoutModel",
      "_view_count": null,
      "_view_module": "@jupyter-widgets/base",
      "_view_module_version": "1.2.0",
      "_view_name": "LayoutView",
      "align_content": null,
      "align_items": null,
      "align_self": null,
      "border": null,
      "bottom": null,
      "display": null,
      "flex": null,
      "flex_flow": null,
      "grid_area": null,
      "grid_auto_columns": null,
      "grid_auto_flow": null,
      "grid_auto_rows": null,
      "grid_column": null,
      "grid_gap": null,
      "grid_row": null,
      "grid_template_areas": null,
      "grid_template_columns": null,
      "grid_template_rows": null,
      "height": null,
      "justify_content": null,
      "justify_items": null,
      "left": null,
      "margin": null,
      "max_height": null,
      "max_width": null,
      "min_height": null,
      "min_width": null,
      "object_fit": null,
      "object_position": null,
      "order": null,
      "overflow": null,
      "overflow_x": null,
      "overflow_y": null,
      "padding": null,
      "right": null,
      "top": null,
      "visibility": null,
      "width": null
     }
    },
    "2441cd058509472ea3fef74f72b3ba0f": {
     "model_module": "@jupyter-widgets/controls",
     "model_name": "FloatProgressModel",
     "state": {
      "_dom_classes": [],
      "_model_module": "@jupyter-widgets/controls",
      "_model_module_version": "1.5.0",
      "_model_name": "FloatProgressModel",
      "_view_count": null,
      "_view_module": "@jupyter-widgets/controls",
      "_view_module_version": "1.5.0",
      "_view_name": "ProgressView",
      "bar_style": "success",
      "description": "Downloading: 100%",
      "description_tooltip": null,
      "layout": "IPY_MODEL_71fb84f8487542429fa488d0c6fef2a6",
      "max": 231508,
      "min": 0,
      "orientation": "horizontal",
      "style": "IPY_MODEL_5493bc3fc0704e3e8ea055de72f52367",
      "value": 231508
     }
    },
    "3a3968f8f4114cbcbd04edb27c82717e": {
     "model_module": "@jupyter-widgets/base",
     "model_name": "LayoutModel",
     "state": {
      "_model_module": "@jupyter-widgets/base",
      "_model_module_version": "1.2.0",
      "_model_name": "LayoutModel",
      "_view_count": null,
      "_view_module": "@jupyter-widgets/base",
      "_view_module_version": "1.2.0",
      "_view_name": "LayoutView",
      "align_content": null,
      "align_items": null,
      "align_self": null,
      "border": null,
      "bottom": null,
      "display": null,
      "flex": null,
      "flex_flow": null,
      "grid_area": null,
      "grid_auto_columns": null,
      "grid_auto_flow": null,
      "grid_auto_rows": null,
      "grid_column": null,
      "grid_gap": null,
      "grid_row": null,
      "grid_template_areas": null,
      "grid_template_columns": null,
      "grid_template_rows": null,
      "height": null,
      "justify_content": null,
      "justify_items": null,
      "left": null,
      "margin": null,
      "max_height": null,
      "max_width": null,
      "min_height": null,
      "min_width": null,
      "object_fit": null,
      "object_position": null,
      "order": null,
      "overflow": null,
      "overflow_x": null,
      "overflow_y": null,
      "padding": null,
      "right": null,
      "top": null,
      "visibility": null,
      "width": null
     }
    },
    "4080dd44dc56497eb9585b20104cf45a": {
     "model_module": "@jupyter-widgets/controls",
     "model_name": "DescriptionStyleModel",
     "state": {
      "_model_module": "@jupyter-widgets/controls",
      "_model_module_version": "1.5.0",
      "_model_name": "DescriptionStyleModel",
      "_view_count": null,
      "_view_module": "@jupyter-widgets/base",
      "_view_module_version": "1.2.0",
      "_view_name": "StyleView",
      "description_width": ""
     }
    },
    "5493bc3fc0704e3e8ea055de72f52367": {
     "model_module": "@jupyter-widgets/controls",
     "model_name": "ProgressStyleModel",
     "state": {
      "_model_module": "@jupyter-widgets/controls",
      "_model_module_version": "1.5.0",
      "_model_name": "ProgressStyleModel",
      "_view_count": null,
      "_view_module": "@jupyter-widgets/base",
      "_view_module_version": "1.2.0",
      "_view_name": "StyleView",
      "bar_color": null,
      "description_width": "initial"
     }
    },
    "71fb84f8487542429fa488d0c6fef2a6": {
     "model_module": "@jupyter-widgets/base",
     "model_name": "LayoutModel",
     "state": {
      "_model_module": "@jupyter-widgets/base",
      "_model_module_version": "1.2.0",
      "_model_name": "LayoutModel",
      "_view_count": null,
      "_view_module": "@jupyter-widgets/base",
      "_view_module_version": "1.2.0",
      "_view_name": "LayoutView",
      "align_content": null,
      "align_items": null,
      "align_self": null,
      "border": null,
      "bottom": null,
      "display": null,
      "flex": null,
      "flex_flow": null,
      "grid_area": null,
      "grid_auto_columns": null,
      "grid_auto_flow": null,
      "grid_auto_rows": null,
      "grid_column": null,
      "grid_gap": null,
      "grid_row": null,
      "grid_template_areas": null,
      "grid_template_columns": null,
      "grid_template_rows": null,
      "height": null,
      "justify_content": null,
      "justify_items": null,
      "left": null,
      "margin": null,
      "max_height": null,
      "max_width": null,
      "min_height": null,
      "min_width": null,
      "object_fit": null,
      "object_position": null,
      "order": null,
      "overflow": null,
      "overflow_x": null,
      "overflow_y": null,
      "padding": null,
      "right": null,
      "top": null,
      "visibility": null,
      "width": null
     }
    },
    "85f6584af22b4a1e931aad09f7fe66b2": {
     "model_module": "@jupyter-widgets/base",
     "model_name": "LayoutModel",
     "state": {
      "_model_module": "@jupyter-widgets/base",
      "_model_module_version": "1.2.0",
      "_model_name": "LayoutModel",
      "_view_count": null,
      "_view_module": "@jupyter-widgets/base",
      "_view_module_version": "1.2.0",
      "_view_name": "LayoutView",
      "align_content": null,
      "align_items": null,
      "align_self": null,
      "border": null,
      "bottom": null,
      "display": null,
      "flex": null,
      "flex_flow": null,
      "grid_area": null,
      "grid_auto_columns": null,
      "grid_auto_flow": null,
      "grid_auto_rows": null,
      "grid_column": null,
      "grid_gap": null,
      "grid_row": null,
      "grid_template_areas": null,
      "grid_template_columns": null,
      "grid_template_rows": null,
      "height": null,
      "justify_content": null,
      "justify_items": null,
      "left": null,
      "margin": null,
      "max_height": null,
      "max_width": null,
      "min_height": null,
      "min_width": null,
      "object_fit": null,
      "object_position": null,
      "order": null,
      "overflow": null,
      "overflow_x": null,
      "overflow_y": null,
      "padding": null,
      "right": null,
      "top": null,
      "visibility": null,
      "width": null
     }
    },
    "98128371afc04f1495643f1524b95c7a": {
     "model_module": "@jupyter-widgets/controls",
     "model_name": "HTMLModel",
     "state": {
      "_dom_classes": [],
      "_model_module": "@jupyter-widgets/controls",
      "_model_module_version": "1.5.0",
      "_model_name": "HTMLModel",
      "_view_count": null,
      "_view_module": "@jupyter-widgets/controls",
      "_view_module_version": "1.5.0",
      "_view_name": "HTMLView",
      "description": "",
      "description_tooltip": null,
      "layout": "IPY_MODEL_e40dd44721f5472baae808befb672eb9",
      "placeholder": "​",
      "style": "IPY_MODEL_4080dd44dc56497eb9585b20104cf45a",
      "value": " 433/433 [00:00&lt;00:00, 1.02kB/s]"
     }
    },
    "9c8345c9dea24483a59817527326f1ef": {
     "model_module": "@jupyter-widgets/base",
     "model_name": "LayoutModel",
     "state": {
      "_model_module": "@jupyter-widgets/base",
      "_model_module_version": "1.2.0",
      "_model_name": "LayoutModel",
      "_view_count": null,
      "_view_module": "@jupyter-widgets/base",
      "_view_module_version": "1.2.0",
      "_view_name": "LayoutView",
      "align_content": null,
      "align_items": null,
      "align_self": null,
      "border": null,
      "bottom": null,
      "display": null,
      "flex": null,
      "flex_flow": null,
      "grid_area": null,
      "grid_auto_columns": null,
      "grid_auto_flow": null,
      "grid_auto_rows": null,
      "grid_column": null,
      "grid_gap": null,
      "grid_row": null,
      "grid_template_areas": null,
      "grid_template_columns": null,
      "grid_template_rows": null,
      "height": null,
      "justify_content": null,
      "justify_items": null,
      "left": null,
      "margin": null,
      "max_height": null,
      "max_width": null,
      "min_height": null,
      "min_width": null,
      "object_fit": null,
      "object_position": null,
      "order": null,
      "overflow": null,
      "overflow_x": null,
      "overflow_y": null,
      "padding": null,
      "right": null,
      "top": null,
      "visibility": null,
      "width": null
     }
    },
    "ab9fea5b4c2f4426827ecfbd711097a9": {
     "model_module": "@jupyter-widgets/controls",
     "model_name": "HTMLModel",
     "state": {
      "_dom_classes": [],
      "_model_module": "@jupyter-widgets/controls",
      "_model_module_version": "1.5.0",
      "_model_name": "HTMLModel",
      "_view_count": null,
      "_view_module": "@jupyter-widgets/controls",
      "_view_module_version": "1.5.0",
      "_view_name": "HTMLView",
      "description": "",
      "description_tooltip": null,
      "layout": "IPY_MODEL_e9b952cefb264ce28c1988a5d0652459",
      "placeholder": "​",
      "style": "IPY_MODEL_1398398f8aef4f27b93bc85edacdd770",
      "value": " 232k/232k [00:00&lt;00:00, 597kB/s]"
     }
    },
    "b4961a103212423296653018838aaa87": {
     "model_module": "@jupyter-widgets/controls",
     "model_name": "HBoxModel",
     "state": {
      "_dom_classes": [],
      "_model_module": "@jupyter-widgets/controls",
      "_model_module_version": "1.5.0",
      "_model_name": "HBoxModel",
      "_view_count": null,
      "_view_module": "@jupyter-widgets/controls",
      "_view_module_version": "1.5.0",
      "_view_name": "HBoxView",
      "box_style": "",
      "children": [
       "IPY_MODEL_1a0d610808c54752a01d8fafe188c6a5",
       "IPY_MODEL_98128371afc04f1495643f1524b95c7a"
      ],
      "layout": "IPY_MODEL_10eb159905cb4da881e506bea7ef3bf7"
     }
    },
    "b97b0de7f6684d60a0744f03f63c3510": {
     "model_module": "@jupyter-widgets/controls",
     "model_name": "FloatProgressModel",
     "state": {
      "_dom_classes": [],
      "_model_module": "@jupyter-widgets/controls",
      "_model_module_version": "1.5.0",
      "_model_name": "FloatProgressModel",
      "_view_count": null,
      "_view_module": "@jupyter-widgets/controls",
      "_view_module_version": "1.5.0",
      "_view_name": "ProgressView",
      "bar_style": "success",
      "description": "Downloading: 100%",
      "description_tooltip": null,
      "layout": "IPY_MODEL_9c8345c9dea24483a59817527326f1ef",
      "max": 440473133,
      "min": 0,
      "orientation": "horizontal",
      "style": "IPY_MODEL_07b7a135531e43fb8174e780bf4a54e9",
      "value": 440473133
     }
    },
    "d8865f8d7f684edcb9c323c7b30ac7a6": {
     "model_module": "@jupyter-widgets/controls",
     "model_name": "HBoxModel",
     "state": {
      "_dom_classes": [],
      "_model_module": "@jupyter-widgets/controls",
      "_model_module_version": "1.5.0",
      "_model_name": "HBoxModel",
      "_view_count": null,
      "_view_module": "@jupyter-widgets/controls",
      "_view_module_version": "1.5.0",
      "_view_name": "HBoxView",
      "box_style": "",
      "children": [
       "IPY_MODEL_b97b0de7f6684d60a0744f03f63c3510",
       "IPY_MODEL_e7e5210cbf89470d914f0dec74f58fc0"
      ],
      "layout": "IPY_MODEL_1f8d2fe393ea4898a5d9384974cc7e6f"
     }
    },
    "dad2627650c6436fa21d6cf6bb1b2143": {
     "model_module": "@jupyter-widgets/controls",
     "model_name": "DescriptionStyleModel",
     "state": {
      "_model_module": "@jupyter-widgets/controls",
      "_model_module_version": "1.5.0",
      "_model_name": "DescriptionStyleModel",
      "_view_count": null,
      "_view_module": "@jupyter-widgets/base",
      "_view_module_version": "1.2.0",
      "_view_name": "StyleView",
      "description_width": ""
     }
    },
    "e40dd44721f5472baae808befb672eb9": {
     "model_module": "@jupyter-widgets/base",
     "model_name": "LayoutModel",
     "state": {
      "_model_module": "@jupyter-widgets/base",
      "_model_module_version": "1.2.0",
      "_model_name": "LayoutModel",
      "_view_count": null,
      "_view_module": "@jupyter-widgets/base",
      "_view_module_version": "1.2.0",
      "_view_name": "LayoutView",
      "align_content": null,
      "align_items": null,
      "align_self": null,
      "border": null,
      "bottom": null,
      "display": null,
      "flex": null,
      "flex_flow": null,
      "grid_area": null,
      "grid_auto_columns": null,
      "grid_auto_flow": null,
      "grid_auto_rows": null,
      "grid_column": null,
      "grid_gap": null,
      "grid_row": null,
      "grid_template_areas": null,
      "grid_template_columns": null,
      "grid_template_rows": null,
      "height": null,
      "justify_content": null,
      "justify_items": null,
      "left": null,
      "margin": null,
      "max_height": null,
      "max_width": null,
      "min_height": null,
      "min_width": null,
      "object_fit": null,
      "object_position": null,
      "order": null,
      "overflow": null,
      "overflow_x": null,
      "overflow_y": null,
      "padding": null,
      "right": null,
      "top": null,
      "visibility": null,
      "width": null
     }
    },
    "e7e5210cbf89470d914f0dec74f58fc0": {
     "model_module": "@jupyter-widgets/controls",
     "model_name": "HTMLModel",
     "state": {
      "_dom_classes": [],
      "_model_module": "@jupyter-widgets/controls",
      "_model_module_version": "1.5.0",
      "_model_name": "HTMLModel",
      "_view_count": null,
      "_view_module": "@jupyter-widgets/controls",
      "_view_module_version": "1.5.0",
      "_view_name": "HTMLView",
      "description": "",
      "description_tooltip": null,
      "layout": "IPY_MODEL_85f6584af22b4a1e931aad09f7fe66b2",
      "placeholder": "​",
      "style": "IPY_MODEL_dad2627650c6436fa21d6cf6bb1b2143",
      "value": " 440M/440M [00:10&lt;00:00, 43.2MB/s]"
     }
    },
    "e9b952cefb264ce28c1988a5d0652459": {
     "model_module": "@jupyter-widgets/base",
     "model_name": "LayoutModel",
     "state": {
      "_model_module": "@jupyter-widgets/base",
      "_model_module_version": "1.2.0",
      "_model_name": "LayoutModel",
      "_view_count": null,
      "_view_module": "@jupyter-widgets/base",
      "_view_module_version": "1.2.0",
      "_view_name": "LayoutView",
      "align_content": null,
      "align_items": null,
      "align_self": null,
      "border": null,
      "bottom": null,
      "display": null,
      "flex": null,
      "flex_flow": null,
      "grid_area": null,
      "grid_auto_columns": null,
      "grid_auto_flow": null,
      "grid_auto_rows": null,
      "grid_column": null,
      "grid_gap": null,
      "grid_row": null,
      "grid_template_areas": null,
      "grid_template_columns": null,
      "grid_template_rows": null,
      "height": null,
      "justify_content": null,
      "justify_items": null,
      "left": null,
      "margin": null,
      "max_height": null,
      "max_width": null,
      "min_height": null,
      "min_width": null,
      "object_fit": null,
      "object_position": null,
      "order": null,
      "overflow": null,
      "overflow_x": null,
      "overflow_y": null,
      "padding": null,
      "right": null,
      "top": null,
      "visibility": null,
      "width": null
     }
    },
    "ff0c4714c57f4cc697301ef2bf58eb28": {
     "model_module": "@jupyter-widgets/base",
     "model_name": "LayoutModel",
     "state": {
      "_model_module": "@jupyter-widgets/base",
      "_model_module_version": "1.2.0",
      "_model_name": "LayoutModel",
      "_view_count": null,
      "_view_module": "@jupyter-widgets/base",
      "_view_module_version": "1.2.0",
      "_view_name": "LayoutView",
      "align_content": null,
      "align_items": null,
      "align_self": null,
      "border": null,
      "bottom": null,
      "display": null,
      "flex": null,
      "flex_flow": null,
      "grid_area": null,
      "grid_auto_columns": null,
      "grid_auto_flow": null,
      "grid_auto_rows": null,
      "grid_column": null,
      "grid_gap": null,
      "grid_row": null,
      "grid_template_areas": null,
      "grid_template_columns": null,
      "grid_template_rows": null,
      "height": null,
      "justify_content": null,
      "justify_items": null,
      "left": null,
      "margin": null,
      "max_height": null,
      "max_width": null,
      "min_height": null,
      "min_width": null,
      "object_fit": null,
      "object_position": null,
      "order": null,
      "overflow": null,
      "overflow_x": null,
      "overflow_y": null,
      "padding": null,
      "right": null,
      "top": null,
      "visibility": null,
      "width": null
     }
    },
    "ff2c3058101f4d7b8ec7e6b479ab5924": {
     "model_module": "@jupyter-widgets/controls",
     "model_name": "ProgressStyleModel",
     "state": {
      "_model_module": "@jupyter-widgets/controls",
      "_model_module_version": "1.5.0",
      "_model_name": "ProgressStyleModel",
      "_view_count": null,
      "_view_module": "@jupyter-widgets/base",
      "_view_module_version": "1.2.0",
      "_view_name": "StyleView",
      "bar_color": null,
      "description_width": "initial"
     }
    }
   }
  },
  "pycharm": {
   "stem_cell": {
    "cell_type": "raw",
    "source": [],
    "metadata": {
     "collapsed": false
    }
   }
  }
 },
 "nbformat": 4,
 "nbformat_minor": 4
}